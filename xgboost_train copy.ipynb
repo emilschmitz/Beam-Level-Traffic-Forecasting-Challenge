{
 "cells": [
  {
   "cell_type": "markdown",
   "metadata": {},
   "source": [
    "# XGBoost\n",
    "* TODO: add averages for cells and stations, NB inference code will need to be adapted too\n",
    "* TODO: target manipulations/engineering\n",
    "    * rolling autocorrelation\n",
    "* TODO: (vector leaf) multi-output regression"
   ]
  },
  {
   "cell_type": "code",
   "execution_count": 1,
   "metadata": {},
   "outputs": [],
   "source": [
    "import math\n",
    "from pathlib import Path\n",
    "import os\n",
    "os.environ[\"WANDB_NOTEBOOK_NAME\"] = \"xgboost_train.ipynb\"  # Manually set the notebook name\n",
    "\n",
    "import polars as pl\n",
    "import numpy as np\n",
    "import xgboost as xgb\n",
    "import optuna\n",
    "from optuna_integration.wandb import WeightsAndBiasesCallback\n",
    "from optuna_integration.xgboost import XGBoostPruningCallback\n",
    "from sklearn.model_selection import train_test_split\n",
    "from sklearn.metrics import mean_squared_error, mean_absolute_error\n",
    "import shap\n",
    "\n",
    "import seaborn as sns\n",
    "import matplotlib.pyplot as plt\n",
    "import plotly.express as px\n",
    "\n",
    "import wandb\n",
    "from tqdm.notebook import tqdm"
   ]
  },
  {
   "cell_type": "code",
   "execution_count": 2,
   "metadata": {},
   "outputs": [],
   "source": [
    "DEBUG = False"
   ]
  },
  {
   "cell_type": "code",
   "execution_count": 3,
   "metadata": {},
   "outputs": [],
   "source": [
    "# Read the CSV files\n",
    "data_dir = Path('input-data')\n",
    "thp_vol = pl.read_csv(data_dir / 'traffic_DLThpVol.csv')  # This is the target variable\n",
    "prb = pl.read_csv(data_dir / 'traffic_DLPRB.csv')\n",
    "thp_time = pl.read_csv(data_dir / 'traffic_DLThpTime.csv')\n",
    "mr_number = pl.read_csv(data_dir / 'traffic_MR_number.csv')\n",
    "\n",
    "target_dataframes = {\n",
    "    'thp_vol': thp_vol,\n",
    "    'prb': prb,\n",
    "    'thp_time': thp_time,\n",
    "    'mr_number': mr_number\n",
    "}\n",
    "\n",
    "# Rename first col to 'hour'\n",
    "for k, v in target_dataframes.items():\n",
    "    target_dataframes[k] = v.rename({'': \"idx_hour\"})"
   ]
  },
  {
   "cell_type": "code",
   "execution_count": 4,
   "metadata": {},
   "outputs": [],
   "source": [
    "xgb_hyperparams = {\n",
    "    'objective': 'reg:squarederror',\n",
    "    'eval_metric': 'mae',\n",
    "    # 'max_depth': 6,\n",
    "    'eta': 0.05,\n",
    "    'subsample': 0.7,\n",
    "    # 'colsample_bytree': 0.8,\n",
    "    # 'verbosity': 2,\n",
    "    'early_stopping_rounds': 10,\n",
    "    'n_estimators': 300,\n",
    "}\n",
    "\n",
    "config = {\n",
    "    'lags': [1, 2, 3, 6, 12, 13, 14, 24, 25, 26, 48, 49, 72],\n",
    "    'rolling_avgs': [1, 3, 9, 24, 48, 72],\n",
    "    'delta_reference_points': [(1, 2), (1, 3), (1, 6), (1, 24), (24, 25), (48, 49)],\n",
    "    'std_windows': [3, 6, 12, 24, 48, 72, 86],\n",
    "    'num_zeros_windows': [6, 12, 24],\n",
    "    'hour_shifts': [0, 6, 12, 18],\n",
    "    'weekday_shifts': [0, 3, 6],\n",
    "    'train_percentage': 0.6,\n",
    "    'val_percentage': 0.3,  # The rest is val\n",
    "    'run_shap': True,\n",
    "    'base_df_names': ['vol_per_user', 'vol_per_prb'],\n",
    "}\n",
    "\n",
    "if DEBUG:\n",
    "    target_dataframes = {k: v.head(400).select(v.columns[:800]) for k, v in target_dataframes.items()}\n",
    "    # shorten every list in config to max three elements\n",
    "    config = {k: v[:3] if isinstance(v, list) else v for k, v in config.items()}\n",
    "\n",
    "config = xgb_hyperparams | config"
   ]
  },
  {
   "cell_type": "code",
   "execution_count": 5,
   "metadata": {},
   "outputs": [
    {
     "name": "stderr",
     "output_type": "stream",
     "text": [
      "\u001b[34m\u001b[1mwandb\u001b[0m: Currently logged in as: \u001b[33mesedx12\u001b[0m. Use \u001b[1m`wandb login --relogin`\u001b[0m to force relogin\n"
     ]
    },
    {
     "data": {
      "text/html": [
       "Tracking run with wandb version 0.17.8"
      ],
      "text/plain": [
       "<IPython.core.display.HTML object>"
      ]
     },
     "metadata": {},
     "output_type": "display_data"
    },
    {
     "data": {
      "text/html": [
       "Run data is saved locally in <code>/home/emil/Desktop/Beam-Level Traffic Forecasting Challenge/wandb/run-20240906_155934-o2ndndqw</code>"
      ],
      "text/plain": [
       "<IPython.core.display.HTML object>"
      ]
     },
     "metadata": {},
     "output_type": "display_data"
    },
    {
     "data": {
      "text/html": [
       "Syncing run <strong><a href='https://wandb.ai/esedx12/traffic-forecasting-challenge/runs/o2ndndqw' target=\"_blank\">flowing-wood-47</a></strong> to <a href='https://wandb.ai/esedx12/traffic-forecasting-challenge' target=\"_blank\">Weights & Biases</a> (<a href='https://wandb.me/run' target=\"_blank\">docs</a>)<br/>"
      ],
      "text/plain": [
       "<IPython.core.display.HTML object>"
      ]
     },
     "metadata": {},
     "output_type": "display_data"
    },
    {
     "data": {
      "text/html": [
       " View project at <a href='https://wandb.ai/esedx12/traffic-forecasting-challenge' target=\"_blank\">https://wandb.ai/esedx12/traffic-forecasting-challenge</a>"
      ],
      "text/plain": [
       "<IPython.core.display.HTML object>"
      ]
     },
     "metadata": {},
     "output_type": "display_data"
    },
    {
     "data": {
      "text/html": [
       " View run at <a href='https://wandb.ai/esedx12/traffic-forecasting-challenge/runs/o2ndndqw' target=\"_blank\">https://wandb.ai/esedx12/traffic-forecasting-challenge/runs/o2ndndqw</a>"
      ],
      "text/plain": [
       "<IPython.core.display.HTML object>"
      ]
     },
     "metadata": {},
     "output_type": "display_data"
    },
    {
     "data": {
      "text/html": [
       "<button onClick=\"this.nextSibling.style.display='block';this.style.display='none';\">Display W&B run</button><iframe src='https://wandb.ai/esedx12/traffic-forecasting-challenge/runs/o2ndndqw?jupyter=true' style='border:none;width:100%;height:420px;display:none;'></iframe>"
      ],
      "text/plain": [
       "<wandb.sdk.wandb_run.Run at 0x7524064a54f0>"
      ]
     },
     "execution_count": 5,
     "metadata": {},
     "output_type": "execute_result"
    }
   ],
   "source": [
    "wandb.init(project=\"traffic-forecasting-challenge\", entity=\"esedx12\", config=config, mode=('dryrun' if DEBUG else 'online'))"
   ]
  },
  {
   "cell_type": "markdown",
   "metadata": {},
   "source": [
    "## Feature Engineering"
   ]
  },
  {
   "cell_type": "code",
   "execution_count": 6,
   "metadata": {},
   "outputs": [],
   "source": [
    "# TODO if indicated for performance reasons, get the max idx_hour with a null and return it so we can shorten the df for multi-step predict\n",
    "# TODO also add target transformations (maybe sklearn can help)\n",
    "# TODO normalize somehow if data is on very different scales for different beams"
   ]
  },
  {
   "cell_type": "markdown",
   "metadata": {},
   "source": [
    "### Target transformation"
   ]
  },
  {
   "cell_type": "code",
   "execution_count": null,
   "metadata": {},
   "outputs": [],
   "source": []
  },
  {
   "cell_type": "markdown",
   "metadata": {},
   "source": [
    "### Hours of day, days of week"
   ]
  },
  {
   "cell_type": "code",
   "execution_count": 7,
   "metadata": {},
   "outputs": [],
   "source": [
    "def create_hour_feats(idx_hour_df: pl.DataFrame, lags: list[int]) -> dict[str, pl.DataFrame]:\n",
    "    \"\"\"\n",
    "    Create shifted versions of daily 24h count for each column in the DataFrame.\n",
    "    Returns a dictionary of DataFrames with the key format '24h_shifted_{lag}h'.\n",
    "    \"\"\"\n",
    "    feature_dfs = {}\n",
    "    daily_hour_df = idx_hour_df % 24  # Calculate daily hours\n",
    "\n",
    "    for lag in lags:\n",
    "        shifted_df = (daily_hour_df + lag) % 24\n",
    "        feature_dfs.update({f'daily_hours_shifted_{lag}h': shifted_df})\n",
    "\n",
    "    return feature_dfs\n",
    "\n",
    "def create_weekday_feats(idx_hour_df: pl.DataFrame, lags: list[int]) -> dict[str, pl.DataFrame]:\n",
    "    \"\"\"\n",
    "    Create shifted versions of weekday count for each column in the DataFrame.\n",
    "    Returns a dictionary of DataFrames with the key format 'weekday_shifted_{lag}d'.\n",
    "    \"\"\"\n",
    "    feature_dfs = {}\n",
    "    day_df = idx_hour_df // 24  # Calculate days\n",
    "    weekday_df = day_df % 7  # Calculate weekdays\n",
    "\n",
    "    for lag in lags:\n",
    "        shifted_df = (weekday_df + lag) % 7\n",
    "        feature_dfs.update({f'weekday_shifted_{lag}d': shifted_df})\n",
    "\n",
    "    return feature_dfs"
   ]
  },
  {
   "cell_type": "code",
   "execution_count": 8,
   "metadata": {},
   "outputs": [],
   "source": [
    "def create_time_feature_dfs(idx_hour_df: pl.DataFrame, idx_hour_shifts: int, weekday_shifts: int) -> dict[str, pl.DataFrame]:\n",
    "    \"\"\"\n",
    "    Create repeating 24h and 7d features.\n",
    "    \"\"\"\n",
    "    hour_feats = create_hour_feats(idx_hour_df, idx_hour_shifts)\n",
    "    weekday_feats = create_weekday_feats(idx_hour_df, weekday_shifts)\n",
    "\n",
    "    return {**hour_feats, **weekday_feats}"
   ]
  },
  {
   "cell_type": "markdown",
   "metadata": {},
   "source": [
    "### Time-series features"
   ]
  },
  {
   "cell_type": "code",
   "execution_count": 9,
   "metadata": {},
   "outputs": [],
   "source": [
    "def create_ts_feature_dfs(df_name: str, df: pl.DataFrame, lags: list[int], rolling_avgs: list[int], delta_reference_points: list[tuple[int, int]], std_windows: list[int], num_zeros_windows: list[int]) -> dict[str, pl.DataFrame]:\n",
    "    \"\"\"\n",
    "    Create lag, rolling average, delta, and standard deviation features for all columns in the DataFrame.\n",
    "    Returns a dict of DataFrames.\n",
    "    \"\"\"\n",
    "    lag_feats = {f\"{df_name}_lag_{lag}\": df.shift(lag) for lag in lags}\n",
    "\n",
    "    delta_feats = {f\"{df_name}_delta_{point_pair[0]}_{point_pair[1]}\": (df.shift(point_pair[0]) - df.shift(point_pair[1])) for point_pair in delta_reference_points}\n",
    "\n",
    "    # We need to shift one step to aviod data leakage\n",
    "    shifted_df = df.shift(1)\n",
    "    rolling_avg_feats = {\n",
    "        f\"{df_name}_rolling_avg_{window}\":\n",
    "            pl.DataFrame({\n",
    "                col: shifted_df[col].rolling_mean(window_size=window)\n",
    "                for col in df.columns\n",
    "            })\n",
    "        for window in rolling_avgs\n",
    "    }\n",
    "\n",
    "    std_feats = {\n",
    "        f\"{df_name}_std_{window}\":\n",
    "            pl.DataFrame({\n",
    "                col: shifted_df[col].rolling_std(window_size=window)\n",
    "                for col in df.columns\n",
    "            })\n",
    "        for window in std_windows\n",
    "    }\n",
    "\n",
    "    num_zeros_feats = {\n",
    "        f\"{df_name}_rolling_avg_{window}\":\n",
    "            pl.DataFrame({\n",
    "                col: (shifted_df[col] == 0).cast(pl.Float32).rolling_sum(window_size=window)\n",
    "                for col in df.columns\n",
    "            })\n",
    "        for window in rolling_avgs\n",
    "    }\n",
    "\n",
    "    return {**lag_feats, **rolling_avg_feats, **delta_feats, **std_feats, **num_zeros_feats}"
   ]
  },
  {
   "cell_type": "markdown",
   "metadata": {},
   "source": [
    "### Aggregations over cells, stations"
   ]
  },
  {
   "cell_type": "code",
   "execution_count": 10,
   "metadata": {},
   "outputs": [],
   "source": [
    "def extract_cell_id(beam_id: str) -> str:\n",
    "    \"\"\"\n",
    "    Extract the cell ID from a beam ID.\n",
    "    \"\"\"\n",
    "    return \"_\".join(beam_id.split(\"_\")[0:2])\n",
    "\n",
    "def extract_station_id(beam_id: str) -> int:\n",
    "    \"\"\"\n",
    "    Extract the station ID from a beam ID.\n",
    "    \"\"\"\n",
    "    return beam_id.split(\"_\")[0]\n",
    "\n",
    "def compute_cell_avg(dataframe: pl.DataFrame, cell_id: str) -> pl.Series:\n",
    "    \"\"\"\n",
    "    Compute the average of a DataFrame for a given cell.\n",
    "    \"\"\"\n",
    "    cell_cols = [col for col in dataframe.columns if col.startswith(cell_id)]\n",
    "    cell_data = dataframe.select(cell_cols)\n",
    "    return cell_data.mean(axis=1)\n",
    "\n",
    "def compute_station_avg(dataframe: pl.DataFrame, station_id: int) -> pl.Series:\n",
    "    \"\"\"\n",
    "    Compute the average of a DataFrame for a given station.\n",
    "    \"\"\"\n",
    "    station_cols = [col for col in dataframe.columns if col.startswith(station_id)]\n",
    "    station_data = dataframe.select(station_cols)\n",
    "    return station_data.mean(axis=1)"
   ]
  },
  {
   "cell_type": "code",
   "execution_count": 11,
   "metadata": {},
   "outputs": [],
   "source": [
    "# def create_id_features(beam_id: str, length: int) -> pl.DataFrame:\n",
    "#     \"\"\"\n",
    "#     Create DataFrame columns for cell and station IDs based on beam ID.\n",
    "#     \"\"\"\n",
    "#     beam_id_col = pl.Series([beam_id] * length).alias(\"beam_id\").to_frame()\n",
    "\n",
    "#     cell_id = extract_cell_id(beam_id)\n",
    "#     cell_id_col = pl.Series([cell_id] * length).alias(\"cell_id\").to_frame()\n",
    "\n",
    "#     station_id = extract_station_id(beam_id)\n",
    "#     station_id_col = pl.Series([station_id] * length).alias(\"station_id\").to_frame() \n",
    "\n",
    "#     return pl.concat([beam_id_col, cell_id_col, station_id_col], how=\"horizontal\")"
   ]
  },
  {
   "cell_type": "code",
   "execution_count": 12,
   "metadata": {},
   "outputs": [],
   "source": [
    "def create_id_feature_dfs(template_df: pl.DataFrame) -> dict[str, pl.DataFrame]:\n",
    "    \"\"\"\n",
    "    Create DataFrames for beam, cell and station IDs based on a template DataFrame.\n",
    "    \"\"\"\n",
    "    id_feature_dfs = {}\n",
    "    id_feature_dfs['beam_id'] = pl.DataFrame({beam_id: [beam_id] * len(template_df) for beam_id in template_df.columns})\n",
    "    id_feature_dfs['cell_id'] = pl.DataFrame({beam_id: [extract_cell_id(beam_id)] * len(template_df) for beam_id in template_df.columns})\n",
    "    id_feature_dfs['station_id'] = pl.DataFrame({beam_id: [extract_station_id(beam_id)] * len(template_df) for beam_id in template_df.columns})\n",
    "\n",
    "    return id_feature_dfs"
   ]
  },
  {
   "cell_type": "markdown",
   "metadata": {},
   "source": [
    "### Add interactions between targets"
   ]
  },
  {
   "cell_type": "code",
   "execution_count": 13,
   "metadata": {},
   "outputs": [],
   "source": [
    "def make_interaction_dataframe(name, target_dataframes, eps=0.1):\n",
    "    match name:\n",
    "        case 'vol_per_user':\n",
    "            return target_dataframes['thp_vol'] / (target_dataframes['mr_number'] + eps)\n",
    "        case 'vol_per_prb':\n",
    "            return target_dataframes['thp_vol'] / (target_dataframes['prb'] + eps)\n",
    "        case 'vol_per_time':\n",
    "            return target_dataframes['thp_vol'] / (target_dataframes['thp_time'] + eps)\n",
    "        case 'prb_per_user':\n",
    "            return target_dataframes['prb'] / (target_dataframes['mr_number'] + eps)\n",
    "        case 'prb_per_time':\n",
    "            return target_dataframes['prb'] / (target_dataframes['thp_time'] + eps)"
   ]
  },
  {
   "cell_type": "code",
   "execution_count": 14,
   "metadata": {},
   "outputs": [],
   "source": [
    "def make_base_dataframes(target_dataframes: dict[str, pl.DataFrame], base_df_names: list[str]) -> dict[str, pl.DataFrame]:\n",
    "    \"\"\"\n",
    "    Create base DataFrames for each target DataFrame.\n",
    "    \"\"\"\n",
    "    base_dataframes = {'thp_vol': target_dataframes['thp_vol']}\n",
    "\n",
    "    for name in base_df_names:\n",
    "        try:\n",
    "            base_dataframes[name] = target_dataframes[name]\n",
    "        except KeyError:\n",
    "            base_dataframes[name] = make_interaction_dataframe(name, target_dataframes)\n",
    "\n",
    "    return base_dataframes"
   ]
  },
  {
   "cell_type": "markdown",
   "metadata": {},
   "source": [
    "### Combine all the features"
   ]
  },
  {
   "cell_type": "code",
   "execution_count": 15,
   "metadata": {},
   "outputs": [],
   "source": [
    "def create_all_feature_dfs(target_dataframes: dict[str, pl.DataFrame], config: wandb.Config) -> dict[str, pl.DataFrame]:\n",
    "    \"\"\"\n",
    "    Create features for the traffic forecasting model for all beams at once.\n",
    "    Returns a dictionary of feature DataFrames.\n",
    "    \"\"\"\n",
    "    feature_dfs = {}\n",
    "    template_df = target_dataframes['thp_vol']\n",
    "\n",
    "    # Create a DataFrame full of the idx_hour series repeated across all columns\n",
    "    idx_hour_series = template_df['idx_hour']\n",
    "    beam_ids = template_df.drop('idx_hour').columns\n",
    "    feature_dfs['idx_hour'] = pl.DataFrame(\n",
    "        {beam_id: idx_hour_series for beam_id in beam_ids})\n",
    "    feature_dfs['beam_id'] = pl.DataFrame(\n",
    "        {beam_id: [beam_id] * len(template_df) for beam_id in beam_ids})\n",
    "\n",
    "    # Repeating 24h and 7d features\n",
    "    feature_dfs.update(create_time_feature_dfs(\n",
    "        feature_dfs['idx_hour'], config.hour_shifts, config.weekday_shifts))\n",
    "    \n",
    "    # Make list of dataframes, on which ts features will be created\n",
    "    base_dataframes = make_base_dataframes(target_dataframes, config.base_df_names)\n",
    "\n",
    "    for df_name, df in base_dataframes.items():\n",
    "        df = df.drop('idx_hour')\n",
    "\n",
    "        feature_dfs.update(create_ts_feature_dfs(df_name, df, config.lags, config.rolling_avgs,\n",
    "                           config.delta_reference_points, config.std_windows, config.num_zeros_windows))\n",
    "\n",
    "    return feature_dfs"
   ]
  },
  {
   "cell_type": "markdown",
   "metadata": {},
   "source": [
    "## Data Formatting"
   ]
  },
  {
   "cell_type": "code",
   "execution_count": 16,
   "metadata": {},
   "outputs": [],
   "source": [
    "def convert_to_long_format(dataframes: dict[str, pl.DataFrame]) -> pl.DataFrame:\n",
    "    \"\"\"\n",
    "    Convert the target and feature DataFrames to a long/tidy format.\n",
    "    Drop nulls.\n",
    "    \"\"\"\n",
    "    columnized = []\n",
    "    for df_name, df in dataframes.items():\n",
    "        columnized.append(df.unpivot(value_name=df_name).select(df_name))\n",
    "\n",
    "    return pl.concat(columnized, how='horizontal').drop_nulls()\n",
    "\n",
    "\n",
    "def convert_to_wide_format(dataframe: pl.DataFrame, output_df_names: list[str]) -> dict[str, pl.DataFrame]:\n",
    "    \"\"\"\n",
    "    Convert the target and feature DataFrames to a dict of wide format DataFrames.\n",
    "    \"\"\"\n",
    "    wide_dfs = {}\n",
    "    for df_name in output_df_names:\n",
    "        wide_df = dataframe.pivot(index='idx_hour', columns='beam_id', values=df_name)\n",
    "        wide_dfs[df_name] = wide_df\n",
    "\n",
    "    return wide_dfs"
   ]
  },
  {
   "cell_type": "code",
   "execution_count": 17,
   "metadata": {},
   "outputs": [],
   "source": [
    "def create_long_train_df(target_dataframes: dict[str, pl.DataFrame], config: wandb.Config) -> pl.DataFrame:\n",
    "    \"\"\"\n",
    "    Create long DataFrame with features and target cols\n",
    "    \"\"\"\n",
    "    feature_dfs = create_all_feature_dfs(target_dataframes, config)\n",
    "    target_dfs = {k: v.drop('idx_hour') for k, v in target_dataframes.items()}\n",
    "    all_train_dfs = {**feature_dfs, **target_dfs}\n",
    "    long_train_df = convert_to_long_format(all_train_dfs)\n",
    "    return long_train_df"
   ]
  },
  {
   "cell_type": "code",
   "execution_count": 18,
   "metadata": {},
   "outputs": [],
   "source": [
    "# Use first config.train_percentage of dataframe rows for training, and the rest for validation and testing\n",
    "num_rows = len(target_dataframes['thp_vol'])\n",
    "num_train_rows = round(num_rows * wandb.config.train_percentage)\n",
    "num_val_rows = round(num_rows * wandb.config.val_percentage)\n",
    "\n",
    "train_dataframes = {k: v.head(num_train_rows) for k, v in target_dataframes.items()}\n",
    "val_dataframes = {k: v.slice(num_train_rows + 1, num_train_rows + num_val_rows) for k, v in target_dataframes.items()}"
   ]
  },
  {
   "cell_type": "code",
   "execution_count": 19,
   "metadata": {},
   "outputs": [],
   "source": [
    "long_train_df = create_long_train_df(target_dataframes, wandb.config)\n",
    "long_val_df = create_long_train_df(val_dataframes, wandb.config)\n",
    "\n",
    "dropped_cols = ['idx_hour', 'beam_id']\n",
    "target_cols = list(target_dataframes.keys())\n",
    "\n",
    "X_train, y_train = long_train_df.drop(dropped_cols + target_cols), long_train_df.select(target_cols)\n",
    "X_val, y_val = long_val_df.drop(dropped_cols + target_cols), long_val_df.select(target_cols)\n",
    "\n",
    "wandb.log({'train shape': X_train.shape, 'val shape': X_val.shape, 'train_feats': X_train.columns,})"
   ]
  },
  {
   "cell_type": "markdown",
   "metadata": {},
   "source": [
    "## Train\n",
    "* We use the Scikit-Learn API\n",
    "* TODO maybe experiment with `# model = xgb.XGBRegressor(**xgb_hyperparams, tree_method='hist', multi_strategy='multi_output_tree')`"
   ]
  },
  {
   "cell_type": "code",
   "execution_count": 20,
   "metadata": {},
   "outputs": [],
   "source": [
    "class MultiOutputXGBRegressor:\n",
    "    \"\"\"\n",
    "    Wrapper class for multi-output XGBoost regressor.\n",
    "    \"\"\"\n",
    "    def __init__(self, xgb_params: dict):\n",
    "        self.xgb_params = xgb_params\n",
    "        self.models = {}\n",
    "\n",
    "    def fit(self, X_train: pl.DataFrame, y_train: pl.DataFrame, eval_set: list[tuple[pl.DataFrame]], verbose: int):\n",
    "        \"\"\"\n",
    "        Fit a separate model for each target column.\n",
    "        \"\"\"\n",
    "        for col in tqdm(y_train.columns):\n",
    "            print(f\"Fitting model for {col}\")\n",
    "            model = xgb.XGBRegressor(**self.xgb_params)\n",
    "            eval_set_col = [(X, y[col]) for X, y in eval_set]\n",
    "            model.fit(X_train, y_train[col], eval_set=eval_set_col, verbose=verbose)\n",
    "            self.models[col] = model\n",
    "\n",
    "    def predict(self, X: pl.DataFrame) -> pl.DataFrame:\n",
    "        \"\"\"\n",
    "        Predict for each target column.\n",
    "        \"\"\"\n",
    "        preds = {col: model.predict(X) for col, model in self.models.items()}\n",
    "        return pl.DataFrame(preds)\n",
    "    \n",
    "    def save_model(self, dir_path: str):\n",
    "        \"\"\"\n",
    "        Save all models in dir dir_path.\n",
    "        Make dir if it doesn't exist.\n",
    "        \"\"\"\n",
    "        Path(dir_path).mkdir(parents=True, exist_ok=True)\n",
    "        for col, model in self.models.items():\n",
    "            model.save_model(f\"{dir_path}/{col}.ubj\")"
   ]
  },
  {
   "cell_type": "code",
   "execution_count": 21,
   "metadata": {},
   "outputs": [],
   "source": [
    "model = MultiOutputXGBRegressor(xgb_hyperparams)"
   ]
  },
  {
   "cell_type": "code",
   "execution_count": 22,
   "metadata": {},
   "outputs": [
    {
     "data": {
      "application/vnd.jupyter.widget-view+json": {
       "model_id": "831e218c059440e9856c02ef4fac3239",
       "version_major": 2,
       "version_minor": 0
      },
      "text/plain": [
       "  0%|          | 0/4 [00:00<?, ?it/s]"
      ]
     },
     "metadata": {},
     "output_type": "display_data"
    },
    {
     "name": "stdout",
     "output_type": "stream",
     "text": [
      "Fitting model for thp_vol\n",
      "[0]\tvalidation_0-mae:0.37018\tvalidation_1-mae:0.35998\n",
      "[25]\tvalidation_0-mae:0.22873\tvalidation_1-mae:0.21913\n",
      "[50]\tvalidation_0-mae:0.20967\tvalidation_1-mae:0.20104\n",
      "[75]\tvalidation_0-mae:0.20577\tvalidation_1-mae:0.19790\n",
      "[100]\tvalidation_0-mae:0.20449\tvalidation_1-mae:0.19700\n",
      "[125]\tvalidation_0-mae:0.20382\tvalidation_1-mae:0.19659\n",
      "[150]\tvalidation_0-mae:0.20305\tvalidation_1-mae:0.19609\n",
      "[175]\tvalidation_0-mae:0.20243\tvalidation_1-mae:0.19578\n",
      "[200]\tvalidation_0-mae:0.20190\tvalidation_1-mae:0.19550\n",
      "[225]\tvalidation_0-mae:0.20126\tvalidation_1-mae:0.19516\n",
      "[250]\tvalidation_0-mae:0.20071\tvalidation_1-mae:0.19485\n",
      "[275]\tvalidation_0-mae:0.20033\tvalidation_1-mae:0.19464\n",
      "[299]\tvalidation_0-mae:0.19992\tvalidation_1-mae:0.19442\n",
      "Fitting model for prb\n",
      "[0]\tvalidation_0-mae:0.59285\tvalidation_1-mae:0.59765\n",
      "[25]\tvalidation_0-mae:0.32303\tvalidation_1-mae:0.32360\n",
      "[50]\tvalidation_0-mae:0.27033\tvalidation_1-mae:0.27082\n",
      "[75]\tvalidation_0-mae:0.25748\tvalidation_1-mae:0.25828\n",
      "[100]\tvalidation_0-mae:0.25327\tvalidation_1-mae:0.25412\n",
      "[125]\tvalidation_0-mae:0.25083\tvalidation_1-mae:0.25164\n",
      "[150]\tvalidation_0-mae:0.24923\tvalidation_1-mae:0.24997\n",
      "[175]\tvalidation_0-mae:0.24798\tvalidation_1-mae:0.24865\n",
      "[200]\tvalidation_0-mae:0.24699\tvalidation_1-mae:0.24759\n",
      "[225]\tvalidation_0-mae:0.24615\tvalidation_1-mae:0.24673\n",
      "[250]\tvalidation_0-mae:0.24542\tvalidation_1-mae:0.24598\n",
      "[275]\tvalidation_0-mae:0.24482\tvalidation_1-mae:0.24534\n",
      "[299]\tvalidation_0-mae:0.24431\tvalidation_1-mae:0.24482\n",
      "Fitting model for thp_time\n",
      "[0]\tvalidation_0-mae:0.48489\tvalidation_1-mae:0.48216\n",
      "[25]\tvalidation_0-mae:0.28261\tvalidation_1-mae:0.27847\n",
      "[50]\tvalidation_0-mae:0.25020\tvalidation_1-mae:0.24646\n",
      "[75]\tvalidation_0-mae:0.24304\tvalidation_1-mae:0.23972\n",
      "[100]\tvalidation_0-mae:0.24054\tvalidation_1-mae:0.23751\n",
      "[125]\tvalidation_0-mae:0.23914\tvalidation_1-mae:0.23631\n",
      "[150]\tvalidation_0-mae:0.23828\tvalidation_1-mae:0.23563\n",
      "[175]\tvalidation_0-mae:0.23746\tvalidation_1-mae:0.23495\n",
      "[200]\tvalidation_0-mae:0.23676\tvalidation_1-mae:0.23437\n",
      "[225]\tvalidation_0-mae:0.23620\tvalidation_1-mae:0.23393\n",
      "[250]\tvalidation_0-mae:0.23562\tvalidation_1-mae:0.23345\n",
      "[275]\tvalidation_0-mae:0.23506\tvalidation_1-mae:0.23298\n",
      "[299]\tvalidation_0-mae:0.23460\tvalidation_1-mae:0.23258\n",
      "Fitting model for mr_number\n",
      "[0]\tvalidation_0-mae:0.62186\tvalidation_1-mae:0.62880\n",
      "[25]\tvalidation_0-mae:0.30707\tvalidation_1-mae:0.30857\n",
      "[50]\tvalidation_0-mae:0.23814\tvalidation_1-mae:0.23938\n",
      "[75]\tvalidation_0-mae:0.22153\tvalidation_1-mae:0.22295\n",
      "[100]\tvalidation_0-mae:0.21556\tvalidation_1-mae:0.21701\n",
      "[125]\tvalidation_0-mae:0.21233\tvalidation_1-mae:0.21372\n",
      "[150]\tvalidation_0-mae:0.21002\tvalidation_1-mae:0.21135\n",
      "[175]\tvalidation_0-mae:0.20837\tvalidation_1-mae:0.20962\n",
      "[200]\tvalidation_0-mae:0.20709\tvalidation_1-mae:0.20827\n",
      "[225]\tvalidation_0-mae:0.20599\tvalidation_1-mae:0.20711\n",
      "[250]\tvalidation_0-mae:0.20512\tvalidation_1-mae:0.20618\n",
      "[275]\tvalidation_0-mae:0.20440\tvalidation_1-mae:0.20543\n",
      "[299]\tvalidation_0-mae:0.20379\tvalidation_1-mae:0.20479\n"
     ]
    }
   ],
   "source": [
    "# TODO add optuna\n",
    "# wandbc = WeightsAndBiasesCallback(metric_name=\"accuracy\", wandb_kwargs=wandb_kwargs\n",
    "model.fit(\n",
    "    X_train, \n",
    "    y_train, \n",
    "    eval_set=[(X_train, y_train), (X_val, y_val)],\n",
    "    verbose=25,\n",
    ")"
   ]
  },
  {
   "cell_type": "code",
   "execution_count": 23,
   "metadata": {},
   "outputs": [],
   "source": [
    "# Save model\n",
    "model_path = Path(f'{wandb.run.dir}/{wandb.run.name}')\n",
    "model.save_model(model_path)"
   ]
  },
  {
   "cell_type": "markdown",
   "metadata": {},
   "source": [
    "## Charts, Tables"
   ]
  },
  {
   "cell_type": "code",
   "execution_count": 24,
   "metadata": {},
   "outputs": [
    {
     "name": "stdout",
     "output_type": "stream",
     "text": [
      "Processing target: thp_vol\n"
     ]
    },
    {
     "data": {
      "application/vnd.plotly.v1+json": {
       "config": {
        "plotlyServerURL": "https://plot.ly"
       },
       "data": [
        {
         "hovertemplate": "variable=wide_variable_0<br>Boosting Round=%{x}<br>Mean Absolute Error=%{y}<extra></extra>",
         "legendgroup": "wide_variable_0",
         "line": {
          "color": "#636efa",
          "dash": "solid"
         },
         "marker": {
          "symbol": "circle"
         },
         "mode": "lines",
         "name": "Train MAE",
         "orientation": "v",
         "showlegend": true,
         "type": "scatter",
         "x": [
          1,
          2,
          3,
          4,
          5,
          6,
          7,
          8,
          9,
          10,
          11,
          12,
          13,
          14,
          15,
          16,
          17,
          18,
          19,
          20,
          21,
          22,
          23,
          24,
          25,
          26,
          27,
          28,
          29,
          30,
          31,
          32,
          33,
          34,
          35,
          36,
          37,
          38,
          39,
          40,
          41,
          42,
          43,
          44,
          45,
          46,
          47,
          48,
          49,
          50,
          51,
          52,
          53,
          54,
          55,
          56,
          57,
          58,
          59,
          60,
          61,
          62,
          63,
          64,
          65,
          66,
          67,
          68,
          69,
          70,
          71,
          72,
          73,
          74,
          75,
          76,
          77,
          78,
          79,
          80,
          81,
          82,
          83,
          84,
          85,
          86,
          87,
          88,
          89,
          90,
          91,
          92,
          93,
          94,
          95,
          96,
          97,
          98,
          99,
          100,
          101,
          102,
          103,
          104,
          105,
          106,
          107,
          108,
          109,
          110,
          111,
          112,
          113,
          114,
          115,
          116,
          117,
          118,
          119,
          120,
          121,
          122,
          123,
          124,
          125,
          126,
          127,
          128,
          129,
          130,
          131,
          132,
          133,
          134,
          135,
          136,
          137,
          138,
          139,
          140,
          141,
          142,
          143,
          144,
          145,
          146,
          147,
          148,
          149,
          150,
          151,
          152,
          153,
          154,
          155,
          156,
          157,
          158,
          159,
          160,
          161,
          162,
          163,
          164,
          165,
          166,
          167,
          168,
          169,
          170,
          171,
          172,
          173,
          174,
          175,
          176,
          177,
          178,
          179,
          180,
          181,
          182,
          183,
          184,
          185,
          186,
          187,
          188,
          189,
          190,
          191,
          192,
          193,
          194,
          195,
          196,
          197,
          198,
          199,
          200,
          201,
          202,
          203,
          204,
          205,
          206,
          207,
          208,
          209,
          210,
          211,
          212,
          213,
          214,
          215,
          216,
          217,
          218,
          219,
          220,
          221,
          222,
          223,
          224,
          225,
          226,
          227,
          228,
          229,
          230,
          231,
          232,
          233,
          234,
          235,
          236,
          237,
          238,
          239,
          240,
          241,
          242,
          243,
          244,
          245,
          246,
          247,
          248,
          249,
          250,
          251,
          252,
          253,
          254,
          255,
          256,
          257,
          258,
          259,
          260,
          261,
          262,
          263,
          264,
          265,
          266,
          267,
          268,
          269,
          270,
          271,
          272,
          273,
          274,
          275,
          276,
          277,
          278,
          279,
          280,
          281,
          282,
          283,
          284,
          285,
          286,
          287,
          288,
          289,
          290,
          291,
          292,
          293,
          294,
          295,
          296,
          297,
          298,
          299,
          300
         ],
         "xaxis": "x",
         "y": [
          0.3701831155830449,
          0.3579097695891451,
          0.3463941187033542,
          0.33576957064334495,
          0.3259293655076852,
          0.31678549536932593,
          0.30830623677154867,
          0.3004816225660404,
          0.29311138344553267,
          0.28643318228052356,
          0.28022582228107484,
          0.2745053331646341,
          0.2691752596455688,
          0.2642759036573701,
          0.2597590752241763,
          0.2556268441659911,
          0.2519000505998786,
          0.24836777595122353,
          0.24520492205554673,
          0.24221196910401413,
          0.23945437005420542,
          0.23691024554866544,
          0.23461274797817505,
          0.23251794765336534,
          0.2305057963577026,
          0.22872951493542662,
          0.22708045874190902,
          0.2255575137406349,
          0.22413732307132966,
          0.2228423002203195,
          0.22162172181984754,
          0.2205240839972678,
          0.21945647351363515,
          0.21849734827967288,
          0.2176399247515747,
          0.21678796091393232,
          0.2160128266461342,
          0.215323745515999,
          0.21464955463866411,
          0.21405311127324098,
          0.213516320833297,
          0.2129935257374902,
          0.2125271573961396,
          0.21208437941429595,
          0.21164346551458624,
          0.21124339513929272,
          0.21088716661154372,
          0.21053737334266068,
          0.2102454528775959,
          0.2099202992712367,
          0.2096699759168267,
          0.20939388665384503,
          0.2091636345300123,
          0.20886316090566126,
          0.2086304136484102,
          0.2084005641872759,
          0.20817120144995765,
          0.2079586778146165,
          0.20781153457471999,
          0.2076237918807152,
          0.20749485939264647,
          0.2073176387443664,
          0.2071701964667086,
          0.20704073972587364,
          0.2069000641598025,
          0.20679926993662967,
          0.2067050235942498,
          0.2065420354840615,
          0.20639890831173932,
          0.20626635512375618,
          0.20619932732234433,
          0.20615148762365518,
          0.20606956827706485,
          0.20598890660679076,
          0.20589137209597602,
          0.20577375921424013,
          0.20567356684193824,
          0.20556183050487067,
          0.20549222473377127,
          0.2054007322986113,
          0.2053545268369439,
          0.2053043448471086,
          0.2052309262802813,
          0.20518541774016463,
          0.20511306252742884,
          0.20507660820251558,
          0.2050338643255522,
          0.20497849912684998,
          0.2049447663210305,
          0.20493639575996286,
          0.2049022949498849,
          0.2048351226747884,
          0.2048102465667819,
          0.2047716441779043,
          0.204736563107199,
          0.20466191263877828,
          0.20463884426332066,
          0.20461808216124255,
          0.2045695020148025,
          0.20452514203347025,
          0.20449153383223917,
          0.2044624085333417,
          0.2044398911916406,
          0.20442908865179252,
          0.20442021809198893,
          0.20438594734927878,
          0.2043245483708507,
          0.20430979112833736,
          0.20427984075258157,
          0.20426906712625872,
          0.20419645623293425,
          0.20417380908922475,
          0.2041588083351481,
          0.20413953464799417,
          0.20412871202241328,
          0.2040997351876798,
          0.2040826906718141,
          0.20404027372336941,
          0.20402565199771028,
          0.20396586599204142,
          0.20390861095330765,
          0.2038814864233327,
          0.20385029020761525,
          0.20383601055687564,
          0.2038350538446486,
          0.20382067726215375,
          0.2038099390691057,
          0.20376709239219193,
          0.20374769713687893,
          0.20371114560158607,
          0.20370014275761267,
          0.2036512301480038,
          0.20360869257105677,
          0.20359963099721717,
          0.20358180698437964,
          0.20354106388291968,
          0.20352410989982,
          0.20348623247555364,
          0.20345036743406178,
          0.20340404797609923,
          0.20335343379830428,
          0.20333422286839678,
          0.20331097664677383,
          0.20328229622468882,
          0.2032388866509694,
          0.20320182456942906,
          0.20315538069635247,
          0.2031174377616423,
          0.20308018037458492,
          0.20305534459167776,
          0.20304637093821643,
          0.20303515168089226,
          0.203019021518845,
          0.20298676997610568,
          0.20297007534283862,
          0.20294080826688587,
          0.20291198211072548,
          0.20288157940599486,
          0.2028538337509858,
          0.20280316510677207,
          0.2027633014132594,
          0.20274225088687525,
          0.2027315531922645,
          0.20271544814194117,
          0.202680446413023,
          0.2026489636860692,
          0.20262476969861234,
          0.2026152292434318,
          0.2025772098791391,
          0.20255805038566835,
          0.2025444216705043,
          0.20252208966979332,
          0.20250377830872446,
          0.20247448537079452,
          0.20246432550693086,
          0.20243261852501176,
          0.202389505739108,
          0.20236345736340464,
          0.20235422801432706,
          0.2023483855204863,
          0.20232767208672053,
          0.20230776593770403,
          0.2022944521277618,
          0.20226380644979328,
          0.20224887131296945,
          0.2022141156830766,
          0.2022068063837866,
          0.20219168755969238,
          0.2021772351494532,
          0.20214654532685222,
          0.2021261268453362,
          0.2020997781831787,
          0.2020794514616275,
          0.20206799996343738,
          0.2020688323522199,
          0.20204956865678672,
          0.20203107406442433,
          0.20200795014229514,
          0.20197708117339463,
          0.2019435198078335,
          0.2019043987319081,
          0.20187292102405363,
          0.2018533098783695,
          0.2018152406954863,
          0.201795366889591,
          0.20177045029437288,
          0.20172986071169532,
          0.20170752685322968,
          0.201691751155514,
          0.20166548036301235,
          0.20164741822179957,
          0.20164037650852842,
          0.2016203541848454,
          0.20158860817465368,
          0.20156540675050383,
          0.20153668544720277,
          0.20150370749405302,
          0.20147160527820954,
          0.20143982951812553,
          0.2014086144356835,
          0.20138115955663113,
          0.20136432309675217,
          0.20134059131210574,
          0.20131724891298217,
          0.20127844358939262,
          0.20125540286860782,
          0.20124709011992062,
          0.20120746953764987,
          0.2012098813589065,
          0.2011863390051003,
          0.2011613546013226,
          0.20115458328936106,
          0.20113516401723536,
          0.20110486367830233,
          0.2010748078452472,
          0.2010449950342388,
          0.20102406958163552,
          0.2010044781103202,
          0.20097103625511248,
          0.20095181417053248,
          0.2009292872296992,
          0.2009071500980606,
          0.20090272989070512,
          0.20087786991799067,
          0.20085681000669908,
          0.2008317928875475,
          0.20080556667441724,
          0.2007855668029081,
          0.20075999787795393,
          0.200730601647142,
          0.20071434153799655,
          0.20069855934106334,
          0.20068825242288502,
          0.20067611353109488,
          0.20066441135346552,
          0.20065774391060484,
          0.20064878290920599,
          0.20063051254717082,
          0.20062208909994175,
          0.20060804427788712,
          0.20057794320190706,
          0.2005526925066752,
          0.200528836168351,
          0.2005050739351281,
          0.20048372909336726,
          0.20047310268655805,
          0.2004613222465786,
          0.20043158397712613,
          0.20041033350129703,
          0.20039639436502799,
          0.2003738869477049,
          0.20036551325765384,
          0.20035787947976152,
          0.2003474561545331,
          0.20033879592204473,
          0.20032903147668116,
          0.2003201427216141,
          0.2003142968555986,
          0.20028377903170508,
          0.20027443581715543,
          0.20025981212331764,
          0.20023551844422866,
          0.2002342059195813,
          0.20021274832693647,
          0.2001972330974775,
          0.20018089328047128,
          0.20016834063430342,
          0.20016569343455579,
          0.2001458316173028,
          0.20012428771049515,
          0.2001077762495575,
          0.20009113584964833,
          0.20007166209076788,
          0.20004524641633825,
          0.20003053862499243,
          0.20002092923178047,
          0.2000068131703647,
          0.19998416305095687,
          0.1999551800450694,
          0.19992343098689508
         ],
         "yaxis": "y"
        },
        {
         "hovertemplate": "variable=wide_variable_1<br>Boosting Round=%{x}<br>Mean Absolute Error=%{y}<extra></extra>",
         "legendgroup": "wide_variable_1",
         "line": {
          "color": "#EF553B",
          "dash": "solid"
         },
         "marker": {
          "symbol": "circle"
         },
         "mode": "lines",
         "name": "Val MAE",
         "orientation": "v",
         "showlegend": true,
         "type": "scatter",
         "x": [
          1,
          2,
          3,
          4,
          5,
          6,
          7,
          8,
          9,
          10,
          11,
          12,
          13,
          14,
          15,
          16,
          17,
          18,
          19,
          20,
          21,
          22,
          23,
          24,
          25,
          26,
          27,
          28,
          29,
          30,
          31,
          32,
          33,
          34,
          35,
          36,
          37,
          38,
          39,
          40,
          41,
          42,
          43,
          44,
          45,
          46,
          47,
          48,
          49,
          50,
          51,
          52,
          53,
          54,
          55,
          56,
          57,
          58,
          59,
          60,
          61,
          62,
          63,
          64,
          65,
          66,
          67,
          68,
          69,
          70,
          71,
          72,
          73,
          74,
          75,
          76,
          77,
          78,
          79,
          80,
          81,
          82,
          83,
          84,
          85,
          86,
          87,
          88,
          89,
          90,
          91,
          92,
          93,
          94,
          95,
          96,
          97,
          98,
          99,
          100,
          101,
          102,
          103,
          104,
          105,
          106,
          107,
          108,
          109,
          110,
          111,
          112,
          113,
          114,
          115,
          116,
          117,
          118,
          119,
          120,
          121,
          122,
          123,
          124,
          125,
          126,
          127,
          128,
          129,
          130,
          131,
          132,
          133,
          134,
          135,
          136,
          137,
          138,
          139,
          140,
          141,
          142,
          143,
          144,
          145,
          146,
          147,
          148,
          149,
          150,
          151,
          152,
          153,
          154,
          155,
          156,
          157,
          158,
          159,
          160,
          161,
          162,
          163,
          164,
          165,
          166,
          167,
          168,
          169,
          170,
          171,
          172,
          173,
          174,
          175,
          176,
          177,
          178,
          179,
          180,
          181,
          182,
          183,
          184,
          185,
          186,
          187,
          188,
          189,
          190,
          191,
          192,
          193,
          194,
          195,
          196,
          197,
          198,
          199,
          200,
          201,
          202,
          203,
          204,
          205,
          206,
          207,
          208,
          209,
          210,
          211,
          212,
          213,
          214,
          215,
          216,
          217,
          218,
          219,
          220,
          221,
          222,
          223,
          224,
          225,
          226,
          227,
          228,
          229,
          230,
          231,
          232,
          233,
          234,
          235,
          236,
          237,
          238,
          239,
          240,
          241,
          242,
          243,
          244,
          245,
          246,
          247,
          248,
          249,
          250,
          251,
          252,
          253,
          254,
          255,
          256,
          257,
          258,
          259,
          260,
          261,
          262,
          263,
          264,
          265,
          266,
          267,
          268,
          269,
          270,
          271,
          272,
          273,
          274,
          275,
          276,
          277,
          278,
          279,
          280,
          281,
          282,
          283,
          284,
          285,
          286,
          287,
          288,
          289,
          290,
          291,
          292,
          293,
          294,
          295,
          296,
          297,
          298,
          299,
          300
         ],
         "xaxis": "x",
         "y": [
          0.35998261536166926,
          0.3477611220039474,
          0.336276841781878,
          0.3256666836954881,
          0.31584185890758654,
          0.3067029940706438,
          0.29820629810575283,
          0.2904129729848289,
          0.2830644753070474,
          0.2764206473090046,
          0.2702231541642211,
          0.2645120940357779,
          0.2591940610218749,
          0.2543115156962541,
          0.24979293454244786,
          0.24568376766343422,
          0.24200195115345743,
          0.23849855298210693,
          0.23536782609190773,
          0.23240601653805637,
          0.22967717530484702,
          0.22717776271525608,
          0.22490885125730595,
          0.22285617734033353,
          0.22087540681618742,
          0.21912618389744637,
          0.21752013074291687,
          0.21604313490031696,
          0.214659648038412,
          0.21339836327321365,
          0.21220747475240223,
          0.21116094445449307,
          0.2101487995545768,
          0.20922160593165576,
          0.20840336882461188,
          0.2075946735084817,
          0.20684664101184655,
          0.2062036948628883,
          0.20557734718135778,
          0.20502538523556862,
          0.2045261559432087,
          0.204047490587228,
          0.20361887222221486,
          0.203216305732075,
          0.20281764029979557,
          0.20244336249137448,
          0.20210683561596268,
          0.2017998118010422,
          0.2015393712818319,
          0.20126711389037732,
          0.20103538231864956,
          0.20078239271895493,
          0.2005755288910363,
          0.2003413290311202,
          0.20014650170683104,
          0.19995808170243223,
          0.19977485133087827,
          0.19960710443987476,
          0.19948328100322524,
          0.19933920695159368,
          0.19922980044297312,
          0.19909285542975205,
          0.19896772748768135,
          0.1988674581008951,
          0.19875171917064377,
          0.19866839852841717,
          0.19860270796446022,
          0.19848501927105877,
          0.19836372325004342,
          0.19826007481669197,
          0.19821132856586574,
          0.1981703767341284,
          0.19811462259841317,
          0.19805347910706209,
          0.19798302193348796,
          0.1979014429289381,
          0.19782427272352418,
          0.1977448727366619,
          0.19769841811857827,
          0.19763874554089378,
          0.1976170814799103,
          0.19758203855119796,
          0.19752909740234031,
          0.1974963270990992,
          0.19744950357838018,
          0.19743185450971704,
          0.1973941863284821,
          0.19736244988529084,
          0.19733379739154852,
          0.1973305783931574,
          0.1973054435661637,
          0.19725665160724057,
          0.19724914218794778,
          0.19722718731173974,
          0.19719929131465472,
          0.19713907938735822,
          0.19712088251147356,
          0.19710612077720158,
          0.19706510474449607,
          0.197025585638416,
          0.1970018713370733,
          0.19697503691643597,
          0.1969603411765885,
          0.1969570634003423,
          0.19694976951647247,
          0.19691704170293942,
          0.19687857944843717,
          0.19687113573873644,
          0.1968532120146941,
          0.19684831619509693,
          0.19680398777120123,
          0.1967918055235226,
          0.19678203601143163,
          0.196767306000966,
          0.1967618768610504,
          0.1967414910441012,
          0.19673334264028547,
          0.19671721902009318,
          0.19670865745732202,
          0.19666592783770637,
          0.19663841577266505,
          0.1966211601373846,
          0.19659888019193805,
          0.19660000623555074,
          0.1965992433843513,
          0.19659471302804635,
          0.19658920610119612,
          0.1965657060206576,
          0.19655468187014855,
          0.19654424345540403,
          0.1965328212485422,
          0.19650047062652168,
          0.1964714369906579,
          0.19646650501157997,
          0.1964399351935211,
          0.19640680787227943,
          0.19639303374243694,
          0.19636493935439095,
          0.1963531760375174,
          0.19632956981835067,
          0.19629181751144686,
          0.19627876992177076,
          0.19626316335126862,
          0.1962518498094461,
          0.1962170350009965,
          0.19619406238924836,
          0.1961636673366457,
          0.19613588718655908,
          0.1961077465903144,
          0.19610332263545974,
          0.19609328529731443,
          0.1960905167303672,
          0.19608136991350691,
          0.19607982027762114,
          0.1960692331488024,
          0.19605502530250435,
          0.1960412251765092,
          0.19601976753982375,
          0.19600075032964515,
          0.19596515896308586,
          0.19594061797694798,
          0.19592984355656687,
          0.19592420255855073,
          0.1959152825749114,
          0.19589755035200063,
          0.1958860709753145,
          0.19587649154628312,
          0.19587072143143136,
          0.19583983846282005,
          0.19582812385842105,
          0.19583360702971897,
          0.19582878137809287,
          0.19582072393374944,
          0.19580445081212683,
          0.19579855497839743,
          0.19577889352260935,
          0.19574900566348674,
          0.19573029618387935,
          0.19572168578404237,
          0.1957199291307664,
          0.19570631708903397,
          0.19569670479401843,
          0.19569067544675403,
          0.1956788311888369,
          0.19567632498560192,
          0.19566320033630646,
          0.19564965667933404,
          0.19564060498608013,
          0.19564201943944387,
          0.19561992625330107,
          0.19561222436030606,
          0.19558796278962018,
          0.19557935577768534,
          0.19557635112796284,
          0.19557722637131478,
          0.19556532284125583,
          0.1955536729663647,
          0.19554799147315474,
          0.19553912002073265,
          0.19552042515309173,
          0.19549995544269932,
          0.19548081968907788,
          0.19547149853903928,
          0.19545082435268366,
          0.19543675404451744,
          0.1954189130787986,
          0.19538647702826256,
          0.19537751019930813,
          0.19537254033175117,
          0.19535908426315352,
          0.195351099697738,
          0.1953475233206071,
          0.1953310972214722,
          0.19531299421166398,
          0.19530439274223388,
          0.19529364912237646,
          0.19527557759745431,
          0.19525333291659203,
          0.19522920074849903,
          0.19521300402175842,
          0.19520014444113712,
          0.1951998264567845,
          0.19519037701704794,
          0.19517772785045887,
          0.19516555217237183,
          0.1951557120999169,
          0.19514833327756775,
          0.19511043055253108,
          0.1951092249970337,
          0.19509993128115102,
          0.1950871033538832,
          0.19507672424237976,
          0.19505617976655293,
          0.19504475680179215,
          0.19502779649778385,
          0.19501343654029604,
          0.19500373688301625,
          0.1949929617006321,
          0.19497900112318645,
          0.19496765445676445,
          0.1949522015887584,
          0.19494348944192982,
          0.1949420507255948,
          0.19493484077204182,
          0.19492689366730706,
          0.1949147393846936,
          0.194896813548295,
          0.19489007003615613,
          0.19487479695250615,
          0.19485768616268623,
          0.19484820532063146,
          0.1948407600785699,
          0.1948343739947216,
          0.1948316850553938,
          0.19482308798746667,
          0.19482505895360083,
          0.19481843877750496,
          0.19481275412544619,
          0.194809543375954,
          0.19479960163736587,
          0.19478015337936125,
          0.1947689123604966,
          0.1947545549082536,
          0.19473723172692325,
          0.1947301256988894,
          0.1947271987295942,
          0.1947212152876038,
          0.1946950781652536,
          0.19468588954754043,
          0.19468090959898368,
          0.19466858903259496,
          0.19466661199131494,
          0.19466314855235464,
          0.19465380931182363,
          0.19464919074335366,
          0.1946419533624866,
          0.19463635351131042,
          0.19463815297292866,
          0.1946235481811356,
          0.19461780964707004,
          0.1946119032087851,
          0.1946002955388128,
          0.1946055732995749,
          0.19459071199587102,
          0.19458385292794383,
          0.1945799228022204,
          0.19457623434220245,
          0.1945724153624066,
          0.1945577507848541,
          0.19454267199100378,
          0.19453556278702963,
          0.19452683450146235,
          0.19451029803690023,
          0.19449556290456435,
          0.19448889856263807,
          0.19448311274201163,
          0.1944702761262337,
          0.19445991155936918,
          0.1944358556775887,
          0.1944155837871181
         ],
         "yaxis": "y"
        }
       ],
       "layout": {
        "legend": {
         "itemsizing": "constant",
         "title": {
          "text": "Dataset"
         },
         "tracegroupgap": 0
        },
        "template": {
         "data": {
          "bar": [
           {
            "error_x": {
             "color": "#2a3f5f"
            },
            "error_y": {
             "color": "#2a3f5f"
            },
            "marker": {
             "line": {
              "color": "#E5ECF6",
              "width": 0.5
             },
             "pattern": {
              "fillmode": "overlay",
              "size": 10,
              "solidity": 0.2
             }
            },
            "type": "bar"
           }
          ],
          "barpolar": [
           {
            "marker": {
             "line": {
              "color": "#E5ECF6",
              "width": 0.5
             },
             "pattern": {
              "fillmode": "overlay",
              "size": 10,
              "solidity": 0.2
             }
            },
            "type": "barpolar"
           }
          ],
          "carpet": [
           {
            "aaxis": {
             "endlinecolor": "#2a3f5f",
             "gridcolor": "white",
             "linecolor": "white",
             "minorgridcolor": "white",
             "startlinecolor": "#2a3f5f"
            },
            "baxis": {
             "endlinecolor": "#2a3f5f",
             "gridcolor": "white",
             "linecolor": "white",
             "minorgridcolor": "white",
             "startlinecolor": "#2a3f5f"
            },
            "type": "carpet"
           }
          ],
          "choropleth": [
           {
            "colorbar": {
             "outlinewidth": 0,
             "ticks": ""
            },
            "type": "choropleth"
           }
          ],
          "contour": [
           {
            "colorbar": {
             "outlinewidth": 0,
             "ticks": ""
            },
            "colorscale": [
             [
              0,
              "#0d0887"
             ],
             [
              0.1111111111111111,
              "#46039f"
             ],
             [
              0.2222222222222222,
              "#7201a8"
             ],
             [
              0.3333333333333333,
              "#9c179e"
             ],
             [
              0.4444444444444444,
              "#bd3786"
             ],
             [
              0.5555555555555556,
              "#d8576b"
             ],
             [
              0.6666666666666666,
              "#ed7953"
             ],
             [
              0.7777777777777778,
              "#fb9f3a"
             ],
             [
              0.8888888888888888,
              "#fdca26"
             ],
             [
              1,
              "#f0f921"
             ]
            ],
            "type": "contour"
           }
          ],
          "contourcarpet": [
           {
            "colorbar": {
             "outlinewidth": 0,
             "ticks": ""
            },
            "type": "contourcarpet"
           }
          ],
          "heatmap": [
           {
            "colorbar": {
             "outlinewidth": 0,
             "ticks": ""
            },
            "colorscale": [
             [
              0,
              "#0d0887"
             ],
             [
              0.1111111111111111,
              "#46039f"
             ],
             [
              0.2222222222222222,
              "#7201a8"
             ],
             [
              0.3333333333333333,
              "#9c179e"
             ],
             [
              0.4444444444444444,
              "#bd3786"
             ],
             [
              0.5555555555555556,
              "#d8576b"
             ],
             [
              0.6666666666666666,
              "#ed7953"
             ],
             [
              0.7777777777777778,
              "#fb9f3a"
             ],
             [
              0.8888888888888888,
              "#fdca26"
             ],
             [
              1,
              "#f0f921"
             ]
            ],
            "type": "heatmap"
           }
          ],
          "heatmapgl": [
           {
            "colorbar": {
             "outlinewidth": 0,
             "ticks": ""
            },
            "colorscale": [
             [
              0,
              "#0d0887"
             ],
             [
              0.1111111111111111,
              "#46039f"
             ],
             [
              0.2222222222222222,
              "#7201a8"
             ],
             [
              0.3333333333333333,
              "#9c179e"
             ],
             [
              0.4444444444444444,
              "#bd3786"
             ],
             [
              0.5555555555555556,
              "#d8576b"
             ],
             [
              0.6666666666666666,
              "#ed7953"
             ],
             [
              0.7777777777777778,
              "#fb9f3a"
             ],
             [
              0.8888888888888888,
              "#fdca26"
             ],
             [
              1,
              "#f0f921"
             ]
            ],
            "type": "heatmapgl"
           }
          ],
          "histogram": [
           {
            "marker": {
             "pattern": {
              "fillmode": "overlay",
              "size": 10,
              "solidity": 0.2
             }
            },
            "type": "histogram"
           }
          ],
          "histogram2d": [
           {
            "colorbar": {
             "outlinewidth": 0,
             "ticks": ""
            },
            "colorscale": [
             [
              0,
              "#0d0887"
             ],
             [
              0.1111111111111111,
              "#46039f"
             ],
             [
              0.2222222222222222,
              "#7201a8"
             ],
             [
              0.3333333333333333,
              "#9c179e"
             ],
             [
              0.4444444444444444,
              "#bd3786"
             ],
             [
              0.5555555555555556,
              "#d8576b"
             ],
             [
              0.6666666666666666,
              "#ed7953"
             ],
             [
              0.7777777777777778,
              "#fb9f3a"
             ],
             [
              0.8888888888888888,
              "#fdca26"
             ],
             [
              1,
              "#f0f921"
             ]
            ],
            "type": "histogram2d"
           }
          ],
          "histogram2dcontour": [
           {
            "colorbar": {
             "outlinewidth": 0,
             "ticks": ""
            },
            "colorscale": [
             [
              0,
              "#0d0887"
             ],
             [
              0.1111111111111111,
              "#46039f"
             ],
             [
              0.2222222222222222,
              "#7201a8"
             ],
             [
              0.3333333333333333,
              "#9c179e"
             ],
             [
              0.4444444444444444,
              "#bd3786"
             ],
             [
              0.5555555555555556,
              "#d8576b"
             ],
             [
              0.6666666666666666,
              "#ed7953"
             ],
             [
              0.7777777777777778,
              "#fb9f3a"
             ],
             [
              0.8888888888888888,
              "#fdca26"
             ],
             [
              1,
              "#f0f921"
             ]
            ],
            "type": "histogram2dcontour"
           }
          ],
          "mesh3d": [
           {
            "colorbar": {
             "outlinewidth": 0,
             "ticks": ""
            },
            "type": "mesh3d"
           }
          ],
          "parcoords": [
           {
            "line": {
             "colorbar": {
              "outlinewidth": 0,
              "ticks": ""
             }
            },
            "type": "parcoords"
           }
          ],
          "pie": [
           {
            "automargin": true,
            "type": "pie"
           }
          ],
          "scatter": [
           {
            "fillpattern": {
             "fillmode": "overlay",
             "size": 10,
             "solidity": 0.2
            },
            "type": "scatter"
           }
          ],
          "scatter3d": [
           {
            "line": {
             "colorbar": {
              "outlinewidth": 0,
              "ticks": ""
             }
            },
            "marker": {
             "colorbar": {
              "outlinewidth": 0,
              "ticks": ""
             }
            },
            "type": "scatter3d"
           }
          ],
          "scattercarpet": [
           {
            "marker": {
             "colorbar": {
              "outlinewidth": 0,
              "ticks": ""
             }
            },
            "type": "scattercarpet"
           }
          ],
          "scattergeo": [
           {
            "marker": {
             "colorbar": {
              "outlinewidth": 0,
              "ticks": ""
             }
            },
            "type": "scattergeo"
           }
          ],
          "scattergl": [
           {
            "marker": {
             "colorbar": {
              "outlinewidth": 0,
              "ticks": ""
             }
            },
            "type": "scattergl"
           }
          ],
          "scattermapbox": [
           {
            "marker": {
             "colorbar": {
              "outlinewidth": 0,
              "ticks": ""
             }
            },
            "type": "scattermapbox"
           }
          ],
          "scatterpolar": [
           {
            "marker": {
             "colorbar": {
              "outlinewidth": 0,
              "ticks": ""
             }
            },
            "type": "scatterpolar"
           }
          ],
          "scatterpolargl": [
           {
            "marker": {
             "colorbar": {
              "outlinewidth": 0,
              "ticks": ""
             }
            },
            "type": "scatterpolargl"
           }
          ],
          "scatterternary": [
           {
            "marker": {
             "colorbar": {
              "outlinewidth": 0,
              "ticks": ""
             }
            },
            "type": "scatterternary"
           }
          ],
          "surface": [
           {
            "colorbar": {
             "outlinewidth": 0,
             "ticks": ""
            },
            "colorscale": [
             [
              0,
              "#0d0887"
             ],
             [
              0.1111111111111111,
              "#46039f"
             ],
             [
              0.2222222222222222,
              "#7201a8"
             ],
             [
              0.3333333333333333,
              "#9c179e"
             ],
             [
              0.4444444444444444,
              "#bd3786"
             ],
             [
              0.5555555555555556,
              "#d8576b"
             ],
             [
              0.6666666666666666,
              "#ed7953"
             ],
             [
              0.7777777777777778,
              "#fb9f3a"
             ],
             [
              0.8888888888888888,
              "#fdca26"
             ],
             [
              1,
              "#f0f921"
             ]
            ],
            "type": "surface"
           }
          ],
          "table": [
           {
            "cells": {
             "fill": {
              "color": "#EBF0F8"
             },
             "line": {
              "color": "white"
             }
            },
            "header": {
             "fill": {
              "color": "#C8D4E3"
             },
             "line": {
              "color": "white"
             }
            },
            "type": "table"
           }
          ]
         },
         "layout": {
          "annotationdefaults": {
           "arrowcolor": "#2a3f5f",
           "arrowhead": 0,
           "arrowwidth": 1
          },
          "autotypenumbers": "strict",
          "coloraxis": {
           "colorbar": {
            "outlinewidth": 0,
            "ticks": ""
           }
          },
          "colorscale": {
           "diverging": [
            [
             0,
             "#8e0152"
            ],
            [
             0.1,
             "#c51b7d"
            ],
            [
             0.2,
             "#de77ae"
            ],
            [
             0.3,
             "#f1b6da"
            ],
            [
             0.4,
             "#fde0ef"
            ],
            [
             0.5,
             "#f7f7f7"
            ],
            [
             0.6,
             "#e6f5d0"
            ],
            [
             0.7,
             "#b8e186"
            ],
            [
             0.8,
             "#7fbc41"
            ],
            [
             0.9,
             "#4d9221"
            ],
            [
             1,
             "#276419"
            ]
           ],
           "sequential": [
            [
             0,
             "#0d0887"
            ],
            [
             0.1111111111111111,
             "#46039f"
            ],
            [
             0.2222222222222222,
             "#7201a8"
            ],
            [
             0.3333333333333333,
             "#9c179e"
            ],
            [
             0.4444444444444444,
             "#bd3786"
            ],
            [
             0.5555555555555556,
             "#d8576b"
            ],
            [
             0.6666666666666666,
             "#ed7953"
            ],
            [
             0.7777777777777778,
             "#fb9f3a"
            ],
            [
             0.8888888888888888,
             "#fdca26"
            ],
            [
             1,
             "#f0f921"
            ]
           ],
           "sequentialminus": [
            [
             0,
             "#0d0887"
            ],
            [
             0.1111111111111111,
             "#46039f"
            ],
            [
             0.2222222222222222,
             "#7201a8"
            ],
            [
             0.3333333333333333,
             "#9c179e"
            ],
            [
             0.4444444444444444,
             "#bd3786"
            ],
            [
             0.5555555555555556,
             "#d8576b"
            ],
            [
             0.6666666666666666,
             "#ed7953"
            ],
            [
             0.7777777777777778,
             "#fb9f3a"
            ],
            [
             0.8888888888888888,
             "#fdca26"
            ],
            [
             1,
             "#f0f921"
            ]
           ]
          },
          "colorway": [
           "#636efa",
           "#EF553B",
           "#00cc96",
           "#ab63fa",
           "#FFA15A",
           "#19d3f3",
           "#FF6692",
           "#B6E880",
           "#FF97FF",
           "#FECB52"
          ],
          "font": {
           "color": "#2a3f5f"
          },
          "geo": {
           "bgcolor": "white",
           "lakecolor": "white",
           "landcolor": "#E5ECF6",
           "showlakes": true,
           "showland": true,
           "subunitcolor": "white"
          },
          "hoverlabel": {
           "align": "left"
          },
          "hovermode": "closest",
          "mapbox": {
           "style": "light"
          },
          "paper_bgcolor": "white",
          "plot_bgcolor": "#E5ECF6",
          "polar": {
           "angularaxis": {
            "gridcolor": "white",
            "linecolor": "white",
            "ticks": ""
           },
           "bgcolor": "#E5ECF6",
           "radialaxis": {
            "gridcolor": "white",
            "linecolor": "white",
            "ticks": ""
           }
          },
          "scene": {
           "xaxis": {
            "backgroundcolor": "#E5ECF6",
            "gridcolor": "white",
            "gridwidth": 2,
            "linecolor": "white",
            "showbackground": true,
            "ticks": "",
            "zerolinecolor": "white"
           },
           "yaxis": {
            "backgroundcolor": "#E5ECF6",
            "gridcolor": "white",
            "gridwidth": 2,
            "linecolor": "white",
            "showbackground": true,
            "ticks": "",
            "zerolinecolor": "white"
           },
           "zaxis": {
            "backgroundcolor": "#E5ECF6",
            "gridcolor": "white",
            "gridwidth": 2,
            "linecolor": "white",
            "showbackground": true,
            "ticks": "",
            "zerolinecolor": "white"
           }
          },
          "shapedefaults": {
           "line": {
            "color": "#2a3f5f"
           }
          },
          "ternary": {
           "aaxis": {
            "gridcolor": "white",
            "linecolor": "white",
            "ticks": ""
           },
           "baxis": {
            "gridcolor": "white",
            "linecolor": "white",
            "ticks": ""
           },
           "bgcolor": "#E5ECF6",
           "caxis": {
            "gridcolor": "white",
            "linecolor": "white",
            "ticks": ""
           }
          },
          "title": {
           "x": 0.05
          },
          "xaxis": {
           "automargin": true,
           "gridcolor": "white",
           "linecolor": "white",
           "ticks": "",
           "title": {
            "standoff": 15
           },
           "zerolinecolor": "white",
           "zerolinewidth": 2
          },
          "yaxis": {
           "automargin": true,
           "gridcolor": "white",
           "linecolor": "white",
           "ticks": "",
           "title": {
            "standoff": 15
           },
           "zerolinecolor": "white",
           "zerolinewidth": 2
          }
         }
        },
        "title": {
         "text": "Training and Val MAE over Boosting Rounds for thp_vol"
        },
        "xaxis": {
         "anchor": "y",
         "domain": [
          0,
          1
         ],
         "title": {
          "text": "Boosting Round"
         }
        },
        "yaxis": {
         "anchor": "x",
         "domain": [
          0,
          1
         ],
         "title": {
          "text": "Mean Absolute Error"
         }
        }
       }
      }
     },
     "metadata": {},
     "output_type": "display_data"
    },
    {
     "name": "stdout",
     "output_type": "stream",
     "text": [
      "Best Val MAE for thp_vol: 0.1944155837871181\n",
      "Round: 299\n",
      "Processing target: prb\n"
     ]
    },
    {
     "data": {
      "application/vnd.plotly.v1+json": {
       "config": {
        "plotlyServerURL": "https://plot.ly"
       },
       "data": [
        {
         "hovertemplate": "variable=wide_variable_0<br>Boosting Round=%{x}<br>Mean Absolute Error=%{y}<extra></extra>",
         "legendgroup": "wide_variable_0",
         "line": {
          "color": "#636efa",
          "dash": "solid"
         },
         "marker": {
          "symbol": "circle"
         },
         "mode": "lines",
         "name": "Train MAE",
         "orientation": "v",
         "showlegend": true,
         "type": "scatter",
         "x": [
          1,
          2,
          3,
          4,
          5,
          6,
          7,
          8,
          9,
          10,
          11,
          12,
          13,
          14,
          15,
          16,
          17,
          18,
          19,
          20,
          21,
          22,
          23,
          24,
          25,
          26,
          27,
          28,
          29,
          30,
          31,
          32,
          33,
          34,
          35,
          36,
          37,
          38,
          39,
          40,
          41,
          42,
          43,
          44,
          45,
          46,
          47,
          48,
          49,
          50,
          51,
          52,
          53,
          54,
          55,
          56,
          57,
          58,
          59,
          60,
          61,
          62,
          63,
          64,
          65,
          66,
          67,
          68,
          69,
          70,
          71,
          72,
          73,
          74,
          75,
          76,
          77,
          78,
          79,
          80,
          81,
          82,
          83,
          84,
          85,
          86,
          87,
          88,
          89,
          90,
          91,
          92,
          93,
          94,
          95,
          96,
          97,
          98,
          99,
          100,
          101,
          102,
          103,
          104,
          105,
          106,
          107,
          108,
          109,
          110,
          111,
          112,
          113,
          114,
          115,
          116,
          117,
          118,
          119,
          120,
          121,
          122,
          123,
          124,
          125,
          126,
          127,
          128,
          129,
          130,
          131,
          132,
          133,
          134,
          135,
          136,
          137,
          138,
          139,
          140,
          141,
          142,
          143,
          144,
          145,
          146,
          147,
          148,
          149,
          150,
          151,
          152,
          153,
          154,
          155,
          156,
          157,
          158,
          159,
          160,
          161,
          162,
          163,
          164,
          165,
          166,
          167,
          168,
          169,
          170,
          171,
          172,
          173,
          174,
          175,
          176,
          177,
          178,
          179,
          180,
          181,
          182,
          183,
          184,
          185,
          186,
          187,
          188,
          189,
          190,
          191,
          192,
          193,
          194,
          195,
          196,
          197,
          198,
          199,
          200,
          201,
          202,
          203,
          204,
          205,
          206,
          207,
          208,
          209,
          210,
          211,
          212,
          213,
          214,
          215,
          216,
          217,
          218,
          219,
          220,
          221,
          222,
          223,
          224,
          225,
          226,
          227,
          228,
          229,
          230,
          231,
          232,
          233,
          234,
          235,
          236,
          237,
          238,
          239,
          240,
          241,
          242,
          243,
          244,
          245,
          246,
          247,
          248,
          249,
          250,
          251,
          252,
          253,
          254,
          255,
          256,
          257,
          258,
          259,
          260,
          261,
          262,
          263,
          264,
          265,
          266,
          267,
          268,
          269,
          270,
          271,
          272,
          273,
          274,
          275,
          276,
          277,
          278,
          279,
          280,
          281,
          282,
          283,
          284,
          285,
          286,
          287,
          288,
          289,
          290,
          291,
          292,
          293,
          294,
          295,
          296,
          297,
          298,
          299,
          300
         ],
         "xaxis": "x",
         "y": [
          0.5928477157862935,
          0.5719966831481736,
          0.5524381714920639,
          0.5339266473709446,
          0.5167220092729964,
          0.5003631014632355,
          0.48512140873667525,
          0.4706704548835184,
          0.4573084769285216,
          0.44458464026513417,
          0.43270821068020066,
          0.42159115054764457,
          0.41105427454050597,
          0.40122806168082553,
          0.3920413530847462,
          0.3834510875180226,
          0.37543385120209183,
          0.3678694048840849,
          0.36093033191323476,
          0.35440950431051804,
          0.3483559240347226,
          0.3425145314907355,
          0.33714781053219967,
          0.33210035582715186,
          0.32735571038641015,
          0.3230307925660406,
          0.31894949245648285,
          0.3150619278933645,
          0.3114379576826784,
          0.30801716903618126,
          0.3048450993504884,
          0.30175201829310877,
          0.29894497108480633,
          0.29639568085246437,
          0.2940111906564316,
          0.2918098903342853,
          0.28975719944083644,
          0.28776971559946934,
          0.28589835731391067,
          0.28416887232155086,
          0.2824548651728954,
          0.28098380160541664,
          0.2795462923272499,
          0.27817167028542317,
          0.2768573268439603,
          0.275479901109306,
          0.27437540513754166,
          0.2732502087051893,
          0.27229938019549144,
          0.27121926507464617,
          0.27033378998815694,
          0.2695393514228446,
          0.2686380246602327,
          0.2677774458073489,
          0.26701782152464715,
          0.2663459123621857,
          0.2656461887817506,
          0.2649295993016242,
          0.26426892449704203,
          0.26362196329103155,
          0.26309279003293273,
          0.2625417525749762,
          0.26209102652953525,
          0.26163781477743153,
          0.2612407263437984,
          0.2608332383388205,
          0.26036744299573567,
          0.26001378857347296,
          0.25968547602001035,
          0.259306195131572,
          0.25894741220162654,
          0.2586725198217787,
          0.2583815848644964,
          0.25803183752337067,
          0.2577512571796114,
          0.25748464074444977,
          0.2572308275595176,
          0.2569481378919461,
          0.2567267239523639,
          0.25650407946588966,
          0.25629359646708644,
          0.256090329289325,
          0.2558805824892794,
          0.25568983052526073,
          0.25549912123553076,
          0.2553135498076794,
          0.2551511234625146,
          0.2549553178351096,
          0.2547947478952886,
          0.2546546539272423,
          0.25452144905419954,
          0.25439723401291536,
          0.2542611795964323,
          0.2541201024072553,
          0.25398962683047854,
          0.2538624592818555,
          0.25373231387902456,
          0.25363192530166967,
          0.2535093258120602,
          0.25338640942643836,
          0.25327342050536455,
          0.25311582239697666,
          0.2529646165879742,
          0.2528655041514443,
          0.25275910784717465,
          0.2526557680813413,
          0.2525599668601004,
          0.2524633804773746,
          0.2523249967408844,
          0.2522257153811513,
          0.25212037015258015,
          0.2519881972229738,
          0.2518984132095207,
          0.25179383673117867,
          0.2517066876696424,
          0.25161820878097096,
          0.2515330846453385,
          0.25146332276945843,
          0.2513751178857124,
          0.2513078877216391,
          0.2512068377410902,
          0.2511285746565927,
          0.2510671168872882,
          0.25097387794854875,
          0.25090189869211094,
          0.25082870388742956,
          0.2507315110257643,
          0.2506484933250577,
          0.2506019223813977,
          0.25053820826384704,
          0.2504618803830823,
          0.2503894279014931,
          0.2503206299476031,
          0.25025487455470813,
          0.2501887489838094,
          0.2501281628275588,
          0.2500653852441937,
          0.24999760127248824,
          0.24991743805835231,
          0.24984244563504068,
          0.24978638405985507,
          0.24971557109897374,
          0.2496409303989075,
          0.24958191811931243,
          0.24950506004598466,
          0.24945124914988162,
          0.24940012713185908,
          0.24935737685702797,
          0.24931164914229773,
          0.24926694197046245,
          0.24922710430904627,
          0.24917797996749125,
          0.24911254663638197,
          0.24906183458626835,
          0.24901041443268235,
          0.24898052350349262,
          0.24893765965484174,
          0.24889996684162793,
          0.24885322274889532,
          0.24880960532379132,
          0.24874944831160642,
          0.24869818496896576,
          0.2486402703119425,
          0.24856832287477973,
          0.2485215602404789,
          0.24846960615329142,
          0.24840748762281295,
          0.2483555520294099,
          0.24830130469569905,
          0.24825392702131818,
          0.24820371154908288,
          0.24814350517344252,
          0.2481174269314974,
          0.24806523780818837,
          0.2480282718633745,
          0.24798026561838923,
          0.2479390227976422,
          0.2478957467634577,
          0.2478536015371763,
          0.24781144656827217,
          0.24774935458078637,
          0.24770600174909546,
          0.24765845055770064,
          0.2476190523895174,
          0.24758210603319633,
          0.24753022146179546,
          0.24748521882175314,
          0.24744569958742457,
          0.247402782341056,
          0.24735600902835364,
          0.2473186699473077,
          0.24727647520493226,
          0.24724618091612915,
          0.247212995736849,
          0.24718281298589226,
          0.2471376935442858,
          0.2471095675588926,
          0.24708438833633484,
          0.247058942884459,
          0.24702176496103806,
          0.24698649714353646,
          0.24694270748369299,
          0.24690996856397526,
          0.24688114014088555,
          0.24683695191217858,
          0.24678938833607356,
          0.24674425068882214,
          0.24671677962317723,
          0.24668244785885599,
          0.2466641306958779,
          0.24662770420048094,
          0.24660145849739576,
          0.2465787776392971,
          0.24653255836234464,
          0.24650298095654521,
          0.24647373795222244,
          0.24643904675234618,
          0.24640542827013273,
          0.24636644503526595,
          0.2463326456982605,
          0.24630403010774762,
          0.24628639129741337,
          0.24622170266408314,
          0.24619966263172832,
          0.2461801120329302,
          0.24614649735748223,
          0.2461212271706799,
          0.24608406612264086,
          0.24606238568763047,
          0.24603247293032313,
          0.24600959858297528,
          0.24598392589459553,
          0.24595336531205278,
          0.2459323284706435,
          0.24590227197244424,
          0.24585925382245735,
          0.24582897343348295,
          0.24579453044415922,
          0.24576568998389225,
          0.24572046595940059,
          0.24569047097430743,
          0.245653518454791,
          0.24562317855973334,
          0.2455936473728194,
          0.24557603482940724,
          0.24554399533499455,
          0.24552354371586843,
          0.24550010232070377,
          0.24547068209452205,
          0.24544874368120506,
          0.24541818143430164,
          0.24540321697575315,
          0.24538279271622493,
          0.24536330028408168,
          0.2453208006795078,
          0.24530707382437145,
          0.24528828044240855,
          0.24527673474504866,
          0.24526138079898593,
          0.24524300468628984,
          0.24522486220171008,
          0.24516775983599823,
          0.24514808009131875,
          0.24512740870598448,
          0.24509751254589174,
          0.24508861367192175,
          0.24505806458415752,
          0.2450369115511522,
          0.24501404491213985,
          0.24497773261421613,
          0.24493421433861756,
          0.24491415439497707,
          0.2448983003338125,
          0.2448706941360679,
          0.2448518145758081,
          0.24481616916741042,
          0.24478332177184917,
          0.24475942021731353,
          0.2447466129666478,
          0.24472570735386412,
          0.24471294554366646,
          0.24469280212790648,
          0.24467665183989343,
          0.24465913767786082,
          0.24464054462921464,
          0.24461640773864743,
          0.24460547915514588,
          0.24458184720075055,
          0.2445603786686576,
          0.2445322813242846,
          0.24450153593366247,
          0.24448159201838135,
          0.244465636160534,
          0.2444314283630781,
          0.24441518792911843,
          0.24439623261011792,
          0.2443739064852664,
          0.24435485514824237,
          0.24432945138557025,
          0.244308447245734
         ],
         "yaxis": "y"
        },
        {
         "hovertemplate": "variable=wide_variable_1<br>Boosting Round=%{x}<br>Mean Absolute Error=%{y}<extra></extra>",
         "legendgroup": "wide_variable_1",
         "line": {
          "color": "#EF553B",
          "dash": "solid"
         },
         "marker": {
          "symbol": "circle"
         },
         "mode": "lines",
         "name": "Val MAE",
         "orientation": "v",
         "showlegend": true,
         "type": "scatter",
         "x": [
          1,
          2,
          3,
          4,
          5,
          6,
          7,
          8,
          9,
          10,
          11,
          12,
          13,
          14,
          15,
          16,
          17,
          18,
          19,
          20,
          21,
          22,
          23,
          24,
          25,
          26,
          27,
          28,
          29,
          30,
          31,
          32,
          33,
          34,
          35,
          36,
          37,
          38,
          39,
          40,
          41,
          42,
          43,
          44,
          45,
          46,
          47,
          48,
          49,
          50,
          51,
          52,
          53,
          54,
          55,
          56,
          57,
          58,
          59,
          60,
          61,
          62,
          63,
          64,
          65,
          66,
          67,
          68,
          69,
          70,
          71,
          72,
          73,
          74,
          75,
          76,
          77,
          78,
          79,
          80,
          81,
          82,
          83,
          84,
          85,
          86,
          87,
          88,
          89,
          90,
          91,
          92,
          93,
          94,
          95,
          96,
          97,
          98,
          99,
          100,
          101,
          102,
          103,
          104,
          105,
          106,
          107,
          108,
          109,
          110,
          111,
          112,
          113,
          114,
          115,
          116,
          117,
          118,
          119,
          120,
          121,
          122,
          123,
          124,
          125,
          126,
          127,
          128,
          129,
          130,
          131,
          132,
          133,
          134,
          135,
          136,
          137,
          138,
          139,
          140,
          141,
          142,
          143,
          144,
          145,
          146,
          147,
          148,
          149,
          150,
          151,
          152,
          153,
          154,
          155,
          156,
          157,
          158,
          159,
          160,
          161,
          162,
          163,
          164,
          165,
          166,
          167,
          168,
          169,
          170,
          171,
          172,
          173,
          174,
          175,
          176,
          177,
          178,
          179,
          180,
          181,
          182,
          183,
          184,
          185,
          186,
          187,
          188,
          189,
          190,
          191,
          192,
          193,
          194,
          195,
          196,
          197,
          198,
          199,
          200,
          201,
          202,
          203,
          204,
          205,
          206,
          207,
          208,
          209,
          210,
          211,
          212,
          213,
          214,
          215,
          216,
          217,
          218,
          219,
          220,
          221,
          222,
          223,
          224,
          225,
          226,
          227,
          228,
          229,
          230,
          231,
          232,
          233,
          234,
          235,
          236,
          237,
          238,
          239,
          240,
          241,
          242,
          243,
          244,
          245,
          246,
          247,
          248,
          249,
          250,
          251,
          252,
          253,
          254,
          255,
          256,
          257,
          258,
          259,
          260,
          261,
          262,
          263,
          264,
          265,
          266,
          267,
          268,
          269,
          270,
          271,
          272,
          273,
          274,
          275,
          276,
          277,
          278,
          279,
          280,
          281,
          282,
          283,
          284,
          285,
          286,
          287,
          288,
          289,
          290,
          291,
          292,
          293,
          294,
          295,
          296,
          297,
          298,
          299,
          300
         ],
         "xaxis": "x",
         "y": [
          0.597646122791134,
          0.576476183037545,
          0.5565658997987023,
          0.5377546087614294,
          0.5202587096889772,
          0.50363877216871,
          0.48812522773488787,
          0.4734289431437062,
          0.45983356366903155,
          0.44692291412812135,
          0.43485888467140793,
          0.4235423212208931,
          0.4128431855336859,
          0.4028538914721514,
          0.39354219592954764,
          0.38483258760985134,
          0.37670671839528,
          0.36903859328350574,
          0.3619784433767864,
          0.35535886244730347,
          0.34923181782480966,
          0.34332381240853777,
          0.33786863016054186,
          0.33277129428280416,
          0.3279671113119394,
          0.3235967565852349,
          0.31949985202537773,
          0.3155866949013212,
          0.31195028766805605,
          0.30851668900504103,
          0.30532119091741894,
          0.3022159763089257,
          0.29938532728281053,
          0.29682298043070776,
          0.294443957507974,
          0.2922296849940519,
          0.29016673047516733,
          0.28817091597107414,
          0.2862963451802962,
          0.2845572155964923,
          0.2828559260342448,
          0.28140147461898546,
          0.2799599397256148,
          0.2785854620615599,
          0.277285175007993,
          0.2759159736484991,
          0.2748215614534089,
          0.27371340666047517,
          0.27276933018412897,
          0.27170041742108014,
          0.2708177039864833,
          0.2700372016232852,
          0.2691561096454673,
          0.2683086478604315,
          0.26757062630986483,
          0.26691006875692214,
          0.266227983865259,
          0.2655328276576512,
          0.26488982353110424,
          0.2642548474556179,
          0.2637473163448772,
          0.26320925248705873,
          0.2627677047318847,
          0.2623296892211849,
          0.26193889834062917,
          0.26154627494854454,
          0.2610960394701615,
          0.2607508166520528,
          0.2604328987868168,
          0.2600602542435065,
          0.2597085700880968,
          0.2594418686649048,
          0.2591576437190419,
          0.2588173273877205,
          0.25853849290568315,
          0.2582800819365573,
          0.25802932618820057,
          0.25775745540695966,
          0.2575425390431447,
          0.25732929612035,
          0.2571206940412561,
          0.2569296850822346,
          0.25672064503681696,
          0.25653148325493547,
          0.2563351022497742,
          0.2561475322396919,
          0.25598829757294,
          0.2557979660788944,
          0.25562878985308635,
          0.2554918362689885,
          0.2553639494050422,
          0.2552434619054447,
          0.25510803154331624,
          0.25496693748845123,
          0.25483934012124415,
          0.2547159921494728,
          0.25459123982309256,
          0.25449155353944297,
          0.25436331961520414,
          0.25423862741750125,
          0.254120271568441,
          0.25396337300121197,
          0.25381062704969415,
          0.25370446901730215,
          0.25359715694270796,
          0.25349056894349614,
          0.2533885374825052,
          0.25329653594056073,
          0.2531620295812598,
          0.25305796178099454,
          0.25295035787171577,
          0.25281798777823516,
          0.2527277059965648,
          0.25262101083601807,
          0.2525351407587862,
          0.2524456851535744,
          0.2523580856853083,
          0.25229097739611284,
          0.2521991880054093,
          0.2521277875418629,
          0.2520259476158178,
          0.25194404513445606,
          0.2518830816074406,
          0.25178836175238084,
          0.2517160901684565,
          0.2516389267881551,
          0.2515440241203304,
          0.25145457564075835,
          0.25140670707375956,
          0.2513394574357225,
          0.2512600322808137,
          0.25118230862313584,
          0.2511114563599477,
          0.25104303430485125,
          0.25097317707751027,
          0.2509085147352509,
          0.25084223218138896,
          0.25077298465640646,
          0.2506981293894703,
          0.25062251975696487,
          0.2505635003135049,
          0.25049042920701836,
          0.25040841002004544,
          0.2503441652607351,
          0.2502672842699584,
          0.25021525620829704,
          0.2501608937185987,
          0.25011962814174954,
          0.2500706317038967,
          0.25001675532310375,
          0.24997281099531196,
          0.2499205421562169,
          0.2498481019342151,
          0.2497921045374944,
          0.2497387700766265,
          0.2497078880330064,
          0.24966408019015493,
          0.24962849345681776,
          0.2495769245828871,
          0.24953199835084444,
          0.2494676279145286,
          0.2494145970182,
          0.24935190660210552,
          0.24927800375457052,
          0.2492244551707934,
          0.24916535516554775,
          0.24910020385727094,
          0.24904619851391047,
          0.2489898749920547,
          0.24893727137967095,
          0.2488843304789889,
          0.24882416782881792,
          0.2487961669522042,
          0.24873989242505756,
          0.24869860168133923,
          0.24864508747105762,
          0.24860192081653953,
          0.24856071862661563,
          0.24851866208322712,
          0.24847327718982284,
          0.24840903703159464,
          0.24836445521663042,
          0.2483113106519487,
          0.24826576378429607,
          0.24822724044766997,
          0.24817413601581556,
          0.24812653998216688,
          0.24808749141962272,
          0.2480395790421264,
          0.24799138511329122,
          0.2479496398850258,
          0.24790156229844001,
          0.24786961952742242,
          0.24783012334667773,
          0.2477982925678876,
          0.24775266595504541,
          0.24772329734955778,
          0.24769597505709398,
          0.24767089931526987,
          0.24763033231548226,
          0.24759029715486394,
          0.24754420218419448,
          0.2475122226731033,
          0.24748118124994983,
          0.24743498080073253,
          0.2473837098063367,
          0.2473380389939709,
          0.2473079954107221,
          0.24727302106496815,
          0.24725415999246395,
          0.24721811747254327,
          0.2471929703852129,
          0.247178115048935,
          0.24712841648374043,
          0.24709319631184307,
          0.247066184194713,
          0.2470270851771268,
          0.24699408421357946,
          0.2469551868900053,
          0.24691920181402094,
          0.24689038805311014,
          0.24686912166943387,
          0.2467997862794135,
          0.2467744852180265,
          0.24675933950361864,
          0.2467317059063632,
          0.2467053766733877,
          0.24666524579663257,
          0.24664075225074383,
          0.24660726160633176,
          0.24658547689861351,
          0.24655921897654545,
          0.24652851530357256,
          0.24650560043950312,
          0.24647592141625524,
          0.2464313579094169,
          0.24639709131743054,
          0.24636124290260067,
          0.24633183465064276,
          0.2462860805067475,
          0.24625334593499495,
          0.24621842933131496,
          0.2461884929384055,
          0.24615636381702746,
          0.24614081026614135,
          0.2461120999893763,
          0.2460906707149322,
          0.24606605487107974,
          0.24603483941612442,
          0.2460095304815231,
          0.2459750351619976,
          0.24596047034450721,
          0.245939371670814,
          0.2459182465280796,
          0.24587235772447702,
          0.24586177721355398,
          0.2458412502682507,
          0.24582938249317662,
          0.2458126398402423,
          0.2457885882788669,
          0.24576870247467034,
          0.2457105565477861,
          0.24569003750134047,
          0.24566727778469594,
          0.2456356542214006,
          0.2456302647736288,
          0.24559789741130192,
          0.24557288044410008,
          0.24554678876205419,
          0.2455068830686427,
          0.24546147269053714,
          0.24544127008271605,
          0.2454238274750447,
          0.24539532556796018,
          0.2453777595671368,
          0.24534055286021392,
          0.24530959318437695,
          0.24528426127050626,
          0.2452723352790262,
          0.24525008579530944,
          0.24523545276286846,
          0.24521527695091955,
          0.24520118497939122,
          0.2451850275423105,
          0.24516592436706616,
          0.24513812679304126,
          0.2451269196933621,
          0.2451003107979469,
          0.2450751897061811,
          0.24504269311834037,
          0.24501493179795583,
          0.24499802058839956,
          0.24497919543860158,
          0.24494657533834063,
          0.24493075337822764,
          0.24491129095613381,
          0.24488892482813182,
          0.24486672148081548,
          0.24483942687626475,
          0.24481717310462112
         ],
         "yaxis": "y"
        }
       ],
       "layout": {
        "legend": {
         "itemsizing": "constant",
         "title": {
          "text": "Dataset"
         },
         "tracegroupgap": 0
        },
        "template": {
         "data": {
          "bar": [
           {
            "error_x": {
             "color": "#2a3f5f"
            },
            "error_y": {
             "color": "#2a3f5f"
            },
            "marker": {
             "line": {
              "color": "#E5ECF6",
              "width": 0.5
             },
             "pattern": {
              "fillmode": "overlay",
              "size": 10,
              "solidity": 0.2
             }
            },
            "type": "bar"
           }
          ],
          "barpolar": [
           {
            "marker": {
             "line": {
              "color": "#E5ECF6",
              "width": 0.5
             },
             "pattern": {
              "fillmode": "overlay",
              "size": 10,
              "solidity": 0.2
             }
            },
            "type": "barpolar"
           }
          ],
          "carpet": [
           {
            "aaxis": {
             "endlinecolor": "#2a3f5f",
             "gridcolor": "white",
             "linecolor": "white",
             "minorgridcolor": "white",
             "startlinecolor": "#2a3f5f"
            },
            "baxis": {
             "endlinecolor": "#2a3f5f",
             "gridcolor": "white",
             "linecolor": "white",
             "minorgridcolor": "white",
             "startlinecolor": "#2a3f5f"
            },
            "type": "carpet"
           }
          ],
          "choropleth": [
           {
            "colorbar": {
             "outlinewidth": 0,
             "ticks": ""
            },
            "type": "choropleth"
           }
          ],
          "contour": [
           {
            "colorbar": {
             "outlinewidth": 0,
             "ticks": ""
            },
            "colorscale": [
             [
              0,
              "#0d0887"
             ],
             [
              0.1111111111111111,
              "#46039f"
             ],
             [
              0.2222222222222222,
              "#7201a8"
             ],
             [
              0.3333333333333333,
              "#9c179e"
             ],
             [
              0.4444444444444444,
              "#bd3786"
             ],
             [
              0.5555555555555556,
              "#d8576b"
             ],
             [
              0.6666666666666666,
              "#ed7953"
             ],
             [
              0.7777777777777778,
              "#fb9f3a"
             ],
             [
              0.8888888888888888,
              "#fdca26"
             ],
             [
              1,
              "#f0f921"
             ]
            ],
            "type": "contour"
           }
          ],
          "contourcarpet": [
           {
            "colorbar": {
             "outlinewidth": 0,
             "ticks": ""
            },
            "type": "contourcarpet"
           }
          ],
          "heatmap": [
           {
            "colorbar": {
             "outlinewidth": 0,
             "ticks": ""
            },
            "colorscale": [
             [
              0,
              "#0d0887"
             ],
             [
              0.1111111111111111,
              "#46039f"
             ],
             [
              0.2222222222222222,
              "#7201a8"
             ],
             [
              0.3333333333333333,
              "#9c179e"
             ],
             [
              0.4444444444444444,
              "#bd3786"
             ],
             [
              0.5555555555555556,
              "#d8576b"
             ],
             [
              0.6666666666666666,
              "#ed7953"
             ],
             [
              0.7777777777777778,
              "#fb9f3a"
             ],
             [
              0.8888888888888888,
              "#fdca26"
             ],
             [
              1,
              "#f0f921"
             ]
            ],
            "type": "heatmap"
           }
          ],
          "heatmapgl": [
           {
            "colorbar": {
             "outlinewidth": 0,
             "ticks": ""
            },
            "colorscale": [
             [
              0,
              "#0d0887"
             ],
             [
              0.1111111111111111,
              "#46039f"
             ],
             [
              0.2222222222222222,
              "#7201a8"
             ],
             [
              0.3333333333333333,
              "#9c179e"
             ],
             [
              0.4444444444444444,
              "#bd3786"
             ],
             [
              0.5555555555555556,
              "#d8576b"
             ],
             [
              0.6666666666666666,
              "#ed7953"
             ],
             [
              0.7777777777777778,
              "#fb9f3a"
             ],
             [
              0.8888888888888888,
              "#fdca26"
             ],
             [
              1,
              "#f0f921"
             ]
            ],
            "type": "heatmapgl"
           }
          ],
          "histogram": [
           {
            "marker": {
             "pattern": {
              "fillmode": "overlay",
              "size": 10,
              "solidity": 0.2
             }
            },
            "type": "histogram"
           }
          ],
          "histogram2d": [
           {
            "colorbar": {
             "outlinewidth": 0,
             "ticks": ""
            },
            "colorscale": [
             [
              0,
              "#0d0887"
             ],
             [
              0.1111111111111111,
              "#46039f"
             ],
             [
              0.2222222222222222,
              "#7201a8"
             ],
             [
              0.3333333333333333,
              "#9c179e"
             ],
             [
              0.4444444444444444,
              "#bd3786"
             ],
             [
              0.5555555555555556,
              "#d8576b"
             ],
             [
              0.6666666666666666,
              "#ed7953"
             ],
             [
              0.7777777777777778,
              "#fb9f3a"
             ],
             [
              0.8888888888888888,
              "#fdca26"
             ],
             [
              1,
              "#f0f921"
             ]
            ],
            "type": "histogram2d"
           }
          ],
          "histogram2dcontour": [
           {
            "colorbar": {
             "outlinewidth": 0,
             "ticks": ""
            },
            "colorscale": [
             [
              0,
              "#0d0887"
             ],
             [
              0.1111111111111111,
              "#46039f"
             ],
             [
              0.2222222222222222,
              "#7201a8"
             ],
             [
              0.3333333333333333,
              "#9c179e"
             ],
             [
              0.4444444444444444,
              "#bd3786"
             ],
             [
              0.5555555555555556,
              "#d8576b"
             ],
             [
              0.6666666666666666,
              "#ed7953"
             ],
             [
              0.7777777777777778,
              "#fb9f3a"
             ],
             [
              0.8888888888888888,
              "#fdca26"
             ],
             [
              1,
              "#f0f921"
             ]
            ],
            "type": "histogram2dcontour"
           }
          ],
          "mesh3d": [
           {
            "colorbar": {
             "outlinewidth": 0,
             "ticks": ""
            },
            "type": "mesh3d"
           }
          ],
          "parcoords": [
           {
            "line": {
             "colorbar": {
              "outlinewidth": 0,
              "ticks": ""
             }
            },
            "type": "parcoords"
           }
          ],
          "pie": [
           {
            "automargin": true,
            "type": "pie"
           }
          ],
          "scatter": [
           {
            "fillpattern": {
             "fillmode": "overlay",
             "size": 10,
             "solidity": 0.2
            },
            "type": "scatter"
           }
          ],
          "scatter3d": [
           {
            "line": {
             "colorbar": {
              "outlinewidth": 0,
              "ticks": ""
             }
            },
            "marker": {
             "colorbar": {
              "outlinewidth": 0,
              "ticks": ""
             }
            },
            "type": "scatter3d"
           }
          ],
          "scattercarpet": [
           {
            "marker": {
             "colorbar": {
              "outlinewidth": 0,
              "ticks": ""
             }
            },
            "type": "scattercarpet"
           }
          ],
          "scattergeo": [
           {
            "marker": {
             "colorbar": {
              "outlinewidth": 0,
              "ticks": ""
             }
            },
            "type": "scattergeo"
           }
          ],
          "scattergl": [
           {
            "marker": {
             "colorbar": {
              "outlinewidth": 0,
              "ticks": ""
             }
            },
            "type": "scattergl"
           }
          ],
          "scattermapbox": [
           {
            "marker": {
             "colorbar": {
              "outlinewidth": 0,
              "ticks": ""
             }
            },
            "type": "scattermapbox"
           }
          ],
          "scatterpolar": [
           {
            "marker": {
             "colorbar": {
              "outlinewidth": 0,
              "ticks": ""
             }
            },
            "type": "scatterpolar"
           }
          ],
          "scatterpolargl": [
           {
            "marker": {
             "colorbar": {
              "outlinewidth": 0,
              "ticks": ""
             }
            },
            "type": "scatterpolargl"
           }
          ],
          "scatterternary": [
           {
            "marker": {
             "colorbar": {
              "outlinewidth": 0,
              "ticks": ""
             }
            },
            "type": "scatterternary"
           }
          ],
          "surface": [
           {
            "colorbar": {
             "outlinewidth": 0,
             "ticks": ""
            },
            "colorscale": [
             [
              0,
              "#0d0887"
             ],
             [
              0.1111111111111111,
              "#46039f"
             ],
             [
              0.2222222222222222,
              "#7201a8"
             ],
             [
              0.3333333333333333,
              "#9c179e"
             ],
             [
              0.4444444444444444,
              "#bd3786"
             ],
             [
              0.5555555555555556,
              "#d8576b"
             ],
             [
              0.6666666666666666,
              "#ed7953"
             ],
             [
              0.7777777777777778,
              "#fb9f3a"
             ],
             [
              0.8888888888888888,
              "#fdca26"
             ],
             [
              1,
              "#f0f921"
             ]
            ],
            "type": "surface"
           }
          ],
          "table": [
           {
            "cells": {
             "fill": {
              "color": "#EBF0F8"
             },
             "line": {
              "color": "white"
             }
            },
            "header": {
             "fill": {
              "color": "#C8D4E3"
             },
             "line": {
              "color": "white"
             }
            },
            "type": "table"
           }
          ]
         },
         "layout": {
          "annotationdefaults": {
           "arrowcolor": "#2a3f5f",
           "arrowhead": 0,
           "arrowwidth": 1
          },
          "autotypenumbers": "strict",
          "coloraxis": {
           "colorbar": {
            "outlinewidth": 0,
            "ticks": ""
           }
          },
          "colorscale": {
           "diverging": [
            [
             0,
             "#8e0152"
            ],
            [
             0.1,
             "#c51b7d"
            ],
            [
             0.2,
             "#de77ae"
            ],
            [
             0.3,
             "#f1b6da"
            ],
            [
             0.4,
             "#fde0ef"
            ],
            [
             0.5,
             "#f7f7f7"
            ],
            [
             0.6,
             "#e6f5d0"
            ],
            [
             0.7,
             "#b8e186"
            ],
            [
             0.8,
             "#7fbc41"
            ],
            [
             0.9,
             "#4d9221"
            ],
            [
             1,
             "#276419"
            ]
           ],
           "sequential": [
            [
             0,
             "#0d0887"
            ],
            [
             0.1111111111111111,
             "#46039f"
            ],
            [
             0.2222222222222222,
             "#7201a8"
            ],
            [
             0.3333333333333333,
             "#9c179e"
            ],
            [
             0.4444444444444444,
             "#bd3786"
            ],
            [
             0.5555555555555556,
             "#d8576b"
            ],
            [
             0.6666666666666666,
             "#ed7953"
            ],
            [
             0.7777777777777778,
             "#fb9f3a"
            ],
            [
             0.8888888888888888,
             "#fdca26"
            ],
            [
             1,
             "#f0f921"
            ]
           ],
           "sequentialminus": [
            [
             0,
             "#0d0887"
            ],
            [
             0.1111111111111111,
             "#46039f"
            ],
            [
             0.2222222222222222,
             "#7201a8"
            ],
            [
             0.3333333333333333,
             "#9c179e"
            ],
            [
             0.4444444444444444,
             "#bd3786"
            ],
            [
             0.5555555555555556,
             "#d8576b"
            ],
            [
             0.6666666666666666,
             "#ed7953"
            ],
            [
             0.7777777777777778,
             "#fb9f3a"
            ],
            [
             0.8888888888888888,
             "#fdca26"
            ],
            [
             1,
             "#f0f921"
            ]
           ]
          },
          "colorway": [
           "#636efa",
           "#EF553B",
           "#00cc96",
           "#ab63fa",
           "#FFA15A",
           "#19d3f3",
           "#FF6692",
           "#B6E880",
           "#FF97FF",
           "#FECB52"
          ],
          "font": {
           "color": "#2a3f5f"
          },
          "geo": {
           "bgcolor": "white",
           "lakecolor": "white",
           "landcolor": "#E5ECF6",
           "showlakes": true,
           "showland": true,
           "subunitcolor": "white"
          },
          "hoverlabel": {
           "align": "left"
          },
          "hovermode": "closest",
          "mapbox": {
           "style": "light"
          },
          "paper_bgcolor": "white",
          "plot_bgcolor": "#E5ECF6",
          "polar": {
           "angularaxis": {
            "gridcolor": "white",
            "linecolor": "white",
            "ticks": ""
           },
           "bgcolor": "#E5ECF6",
           "radialaxis": {
            "gridcolor": "white",
            "linecolor": "white",
            "ticks": ""
           }
          },
          "scene": {
           "xaxis": {
            "backgroundcolor": "#E5ECF6",
            "gridcolor": "white",
            "gridwidth": 2,
            "linecolor": "white",
            "showbackground": true,
            "ticks": "",
            "zerolinecolor": "white"
           },
           "yaxis": {
            "backgroundcolor": "#E5ECF6",
            "gridcolor": "white",
            "gridwidth": 2,
            "linecolor": "white",
            "showbackground": true,
            "ticks": "",
            "zerolinecolor": "white"
           },
           "zaxis": {
            "backgroundcolor": "#E5ECF6",
            "gridcolor": "white",
            "gridwidth": 2,
            "linecolor": "white",
            "showbackground": true,
            "ticks": "",
            "zerolinecolor": "white"
           }
          },
          "shapedefaults": {
           "line": {
            "color": "#2a3f5f"
           }
          },
          "ternary": {
           "aaxis": {
            "gridcolor": "white",
            "linecolor": "white",
            "ticks": ""
           },
           "baxis": {
            "gridcolor": "white",
            "linecolor": "white",
            "ticks": ""
           },
           "bgcolor": "#E5ECF6",
           "caxis": {
            "gridcolor": "white",
            "linecolor": "white",
            "ticks": ""
           }
          },
          "title": {
           "x": 0.05
          },
          "xaxis": {
           "automargin": true,
           "gridcolor": "white",
           "linecolor": "white",
           "ticks": "",
           "title": {
            "standoff": 15
           },
           "zerolinecolor": "white",
           "zerolinewidth": 2
          },
          "yaxis": {
           "automargin": true,
           "gridcolor": "white",
           "linecolor": "white",
           "ticks": "",
           "title": {
            "standoff": 15
           },
           "zerolinecolor": "white",
           "zerolinewidth": 2
          }
         }
        },
        "title": {
         "text": "Training and Val MAE over Boosting Rounds for prb"
        },
        "xaxis": {
         "anchor": "y",
         "domain": [
          0,
          1
         ],
         "title": {
          "text": "Boosting Round"
         }
        },
        "yaxis": {
         "anchor": "x",
         "domain": [
          0,
          1
         ],
         "title": {
          "text": "Mean Absolute Error"
         }
        }
       }
      }
     },
     "metadata": {},
     "output_type": "display_data"
    },
    {
     "name": "stdout",
     "output_type": "stream",
     "text": [
      "Best Val MAE for prb: 0.24481717310462112\n",
      "Round: 299\n",
      "Processing target: thp_time\n"
     ]
    },
    {
     "data": {
      "application/vnd.plotly.v1+json": {
       "config": {
        "plotlyServerURL": "https://plot.ly"
       },
       "data": [
        {
         "hovertemplate": "variable=wide_variable_0<br>Boosting Round=%{x}<br>Mean Absolute Error=%{y}<extra></extra>",
         "legendgroup": "wide_variable_0",
         "line": {
          "color": "#636efa",
          "dash": "solid"
         },
         "marker": {
          "symbol": "circle"
         },
         "mode": "lines",
         "name": "Train MAE",
         "orientation": "v",
         "showlegend": true,
         "type": "scatter",
         "x": [
          1,
          2,
          3,
          4,
          5,
          6,
          7,
          8,
          9,
          10,
          11,
          12,
          13,
          14,
          15,
          16,
          17,
          18,
          19,
          20,
          21,
          22,
          23,
          24,
          25,
          26,
          27,
          28,
          29,
          30,
          31,
          32,
          33,
          34,
          35,
          36,
          37,
          38,
          39,
          40,
          41,
          42,
          43,
          44,
          45,
          46,
          47,
          48,
          49,
          50,
          51,
          52,
          53,
          54,
          55,
          56,
          57,
          58,
          59,
          60,
          61,
          62,
          63,
          64,
          65,
          66,
          67,
          68,
          69,
          70,
          71,
          72,
          73,
          74,
          75,
          76,
          77,
          78,
          79,
          80,
          81,
          82,
          83,
          84,
          85,
          86,
          87,
          88,
          89,
          90,
          91,
          92,
          93,
          94,
          95,
          96,
          97,
          98,
          99,
          100,
          101,
          102,
          103,
          104,
          105,
          106,
          107,
          108,
          109,
          110,
          111,
          112,
          113,
          114,
          115,
          116,
          117,
          118,
          119,
          120,
          121,
          122,
          123,
          124,
          125,
          126,
          127,
          128,
          129,
          130,
          131,
          132,
          133,
          134,
          135,
          136,
          137,
          138,
          139,
          140,
          141,
          142,
          143,
          144,
          145,
          146,
          147,
          148,
          149,
          150,
          151,
          152,
          153,
          154,
          155,
          156,
          157,
          158,
          159,
          160,
          161,
          162,
          163,
          164,
          165,
          166,
          167,
          168,
          169,
          170,
          171,
          172,
          173,
          174,
          175,
          176,
          177,
          178,
          179,
          180,
          181,
          182,
          183,
          184,
          185,
          186,
          187,
          188,
          189,
          190,
          191,
          192,
          193,
          194,
          195,
          196,
          197,
          198,
          199,
          200,
          201,
          202,
          203,
          204,
          205,
          206,
          207,
          208,
          209,
          210,
          211,
          212,
          213,
          214,
          215,
          216,
          217,
          218,
          219,
          220,
          221,
          222,
          223,
          224,
          225,
          226,
          227,
          228,
          229,
          230,
          231,
          232,
          233,
          234,
          235,
          236,
          237,
          238,
          239,
          240,
          241,
          242,
          243,
          244,
          245,
          246,
          247,
          248,
          249,
          250,
          251,
          252,
          253,
          254,
          255,
          256,
          257,
          258,
          259,
          260,
          261,
          262,
          263,
          264,
          265,
          266,
          267,
          268,
          269,
          270,
          271,
          272,
          273,
          274,
          275,
          276,
          277,
          278,
          279,
          280,
          281,
          282,
          283,
          284,
          285,
          286,
          287,
          288,
          289,
          290,
          291,
          292,
          293,
          294,
          295,
          296,
          297,
          298,
          299,
          300
         ],
         "xaxis": "x",
         "y": [
          0.4848876585841556,
          0.4683339586717302,
          0.45276120717673884,
          0.4381985340992468,
          0.42466635681940484,
          0.41202645409051325,
          0.40020689076071947,
          0.38917561615935964,
          0.3788300916835742,
          0.36925465611058444,
          0.36042579367093003,
          0.3521862970495398,
          0.34443244554484365,
          0.33727412020306974,
          0.33060285042813337,
          0.3243427034461935,
          0.31863420852304886,
          0.31331235861987017,
          0.3083701879538172,
          0.30380501771478724,
          0.29956842443589843,
          0.2956589630406543,
          0.29203888622088625,
          0.2886020938061741,
          0.28549176425889705,
          0.2826066885151307,
          0.27991301441197897,
          0.27737033967615754,
          0.27506206412773926,
          0.272871476875501,
          0.27091370231608236,
          0.2690340943154507,
          0.26730363715439076,
          0.26570304435343095,
          0.2642331089944216,
          0.2628449623922524,
          0.2614994745388143,
          0.26028303616680065,
          0.25916551260251963,
          0.2580780004236822,
          0.2571055337806832,
          0.2561671019573216,
          0.25534214531521465,
          0.2545416250387779,
          0.25380213121430706,
          0.25307926962082405,
          0.2524335459050269,
          0.25180370926800144,
          0.2512530830170515,
          0.25069987187922704,
          0.25019913028135554,
          0.24967935387559081,
          0.24919261980516255,
          0.2487449736364971,
          0.24831556781959405,
          0.24791909674063614,
          0.24753470335058214,
          0.24716543881475303,
          0.24685714818968207,
          0.24652250034642587,
          0.2462058674132731,
          0.24592861895397103,
          0.24562003929666346,
          0.24535060669752848,
          0.24510246765356022,
          0.2448930481766793,
          0.24465811491852013,
          0.24442000853053206,
          0.24422551981706417,
          0.24403931468487622,
          0.24386372604006745,
          0.24368669315060426,
          0.24349124340274603,
          0.24334527476255446,
          0.24320523326545754,
          0.2430446830628396,
          0.24292373043605964,
          0.24277082688385535,
          0.24262422080761742,
          0.24249603676149975,
          0.242373999632964,
          0.24225033700675175,
          0.2421332086603523,
          0.2420103141380589,
          0.24189418448086644,
          0.24178090502874788,
          0.24167275492391804,
          0.24158806993511112,
          0.24149891286774453,
          0.2413982963326168,
          0.24131328889058076,
          0.2412239049775552,
          0.24114401717817568,
          0.24106140467211434,
          0.24099784384575623,
          0.24090355854339374,
          0.240829510397965,
          0.24074427889381994,
          0.24065750209222786,
          0.24060576564634287,
          0.2405396405707899,
          0.24046464156834177,
          0.24040983623810153,
          0.2403382773580796,
          0.24026870619711033,
          0.2402098150191419,
          0.24014477320793848,
          0.24008168226916388,
          0.2400128451833632,
          0.23995197429116552,
          0.23988182274294606,
          0.23983128736111292,
          0.23977358177794594,
          0.23970197098091814,
          0.2396527910888462,
          0.2395937138012196,
          0.2395461666452958,
          0.23949740548336473,
          0.23944877090276934,
          0.23941013473234204,
          0.23935793971145292,
          0.23931908175966482,
          0.23926602871354727,
          0.23922502227536482,
          0.23917796579585293,
          0.23913665406092408,
          0.23909284592382743,
          0.23905939404320664,
          0.23900611774566158,
          0.23896175719798177,
          0.23892842712942441,
          0.23887521677693274,
          0.23884507646827774,
          0.23880882707643325,
          0.23877036481764835,
          0.2387296936804778,
          0.23868638676660028,
          0.23866921177256337,
          0.23864100529315924,
          0.23860857891384826,
          0.23858668699247976,
          0.2385499088215104,
          0.23852894824319007,
          0.23849910414299486,
          0.23844682005950324,
          0.23841033187686325,
          0.23838853130091792,
          0.238368300269258,
          0.23832948733091144,
          0.23831382074722662,
          0.23827950500102948,
          0.23826301176940845,
          0.23823186977439956,
          0.2381885625264889,
          0.23816166235415187,
          0.23813501242122273,
          0.23809916306979048,
          0.23805497311726298,
          0.23801318646429453,
          0.23798098932073322,
          0.237947715472598,
          0.23790778794783027,
          0.23787547866539804,
          0.237869351401983,
          0.23781186062391554,
          0.23777627992588135,
          0.23774397097300767,
          0.2376986456407311,
          0.23765696075681372,
          0.23762445767003154,
          0.2375909216606581,
          0.23756300166912794,
          0.23754048327212263,
          0.23752120604937846,
          0.237487467499031,
          0.23746209077009542,
          0.23742437969956343,
          0.2373999936225602,
          0.23735941874346456,
          0.23732511478928311,
          0.23730511331851945,
          0.23727528500302844,
          0.23724667682909625,
          0.23722046811089248,
          0.2372037994931422,
          0.23716370366482,
          0.2371346882220616,
          0.2371126437232463,
          0.23709474009668316,
          0.23707836819482186,
          0.23704896279264986,
          0.2370280797281916,
          0.23699122042003196,
          0.23697286771108758,
          0.2369503775071662,
          0.2369188666677585,
          0.23687928134740327,
          0.23684239031343177,
          0.2368123051671819,
          0.23678083212423465,
          0.23675637042804062,
          0.23672642513496944,
          0.23669796915589786,
          0.23668065872101804,
          0.23665811824659883,
          0.23664126328440344,
          0.23662217095453572,
          0.23660513210881876,
          0.23658631618047424,
          0.23655829697836006,
          0.23654582285219186,
          0.23652319301686756,
          0.23648888212033944,
          0.2364588528401892,
          0.23644006045371294,
          0.23640976542235798,
          0.2363893012613981,
          0.2363700239200331,
          0.2363482391608007,
          0.23632791583858523,
          0.2362969131573027,
          0.23627981589209673,
          0.23626196206649538,
          0.23624171525047308,
          0.23621792063027586,
          0.23619803832180614,
          0.23616951684223722,
          0.23613492287029647,
          0.23610401446930646,
          0.23607777176050085,
          0.23605344998309613,
          0.2360408813774118,
          0.23601408082976844,
          0.23598065709863347,
          0.2359569354106253,
          0.23593875854052296,
          0.23592193542350573,
          0.23590692884753559,
          0.23587848293910751,
          0.23585689135094062,
          0.23583714046983853,
          0.23580134311781864,
          0.23577855649416124,
          0.2357535119962738,
          0.23573674192355032,
          0.23571502305754152,
          0.2356945693337029,
          0.23568591888149382,
          0.23566647755244685,
          0.2356411389421456,
          0.23561722362601784,
          0.23559955821084275,
          0.2355784354738149,
          0.23556144356138667,
          0.23554174231707894,
          0.2355072934242599,
          0.23548014733099684,
          0.23545815255369207,
          0.23543455717070597,
          0.23540808168651264,
          0.23538895042905397,
          0.23535405039535565,
          0.23532640281397227,
          0.23530072454693837,
          0.23527025792116746,
          0.2352550633650156,
          0.23523938639115577,
          0.2352216751097775,
          0.23519097546743334,
          0.23517604816231463,
          0.23516394092617982,
          0.2351461441686134,
          0.235129858806139,
          0.23510340715819716,
          0.23508287070478678,
          0.23505534861365177,
          0.2350485409225314,
          0.23502651874876537,
          0.23500269526065107,
          0.2349833722624992,
          0.2349715607292917,
          0.23494764892132977,
          0.23493787202201166,
          0.23492484275374123,
          0.23490254477371494,
          0.23487942100815226,
          0.2348543321096655,
          0.2348312067506346,
          0.23481187806340745,
          0.23478500160307503,
          0.23476738980849066,
          0.23474841929933432,
          0.23473197289801867,
          0.23470294826028182,
          0.23468939268659922,
          0.2346735119457506,
          0.2346513765233597,
          0.23463785171759383,
          0.2346156707862079,
          0.23460367246329258
         ],
         "yaxis": "y"
        },
        {
         "hovertemplate": "variable=wide_variable_1<br>Boosting Round=%{x}<br>Mean Absolute Error=%{y}<extra></extra>",
         "legendgroup": "wide_variable_1",
         "line": {
          "color": "#EF553B",
          "dash": "solid"
         },
         "marker": {
          "symbol": "circle"
         },
         "mode": "lines",
         "name": "Val MAE",
         "orientation": "v",
         "showlegend": true,
         "type": "scatter",
         "x": [
          1,
          2,
          3,
          4,
          5,
          6,
          7,
          8,
          9,
          10,
          11,
          12,
          13,
          14,
          15,
          16,
          17,
          18,
          19,
          20,
          21,
          22,
          23,
          24,
          25,
          26,
          27,
          28,
          29,
          30,
          31,
          32,
          33,
          34,
          35,
          36,
          37,
          38,
          39,
          40,
          41,
          42,
          43,
          44,
          45,
          46,
          47,
          48,
          49,
          50,
          51,
          52,
          53,
          54,
          55,
          56,
          57,
          58,
          59,
          60,
          61,
          62,
          63,
          64,
          65,
          66,
          67,
          68,
          69,
          70,
          71,
          72,
          73,
          74,
          75,
          76,
          77,
          78,
          79,
          80,
          81,
          82,
          83,
          84,
          85,
          86,
          87,
          88,
          89,
          90,
          91,
          92,
          93,
          94,
          95,
          96,
          97,
          98,
          99,
          100,
          101,
          102,
          103,
          104,
          105,
          106,
          107,
          108,
          109,
          110,
          111,
          112,
          113,
          114,
          115,
          116,
          117,
          118,
          119,
          120,
          121,
          122,
          123,
          124,
          125,
          126,
          127,
          128,
          129,
          130,
          131,
          132,
          133,
          134,
          135,
          136,
          137,
          138,
          139,
          140,
          141,
          142,
          143,
          144,
          145,
          146,
          147,
          148,
          149,
          150,
          151,
          152,
          153,
          154,
          155,
          156,
          157,
          158,
          159,
          160,
          161,
          162,
          163,
          164,
          165,
          166,
          167,
          168,
          169,
          170,
          171,
          172,
          173,
          174,
          175,
          176,
          177,
          178,
          179,
          180,
          181,
          182,
          183,
          184,
          185,
          186,
          187,
          188,
          189,
          190,
          191,
          192,
          193,
          194,
          195,
          196,
          197,
          198,
          199,
          200,
          201,
          202,
          203,
          204,
          205,
          206,
          207,
          208,
          209,
          210,
          211,
          212,
          213,
          214,
          215,
          216,
          217,
          218,
          219,
          220,
          221,
          222,
          223,
          224,
          225,
          226,
          227,
          228,
          229,
          230,
          231,
          232,
          233,
          234,
          235,
          236,
          237,
          238,
          239,
          240,
          241,
          242,
          243,
          244,
          245,
          246,
          247,
          248,
          249,
          250,
          251,
          252,
          253,
          254,
          255,
          256,
          257,
          258,
          259,
          260,
          261,
          262,
          263,
          264,
          265,
          266,
          267,
          268,
          269,
          270,
          271,
          272,
          273,
          274,
          275,
          276,
          277,
          278,
          279,
          280,
          281,
          282,
          283,
          284,
          285,
          286,
          287,
          288,
          289,
          290,
          291,
          292,
          293,
          294,
          295,
          296,
          297,
          298,
          299,
          300
         ],
         "xaxis": "x",
         "y": [
          0.4821637027252994,
          0.4655462798801912,
          0.4498469006075054,
          0.4351648740062514,
          0.4215359005543026,
          0.4087652168911165,
          0.396846575418567,
          0.38573368459464946,
          0.3752991775532005,
          0.365641886630731,
          0.35672939326157,
          0.34842998105130796,
          0.3405895366438152,
          0.33340810106363644,
          0.3266568371517931,
          0.3203312072143335,
          0.31457632344004366,
          0.30923367517800615,
          0.30426838763051123,
          0.2996966215039843,
          0.2954451646187228,
          0.2915082560391911,
          0.2878737589351967,
          0.2844572680688969,
          0.2813507501232915,
          0.27847092186442807,
          0.27577455674537277,
          0.27322696327756085,
          0.2709193325848998,
          0.2687161718729683,
          0.2667705587855308,
          0.26491218896273944,
          0.26319395880485413,
          0.26160863996667283,
          0.26016126390318406,
          0.25878848199089904,
          0.25744066001396065,
          0.25624052002144554,
          0.2551446436670709,
          0.25408247072158324,
          0.25311807546899573,
          0.25220612101109313,
          0.2514082346266912,
          0.25063465321611067,
          0.24991562552992708,
          0.2492114570833851,
          0.24859666770831332,
          0.24798946593522805,
          0.24745541149717104,
          0.24692927227156164,
          0.24645579458466912,
          0.2459628539068102,
          0.24548655469779887,
          0.2450653217069687,
          0.24466799971153952,
          0.24428990183943894,
          0.24393109515635983,
          0.24358803446159233,
          0.24329189816342803,
          0.2429769320148588,
          0.24267421055197927,
          0.24241685295705664,
          0.2421265338479476,
          0.241868639203587,
          0.24162872285534437,
          0.24143456828107537,
          0.24122725784398233,
          0.24101007103284453,
          0.24082683513846664,
          0.24064797035213048,
          0.24049692575928153,
          0.2403203272938854,
          0.24013605804550328,
          0.23999658811856447,
          0.23986723657569856,
          0.23971620785567094,
          0.23961124798769057,
          0.23947573117154675,
          0.23934275417988313,
          0.2392297080546988,
          0.2391154494049624,
          0.2390135779812858,
          0.23891487321133464,
          0.2388152132061089,
          0.23871688386715084,
          0.23862305662919228,
          0.23852466018122162,
          0.238452693873709,
          0.23836834548644445,
          0.2382808345912542,
          0.23821010471736856,
          0.2381280922459643,
          0.23806235763621406,
          0.23799400950391789,
          0.23793323186210188,
          0.23785648484440947,
          0.2377817572716631,
          0.2377079351909652,
          0.23762209512582147,
          0.23757045812671218,
          0.23750864193951535,
          0.23744170384208502,
          0.23738883001076025,
          0.237322575238804,
          0.23726457729956782,
          0.23721634096675992,
          0.23716094068422772,
          0.23710124163435,
          0.23703719436757437,
          0.23698588825499006,
          0.2369276019481215,
          0.2368855288737321,
          0.23682135084556766,
          0.23675248369838753,
          0.23671059576199546,
          0.23665650290132784,
          0.23662688376784155,
          0.23659168150832854,
          0.23655019182960438,
          0.236526307771979,
          0.23648642497871666,
          0.2364508423395282,
          0.23641523370128542,
          0.23637259043473538,
          0.23633827319437253,
          0.23630777562471408,
          0.23627412274757606,
          0.2362470212238347,
          0.23619943383973022,
          0.2361620803015453,
          0.23613645617298062,
          0.2361044239110715,
          0.23608391513901006,
          0.23605111735787965,
          0.2360290895954347,
          0.2359956148460715,
          0.23596629963594742,
          0.2359557413060065,
          0.23592407550370134,
          0.2358975909597787,
          0.23587998427837967,
          0.235842307183309,
          0.23582225254302258,
          0.235799245182234,
          0.23576001134643515,
          0.23572693508780623,
          0.23571587740011504,
          0.23570414132134562,
          0.23566843356676276,
          0.23566372717899187,
          0.2356299510098274,
          0.23561397381528015,
          0.23558486699050843,
          0.23554940096873356,
          0.2355259828952532,
          0.23550639284378863,
          0.23546957660902879,
          0.23543680401831169,
          0.235404005248127,
          0.23538258071318505,
          0.23536046922174847,
          0.23532403875721264,
          0.23528909653444846,
          0.23528705967244057,
          0.2352352998209911,
          0.23520037447482264,
          0.23517202602688803,
          0.2351362874412695,
          0.23510148135741255,
          0.23507842666236856,
          0.23505547580907055,
          0.23503566138325316,
          0.23502246118076983,
          0.23501234536817328,
          0.23497543343962898,
          0.23494926327529883,
          0.2349210185993964,
          0.2348926069845257,
          0.2348554371349599,
          0.23482438361424005,
          0.23481036546279033,
          0.23478929431378895,
          0.2347656292123168,
          0.2347465715950587,
          0.23473985337882708,
          0.2347044710030261,
          0.2346732009654323,
          0.2346634803787225,
          0.23465323267222582,
          0.23463837331190165,
          0.2346101167542396,
          0.23459224773936466,
          0.23455843832706236,
          0.23454384316201432,
          0.23452644572576475,
          0.2344961932082358,
          0.23444890811226887,
          0.2344242359389816,
          0.23439992412508442,
          0.23438182899911392,
          0.23436533149184882,
          0.2343409841534846,
          0.23432036262997324,
          0.23431406888383577,
          0.23429359990712387,
          0.23428044245073013,
          0.23426936558672248,
          0.23425983711760487,
          0.23424234205602332,
          0.2342158885059849,
          0.23420921909375403,
          0.23419533758245198,
          0.23416199353058617,
          0.23413957181071088,
          0.23412326414826717,
          0.23409977937834944,
          0.2340803586894601,
          0.2340589343506053,
          0.23403900137273942,
          0.23402170757960444,
          0.23399607453683985,
          0.23398853701856953,
          0.23397760660007602,
          0.23396472300111792,
          0.23394339014945054,
          0.23393123558082352,
          0.23390367045665497,
          0.2338716539923353,
          0.2338414544510342,
          0.23382197854856465,
          0.23380109643037347,
          0.23379001162544963,
          0.23376790813942422,
          0.23373928693775003,
          0.2337160477122228,
          0.2337045901685794,
          0.23369307286995997,
          0.23368155370643584,
          0.23365312728078272,
          0.23363371885726167,
          0.23362301883373762,
          0.23359166641884724,
          0.2335697187975037,
          0.2335448779965104,
          0.23353614888468674,
          0.23352397482702478,
          0.23351063191954313,
          0.2335059631619704,
          0.23349274100680126,
          0.23347138457153963,
          0.23344825354887447,
          0.23343399386715463,
          0.23341999501369484,
          0.23341275862055122,
          0.23339189416491227,
          0.2333591191696828,
          0.23333532659031417,
          0.23331980538790462,
          0.2333003920626173,
          0.23328198820431983,
          0.2332636901534982,
          0.23323815239097992,
          0.23321762520846556,
          0.23319091055930227,
          0.23316264255673064,
          0.23315463164911826,
          0.23313908273811187,
          0.23312684150969334,
          0.23310068611996887,
          0.23309257083374238,
          0.23308047200710083,
          0.23305863585124137,
          0.2330473184297425,
          0.2330239411170599,
          0.2330097308111218,
          0.23298234441847165,
          0.2329752131044332,
          0.2329562281938723,
          0.2329306511641569,
          0.23291990889843955,
          0.23291763524411457,
          0.23289523631597586,
          0.23288819994481935,
          0.23287356312357718,
          0.2328488033748813,
          0.23281704830333233,
          0.2327979141798936,
          0.23277890191814654,
          0.2327531720471414,
          0.23272765115630115,
          0.23271263747174528,
          0.23269493740005845,
          0.2326827829099039,
          0.23265395925670285,
          0.23264530838161626,
          0.23263475058203617,
          0.23261884975081545,
          0.23260558305606416,
          0.2325872807761708,
          0.2325801674168959
         ],
         "yaxis": "y"
        }
       ],
       "layout": {
        "legend": {
         "itemsizing": "constant",
         "title": {
          "text": "Dataset"
         },
         "tracegroupgap": 0
        },
        "template": {
         "data": {
          "bar": [
           {
            "error_x": {
             "color": "#2a3f5f"
            },
            "error_y": {
             "color": "#2a3f5f"
            },
            "marker": {
             "line": {
              "color": "#E5ECF6",
              "width": 0.5
             },
             "pattern": {
              "fillmode": "overlay",
              "size": 10,
              "solidity": 0.2
             }
            },
            "type": "bar"
           }
          ],
          "barpolar": [
           {
            "marker": {
             "line": {
              "color": "#E5ECF6",
              "width": 0.5
             },
             "pattern": {
              "fillmode": "overlay",
              "size": 10,
              "solidity": 0.2
             }
            },
            "type": "barpolar"
           }
          ],
          "carpet": [
           {
            "aaxis": {
             "endlinecolor": "#2a3f5f",
             "gridcolor": "white",
             "linecolor": "white",
             "minorgridcolor": "white",
             "startlinecolor": "#2a3f5f"
            },
            "baxis": {
             "endlinecolor": "#2a3f5f",
             "gridcolor": "white",
             "linecolor": "white",
             "minorgridcolor": "white",
             "startlinecolor": "#2a3f5f"
            },
            "type": "carpet"
           }
          ],
          "choropleth": [
           {
            "colorbar": {
             "outlinewidth": 0,
             "ticks": ""
            },
            "type": "choropleth"
           }
          ],
          "contour": [
           {
            "colorbar": {
             "outlinewidth": 0,
             "ticks": ""
            },
            "colorscale": [
             [
              0,
              "#0d0887"
             ],
             [
              0.1111111111111111,
              "#46039f"
             ],
             [
              0.2222222222222222,
              "#7201a8"
             ],
             [
              0.3333333333333333,
              "#9c179e"
             ],
             [
              0.4444444444444444,
              "#bd3786"
             ],
             [
              0.5555555555555556,
              "#d8576b"
             ],
             [
              0.6666666666666666,
              "#ed7953"
             ],
             [
              0.7777777777777778,
              "#fb9f3a"
             ],
             [
              0.8888888888888888,
              "#fdca26"
             ],
             [
              1,
              "#f0f921"
             ]
            ],
            "type": "contour"
           }
          ],
          "contourcarpet": [
           {
            "colorbar": {
             "outlinewidth": 0,
             "ticks": ""
            },
            "type": "contourcarpet"
           }
          ],
          "heatmap": [
           {
            "colorbar": {
             "outlinewidth": 0,
             "ticks": ""
            },
            "colorscale": [
             [
              0,
              "#0d0887"
             ],
             [
              0.1111111111111111,
              "#46039f"
             ],
             [
              0.2222222222222222,
              "#7201a8"
             ],
             [
              0.3333333333333333,
              "#9c179e"
             ],
             [
              0.4444444444444444,
              "#bd3786"
             ],
             [
              0.5555555555555556,
              "#d8576b"
             ],
             [
              0.6666666666666666,
              "#ed7953"
             ],
             [
              0.7777777777777778,
              "#fb9f3a"
             ],
             [
              0.8888888888888888,
              "#fdca26"
             ],
             [
              1,
              "#f0f921"
             ]
            ],
            "type": "heatmap"
           }
          ],
          "heatmapgl": [
           {
            "colorbar": {
             "outlinewidth": 0,
             "ticks": ""
            },
            "colorscale": [
             [
              0,
              "#0d0887"
             ],
             [
              0.1111111111111111,
              "#46039f"
             ],
             [
              0.2222222222222222,
              "#7201a8"
             ],
             [
              0.3333333333333333,
              "#9c179e"
             ],
             [
              0.4444444444444444,
              "#bd3786"
             ],
             [
              0.5555555555555556,
              "#d8576b"
             ],
             [
              0.6666666666666666,
              "#ed7953"
             ],
             [
              0.7777777777777778,
              "#fb9f3a"
             ],
             [
              0.8888888888888888,
              "#fdca26"
             ],
             [
              1,
              "#f0f921"
             ]
            ],
            "type": "heatmapgl"
           }
          ],
          "histogram": [
           {
            "marker": {
             "pattern": {
              "fillmode": "overlay",
              "size": 10,
              "solidity": 0.2
             }
            },
            "type": "histogram"
           }
          ],
          "histogram2d": [
           {
            "colorbar": {
             "outlinewidth": 0,
             "ticks": ""
            },
            "colorscale": [
             [
              0,
              "#0d0887"
             ],
             [
              0.1111111111111111,
              "#46039f"
             ],
             [
              0.2222222222222222,
              "#7201a8"
             ],
             [
              0.3333333333333333,
              "#9c179e"
             ],
             [
              0.4444444444444444,
              "#bd3786"
             ],
             [
              0.5555555555555556,
              "#d8576b"
             ],
             [
              0.6666666666666666,
              "#ed7953"
             ],
             [
              0.7777777777777778,
              "#fb9f3a"
             ],
             [
              0.8888888888888888,
              "#fdca26"
             ],
             [
              1,
              "#f0f921"
             ]
            ],
            "type": "histogram2d"
           }
          ],
          "histogram2dcontour": [
           {
            "colorbar": {
             "outlinewidth": 0,
             "ticks": ""
            },
            "colorscale": [
             [
              0,
              "#0d0887"
             ],
             [
              0.1111111111111111,
              "#46039f"
             ],
             [
              0.2222222222222222,
              "#7201a8"
             ],
             [
              0.3333333333333333,
              "#9c179e"
             ],
             [
              0.4444444444444444,
              "#bd3786"
             ],
             [
              0.5555555555555556,
              "#d8576b"
             ],
             [
              0.6666666666666666,
              "#ed7953"
             ],
             [
              0.7777777777777778,
              "#fb9f3a"
             ],
             [
              0.8888888888888888,
              "#fdca26"
             ],
             [
              1,
              "#f0f921"
             ]
            ],
            "type": "histogram2dcontour"
           }
          ],
          "mesh3d": [
           {
            "colorbar": {
             "outlinewidth": 0,
             "ticks": ""
            },
            "type": "mesh3d"
           }
          ],
          "parcoords": [
           {
            "line": {
             "colorbar": {
              "outlinewidth": 0,
              "ticks": ""
             }
            },
            "type": "parcoords"
           }
          ],
          "pie": [
           {
            "automargin": true,
            "type": "pie"
           }
          ],
          "scatter": [
           {
            "fillpattern": {
             "fillmode": "overlay",
             "size": 10,
             "solidity": 0.2
            },
            "type": "scatter"
           }
          ],
          "scatter3d": [
           {
            "line": {
             "colorbar": {
              "outlinewidth": 0,
              "ticks": ""
             }
            },
            "marker": {
             "colorbar": {
              "outlinewidth": 0,
              "ticks": ""
             }
            },
            "type": "scatter3d"
           }
          ],
          "scattercarpet": [
           {
            "marker": {
             "colorbar": {
              "outlinewidth": 0,
              "ticks": ""
             }
            },
            "type": "scattercarpet"
           }
          ],
          "scattergeo": [
           {
            "marker": {
             "colorbar": {
              "outlinewidth": 0,
              "ticks": ""
             }
            },
            "type": "scattergeo"
           }
          ],
          "scattergl": [
           {
            "marker": {
             "colorbar": {
              "outlinewidth": 0,
              "ticks": ""
             }
            },
            "type": "scattergl"
           }
          ],
          "scattermapbox": [
           {
            "marker": {
             "colorbar": {
              "outlinewidth": 0,
              "ticks": ""
             }
            },
            "type": "scattermapbox"
           }
          ],
          "scatterpolar": [
           {
            "marker": {
             "colorbar": {
              "outlinewidth": 0,
              "ticks": ""
             }
            },
            "type": "scatterpolar"
           }
          ],
          "scatterpolargl": [
           {
            "marker": {
             "colorbar": {
              "outlinewidth": 0,
              "ticks": ""
             }
            },
            "type": "scatterpolargl"
           }
          ],
          "scatterternary": [
           {
            "marker": {
             "colorbar": {
              "outlinewidth": 0,
              "ticks": ""
             }
            },
            "type": "scatterternary"
           }
          ],
          "surface": [
           {
            "colorbar": {
             "outlinewidth": 0,
             "ticks": ""
            },
            "colorscale": [
             [
              0,
              "#0d0887"
             ],
             [
              0.1111111111111111,
              "#46039f"
             ],
             [
              0.2222222222222222,
              "#7201a8"
             ],
             [
              0.3333333333333333,
              "#9c179e"
             ],
             [
              0.4444444444444444,
              "#bd3786"
             ],
             [
              0.5555555555555556,
              "#d8576b"
             ],
             [
              0.6666666666666666,
              "#ed7953"
             ],
             [
              0.7777777777777778,
              "#fb9f3a"
             ],
             [
              0.8888888888888888,
              "#fdca26"
             ],
             [
              1,
              "#f0f921"
             ]
            ],
            "type": "surface"
           }
          ],
          "table": [
           {
            "cells": {
             "fill": {
              "color": "#EBF0F8"
             },
             "line": {
              "color": "white"
             }
            },
            "header": {
             "fill": {
              "color": "#C8D4E3"
             },
             "line": {
              "color": "white"
             }
            },
            "type": "table"
           }
          ]
         },
         "layout": {
          "annotationdefaults": {
           "arrowcolor": "#2a3f5f",
           "arrowhead": 0,
           "arrowwidth": 1
          },
          "autotypenumbers": "strict",
          "coloraxis": {
           "colorbar": {
            "outlinewidth": 0,
            "ticks": ""
           }
          },
          "colorscale": {
           "diverging": [
            [
             0,
             "#8e0152"
            ],
            [
             0.1,
             "#c51b7d"
            ],
            [
             0.2,
             "#de77ae"
            ],
            [
             0.3,
             "#f1b6da"
            ],
            [
             0.4,
             "#fde0ef"
            ],
            [
             0.5,
             "#f7f7f7"
            ],
            [
             0.6,
             "#e6f5d0"
            ],
            [
             0.7,
             "#b8e186"
            ],
            [
             0.8,
             "#7fbc41"
            ],
            [
             0.9,
             "#4d9221"
            ],
            [
             1,
             "#276419"
            ]
           ],
           "sequential": [
            [
             0,
             "#0d0887"
            ],
            [
             0.1111111111111111,
             "#46039f"
            ],
            [
             0.2222222222222222,
             "#7201a8"
            ],
            [
             0.3333333333333333,
             "#9c179e"
            ],
            [
             0.4444444444444444,
             "#bd3786"
            ],
            [
             0.5555555555555556,
             "#d8576b"
            ],
            [
             0.6666666666666666,
             "#ed7953"
            ],
            [
             0.7777777777777778,
             "#fb9f3a"
            ],
            [
             0.8888888888888888,
             "#fdca26"
            ],
            [
             1,
             "#f0f921"
            ]
           ],
           "sequentialminus": [
            [
             0,
             "#0d0887"
            ],
            [
             0.1111111111111111,
             "#46039f"
            ],
            [
             0.2222222222222222,
             "#7201a8"
            ],
            [
             0.3333333333333333,
             "#9c179e"
            ],
            [
             0.4444444444444444,
             "#bd3786"
            ],
            [
             0.5555555555555556,
             "#d8576b"
            ],
            [
             0.6666666666666666,
             "#ed7953"
            ],
            [
             0.7777777777777778,
             "#fb9f3a"
            ],
            [
             0.8888888888888888,
             "#fdca26"
            ],
            [
             1,
             "#f0f921"
            ]
           ]
          },
          "colorway": [
           "#636efa",
           "#EF553B",
           "#00cc96",
           "#ab63fa",
           "#FFA15A",
           "#19d3f3",
           "#FF6692",
           "#B6E880",
           "#FF97FF",
           "#FECB52"
          ],
          "font": {
           "color": "#2a3f5f"
          },
          "geo": {
           "bgcolor": "white",
           "lakecolor": "white",
           "landcolor": "#E5ECF6",
           "showlakes": true,
           "showland": true,
           "subunitcolor": "white"
          },
          "hoverlabel": {
           "align": "left"
          },
          "hovermode": "closest",
          "mapbox": {
           "style": "light"
          },
          "paper_bgcolor": "white",
          "plot_bgcolor": "#E5ECF6",
          "polar": {
           "angularaxis": {
            "gridcolor": "white",
            "linecolor": "white",
            "ticks": ""
           },
           "bgcolor": "#E5ECF6",
           "radialaxis": {
            "gridcolor": "white",
            "linecolor": "white",
            "ticks": ""
           }
          },
          "scene": {
           "xaxis": {
            "backgroundcolor": "#E5ECF6",
            "gridcolor": "white",
            "gridwidth": 2,
            "linecolor": "white",
            "showbackground": true,
            "ticks": "",
            "zerolinecolor": "white"
           },
           "yaxis": {
            "backgroundcolor": "#E5ECF6",
            "gridcolor": "white",
            "gridwidth": 2,
            "linecolor": "white",
            "showbackground": true,
            "ticks": "",
            "zerolinecolor": "white"
           },
           "zaxis": {
            "backgroundcolor": "#E5ECF6",
            "gridcolor": "white",
            "gridwidth": 2,
            "linecolor": "white",
            "showbackground": true,
            "ticks": "",
            "zerolinecolor": "white"
           }
          },
          "shapedefaults": {
           "line": {
            "color": "#2a3f5f"
           }
          },
          "ternary": {
           "aaxis": {
            "gridcolor": "white",
            "linecolor": "white",
            "ticks": ""
           },
           "baxis": {
            "gridcolor": "white",
            "linecolor": "white",
            "ticks": ""
           },
           "bgcolor": "#E5ECF6",
           "caxis": {
            "gridcolor": "white",
            "linecolor": "white",
            "ticks": ""
           }
          },
          "title": {
           "x": 0.05
          },
          "xaxis": {
           "automargin": true,
           "gridcolor": "white",
           "linecolor": "white",
           "ticks": "",
           "title": {
            "standoff": 15
           },
           "zerolinecolor": "white",
           "zerolinewidth": 2
          },
          "yaxis": {
           "automargin": true,
           "gridcolor": "white",
           "linecolor": "white",
           "ticks": "",
           "title": {
            "standoff": 15
           },
           "zerolinecolor": "white",
           "zerolinewidth": 2
          }
         }
        },
        "title": {
         "text": "Training and Val MAE over Boosting Rounds for thp_time"
        },
        "xaxis": {
         "anchor": "y",
         "domain": [
          0,
          1
         ],
         "title": {
          "text": "Boosting Round"
         }
        },
        "yaxis": {
         "anchor": "x",
         "domain": [
          0,
          1
         ],
         "title": {
          "text": "Mean Absolute Error"
         }
        }
       }
      }
     },
     "metadata": {},
     "output_type": "display_data"
    },
    {
     "name": "stdout",
     "output_type": "stream",
     "text": [
      "Best Val MAE for thp_time: 0.2325801674168959\n",
      "Round: 299\n",
      "Processing target: mr_number\n"
     ]
    },
    {
     "data": {
      "application/vnd.plotly.v1+json": {
       "config": {
        "plotlyServerURL": "https://plot.ly"
       },
       "data": [
        {
         "hovertemplate": "variable=wide_variable_0<br>Boosting Round=%{x}<br>Mean Absolute Error=%{y}<extra></extra>",
         "legendgroup": "wide_variable_0",
         "line": {
          "color": "#636efa",
          "dash": "solid"
         },
         "marker": {
          "symbol": "circle"
         },
         "mode": "lines",
         "name": "Train MAE",
         "orientation": "v",
         "showlegend": true,
         "type": "scatter",
         "x": [
          1,
          2,
          3,
          4,
          5,
          6,
          7,
          8,
          9,
          10,
          11,
          12,
          13,
          14,
          15,
          16,
          17,
          18,
          19,
          20,
          21,
          22,
          23,
          24,
          25,
          26,
          27,
          28,
          29,
          30,
          31,
          32,
          33,
          34,
          35,
          36,
          37,
          38,
          39,
          40,
          41,
          42,
          43,
          44,
          45,
          46,
          47,
          48,
          49,
          50,
          51,
          52,
          53,
          54,
          55,
          56,
          57,
          58,
          59,
          60,
          61,
          62,
          63,
          64,
          65,
          66,
          67,
          68,
          69,
          70,
          71,
          72,
          73,
          74,
          75,
          76,
          77,
          78,
          79,
          80,
          81,
          82,
          83,
          84,
          85,
          86,
          87,
          88,
          89,
          90,
          91,
          92,
          93,
          94,
          95,
          96,
          97,
          98,
          99,
          100,
          101,
          102,
          103,
          104,
          105,
          106,
          107,
          108,
          109,
          110,
          111,
          112,
          113,
          114,
          115,
          116,
          117,
          118,
          119,
          120,
          121,
          122,
          123,
          124,
          125,
          126,
          127,
          128,
          129,
          130,
          131,
          132,
          133,
          134,
          135,
          136,
          137,
          138,
          139,
          140,
          141,
          142,
          143,
          144,
          145,
          146,
          147,
          148,
          149,
          150,
          151,
          152,
          153,
          154,
          155,
          156,
          157,
          158,
          159,
          160,
          161,
          162,
          163,
          164,
          165,
          166,
          167,
          168,
          169,
          170,
          171,
          172,
          173,
          174,
          175,
          176,
          177,
          178,
          179,
          180,
          181,
          182,
          183,
          184,
          185,
          186,
          187,
          188,
          189,
          190,
          191,
          192,
          193,
          194,
          195,
          196,
          197,
          198,
          199,
          200,
          201,
          202,
          203,
          204,
          205,
          206,
          207,
          208,
          209,
          210,
          211,
          212,
          213,
          214,
          215,
          216,
          217,
          218,
          219,
          220,
          221,
          222,
          223,
          224,
          225,
          226,
          227,
          228,
          229,
          230,
          231,
          232,
          233,
          234,
          235,
          236,
          237,
          238,
          239,
          240,
          241,
          242,
          243,
          244,
          245,
          246,
          247,
          248,
          249,
          250,
          251,
          252,
          253,
          254,
          255,
          256,
          257,
          258,
          259,
          260,
          261,
          262,
          263,
          264,
          265,
          266,
          267,
          268,
          269,
          270,
          271,
          272,
          273,
          274,
          275,
          276,
          277,
          278,
          279,
          280,
          281,
          282,
          283,
          284,
          285,
          286,
          287,
          288,
          289,
          290,
          291,
          292,
          293,
          294,
          295,
          296,
          297,
          298,
          299,
          300
         ],
         "xaxis": "x",
         "y": [
          0.6218572937326098,
          0.598867657317374,
          0.5770815893166803,
          0.5562804362918076,
          0.5369868125768643,
          0.5183658896667365,
          0.5009083965896046,
          0.4842797309629462,
          0.46880286932871984,
          0.4542588933825072,
          0.4402957612011324,
          0.42719439728592595,
          0.4148214268911701,
          0.40325235936362785,
          0.3921959140190057,
          0.38194401308018827,
          0.3722313846502304,
          0.3629100471979634,
          0.3543161232636049,
          0.3463310609127315,
          0.3388151604689961,
          0.3317701072003014,
          0.3251083630047081,
          0.3185973063795284,
          0.3125465909539876,
          0.30706890907986123,
          0.3019433877928323,
          0.29691185660736713,
          0.2923010573907287,
          0.2877948873170418,
          0.28379357592609644,
          0.280050384910974,
          0.2765430389324497,
          0.27318277582613354,
          0.2700729084278321,
          0.2670349356251156,
          0.2639711359935986,
          0.2614809654164526,
          0.25888254211993145,
          0.25647231020561945,
          0.2540056997926954,
          0.25204812465451404,
          0.2501474882835571,
          0.24826702833596442,
          0.24657862811059614,
          0.24492326100189132,
          0.24349199116943052,
          0.24208445236190085,
          0.24080087286640783,
          0.2392847751022312,
          0.2381370427568548,
          0.23677651320251203,
          0.23554518319396156,
          0.23450707719221642,
          0.2335551137723745,
          0.23270948437754166,
          0.2318372426293304,
          0.2310286371148118,
          0.23028738186694853,
          0.2294019280194363,
          0.22870910461714145,
          0.22805613466086827,
          0.22733565951787113,
          0.22676891847547068,
          0.22623297507194154,
          0.22561021136700013,
          0.22515255537423876,
          0.22470198337102873,
          0.22418109872037706,
          0.22374361317240302,
          0.22334005991332856,
          0.22300612900360386,
          0.22265912392336318,
          0.22222343108472253,
          0.22184403087631002,
          0.22152685052514612,
          0.22116248683134118,
          0.220750305084414,
          0.22050064163531444,
          0.22009975313935828,
          0.2198650701421144,
          0.21953880480212745,
          0.21927005337634453,
          0.21902172264005293,
          0.2187628648954212,
          0.21852726766309974,
          0.21825296487383403,
          0.2180198521345799,
          0.21780605566029473,
          0.21761517781710735,
          0.21741932304313563,
          0.21718419141931272,
          0.21697446501490514,
          0.21680191016554407,
          0.21659442481326752,
          0.21638955932211848,
          0.21619981306416977,
          0.2160311887662937,
          0.21584987583382512,
          0.21569121231160018,
          0.21556242116062843,
          0.21539046373698387,
          0.21524239684064733,
          0.21511545693558143,
          0.21492745243806366,
          0.21477830783125265,
          0.21464340106812396,
          0.2144917370659967,
          0.21437873999969131,
          0.2142433757582296,
          0.21412396867816216,
          0.2139551420675442,
          0.21384936825724127,
          0.21367929941379463,
          0.21356147253924412,
          0.21346160489939003,
          0.21331456816268674,
          0.21322218099874996,
          0.2130740299509792,
          0.212992267843313,
          0.21290453881835006,
          0.21276977293365726,
          0.2126605206084093,
          0.21260423351394594,
          0.21245108015302336,
          0.21233013626979969,
          0.21223001094249153,
          0.21213490392586642,
          0.21204703283020268,
          0.2119426230345651,
          0.21182914011362267,
          0.2117293030038592,
          0.21160511737807935,
          0.21151384757653655,
          0.2113719989011969,
          0.21126943735273487,
          0.2111674834035962,
          0.21109132219575968,
          0.21102104890073586,
          0.2109284326037333,
          0.21083152543461522,
          0.21076717359660307,
          0.21066427797158557,
          0.21060013659057064,
          0.21051286841815484,
          0.21040533345058532,
          0.2103278619158306,
          0.2102571147184524,
          0.2101695138919827,
          0.21009138132433466,
          0.21002077532318109,
          0.20994319101529993,
          0.20988634700594616,
          0.20980885913285605,
          0.2097328684624782,
          0.20966072813543102,
          0.2095603736633883,
          0.20949837860189222,
          0.2094132519028221,
          0.209379523509019,
          0.20932504272530214,
          0.20926032759685437,
          0.20921326299267282,
          0.20913033452683766,
          0.2090759516462114,
          0.20900213951943156,
          0.208937932224357,
          0.20885059418758634,
          0.20879052616506405,
          0.2087380259373396,
          0.20867535663445883,
          0.20862670124907898,
          0.20855992371465903,
          0.20848599286457412,
          0.208435351644987,
          0.20837100971047243,
          0.2083039681720817,
          0.20824189604615134,
          0.2081800862080697,
          0.20814591068638646,
          0.20806982096880863,
          0.20801143192961,
          0.2079444733478405,
          0.20791609350058818,
          0.20786213384364996,
          0.20779284476045531,
          0.20774664763598577,
          0.20770396911597627,
          0.20766074015316838,
          0.20762148661318927,
          0.20757309875785857,
          0.2075361988649629,
          0.2074915292039534,
          0.2074189560047781,
          0.20736844215827743,
          0.20733040860827207,
          0.20729103452613848,
          0.2072353956159929,
          0.20718098478801572,
          0.20712148485842433,
          0.20708677661147978,
          0.20703500061260569,
          0.20699003405590047,
          0.2069462082684577,
          0.20690917035376177,
          0.2068627845716777,
          0.20682559673616707,
          0.20679998282374326,
          0.20674669422921635,
          0.20670746577948854,
          0.2066486074548458,
          0.20659829819124528,
          0.20657878877471864,
          0.20653134709108134,
          0.20649366389265236,
          0.2064300546786233,
          0.2063909468730951,
          0.20632616810617102,
          0.20627448026852221,
          0.2062214106104649,
          0.20619674225098025,
          0.2061601471525785,
          0.20609984059719993,
          0.20605913799222217,
          0.2060376440722435,
          0.205994542263407,
          0.2059609004162735,
          0.2059177566286484,
          0.20589404241366194,
          0.20585702184013996,
          0.20581857283342872,
          0.20578621790026308,
          0.20575148465905643,
          0.20571590717464108,
          0.2056794392164651,
          0.20563861165295755,
          0.20561972274216675,
          0.20558758372419322,
          0.20555978680164785,
          0.20553283557468774,
          0.20547639462763218,
          0.20541938841209556,
          0.20538384048228955,
          0.20534528242816055,
          0.2053049379873462,
          0.2052818250869433,
          0.2052461193596054,
          0.20521064744767903,
          0.20517684356095126,
          0.20514566432097953,
          0.2051231823805264,
          0.20507595092044953,
          0.2050551439433408,
          0.20503723479304714,
          0.205003128821631,
          0.2049789529899036,
          0.20493533074545534,
          0.20490168181209426,
          0.20488490587089292,
          0.20483962800373576,
          0.2048184268721119,
          0.204800256674326,
          0.20477036351771477,
          0.20475316075773248,
          0.20472819216977448,
          0.2046919211757905,
          0.20467064531771928,
          0.20464504833321032,
          0.20460071885108636,
          0.2045697867391847,
          0.2045449553523062,
          0.2045294229140093,
          0.20451583763892214,
          0.20448342168831998,
          0.20444722720354946,
          0.20440421452737637,
          0.2043839396047382,
          0.20436794111073664,
          0.20433803010441745,
          0.20431076770424092,
          0.2042868912613582,
          0.20426064329245971,
          0.20423691284641057,
          0.20418231900310577,
          0.20417254427371168,
          0.20415168624352273,
          0.2041248324308292,
          0.20409401393677187,
          0.20405640392488528,
          0.20403382540533985,
          0.20400654509554172,
          0.20396852346341965,
          0.2039474167886237,
          0.20392784157126362,
          0.2038987923067476,
          0.20387397933543547,
          0.20386248721304367,
          0.20384298247409613,
          0.2038128985817723,
          0.203794776734874
         ],
         "yaxis": "y"
        },
        {
         "hovertemplate": "variable=wide_variable_1<br>Boosting Round=%{x}<br>Mean Absolute Error=%{y}<extra></extra>",
         "legendgroup": "wide_variable_1",
         "line": {
          "color": "#EF553B",
          "dash": "solid"
         },
         "marker": {
          "symbol": "circle"
         },
         "mode": "lines",
         "name": "Val MAE",
         "orientation": "v",
         "showlegend": true,
         "type": "scatter",
         "x": [
          1,
          2,
          3,
          4,
          5,
          6,
          7,
          8,
          9,
          10,
          11,
          12,
          13,
          14,
          15,
          16,
          17,
          18,
          19,
          20,
          21,
          22,
          23,
          24,
          25,
          26,
          27,
          28,
          29,
          30,
          31,
          32,
          33,
          34,
          35,
          36,
          37,
          38,
          39,
          40,
          41,
          42,
          43,
          44,
          45,
          46,
          47,
          48,
          49,
          50,
          51,
          52,
          53,
          54,
          55,
          56,
          57,
          58,
          59,
          60,
          61,
          62,
          63,
          64,
          65,
          66,
          67,
          68,
          69,
          70,
          71,
          72,
          73,
          74,
          75,
          76,
          77,
          78,
          79,
          80,
          81,
          82,
          83,
          84,
          85,
          86,
          87,
          88,
          89,
          90,
          91,
          92,
          93,
          94,
          95,
          96,
          97,
          98,
          99,
          100,
          101,
          102,
          103,
          104,
          105,
          106,
          107,
          108,
          109,
          110,
          111,
          112,
          113,
          114,
          115,
          116,
          117,
          118,
          119,
          120,
          121,
          122,
          123,
          124,
          125,
          126,
          127,
          128,
          129,
          130,
          131,
          132,
          133,
          134,
          135,
          136,
          137,
          138,
          139,
          140,
          141,
          142,
          143,
          144,
          145,
          146,
          147,
          148,
          149,
          150,
          151,
          152,
          153,
          154,
          155,
          156,
          157,
          158,
          159,
          160,
          161,
          162,
          163,
          164,
          165,
          166,
          167,
          168,
          169,
          170,
          171,
          172,
          173,
          174,
          175,
          176,
          177,
          178,
          179,
          180,
          181,
          182,
          183,
          184,
          185,
          186,
          187,
          188,
          189,
          190,
          191,
          192,
          193,
          194,
          195,
          196,
          197,
          198,
          199,
          200,
          201,
          202,
          203,
          204,
          205,
          206,
          207,
          208,
          209,
          210,
          211,
          212,
          213,
          214,
          215,
          216,
          217,
          218,
          219,
          220,
          221,
          222,
          223,
          224,
          225,
          226,
          227,
          228,
          229,
          230,
          231,
          232,
          233,
          234,
          235,
          236,
          237,
          238,
          239,
          240,
          241,
          242,
          243,
          244,
          245,
          246,
          247,
          248,
          249,
          250,
          251,
          252,
          253,
          254,
          255,
          256,
          257,
          258,
          259,
          260,
          261,
          262,
          263,
          264,
          265,
          266,
          267,
          268,
          269,
          270,
          271,
          272,
          273,
          274,
          275,
          276,
          277,
          278,
          279,
          280,
          281,
          282,
          283,
          284,
          285,
          286,
          287,
          288,
          289,
          290,
          291,
          292,
          293,
          294,
          295,
          296,
          297,
          298,
          299,
          300
         ],
         "xaxis": "x",
         "y": [
          0.6288017881108262,
          0.605386526217798,
          0.5832458423965498,
          0.5620547714796115,
          0.5424111131781696,
          0.5234395751895841,
          0.5056659617335758,
          0.48873487866297866,
          0.4729778520066818,
          0.4581598150988127,
          0.44394228662341745,
          0.4306219966817624,
          0.4180567916309181,
          0.406302059715051,
          0.3950689665669395,
          0.3846158184756727,
          0.3747402159131428,
          0.3652585859900438,
          0.35650861438129816,
          0.34838697972332594,
          0.34075511306709627,
          0.333595957281442,
          0.3268233103349735,
          0.32022758043859034,
          0.31411117473635897,
          0.30856748609186474,
          0.3033832516845682,
          0.29830871935781517,
          0.2936432806757727,
          0.2890934872675383,
          0.28505835691310044,
          0.28129936519900933,
          0.277788370078083,
          0.2744082983176771,
          0.27129808391814464,
          0.2682454474905563,
          0.26517989768551903,
          0.26267890659374316,
          0.26007877583924055,
          0.25766238951900766,
          0.255199807373001,
          0.2532361555605585,
          0.25133292787038836,
          0.2494534607273456,
          0.24777067468440017,
          0.24612700224347872,
          0.24470223270640082,
          0.24330658737487137,
          0.2420233049238525,
          0.24051797632333194,
          0.2393804841525514,
          0.2380266030367918,
          0.23680536080637404,
          0.2357884714812477,
          0.23485160977594718,
          0.23401676398668822,
          0.23315029406236648,
          0.23234636756057578,
          0.23161917637693577,
          0.23073991906561855,
          0.23005243361598635,
          0.22941193848770214,
          0.2287000206558554,
          0.22813357331166448,
          0.2276033406588571,
          0.22698736757700594,
          0.2265340526571586,
          0.22608762618481767,
          0.22556813329329198,
          0.22514228420249996,
          0.22474851519876565,
          0.22442122232465017,
          0.22407769053096607,
          0.22364367198617266,
          0.22326626550682943,
          0.2229490686945956,
          0.22258975452248328,
          0.2221855619511502,
          0.2219439779626003,
          0.22154979448594764,
          0.2213197541223519,
          0.22099795926643886,
          0.2207286623994928,
          0.2204804285613041,
          0.22021606586636674,
          0.21998483988562972,
          0.21972162481814142,
          0.2194859194978068,
          0.219273493776422,
          0.2190845157583572,
          0.21888965442385122,
          0.2186614564049557,
          0.2184461811650425,
          0.21827192862576003,
          0.21806476587133644,
          0.21785092076643114,
          0.2176550872535583,
          0.21748534353437968,
          0.21729645401231135,
          0.217141119319886,
          0.21701276478263612,
          0.21683379872494077,
          0.21667868749185745,
          0.2165525136981497,
          0.21636032545331427,
          0.21620554328470204,
          0.21606228353832985,
          0.2159087659870956,
          0.215788725246343,
          0.21565343428075334,
          0.21553545315818617,
          0.21536286407208796,
          0.21525366095216317,
          0.2150860220295051,
          0.21496571877187903,
          0.21486809851300434,
          0.21471779566622645,
          0.21462082393796864,
          0.2144722787756014,
          0.21438609782362122,
          0.21429566329626393,
          0.21415727109580196,
          0.21404740549337864,
          0.2139921753526961,
          0.21383995536102762,
          0.21371524581172244,
          0.2136076175816247,
          0.2135148853538868,
          0.2134182210541115,
          0.2133144748565124,
          0.2131928186328644,
          0.21309482474264,
          0.21296516932345427,
          0.21287695494692888,
          0.2127343023727454,
          0.2126308244927276,
          0.2125236282380816,
          0.21244353766729324,
          0.21237310483892588,
          0.2122764088285869,
          0.21217556172173377,
          0.21211381207179344,
          0.21200634465913604,
          0.21193744229304867,
          0.2118506582317906,
          0.2117438940940375,
          0.21166519748924364,
          0.21159007090169213,
          0.21150046394738875,
          0.2114199233448093,
          0.2113493851609041,
          0.2112676910822462,
          0.21120809092847317,
          0.21112781600772246,
          0.21104659717259358,
          0.21097224880839377,
          0.21086547726399013,
          0.21079868954118838,
          0.21071082886706943,
          0.2106738683468205,
          0.2106142838002436,
          0.21054649401887054,
          0.21049221021579873,
          0.21040700030625284,
          0.21035121452997751,
          0.21027334486853969,
          0.21020486159732502,
          0.21012046046399793,
          0.2100540825317902,
          0.20999914430830893,
          0.2099369522965376,
          0.2098871489198287,
          0.209819059051825,
          0.20974088657127557,
          0.2096827331029979,
          0.209616631788846,
          0.20954916722569383,
          0.20948463178494278,
          0.20941941480221785,
          0.2093794875652491,
          0.20930306060135961,
          0.209238758186778,
          0.209167712665623,
          0.20913564646874955,
          0.2090820627214673,
          0.20901111254147792,
          0.20896285174721388,
          0.20891455554209915,
          0.20887808967514968,
          0.20883590173662864,
          0.2087875916361222,
          0.2087476617405048,
          0.20869945395512138,
          0.20862606719110025,
          0.2085770597416257,
          0.2085374601762163,
          0.2084886617575644,
          0.20843278177899213,
          0.2083742021883791,
          0.20831027248628262,
          0.2082742093837266,
          0.2082162058901246,
          0.20816674899809157,
          0.20812337430193575,
          0.20808196029560996,
          0.20803026349572165,
          0.20798635520715703,
          0.20795961694390158,
          0.20790032164876038,
          0.20785541083267212,
          0.20779355553532428,
          0.20773798412732572,
          0.20771523161682853,
          0.20766543172362728,
          0.20762923730492655,
          0.20756788615603558,
          0.20752910534882746,
          0.20745762374612733,
          0.20740452782920427,
          0.2073428507172543,
          0.20731862159950165,
          0.20728079215708275,
          0.20721709183628298,
          0.20717775632587962,
          0.20715409942789773,
          0.2071064106130074,
          0.20707163728071717,
          0.20702777861063873,
          0.20700137946397124,
          0.20696073481165964,
          0.2069223125383504,
          0.20688460116616364,
          0.20684608970838778,
          0.2068081167803215,
          0.20677079106652416,
          0.20672589795828578,
          0.2067033363286189,
          0.2066715905201778,
          0.20664328835567042,
          0.20661282869169237,
          0.20655319066148417,
          0.20649245160046223,
          0.20645668430400255,
          0.20641321839831603,
          0.2063702293754113,
          0.20634693178593094,
          0.20630790165434945,
          0.20627264957782335,
          0.2062381990267972,
          0.2062034721264956,
          0.2061805553740554,
          0.20613238122646796,
          0.20610654458934988,
          0.2060894113101084,
          0.20605717483393757,
          0.20603431036631045,
          0.2059858508916919,
          0.20594864219159173,
          0.20593122178789708,
          0.20588678010092412,
          0.20586364704078947,
          0.20584242282472015,
          0.2058137700508948,
          0.20579586594198748,
          0.20576877876562497,
          0.20573065483222064,
          0.20570904858521138,
          0.20567709441365253,
          0.20563066553592987,
          0.2055988830180498,
          0.2055675634527608,
          0.2055502196564685,
          0.20553658288523752,
          0.20550549508368754,
          0.20546866093085317,
          0.20542616553324183,
          0.20540442668697445,
          0.20538786801810022,
          0.20535910647285477,
          0.20532821214463853,
          0.20530021680450267,
          0.20527427672606985,
          0.20524869117228786,
          0.2051932052437054,
          0.20518285825411578,
          0.20516294242496105,
          0.20513592534227681,
          0.20510161829708395,
          0.20506532644673683,
          0.20503855365774515,
          0.20501134916703276,
          0.2049736189529353,
          0.20495273776050332,
          0.20493526314546356,
          0.2049006347099457,
          0.20487504510638202,
          0.20486151956684515,
          0.20484478648569526,
          0.20481653412523693,
          0.20479433482386805
         ],
         "yaxis": "y"
        }
       ],
       "layout": {
        "legend": {
         "itemsizing": "constant",
         "title": {
          "text": "Dataset"
         },
         "tracegroupgap": 0
        },
        "template": {
         "data": {
          "bar": [
           {
            "error_x": {
             "color": "#2a3f5f"
            },
            "error_y": {
             "color": "#2a3f5f"
            },
            "marker": {
             "line": {
              "color": "#E5ECF6",
              "width": 0.5
             },
             "pattern": {
              "fillmode": "overlay",
              "size": 10,
              "solidity": 0.2
             }
            },
            "type": "bar"
           }
          ],
          "barpolar": [
           {
            "marker": {
             "line": {
              "color": "#E5ECF6",
              "width": 0.5
             },
             "pattern": {
              "fillmode": "overlay",
              "size": 10,
              "solidity": 0.2
             }
            },
            "type": "barpolar"
           }
          ],
          "carpet": [
           {
            "aaxis": {
             "endlinecolor": "#2a3f5f",
             "gridcolor": "white",
             "linecolor": "white",
             "minorgridcolor": "white",
             "startlinecolor": "#2a3f5f"
            },
            "baxis": {
             "endlinecolor": "#2a3f5f",
             "gridcolor": "white",
             "linecolor": "white",
             "minorgridcolor": "white",
             "startlinecolor": "#2a3f5f"
            },
            "type": "carpet"
           }
          ],
          "choropleth": [
           {
            "colorbar": {
             "outlinewidth": 0,
             "ticks": ""
            },
            "type": "choropleth"
           }
          ],
          "contour": [
           {
            "colorbar": {
             "outlinewidth": 0,
             "ticks": ""
            },
            "colorscale": [
             [
              0,
              "#0d0887"
             ],
             [
              0.1111111111111111,
              "#46039f"
             ],
             [
              0.2222222222222222,
              "#7201a8"
             ],
             [
              0.3333333333333333,
              "#9c179e"
             ],
             [
              0.4444444444444444,
              "#bd3786"
             ],
             [
              0.5555555555555556,
              "#d8576b"
             ],
             [
              0.6666666666666666,
              "#ed7953"
             ],
             [
              0.7777777777777778,
              "#fb9f3a"
             ],
             [
              0.8888888888888888,
              "#fdca26"
             ],
             [
              1,
              "#f0f921"
             ]
            ],
            "type": "contour"
           }
          ],
          "contourcarpet": [
           {
            "colorbar": {
             "outlinewidth": 0,
             "ticks": ""
            },
            "type": "contourcarpet"
           }
          ],
          "heatmap": [
           {
            "colorbar": {
             "outlinewidth": 0,
             "ticks": ""
            },
            "colorscale": [
             [
              0,
              "#0d0887"
             ],
             [
              0.1111111111111111,
              "#46039f"
             ],
             [
              0.2222222222222222,
              "#7201a8"
             ],
             [
              0.3333333333333333,
              "#9c179e"
             ],
             [
              0.4444444444444444,
              "#bd3786"
             ],
             [
              0.5555555555555556,
              "#d8576b"
             ],
             [
              0.6666666666666666,
              "#ed7953"
             ],
             [
              0.7777777777777778,
              "#fb9f3a"
             ],
             [
              0.8888888888888888,
              "#fdca26"
             ],
             [
              1,
              "#f0f921"
             ]
            ],
            "type": "heatmap"
           }
          ],
          "heatmapgl": [
           {
            "colorbar": {
             "outlinewidth": 0,
             "ticks": ""
            },
            "colorscale": [
             [
              0,
              "#0d0887"
             ],
             [
              0.1111111111111111,
              "#46039f"
             ],
             [
              0.2222222222222222,
              "#7201a8"
             ],
             [
              0.3333333333333333,
              "#9c179e"
             ],
             [
              0.4444444444444444,
              "#bd3786"
             ],
             [
              0.5555555555555556,
              "#d8576b"
             ],
             [
              0.6666666666666666,
              "#ed7953"
             ],
             [
              0.7777777777777778,
              "#fb9f3a"
             ],
             [
              0.8888888888888888,
              "#fdca26"
             ],
             [
              1,
              "#f0f921"
             ]
            ],
            "type": "heatmapgl"
           }
          ],
          "histogram": [
           {
            "marker": {
             "pattern": {
              "fillmode": "overlay",
              "size": 10,
              "solidity": 0.2
             }
            },
            "type": "histogram"
           }
          ],
          "histogram2d": [
           {
            "colorbar": {
             "outlinewidth": 0,
             "ticks": ""
            },
            "colorscale": [
             [
              0,
              "#0d0887"
             ],
             [
              0.1111111111111111,
              "#46039f"
             ],
             [
              0.2222222222222222,
              "#7201a8"
             ],
             [
              0.3333333333333333,
              "#9c179e"
             ],
             [
              0.4444444444444444,
              "#bd3786"
             ],
             [
              0.5555555555555556,
              "#d8576b"
             ],
             [
              0.6666666666666666,
              "#ed7953"
             ],
             [
              0.7777777777777778,
              "#fb9f3a"
             ],
             [
              0.8888888888888888,
              "#fdca26"
             ],
             [
              1,
              "#f0f921"
             ]
            ],
            "type": "histogram2d"
           }
          ],
          "histogram2dcontour": [
           {
            "colorbar": {
             "outlinewidth": 0,
             "ticks": ""
            },
            "colorscale": [
             [
              0,
              "#0d0887"
             ],
             [
              0.1111111111111111,
              "#46039f"
             ],
             [
              0.2222222222222222,
              "#7201a8"
             ],
             [
              0.3333333333333333,
              "#9c179e"
             ],
             [
              0.4444444444444444,
              "#bd3786"
             ],
             [
              0.5555555555555556,
              "#d8576b"
             ],
             [
              0.6666666666666666,
              "#ed7953"
             ],
             [
              0.7777777777777778,
              "#fb9f3a"
             ],
             [
              0.8888888888888888,
              "#fdca26"
             ],
             [
              1,
              "#f0f921"
             ]
            ],
            "type": "histogram2dcontour"
           }
          ],
          "mesh3d": [
           {
            "colorbar": {
             "outlinewidth": 0,
             "ticks": ""
            },
            "type": "mesh3d"
           }
          ],
          "parcoords": [
           {
            "line": {
             "colorbar": {
              "outlinewidth": 0,
              "ticks": ""
             }
            },
            "type": "parcoords"
           }
          ],
          "pie": [
           {
            "automargin": true,
            "type": "pie"
           }
          ],
          "scatter": [
           {
            "fillpattern": {
             "fillmode": "overlay",
             "size": 10,
             "solidity": 0.2
            },
            "type": "scatter"
           }
          ],
          "scatter3d": [
           {
            "line": {
             "colorbar": {
              "outlinewidth": 0,
              "ticks": ""
             }
            },
            "marker": {
             "colorbar": {
              "outlinewidth": 0,
              "ticks": ""
             }
            },
            "type": "scatter3d"
           }
          ],
          "scattercarpet": [
           {
            "marker": {
             "colorbar": {
              "outlinewidth": 0,
              "ticks": ""
             }
            },
            "type": "scattercarpet"
           }
          ],
          "scattergeo": [
           {
            "marker": {
             "colorbar": {
              "outlinewidth": 0,
              "ticks": ""
             }
            },
            "type": "scattergeo"
           }
          ],
          "scattergl": [
           {
            "marker": {
             "colorbar": {
              "outlinewidth": 0,
              "ticks": ""
             }
            },
            "type": "scattergl"
           }
          ],
          "scattermapbox": [
           {
            "marker": {
             "colorbar": {
              "outlinewidth": 0,
              "ticks": ""
             }
            },
            "type": "scattermapbox"
           }
          ],
          "scatterpolar": [
           {
            "marker": {
             "colorbar": {
              "outlinewidth": 0,
              "ticks": ""
             }
            },
            "type": "scatterpolar"
           }
          ],
          "scatterpolargl": [
           {
            "marker": {
             "colorbar": {
              "outlinewidth": 0,
              "ticks": ""
             }
            },
            "type": "scatterpolargl"
           }
          ],
          "scatterternary": [
           {
            "marker": {
             "colorbar": {
              "outlinewidth": 0,
              "ticks": ""
             }
            },
            "type": "scatterternary"
           }
          ],
          "surface": [
           {
            "colorbar": {
             "outlinewidth": 0,
             "ticks": ""
            },
            "colorscale": [
             [
              0,
              "#0d0887"
             ],
             [
              0.1111111111111111,
              "#46039f"
             ],
             [
              0.2222222222222222,
              "#7201a8"
             ],
             [
              0.3333333333333333,
              "#9c179e"
             ],
             [
              0.4444444444444444,
              "#bd3786"
             ],
             [
              0.5555555555555556,
              "#d8576b"
             ],
             [
              0.6666666666666666,
              "#ed7953"
             ],
             [
              0.7777777777777778,
              "#fb9f3a"
             ],
             [
              0.8888888888888888,
              "#fdca26"
             ],
             [
              1,
              "#f0f921"
             ]
            ],
            "type": "surface"
           }
          ],
          "table": [
           {
            "cells": {
             "fill": {
              "color": "#EBF0F8"
             },
             "line": {
              "color": "white"
             }
            },
            "header": {
             "fill": {
              "color": "#C8D4E3"
             },
             "line": {
              "color": "white"
             }
            },
            "type": "table"
           }
          ]
         },
         "layout": {
          "annotationdefaults": {
           "arrowcolor": "#2a3f5f",
           "arrowhead": 0,
           "arrowwidth": 1
          },
          "autotypenumbers": "strict",
          "coloraxis": {
           "colorbar": {
            "outlinewidth": 0,
            "ticks": ""
           }
          },
          "colorscale": {
           "diverging": [
            [
             0,
             "#8e0152"
            ],
            [
             0.1,
             "#c51b7d"
            ],
            [
             0.2,
             "#de77ae"
            ],
            [
             0.3,
             "#f1b6da"
            ],
            [
             0.4,
             "#fde0ef"
            ],
            [
             0.5,
             "#f7f7f7"
            ],
            [
             0.6,
             "#e6f5d0"
            ],
            [
             0.7,
             "#b8e186"
            ],
            [
             0.8,
             "#7fbc41"
            ],
            [
             0.9,
             "#4d9221"
            ],
            [
             1,
             "#276419"
            ]
           ],
           "sequential": [
            [
             0,
             "#0d0887"
            ],
            [
             0.1111111111111111,
             "#46039f"
            ],
            [
             0.2222222222222222,
             "#7201a8"
            ],
            [
             0.3333333333333333,
             "#9c179e"
            ],
            [
             0.4444444444444444,
             "#bd3786"
            ],
            [
             0.5555555555555556,
             "#d8576b"
            ],
            [
             0.6666666666666666,
             "#ed7953"
            ],
            [
             0.7777777777777778,
             "#fb9f3a"
            ],
            [
             0.8888888888888888,
             "#fdca26"
            ],
            [
             1,
             "#f0f921"
            ]
           ],
           "sequentialminus": [
            [
             0,
             "#0d0887"
            ],
            [
             0.1111111111111111,
             "#46039f"
            ],
            [
             0.2222222222222222,
             "#7201a8"
            ],
            [
             0.3333333333333333,
             "#9c179e"
            ],
            [
             0.4444444444444444,
             "#bd3786"
            ],
            [
             0.5555555555555556,
             "#d8576b"
            ],
            [
             0.6666666666666666,
             "#ed7953"
            ],
            [
             0.7777777777777778,
             "#fb9f3a"
            ],
            [
             0.8888888888888888,
             "#fdca26"
            ],
            [
             1,
             "#f0f921"
            ]
           ]
          },
          "colorway": [
           "#636efa",
           "#EF553B",
           "#00cc96",
           "#ab63fa",
           "#FFA15A",
           "#19d3f3",
           "#FF6692",
           "#B6E880",
           "#FF97FF",
           "#FECB52"
          ],
          "font": {
           "color": "#2a3f5f"
          },
          "geo": {
           "bgcolor": "white",
           "lakecolor": "white",
           "landcolor": "#E5ECF6",
           "showlakes": true,
           "showland": true,
           "subunitcolor": "white"
          },
          "hoverlabel": {
           "align": "left"
          },
          "hovermode": "closest",
          "mapbox": {
           "style": "light"
          },
          "paper_bgcolor": "white",
          "plot_bgcolor": "#E5ECF6",
          "polar": {
           "angularaxis": {
            "gridcolor": "white",
            "linecolor": "white",
            "ticks": ""
           },
           "bgcolor": "#E5ECF6",
           "radialaxis": {
            "gridcolor": "white",
            "linecolor": "white",
            "ticks": ""
           }
          },
          "scene": {
           "xaxis": {
            "backgroundcolor": "#E5ECF6",
            "gridcolor": "white",
            "gridwidth": 2,
            "linecolor": "white",
            "showbackground": true,
            "ticks": "",
            "zerolinecolor": "white"
           },
           "yaxis": {
            "backgroundcolor": "#E5ECF6",
            "gridcolor": "white",
            "gridwidth": 2,
            "linecolor": "white",
            "showbackground": true,
            "ticks": "",
            "zerolinecolor": "white"
           },
           "zaxis": {
            "backgroundcolor": "#E5ECF6",
            "gridcolor": "white",
            "gridwidth": 2,
            "linecolor": "white",
            "showbackground": true,
            "ticks": "",
            "zerolinecolor": "white"
           }
          },
          "shapedefaults": {
           "line": {
            "color": "#2a3f5f"
           }
          },
          "ternary": {
           "aaxis": {
            "gridcolor": "white",
            "linecolor": "white",
            "ticks": ""
           },
           "baxis": {
            "gridcolor": "white",
            "linecolor": "white",
            "ticks": ""
           },
           "bgcolor": "#E5ECF6",
           "caxis": {
            "gridcolor": "white",
            "linecolor": "white",
            "ticks": ""
           }
          },
          "title": {
           "x": 0.05
          },
          "xaxis": {
           "automargin": true,
           "gridcolor": "white",
           "linecolor": "white",
           "ticks": "",
           "title": {
            "standoff": 15
           },
           "zerolinecolor": "white",
           "zerolinewidth": 2
          },
          "yaxis": {
           "automargin": true,
           "gridcolor": "white",
           "linecolor": "white",
           "ticks": "",
           "title": {
            "standoff": 15
           },
           "zerolinecolor": "white",
           "zerolinewidth": 2
          }
         }
        },
        "title": {
         "text": "Training and Val MAE over Boosting Rounds for mr_number"
        },
        "xaxis": {
         "anchor": "y",
         "domain": [
          0,
          1
         ],
         "title": {
          "text": "Boosting Round"
         }
        },
        "yaxis": {
         "anchor": "x",
         "domain": [
          0,
          1
         ],
         "title": {
          "text": "Mean Absolute Error"
         }
        }
       }
      }
     },
     "metadata": {},
     "output_type": "display_data"
    },
    {
     "name": "stdout",
     "output_type": "stream",
     "text": [
      "Best Val MAE for mr_number: 0.20479433482386805\n",
      "Round: 299\n"
     ]
    }
   ],
   "source": [
    "# Iterate through each model in model.models\n",
    "for target, target_model in model.models.items():\n",
    "    print(f\"Processing target: {target}\")\n",
    "\n",
    "    # Predict\n",
    "    train_preds = target_model.predict(X_train.to_numpy())\n",
    "    val_preds = target_model.predict(X_val.to_numpy())\n",
    "\n",
    "    # Compute MAE values\n",
    "    train_mae = mean_absolute_error(y_train[target].to_numpy(), train_preds)\n",
    "    val_mae = mean_absolute_error(y_val[target].to_numpy(), val_preds)\n",
    "\n",
    "    # Log the best score to wandb\n",
    "    best_iteration = target_model.best_iteration\n",
    "    best_val_mae = target_model.evals_result()['validation_1']['mae'][best_iteration]\n",
    "    best_train_mae = target_model.evals_result()['validation_0']['mae'][best_iteration]\n",
    "\n",
    "    wandb.log({\n",
    "        f'{target}_best_val_mae': best_val_mae, \n",
    "        f'{target}_best_round': best_iteration, \n",
    "        f'{target}_best_train_mae': best_train_mae\n",
    "    })\n",
    "\n",
    "    # Convert evaluation results to a DataFrame\n",
    "    evals_result = target_model.evals_result()\n",
    "    rounds = range(1, len(evals_result['validation_0']['mae']) + 1)\n",
    "\n",
    "    # Create a DataFrame using polars\n",
    "    eval_df = pl.DataFrame({\n",
    "        'Round': rounds,\n",
    "        'Train MAE': evals_result['validation_0']['mae'],\n",
    "        'Val MAE': evals_result['validation_1']['mae']\n",
    "    })\n",
    "\n",
    "    # Log eval_df to wandb\n",
    "    wandb.log({f'{target}_eval_df': wandb.Table(data=eval_df.to_pandas())})\n",
    "\n",
    "    # Plot the results using Plotly\n",
    "    fig = px.line(\n",
    "        x=rounds, \n",
    "        y=[evals_result['validation_0']['mae'], evals_result['validation_1']['mae']],\n",
    "        labels={'x': 'Boosting Round', 'value': 'Mean Absolute Error'}, \n",
    "        title=f'Training and Val MAE over Boosting Rounds for {target}'\n",
    "    )\n",
    "    fig.update_layout(\n",
    "        legend=dict(\n",
    "            title='Legend',\n",
    "            itemsizing='constant'\n",
    "        ),\n",
    "        legend_title_text='Dataset'\n",
    "    )\n",
    "    fig.data[0].name = 'Train MAE'\n",
    "    fig.data[1].name = 'Val MAE'\n",
    "\n",
    "    # Log the plot to wandb\n",
    "    wandb.log({f\"{target}_MAE_Plot\": fig})\n",
    "\n",
    "    # Optionally, display the plot\n",
    "    fig.show()\n",
    "\n",
    "    print(f\"Best Val MAE for {target}: {best_val_mae}\")\n",
    "    print(f\"Round: {best_iteration}\")"
   ]
  },
  {
   "cell_type": "code",
   "execution_count": 25,
   "metadata": {},
   "outputs": [
    {
     "name": "stderr",
     "output_type": "stream",
     "text": [
      " 66%|=============       | 473297/717120 [35:17<18:10]       "
     ]
    }
   ],
   "source": [
    "if wandb.config.run_shap:\n",
    "    # Create a SHAP explainer for the XGBoost model\n",
    "    explainer = shap.TreeExplainer(model.models['thp_vol'], X_val.to_pandas())\n",
    "\n",
    "    # Calculate SHAP values for the val set\n",
    "    explanation = explainer(X_val.to_pandas())\n",
    "\n",
    "    # Upload plots and SHAP values to wandb\n",
    "    wandb.log({\"SHAP Bar Plot\": shap.plots.bar(explanation, max_display=30)})\n",
    "    wandb.log({\"SHAP Summary Plot\": shap.summary_plot(explanation, X_val.to_pandas())})\n",
    "\n",
    "    # # Optional: Generate a dependence plot for a specific feature (replace 'feature_index' with the actual feature index)\n",
    "    # shap.dependence_plot(0, shap_values, X_val.to_pandas())\n",
    "\n",
    "    # # Optional: Generate a force plot for the first instance in the val set\n",
    "    # shap.force_plot(explainer.expected_value, shap_values[0, :], X_val.to_pandas()[0, :])"
   ]
  },
  {
   "cell_type": "code",
   "execution_count": null,
   "metadata": {},
   "outputs": [],
   "source": [
    "wandb.finish()"
   ]
  }
 ],
 "metadata": {
  "kernelspec": {
   "display_name": "ml",
   "language": "python",
   "name": "python3"
  },
  "language_info": {
   "codemirror_mode": {
    "name": "ipython",
    "version": 3
   },
   "file_extension": ".py",
   "mimetype": "text/x-python",
   "name": "python",
   "nbconvert_exporter": "python",
   "pygments_lexer": "ipython3",
   "version": "3.12.3"
  }
 },
 "nbformat": 4,
 "nbformat_minor": 2
}
