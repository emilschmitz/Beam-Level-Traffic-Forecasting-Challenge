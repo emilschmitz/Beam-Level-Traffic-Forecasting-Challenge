{
 "cells": [
  {
   "cell_type": "markdown",
   "metadata": {},
   "source": [
    " # Linear Regression and Seasonality Modeling\n",
    "\n",
    " In this script, we will:\n",
    "\n",
    " - Fit a **Linear Regression** model to each beam's throughput volume (`thp_vol`) using only **time** as the feature.\n",
    "\n",
    " - Calculate the **residuals**, scaled down by the linear predictions.\n",
    "\n",
    " - Apply a seasonality model to these residuals using engineered features.\n",
    "\n",
    " - Combine the predictions from both models to get the final prediction.\n",
    "\n",
    "\n",
    "\n",
    " This method is an example of **Model Stacking** or **Residual Modeling**, where we use one model to capture the main trend and another to model the residuals."
   ]
  },
  {
   "cell_type": "markdown",
   "metadata": {},
   "source": [
    " ## Imports and Setup"
   ]
  },
  {
   "cell_type": "code",
   "execution_count": null,
   "metadata": {},
   "outputs": [],
   "source": [
    "# %%\n",
    "import os\n",
    "import logging\n",
    "from pathlib import Path\n",
    "\n",
    "import numpy as np\n",
    "import polars as pl\n",
    "import pandas as pd\n",
    "from sklearn.linear_model import LinearRegression\n",
    "from sklearn.metrics import mean_absolute_error, mean_squared_error\n",
    "import wandb\n",
    "import yaml\n",
    "import matplotlib.pyplot as plt\n",
    "\n",
    "# Load utility functions (assuming utils.py is in the same directory)\n",
    "import utils\n",
    "\n",
    "# Manually set the notebook name for W&B\n",
    "os.environ[\"WANDB_NOTEBOOK_NAME\"] = \"train_w10_w11.ipynb\"\n",
    "\n",
    "# Set up logging\n",
    "logging.basicConfig(level=logging.INFO)\n"
   ]
  },
  {
   "cell_type": "markdown",
   "metadata": {},
   "source": [
    " ## Configuration"
   ]
  },
  {
   "cell_type": "code",
   "execution_count": null,
   "metadata": {},
   "outputs": [],
   "source": [
    "# %%\n",
    "# Set DEBUG mode\n",
    "DEBUG = False\n",
    "\n",
    "# Load configuration from YAML file\n",
    "config_file_path = Path('configs') / 'seasonality_config.yaml'\n",
    "with open(config_file_path, 'r') as file:\n",
    "    config = yaml.safe_load(file)\n"
   ]
  },
  {
   "cell_type": "markdown",
   "metadata": {},
   "source": [
    " ## Data Loading"
   ]
  },
  {
   "cell_type": "code",
   "execution_count": null,
   "metadata": {},
   "outputs": [],
   "source": [
    "# %%\n",
    "# Read the CSV files\n",
    "data_dir = Path('input-data')\n",
    "thp_vol_df = pl.read_csv(data_dir / 'traffic_DLThpVol.csv')\n",
    "idx_hour_series = thp_vol_df['']\n",
    "thp_vol_df = thp_vol_df.drop('')\n",
    "\n",
    "# If in DEBUG mode, shorten dataframes\n",
    "if DEBUG:\n",
    "    thp_vol_df = thp_vol_df.head(200).select(thp_vol_df.columns[:800])\n",
    "    idx_hour_series = idx_hour_series.head(200)\n"
   ]
  },
  {
   "cell_type": "markdown",
   "metadata": {},
   "source": [
    " ## Data Preprocessing"
   ]
  },
  {
   "cell_type": "code",
   "execution_count": null,
   "metadata": {},
   "outputs": [],
   "source": [
    "# %%\n",
    "# Convert idx_hour_series to Polars DataFrame\n",
    "time_df = pl.DataFrame({'time': idx_hour_series})\n",
    "\n",
    "# Combine time and thp_vol_df\n",
    "data_df = pl.concat([time_df, thp_vol_df], how='horizontal')\n"
   ]
  },
  {
   "cell_type": "markdown",
   "metadata": {},
   "source": [
    " ## Initialize W&B"
   ]
  },
  {
   "cell_type": "code",
   "execution_count": null,
   "metadata": {},
   "outputs": [],
   "source": [
    "# %%\n",
    "# Initialize W&B\n",
    "run = wandb.init(\n",
    "    project=\"traffic-forecasting-challenge\",\n",
    "    job_type='train',\n",
    "    entity=\"esedx12\",\n",
    "    config=config,\n",
    "    save_code=True,\n",
    "    mode=('disabled' if DEBUG else 'online')\n",
    ")\n"
   ]
  },
  {
   "cell_type": "markdown",
   "metadata": {},
   "source": [
    " ## Linear Regression Model"
   ]
  },
  {
   "cell_type": "code",
   "execution_count": null,
   "metadata": {},
   "outputs": [],
   "source": [
    "# %%\n",
    "# Split into train and test sets based on time\n",
    "train_percentage = config.get('train_percentage', 0.8)\n",
    "num_rows = data_df.height\n",
    "num_train_rows = int(num_rows * train_percentage)\n",
    "\n",
    "train_df = data_df[:num_train_rows]\n",
    "test_df = data_df[num_train_rows:]\n",
    "\n",
    "# Features and targets\n",
    "X_train_linear = train_df.select(['time'])\n",
    "Y_train = train_df.drop('time')\n",
    "\n",
    "X_test_linear = test_df.select(['time'])\n",
    "Y_test = test_df.drop('time')\n",
    "\n",
    "# Fit multi-output linear regression\n",
    "logging.info(\"Training the multi-output linear regression model...\")\n",
    "\n",
    "# Fit the model\n",
    "linear_model = LinearRegression()\n",
    "linear_model.fit(X_train_linear, Y_train)"
   ]
  },
  {
   "cell_type": "markdown",
   "metadata": {},
   "source": [
    " ## Calculate Residuals"
   ]
  },
  {
   "cell_type": "code",
   "execution_count": null,
   "metadata": {},
   "outputs": [],
   "source": [
    "# %%\n",
    "# Predict on training and test sets\n",
    "logging.info(\"Calculating residuals...\")\n",
    "Y_train_pred = linear_model.predict(X_train_linear)\n",
    "Y_test_pred = linear_model.predict(X_test_linear)\n",
    "\n",
    "# Convert predictions back to Polars DataFrame\n",
    "Y_train_pred_df = pl.DataFrame(Y_train_pred)\n",
    "Y_train_pred_df.columns = Y_train.columns\n",
    "\n",
    "Y_test_pred_df = pl.DataFrame(Y_test_pred)\n",
    "Y_test_pred_df.columns = Y_test.columns\n",
    "\n",
    "# Calculate residuals scaled by the linear prediction\n",
    "# Avoid division by zero by adding a small epsilon\n",
    "epsilon = 1e-8\n",
    "train_residuals = (Y_train - Y_train_pred_df) / (Y_train_pred_df + epsilon)\n",
    "test_residuals = (Y_test - Y_test_pred_df) / (Y_test_pred_df + epsilon)\n"
   ]
  },
  {
   "cell_type": "markdown",
   "metadata": {},
   "source": [
    "## Scale down"
   ]
  },
  {
   "cell_type": "code",
   "execution_count": null,
   "metadata": {},
   "outputs": [],
   "source": [
    "# Option to scale down coefficients by a value DOWNSCALER\n",
    "DOWNSCALER = config.get('downscaler', 1.0)\n",
    "linear_model.coef_ = linear_model.coef_ / DOWNSCALER"
   ]
  },
  {
   "cell_type": "markdown",
   "metadata": {},
   "source": [
    " ## Seasonality Model for Residuals"
   ]
  },
  {
   "cell_type": "code",
   "execution_count": null,
   "metadata": {},
   "outputs": [],
   "source": [
    "# %%\n",
    "# Calculate seasonality component by taking the median value of the residuals for each hour across the four weeks\n",
    "logging.info(\"Calculating seasonality component...\")\n",
    "\n",
    "# Assuming we have 4 weeks of hourly data (4 * 168 rows)\n",
    "n_hours_in_week = 168\n",
    "num_weeks = 4\n",
    "\n",
    "# Reshape the residuals data to calculate the median per hour\n",
    "reshaped_train_residuals = train_residuals.to_pandas().values.reshape(num_weeks, n_hours_in_week, -1)\n",
    "seasonality_medians = np.median(reshaped_train_residuals, axis=0)\n",
    "\n",
    "# Convert the seasonality medians back to a Polars DataFrame\n",
    "seasonality_df = pl.DataFrame(seasonality_medians)\n",
    "seasonality_df.columns = Y_train.columns\n",
    "\n",
    "# Final prediction will be updated once the seasonality model is combined\n"
   ]
  },
  {
   "cell_type": "markdown",
   "metadata": {},
   "source": [
    " ## Combine Predictions"
   ]
  },
  {
   "cell_type": "code",
   "execution_count": null,
   "metadata": {},
   "outputs": [],
   "source": [
    "# %%\n",
    "Y_test_pred_df_downscaled = linear_model.predict(X_test_linear)\n",
    "# Combine predictions from Linear Regression and Seasonality Model\n",
    "logging.info(\"Combining predictions from Linear Regression and Seasonality model...\")\n",
    "# Scale back up the median residuals by the linear prediction\n",
    "scaled_seasonality = seasonality_df.to_numpy() * (Y_test_pred_df.values + epsilon)\n",
    "Y_test_final_pred = Y_test_pred_df.values + scaled_seasonality\n"
   ]
  },
  {
   "cell_type": "markdown",
   "metadata": {},
   "source": [
    " ## Evaluation"
   ]
  },
  {
   "cell_type": "code",
   "execution_count": null,
   "metadata": {},
   "outputs": [],
   "source": [
    "# %%\n",
    "# Calculate metrics\n",
    "logging.info(\"Evaluating the combined model...\")\n",
    "test_mae = mean_absolute_error(Y_test.values, Y_test_final_pred, multioutput='raw_values')\n",
    "test_mse = mean_squared_error(Y_test.values, Y_test_final_pred, multioutput='raw_values')\n",
    "\n",
    "# Calculate average metrics\n",
    "avg_test_mae = np.mean(test_mae)\n",
    "avg_test_mse = np.mean(test_mse)\n",
    "\n",
    "# Log average metrics to W&B\n",
    "wandb.log({\n",
    "    'avg_test_mae': avg_test_mae,\n",
    "    'avg_test_mse': avg_test_mse\n",
    "})\n",
    "\n",
    "logging.info(f\"Average Test MAE: {avg_test_mae:.4f}\")\n",
    "logging.info(f\"Average Test MSE: {avg_test_mse:.4f}\")\n"
   ]
  },
  {
   "cell_type": "markdown",
   "metadata": {},
   "source": [
    " ## Save the Models"
   ]
  },
  {
   "cell_type": "code",
   "execution_count": null,
   "metadata": {},
   "outputs": [],
   "source": [
    "# %%\n",
    "# Save the linear model\n",
    "model_dir = Path('checkpoints') / wandb.run.name\n",
    "model_dir.mkdir(parents=True, exist_ok=True)\n",
    "\n",
    "import pickle\n",
    "linear_model_path = model_dir / 'linear_model.pkl'\n",
    "with open(linear_model_path, 'wb') as f:\n",
    "    pickle.dump(linear_model, f)\n",
    "\n",
    "# Save model to W&B\n",
    "wandb.save(str(linear_model_path))\n"
   ]
  },
  {
   "cell_type": "markdown",
   "metadata": {},
   "source": [
    " ## Plotting Predictions vs Actuals for Sample Beams"
   ]
  },
  {
   "cell_type": "code",
   "execution_count": null,
   "metadata": {},
   "outputs": [],
   "source": [
    "# %%\n",
    "# Sample beams to plot\n",
    "sample_beams = Y_test.columns[:2]  # Choose two sample beams\n",
    "\n",
    "for beam in sample_beams:\n",
    "    # Get actual and predicted values for the beam\n",
    "    beam_Y_test = Y_test[beam].values\n",
    "    beam_Y_test_pred = Y_test_final_pred[:, Y_test.columns.get_loc(beam)]\n",
    "    time_test = X_test_linear['time'].values\n",
    "\n",
    "    plt.figure(figsize=(14, 6))\n",
    "    plt.plot(time_test, beam_Y_test, label='Actual', color='blue')\n",
    "    plt.plot(time_test, beam_Y_test_pred, label='Predicted', color='orange', linestyle='--')\n",
    "    plt.title(f'Predictions vs Actuals for Beam: {beam}')\n",
    "    plt.xlabel('Time')\n",
    "    plt.ylabel('Throughput Volume')\n",
    "    plt.legend()\n",
    "    plt.tight_layout()\n",
    "    \n",
    "    # Save plot to W&B\n",
    "    plot_path = f\"beam_{beam}_prediction_plot.png\"\n",
    "    plt.savefig(plot_path)\n",
    "    wandb.log({f\"Prediction Plot for Beam {beam}\": wandb.Image(plot_path)})\n",
    "    plt.show()\n"
   ]
  },
  {
   "cell_type": "markdown",
   "metadata": {},
   "source": [
    " ## Finish W&B Run"
   ]
  },
  {
   "cell_type": "code",
   "execution_count": null,
   "metadata": {},
   "outputs": [],
   "source": [
    "# %%\n",
    "wandb.finish()"
   ]
  }
 ],
 "metadata": {
  "kernelspec": {
   "display_name": "venv",
   "language": "python",
   "name": "python3"
  },
  "language_info": {
   "codemirror_mode": {
    "name": "ipython",
    "version": 3
   },
   "file_extension": ".py",
   "mimetype": "text/x-python",
   "name": "python",
   "nbconvert_exporter": "python",
   "pygments_lexer": "ipython3",
   "version": "3.12.3"
  }
 },
 "nbformat": 4,
 "nbformat_minor": 2
}
