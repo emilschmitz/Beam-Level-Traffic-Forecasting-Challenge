{
 "cells": [
  {
   "cell_type": "markdown",
   "metadata": {},
   "source": [
    "# XGBoost\n",
    "* TODO: add averages for cells and stations, NB inference code will need to be adapted too\n",
    "* TODO: target manipulations/engineering\n",
    "* TODO: (vector leaf) multi-output regression"
   ]
  },
  {
   "cell_type": "code",
   "execution_count": 2,
   "metadata": {},
   "outputs": [],
   "source": [
    "import math\n",
    "from pathlib import Path\n",
    "import os\n",
    "os.environ[\"WANDB_NOTEBOOK_NAME\"] = \"xgboost_train.ipynb\"  # Manually set the notebook name\n",
    "\n",
    "import polars as pl\n",
    "import numpy as np\n",
    "import xgboost as xgb\n",
    "import optuna\n",
    "from optuna_integration.wandb import WeightsAndBiasesCallback\n",
    "from optuna_integration.xgboost import XGBoostPruningCallback\n",
    "from sklearn.model_selection import train_test_split\n",
    "from sklearn.metrics import mean_squared_error, mean_absolute_error\n",
    "import shap\n",
    "\n",
    "import seaborn as sns\n",
    "import matplotlib.pyplot as plt\n",
    "import plotly.express as px\n",
    "\n",
    "import wandb\n",
    "from tqdm.notebook import tqdm"
   ]
  },
  {
   "cell_type": "code",
   "execution_count": 3,
   "metadata": {},
   "outputs": [],
   "source": [
    "DEBUG = True"
   ]
  },
  {
   "cell_type": "code",
   "execution_count": 4,
   "metadata": {},
   "outputs": [],
   "source": [
    "# Read the CSV files\n",
    "data_dir = Path('input-data')\n",
    "thp_vol = pl.read_csv(data_dir / 'traffic_DLThpVol.csv')  # This is the target variable\n",
    "prb = pl.read_csv(data_dir / 'traffic_DLPRB.csv')\n",
    "thp_time = pl.read_csv(data_dir / 'traffic_DLThpTime.csv')\n",
    "mr_number = pl.read_csv(data_dir / 'traffic_MR_number.csv')\n",
    "\n",
    "dataframes = {\n",
    "    'thp_vol': thp_vol,\n",
    "    'prb': prb,\n",
    "    'thp_time': thp_time,\n",
    "    'mr_number': mr_number\n",
    "}\n",
    "\n",
    "# Rename first col to 'hour'\n",
    "for k, v in dataframes.items():\n",
    "    dataframes[k] = v.rename({'': \"idx_hour\"})"
   ]
  },
  {
   "cell_type": "code",
   "execution_count": 50,
   "metadata": {},
   "outputs": [],
   "source": [
    "xgb_hyperparams = {\n",
    "    'objective': 'reg:squarederror',\n",
    "    'eval_metric': 'mae',\n",
    "    # 'max_depth': 6,\n",
    "    'eta': 0.1,\n",
    "    'subsample': 0.8,\n",
    "    # 'colsample_bytree': 0.8,\n",
    "    # 'verbosity': 2,\n",
    "}\n",
    "\n",
    "config = {\n",
    "    'num_boost_round': 1000,\n",
    "    'early_stopping_rounds': 10,\n",
    "    'lags': [1, 2, 3, 6, 12, 13, 14, 24, 25, 26, 48, 49, 72],\n",
    "    'rolling_avgs': [1, 3, 9, 24, 48, 72],\n",
    "    'delta_reference_points': [(1, 2), (1, 3), (1, 6), (1, 24), (24, 25), (48, 49)],\n",
    "    'std_windows': [24, 48, 72],\n",
    "    'hour_shifts': [0, 6, 12, 18],\n",
    "    'weekday_shifts': [0, 3, 6],\n",
    "    'train_percentage': 0.7,\n",
    "}\n",
    "\n",
    "if DEBUG:\n",
    "    dataframes = {k: v.head(400).select(v.columns[:100]) for k, v in dataframes.items()}\n",
    "    # shorten every list in config to max three elements\n",
    "    config = {k: v[:3] if isinstance(v, list) else v for k, v in config.items()}\n",
    "\n",
    "config = xgb_hyperparams | config"
   ]
  },
  {
   "cell_type": "code",
   "execution_count": 51,
   "metadata": {},
   "outputs": [
    {
     "name": "stderr",
     "output_type": "stream",
     "text": [
      "\u001b[34m\u001b[1mwandb\u001b[0m: Currently logged in as: \u001b[33mesedx12\u001b[0m. Use \u001b[1m`wandb login --relogin`\u001b[0m to force relogin\n"
     ]
    },
    {
     "data": {
      "application/vnd.jupyter.widget-view+json": {
       "model_id": "d1ddcba15a49418e95f3f469b2ef0211",
       "version_major": 2,
       "version_minor": 0
      },
      "text/plain": [
       "VBox(children=(Label(value='Waiting for wandb.init()...\\r'), FloatProgress(value=0.011112996488938936, max=1.0…"
      ]
     },
     "metadata": {},
     "output_type": "display_data"
    },
    {
     "data": {
      "text/html": [
       "Tracking run with wandb version 0.17.8"
      ],
      "text/plain": [
       "<IPython.core.display.HTML object>"
      ]
     },
     "metadata": {},
     "output_type": "display_data"
    },
    {
     "data": {
      "text/html": [
       "Run data is saved locally in <code>/home/emil/Desktop/Beam-Level Traffic Forecasting Challenge/wandb/run-20240830_121639-skouk4rr</code>"
      ],
      "text/plain": [
       "<IPython.core.display.HTML object>"
      ]
     },
     "metadata": {},
     "output_type": "display_data"
    },
    {
     "data": {
      "text/html": [
       "Syncing run <strong><a href='https://wandb.ai/esedx12/traffic-forecasting-challenge/runs/skouk4rr' target=\"_blank\">volcanic-microwave-37</a></strong> to <a href='https://wandb.ai/esedx12/traffic-forecasting-challenge' target=\"_blank\">Weights & Biases</a> (<a href='https://wandb.me/run' target=\"_blank\">docs</a>)<br/>"
      ],
      "text/plain": [
       "<IPython.core.display.HTML object>"
      ]
     },
     "metadata": {},
     "output_type": "display_data"
    },
    {
     "data": {
      "text/html": [
       " View project at <a href='https://wandb.ai/esedx12/traffic-forecasting-challenge' target=\"_blank\">https://wandb.ai/esedx12/traffic-forecasting-challenge</a>"
      ],
      "text/plain": [
       "<IPython.core.display.HTML object>"
      ]
     },
     "metadata": {},
     "output_type": "display_data"
    },
    {
     "data": {
      "text/html": [
       " View run at <a href='https://wandb.ai/esedx12/traffic-forecasting-challenge/runs/skouk4rr' target=\"_blank\">https://wandb.ai/esedx12/traffic-forecasting-challenge/runs/skouk4rr</a>"
      ],
      "text/plain": [
       "<IPython.core.display.HTML object>"
      ]
     },
     "metadata": {},
     "output_type": "display_data"
    },
    {
     "data": {
      "text/html": [
       "<button onClick=\"this.nextSibling.style.display='block';this.style.display='none';\">Display W&B run</button><iframe src='https://wandb.ai/esedx12/traffic-forecasting-challenge/runs/skouk4rr?jupyter=true' style='border:none;width:100%;height:420px;display:none;'></iframe>"
      ],
      "text/plain": [
       "<wandb.sdk.wandb_run.Run at 0x7693f3a50d70>"
      ]
     },
     "execution_count": 51,
     "metadata": {},
     "output_type": "execute_result"
    }
   ],
   "source": [
    "wandb.init(project=\"traffic-forecasting-challenge\", entity=\"esedx12\", config=config, mode=('dryrun' if DEBUG else 'online'))"
   ]
  },
  {
   "cell_type": "code",
   "execution_count": 52,
   "metadata": {},
   "outputs": [],
   "source": [
    "# Features from manipulating the idx hour column\n",
    "\n",
    "def create_hour_feats(idx_hour_series: pl.Series, lags: list[int]) -> pl.DataFrame:\n",
    "    \"\"\"\n",
    "    Create shifted versions of daily 24h count\n",
    "    \"\"\"\n",
    "    daily_hour_series = idx_hour_series % 24  # TODO correct?\n",
    "    result_df = pl.DataFrame()\n",
    "    for lag in lags:\n",
    "        result_df = result_df.with_columns(\n",
    "            (daily_hour_series + lag % 24).alias(f'24h_shifted_{lag}h')\n",
    "        )\n",
    "    return result_df\n",
    "\n",
    "def create_weekday_feats(idx_hour_series: pl.Series, lags: list[int]) -> pl.DataFrame:\n",
    "    \"\"\"\n",
    "    Create shifted versions of weekday count\n",
    "    \"\"\"\n",
    "    day_series = idx_hour_series // 24\n",
    "    weekday_series = day_series % 7  # TODO correct?\n",
    "    result_df = pl.DataFrame()\n",
    "    for lag in lags:\n",
    "        result_df = result_df.with_columns(\n",
    "            (weekday_series + lag % 7).alias(f'weekday_shifted_{lag}d')\n",
    "        )\n",
    "    return result_df"
   ]
  },
  {
   "cell_type": "code",
   "execution_count": 53,
   "metadata": {},
   "outputs": [],
   "source": [
    "# Features from manipulating inidividual time series\n",
    "\n",
    "def create_lag_feats(series: pl.Series, lags: list[int]) -> pl.DataFrame:\n",
    "    \"\"\"\n",
    "    Create lag features\n",
    "    \"\"\"\n",
    "    result_df = pl.DataFrame()\n",
    "    for lag in lags:\n",
    "        result_df = result_df.with_columns(\n",
    "            series.shift(lag).alias(f'lag_{lag}')\n",
    "        )\n",
    "    return result_df\n",
    "\n",
    "def create_rolling_avg_feats(series: pl.Series, windows: list[int]) -> pl.DataFrame:\n",
    "    \"\"\"\n",
    "    Create rolling average features for a specified series\n",
    "    \"\"\"\n",
    "    result_df = pl.DataFrame()\n",
    "    for window in windows:\n",
    "        result_df = result_df.with_columns(\n",
    "            series.shift(1).rolling_mean(window).alias(f'rolling_avg_{window}')  # Shift by 1 to avoid data leakage\n",
    "        )\n",
    "    return result_df\n",
    "\n",
    "def create_delta_feats(series: pl.Series, reference_points: list[tuple[int, int]]) -> pl.DataFrame:\n",
    "    \"\"\"\n",
    "    Create delta features for a specified series\n",
    "    \"\"\"\n",
    "    result_df = pl.DataFrame()\n",
    "    for ref_point in reference_points:\n",
    "        result_df = result_df.with_columns(\n",
    "            (series.shift(ref_point[0]) - series.shift(ref_point[1])).alias(f'delta_{ref_point[0]}_{ref_point[1]}')\n",
    "        )\n",
    "    return result_df\n",
    "\n",
    "def create_std_feats(series: pl.Series, windows: list[int]) -> pl.DataFrame:\n",
    "    \"\"\"\n",
    "    Create rolling standard deviation features for a specified series\n",
    "    \"\"\"\n",
    "    result_df = pl.DataFrame()\n",
    "    for window in windows:\n",
    "        result_df = result_df.with_columns(\n",
    "            series.shift(1).rolling_std(window).alias(f'std_{window}')\n",
    "        )\n",
    "    return result_df"
   ]
  },
  {
   "cell_type": "code",
   "execution_count": 54,
   "metadata": {},
   "outputs": [],
   "source": [
    "def extract_cell_id(beam_id: str) -> str:\n",
    "    \"\"\"\n",
    "    Extract the cell ID from a beam ID.\n",
    "    \"\"\"\n",
    "    return \"_\".join(beam_id.split(\"_\")[0:2])\n",
    "\n",
    "def extract_station_id(beam_id: str) -> int:\n",
    "    \"\"\"\n",
    "    Extract the station ID from a beam ID.\n",
    "    \"\"\"\n",
    "    return beam_id.split(\"_\")[0]\n",
    "\n",
    "def compute_cell_avg(dataframe: pl.DataFrame, cell_id: str) -> pl.Series:\n",
    "    \"\"\"\n",
    "    Compute the average of a DataFrame for a given cell.\n",
    "    \"\"\"\n",
    "    cell_cols = [col for col in dataframe.columns if col.startswith(cell_id)]\n",
    "    cell_data = dataframe.select(cell_cols)\n",
    "    return cell_data.mean(axis=1)\n",
    "\n",
    "def compute_station_avg(dataframe: pl.DataFrame, station_id: int) -> pl.Series:\n",
    "    \"\"\"\n",
    "    Compute the average of a DataFrame for a given station.\n",
    "    \"\"\"\n",
    "    station_cols = [col for col in dataframe.columns if col.startswith(station_id)]\n",
    "    station_data = dataframe.select(station_cols)\n",
    "    return station_data.mean(axis=1)"
   ]
  },
  {
   "cell_type": "code",
   "execution_count": 55,
   "metadata": {},
   "outputs": [],
   "source": [
    "def create_time_features(idx_hours: pl.Series, hour_shifts: list[int], weekday_shifts: list[int]) -> pl.DataFrame:\n",
    "    \"\"\"\n",
    "    Create time-related features like hourly and weekday shifts.\n",
    "    \"\"\"\n",
    "    daily_hours = create_hour_feats(idx_hours, hour_shifts)\n",
    "    weekdays = create_weekday_feats(idx_hours, weekday_shifts)\n",
    "    return pl.concat([daily_hours, weekdays], how=\"horizontal\")\n",
    "\n",
    "def create_ts_features(ts: pl.Series, rolling_avgs: list[int], lags: list[int], delta_reference_points: list[int], std_windows: list[int]) -> pl.DataFrame:\n",
    "    \"\"\"\n",
    "    Create beam-specific features.\n",
    "    \"\"\"\n",
    "    rolling_avg_feats = create_rolling_avg_feats(ts, rolling_avgs)\n",
    "    rolling_avg_feats = rolling_avg_feats.rename({col: f\"rolling_avg_{col}\" for col in rolling_avg_feats.columns})\n",
    "    \n",
    "    lag_feats = create_lag_feats(ts, lags)\n",
    "    lag_feats = lag_feats.rename({col: f\"lag_{col}\" for col in lag_feats.columns})\n",
    "    \n",
    "    delta_feats = create_delta_feats(ts, delta_reference_points)\n",
    "    delta_feats = delta_feats.rename({col: f\"delta_{col}\" for col in delta_feats.columns})\n",
    "    \n",
    "    std_feats = create_std_feats(ts, std_windows)\n",
    "    std_feats = std_feats.rename({col: f\"std_{col}\" for col in std_feats.columns})\n",
    "\n",
    "    return pl.concat([rolling_avg_feats, lag_feats, delta_feats, std_feats], how=\"horizontal\")"
   ]
  },
  {
   "cell_type": "code",
   "execution_count": 56,
   "metadata": {},
   "outputs": [],
   "source": [
    "def create_id_features(beam_id: str, length: int) -> pl.DataFrame:\n",
    "    \"\"\"\n",
    "    Create DataFrame columns for cell and station IDs based on beam ID.\n",
    "    \"\"\"\n",
    "    beam_id_col = pl.Series([beam_id] * length).alias(\"beam_id\").to_frame()\n",
    "\n",
    "    cell_id = extract_cell_id(beam_id)\n",
    "    cell_id_col = pl.Series([cell_id] * length).alias(\"cell_id\").to_frame()\n",
    "\n",
    "    station_id = extract_station_id(beam_id)\n",
    "    station_id_col = pl.Series([station_id] * length).alias(\"station_id\").to_frame() \n",
    "\n",
    "    return pl.concat([beam_id_col, cell_id_col, station_id_col], how=\"horizontal\")"
   ]
  },
  {
   "cell_type": "code",
   "execution_count": 57,
   "metadata": {},
   "outputs": [],
   "source": [
    "def create_features(dataframes: dict[str, pl.DataFrame], config: wandb.Config) -> pl.DataFrame:\n",
    "    \"\"\"\n",
    "    Create features for the traffic forecasting model.\n",
    "    \"\"\"\n",
    "    beam_dfs = []\n",
    "    idx_hours = dataframes['thp_vol']['idx_hour'].to_frame()\n",
    "\n",
    "    for beam_id in tqdm(dataframes['thp_vol'].drop('idx_hour').columns):\n",
    "        feature_dfs = []\n",
    "\n",
    "        # Create hour and weekday features\n",
    "        feature_dfs.append(create_time_features(idx_hours['idx_hour'], config.hour_shifts, config.weekday_shifts))\n",
    "\n",
    "        # Create beam, cell, and station ID features\n",
    "        feature_dfs.append(create_id_features(beam_id, len(idx_hours)))\n",
    "\n",
    "        for df_name, df in dataframes.items():\n",
    "            ts = df[beam_id]\n",
    "            \n",
    "            # Create lags, rolling averages, etc. for the time series\n",
    "            df_feats = create_ts_features(ts, config.rolling_avgs, config.lags, config.delta_reference_points, config.std_windows)\n",
    "            df_feats = df_feats.rename({col: f\"{df_name}_{col}\" for col in df_feats.columns})\n",
    "\n",
    "            # # Create features from the cell and station averages, NB need to apply lag/avg methods to avoid data leakage\n",
    "            # cell_avg = compute_cell_avg_ts(df, cell_id)\n",
    "            # station_avg = compute_station_avg(df, station_id)\n",
    "\n",
    "            feature_dfs.append(df_feats)\n",
    "\n",
    "        # TODO also add target transformations (maybe sklearn can help)\n",
    "        targets = pl.DataFrame([\n",
    "            dataframes['thp_vol'][beam_id].alias(\"thp_vol\"), \n",
    "            dataframes['prb'][beam_id].alias(\"prb\"), \n",
    "            dataframes['thp_time'][beam_id].alias(\"thp_time\"), \n",
    "            dataframes['mr_number'][beam_id].alias(\"mr_number\")\n",
    "            ])\n",
    "        targets = targets.rename({col: f\"target_{col}\" for col in targets.columns})\n",
    "\n",
    "        # Combine all features for this beam\n",
    "        beam_df = pl.concat([idx_hours] + feature_dfs + [targets], how=\"horizontal\").drop_nulls()\n",
    "\n",
    "        # Append the DataFrame for this beam to the list\n",
    "        beam_dfs.append(beam_df)\n",
    "\n",
    "    # Concatenate all beams into a single DataFrame\n",
    "    return pl.concat(beam_dfs, how=\"vertical\")"
   ]
  },
  {
   "cell_type": "code",
   "execution_count": 58,
   "metadata": {},
   "outputs": [
    {
     "data": {
      "application/vnd.jupyter.widget-view+json": {
       "model_id": "db1fc8fc7da647e688e16b6dcc368989",
       "version_major": 2,
       "version_minor": 0
      },
      "text/plain": [
       "  0%|          | 0/2880 [00:00<?, ?it/s]"
      ]
     },
     "metadata": {},
     "output_type": "display_data"
    },
    {
     "data": {
      "application/vnd.jupyter.widget-view+json": {
       "model_id": "7bb9e1e9d66e48c9800d7b544daf7aa9",
       "version_major": 2,
       "version_minor": 0
      },
      "text/plain": [
       "  0%|          | 0/2880 [00:00<?, ?it/s]"
      ]
     },
     "metadata": {},
     "output_type": "display_data"
    }
   ],
   "source": [
    "# Use first config.train_percentage of dataframe rows for training, and the rest for testing\n",
    "\n",
    "train_dataframes = {k: v.head(math.floor(v.height * wandb.config.train_percentage)) for k, v in dataframes.items()}\n",
    "test_dataframes = {k: v.tail(math.ceil(v.height * (1 - wandb.config.train_percentage))) for k, v in dataframes.items()}\n",
    "\n",
    "train_feats = create_features(train_dataframes, wandb.config)\n",
    "test_feats = create_features(test_dataframes, wandb.config)\n",
    "\n",
    "wandb.log({'train shape': train_feats.shape, 'test shape': test_feats.shape})"
   ]
  },
  {
   "cell_type": "code",
   "execution_count": 59,
   "metadata": {},
   "outputs": [],
   "source": [
    "dropped_cols = ['idx_hour', 'beam_id', 'cell_id', 'station_id']\n",
    "target_cols = [col for col in train_feats.columns if col.startswith(\"target\")]\n",
    "\n",
    "# Fit an xgboost model\n",
    "X_train, y_train = train_feats.drop(target_cols + dropped_cols), train_feats[target_cols]\n",
    "X_test, y_test = test_feats.drop(target_cols + dropped_cols), test_feats[target_cols]\n",
    "\n",
    "wandb.config.update({\n",
    "    'train_feats': X_train.columns,\n",
    "    'train_shape': X_train.shape,\n",
    "    'test_shape': X_test.shape,\n",
    "})"
   ]
  },
  {
   "cell_type": "code",
   "execution_count": 60,
   "metadata": {},
   "outputs": [],
   "source": [
    "\n",
    "dtrain = xgb.DMatrix(X_train.to_numpy(), label=y_train.to_numpy())\n",
    "dtest = xgb.DMatrix(X_test.to_numpy(), label=y_test.to_numpy())\n",
    "\n",
    "watchlist = [(dtrain, 'train'), (dtest, 'test')]\n",
    "\n",
    "# Dictionary to store evaluation results\n",
    "evals_result = {}"
   ]
  },
  {
   "cell_type": "code",
   "execution_count": null,
   "metadata": {},
   "outputs": [],
   "source": [
    "# TODO change to xgb fit (?)\n",
    "# TODO add optuna\n",
    "#     wandbc = WeightsAndBiasesCallback(metric_name=\"accuracy\", wandb_kwargs=wandb_kwargs)\n",
    "bst = xgb.train(xgb_hyperparams, \n",
    "                dtrain, \n",
    "                config['num_boost_round'], \n",
    "                watchlist, \n",
    "                evals_result=evals_result, \n",
    "                verbose_eval=5, \n",
    "                early_stopping_rounds=config['early_stopping_rounds'],\n",
    "                )"
   ]
  },
  {
   "cell_type": "markdown",
   "metadata": {},
   "source": [
    "## Train\n",
    "* We use the sk-learn API"
   ]
  },
  {
   "cell_type": "code",
   "execution_count": null,
   "metadata": {},
   "outputs": [],
   "source": [
    "model = xgb.XGBRegressor(\n",
    "    "
   ]
  },
  {
   "cell_type": "code",
   "execution_count": 62,
   "metadata": {},
   "outputs": [
    {
     "name": "stdout",
     "output_type": "stream",
     "text": [
      "Best Test MAE: 0.21346909727772195\n",
      "Round: 238\n"
     ]
    }
   ],
   "source": [
    "# Predict\n",
    "train_preds = bst.predict(dtrain)\n",
    "test_preds = bst.predict(dtest)\n",
    "\n",
    "# Extract MAE values\n",
    "train_mae = evals_result['train']['mae']\n",
    "test_mae = evals_result['test']['mae']\n",
    "\n",
    "# Create a DataFrame using polars\n",
    "eval_df = pl.DataFrame({\n",
    "    'Round': range(1, len(train_mae) + 1),\n",
    "    'Train MAE': train_mae,\n",
    "    'Test MAE': test_mae\n",
    "})\n",
    "\n",
    "best_test_mae = eval_df['Test MAE'].min()\n",
    "best_test_mae_round = eval_df.filter(pl.col('Test MAE') == best_test_mae)['Round'][0]\n",
    "best_train_mae = eval_df['Train MAE'].min()\n",
    "\n",
    "# Log to wandb\n",
    "wandb.log({'best_test_mae': best_test_mae, 'best_round': best_test_mae_round, 'best_train_mae': best_train_mae})\n",
    "wandb.log({'eval_df': wandb.Table(data=eval_df.to_pandas())})\n",
    "\n",
    "print(f\"Best Test MAE: {best_test_mae}\")\n",
    "print(f\"Round: {best_test_mae_round}\")\n",
    "\n",
    "# Save model\n",
    "model_path = Path(f'checkpoints/{wandb.run.name}.ubj')\n",
    "bst.save_model(model_path)"
   ]
  },
  {
   "cell_type": "code",
   "execution_count": 70,
   "metadata": {},
   "outputs": [
    {
     "data": {
      "text/plain": [
       "array([[0.7476496 , 1.0659671 , 0.6641862 , 0.9606448 ],\n",
       "       [0.61770576, 0.96787477, 0.5101617 , 0.9006841 ],\n",
       "       [1.3303899 , 1.624158  , 1.4107857 , 1.2676449 ],\n",
       "       ...,\n",
       "       [0.08550844, 0.12701981, 0.09883477, 0.12284534],\n",
       "       [0.08078336, 0.09582741, 0.08413868, 0.09643217],\n",
       "       [0.06998763, 0.11047703, 0.10029584, 0.11158922]], dtype=float32)"
      ]
     },
     "execution_count": 70,
     "metadata": {},
     "output_type": "execute_result"
    }
   ],
   "source": [
    "test_preds\n",
    "# WHAT IS MAE CALCULATED ON ??"
   ]
  },
  {
   "cell_type": "code",
   "execution_count": 63,
   "metadata": {},
   "outputs": [
    {
     "data": {
      "application/vnd.plotly.v1+json": {
       "config": {
        "plotlyServerURL": "https://plot.ly"
       },
       "data": [
        {
         "hovertemplate": "variable=wide_variable_0<br>Boosting Round=%{x}<br>Mean Absolute Error=%{y}<extra></extra>",
         "legendgroup": "wide_variable_0",
         "line": {
          "color": "#636efa",
          "dash": "solid"
         },
         "marker": {
          "symbol": "circle"
         },
         "mode": "lines",
         "name": "Train MAE",
         "orientation": "v",
         "showlegend": true,
         "type": "scatter",
         "x": [
          1,
          2,
          3,
          4,
          5,
          6,
          7,
          8,
          9,
          10,
          11,
          12,
          13,
          14,
          15,
          16,
          17,
          18,
          19,
          20,
          21,
          22,
          23,
          24,
          25,
          26,
          27,
          28,
          29,
          30,
          31,
          32,
          33,
          34,
          35,
          36,
          37,
          38,
          39,
          40,
          41,
          42,
          43,
          44,
          45,
          46,
          47,
          48,
          49,
          50,
          51,
          52,
          53,
          54,
          55,
          56,
          57,
          58,
          59,
          60,
          61,
          62,
          63,
          64,
          65,
          66,
          67,
          68,
          69,
          70,
          71,
          72,
          73,
          74,
          75,
          76,
          77,
          78,
          79,
          80,
          81,
          82,
          83,
          84,
          85,
          86,
          87,
          88,
          89,
          90,
          91,
          92,
          93,
          94,
          95,
          96,
          97,
          98,
          99,
          100,
          101,
          102,
          103,
          104,
          105,
          106,
          107,
          108,
          109,
          110,
          111,
          112,
          113,
          114,
          115,
          116,
          117,
          118,
          119,
          120,
          121,
          122,
          123,
          124,
          125,
          126,
          127,
          128,
          129,
          130,
          131,
          132,
          133,
          134,
          135,
          136,
          137,
          138,
          139,
          140,
          141,
          142,
          143,
          144,
          145,
          146,
          147,
          148,
          149,
          150,
          151,
          152,
          153,
          154,
          155,
          156,
          157,
          158,
          159,
          160,
          161,
          162,
          163,
          164,
          165,
          166,
          167,
          168,
          169,
          170,
          171,
          172,
          173,
          174,
          175,
          176,
          177,
          178,
          179,
          180,
          181,
          182,
          183,
          184,
          185,
          186,
          187,
          188,
          189,
          190,
          191,
          192,
          193,
          194,
          195,
          196,
          197,
          198,
          199,
          200,
          201,
          202,
          203,
          204,
          205,
          206,
          207,
          208,
          209,
          210,
          211,
          212,
          213,
          214,
          215,
          216,
          217,
          218,
          219,
          220,
          221,
          222,
          223,
          224,
          225,
          226,
          227,
          228,
          229,
          230,
          231,
          232,
          233,
          234,
          235,
          236,
          237,
          238,
          239,
          240,
          241,
          242,
          243,
          244,
          245,
          246,
          247,
          248
         ],
         "xaxis": "x",
         "y": [
          0.49724057118845216,
          0.4592094153931642,
          0.4258282355259826,
          0.3965098395202835,
          0.37095811050096955,
          0.34877426941245077,
          0.3296149664612065,
          0.3131232859839371,
          0.2989350769161644,
          0.28678075448922563,
          0.27642536098952203,
          0.2676458520745263,
          0.2601710445842389,
          0.2538432348701093,
          0.24848305951083546,
          0.24395177307499444,
          0.24010402204797274,
          0.2368342686643679,
          0.23409182226824135,
          0.23171215146129265,
          0.22968762312588772,
          0.2279812776279944,
          0.2265106290219544,
          0.2252601318988914,
          0.22415762929555436,
          0.2232341741912094,
          0.22238138529202064,
          0.2216317132466895,
          0.2210222071662042,
          0.22046743175414074,
          0.220016901200053,
          0.21959016006650636,
          0.21923386558222088,
          0.2189410076971206,
          0.21865201854189834,
          0.2183851292249233,
          0.218144626708198,
          0.21794492186574072,
          0.21775973860490788,
          0.21756545148941364,
          0.21742366405229915,
          0.21729761661067323,
          0.21714732218505695,
          0.21705277570780424,
          0.21692898608259414,
          0.21682722333092472,
          0.21672539860382414,
          0.2166366760328325,
          0.2165505816461488,
          0.21646605780570943,
          0.21638043144712474,
          0.21629887775683007,
          0.21623042911144597,
          0.2161655824376585,
          0.21611652402839637,
          0.21604177017193882,
          0.21596712517107847,
          0.21589684214452007,
          0.21580794247735016,
          0.21575487765825324,
          0.21568027871439563,
          0.21563525302665565,
          0.2155539370258855,
          0.2154971228245466,
          0.21545276229104318,
          0.21536996332949873,
          0.21530141708436695,
          0.21525617294422528,
          0.2152106142910513,
          0.21513442899811935,
          0.2150933071382845,
          0.21503838185241447,
          0.21497932461551292,
          0.2149441668383262,
          0.21489271387423572,
          0.21481353981895016,
          0.21475103397835044,
          0.214686960641872,
          0.214626466768918,
          0.21457064741454598,
          0.21450357155009636,
          0.21445349346671355,
          0.21440877758047422,
          0.2143383688282419,
          0.21428114517362604,
          0.21422390989199075,
          0.2141630567261506,
          0.214112484283415,
          0.21405487201137766,
          0.21400816059814576,
          0.21395917165302478,
          0.21389521178784768,
          0.21384614065865246,
          0.21376655131072625,
          0.21370906917258384,
          0.21367801990672688,
          0.2136220594164091,
          0.2135804251285942,
          0.21353527056202998,
          0.21348030935097997,
          0.21342154825361706,
          0.2133814063128146,
          0.2133271049136004,
          0.2132725905223521,
          0.21322686197330634,
          0.21316724351413444,
          0.21313470020342334,
          0.21309124191738577,
          0.21304517278845927,
          0.21300902137994565,
          0.21297295905333055,
          0.21293414482416206,
          0.21288735930724956,
          0.2128388194710708,
          0.21278005646023126,
          0.2127432839014108,
          0.21270096040431266,
          0.21266903004536847,
          0.21262058158814012,
          0.21258054050235795,
          0.2125513936858981,
          0.21250591582323072,
          0.21247024065323367,
          0.21242273088860908,
          0.2123824904952493,
          0.2123463307541365,
          0.21230088340136277,
          0.21226189094336645,
          0.21222663925910434,
          0.21219150572981296,
          0.21214971150592993,
          0.21209927437381174,
          0.21205589177369827,
          0.212012502151786,
          0.21196508110016415,
          0.21193303438035685,
          0.2118858287202976,
          0.21184245956133713,
          0.21180401089426518,
          0.21176311815307403,
          0.21171618595109543,
          0.21167207393881415,
          0.21161942676570575,
          0.21157696138497903,
          0.21153529439823043,
          0.21148834457258595,
          0.2114575519629841,
          0.21141700502044614,
          0.21137172383199684,
          0.2113371590975268,
          0.2112917536195915,
          0.2112567996024823,
          0.2112280933443755,
          0.21119306093371912,
          0.21115766924432527,
          0.2111238220025056,
          0.21108094941155736,
          0.21103991907743203,
          0.21100828855553513,
          0.2109768389659175,
          0.21094691488744347,
          0.2109212600428888,
          0.21088757698670144,
          0.21085709873081798,
          0.21082572522998555,
          0.21078586585268214,
          0.2107505403564836,
          0.2107160595854569,
          0.21067086680516758,
          0.21062769973785525,
          0.21058264899489998,
          0.21054903987624546,
          0.21051244574431313,
          0.21047592698864312,
          0.21044422814369232,
          0.21041436297545865,
          0.21038369229512702,
          0.21035195840782359,
          0.21031660915480754,
          0.21028099272095105,
          0.2102431983178578,
          0.21020793289222556,
          0.210174861303447,
          0.2101392466718394,
          0.21010610558186685,
          0.21006883460999273,
          0.21003900872989412,
          0.21000762562750172,
          0.20997142422068865,
          0.20993921298419466,
          0.20990014061013135,
          0.20986643278062225,
          0.20983172234698488,
          0.2097934285168488,
          0.20977153863046294,
          0.20974513448935686,
          0.20971047487980027,
          0.20968467536576155,
          0.20964414366601078,
          0.20961623344087046,
          0.20958411636935537,
          0.20955091496349412,
          0.20951779186645134,
          0.20948875532455966,
          0.20945587303990207,
          0.20942693302401313,
          0.20939009129210792,
          0.2093602363511302,
          0.20932880378056878,
          0.20930779890329113,
          0.20927912801463,
          0.20925375597467216,
          0.20922251577387221,
          0.20919130176872003,
          0.20916021216487293,
          0.20912252700092226,
          0.20908838243504446,
          0.2090601744390276,
          0.2090324338646709,
          0.2089999637749196,
          0.20896858208967337,
          0.20893414920283793,
          0.20890187727580656,
          0.20887660515254805,
          0.20884616501989062,
          0.2088184208149827,
          0.20879014844934762,
          0.20875829579650826,
          0.2087314160586355,
          0.20870176603375912,
          0.2086675391243516,
          0.20863642128828486,
          0.20861190000356936,
          0.20858123257501587,
          0.20855419242950213,
          0.20852662233664582,
          0.20849840231541716,
          0.2084713604585829,
          0.20843879488761355,
          0.2084181124401455,
          0.2083869613236202,
          0.20835698492392782,
          0.2083288100934372,
          0.20830208859327118,
          0.20827196908899803,
          0.2082431635037908,
          0.20821331483130248,
          0.2081890784027708
         ],
         "yaxis": "y"
        },
        {
         "hovertemplate": "variable=wide_variable_1<br>Boosting Round=%{x}<br>Mean Absolute Error=%{y}<extra></extra>",
         "legendgroup": "wide_variable_1",
         "line": {
          "color": "#EF553B",
          "dash": "solid"
         },
         "marker": {
          "symbol": "circle"
         },
         "mode": "lines",
         "name": "Test MAE",
         "orientation": "v",
         "showlegend": true,
         "type": "scatter",
         "x": [
          1,
          2,
          3,
          4,
          5,
          6,
          7,
          8,
          9,
          10,
          11,
          12,
          13,
          14,
          15,
          16,
          17,
          18,
          19,
          20,
          21,
          22,
          23,
          24,
          25,
          26,
          27,
          28,
          29,
          30,
          31,
          32,
          33,
          34,
          35,
          36,
          37,
          38,
          39,
          40,
          41,
          42,
          43,
          44,
          45,
          46,
          47,
          48,
          49,
          50,
          51,
          52,
          53,
          54,
          55,
          56,
          57,
          58,
          59,
          60,
          61,
          62,
          63,
          64,
          65,
          66,
          67,
          68,
          69,
          70,
          71,
          72,
          73,
          74,
          75,
          76,
          77,
          78,
          79,
          80,
          81,
          82,
          83,
          84,
          85,
          86,
          87,
          88,
          89,
          90,
          91,
          92,
          93,
          94,
          95,
          96,
          97,
          98,
          99,
          100,
          101,
          102,
          103,
          104,
          105,
          106,
          107,
          108,
          109,
          110,
          111,
          112,
          113,
          114,
          115,
          116,
          117,
          118,
          119,
          120,
          121,
          122,
          123,
          124,
          125,
          126,
          127,
          128,
          129,
          130,
          131,
          132,
          133,
          134,
          135,
          136,
          137,
          138,
          139,
          140,
          141,
          142,
          143,
          144,
          145,
          146,
          147,
          148,
          149,
          150,
          151,
          152,
          153,
          154,
          155,
          156,
          157,
          158,
          159,
          160,
          161,
          162,
          163,
          164,
          165,
          166,
          167,
          168,
          169,
          170,
          171,
          172,
          173,
          174,
          175,
          176,
          177,
          178,
          179,
          180,
          181,
          182,
          183,
          184,
          185,
          186,
          187,
          188,
          189,
          190,
          191,
          192,
          193,
          194,
          195,
          196,
          197,
          198,
          199,
          200,
          201,
          202,
          203,
          204,
          205,
          206,
          207,
          208,
          209,
          210,
          211,
          212,
          213,
          214,
          215,
          216,
          217,
          218,
          219,
          220,
          221,
          222,
          223,
          224,
          225,
          226,
          227,
          228,
          229,
          230,
          231,
          232,
          233,
          234,
          235,
          236,
          237,
          238,
          239,
          240,
          241,
          242,
          243,
          244,
          245,
          246,
          247,
          248
         ],
         "xaxis": "x",
         "y": [
          0.5028150777160613,
          0.463539775356199,
          0.4290152947396452,
          0.39870979359649733,
          0.3722827947046922,
          0.34937236633944596,
          0.3295672996388791,
          0.3125632444994199,
          0.2979669405362791,
          0.2854772787438814,
          0.2748443583467427,
          0.26585762778798316,
          0.25822064646910914,
          0.2517984264929048,
          0.2463711458214952,
          0.24178834580710204,
          0.23793100364106545,
          0.23465930553867587,
          0.23191971197511058,
          0.22958742823551306,
          0.22760265812638616,
          0.22593493046972743,
          0.22450928280020582,
          0.22331186875141493,
          0.22227157722607643,
          0.22139727902643738,
          0.22061362942075272,
          0.21993769244962116,
          0.21938408058218134,
          0.21889299779230187,
          0.21846925790795316,
          0.21809000623229266,
          0.21777402792707873,
          0.21750681906398248,
          0.21724801131670576,
          0.21701292008709283,
          0.21681609836445168,
          0.21665056159666335,
          0.21649413888967883,
          0.21634021534200984,
          0.21622127538477134,
          0.21612162619533745,
          0.21600699824671732,
          0.21593046041423564,
          0.21583559495716215,
          0.2157589953410655,
          0.21567863967113635,
          0.21561227825780843,
          0.21554682704331946,
          0.21549250948539472,
          0.2154236638584993,
          0.21536400501797667,
          0.2153102022980809,
          0.21525920304537133,
          0.2152235083115097,
          0.21517560747249523,
          0.21512063730598036,
          0.21508120877954676,
          0.215042703478512,
          0.21501250163323468,
          0.2149752496980837,
          0.21495295100345535,
          0.21492122255457577,
          0.21488846192471187,
          0.21485891952602063,
          0.21481582583672093,
          0.21477475793481549,
          0.21474359164721704,
          0.21471677153820462,
          0.2146808446206213,
          0.21466174061165588,
          0.2146391393817465,
          0.2146198730047468,
          0.21460735279291684,
          0.2145857810346906,
          0.21457240627534044,
          0.2145574820349196,
          0.2145474769938806,
          0.21453255205907157,
          0.21452452287946613,
          0.21450183790939972,
          0.21448942275067892,
          0.214470381884142,
          0.2144487539500538,
          0.21443875117561953,
          0.21441226725539517,
          0.21438764550204986,
          0.21437685187209704,
          0.21435434452092805,
          0.21434510850257132,
          0.21433169938471203,
          0.21431760278855544,
          0.21431069851138795,
          0.21429080734013964,
          0.2142751514476867,
          0.21426810161918358,
          0.21425290919443932,
          0.21423630095292506,
          0.21423211233829548,
          0.2142253793053052,
          0.21420300115369129,
          0.21418647225813092,
          0.21417186825008064,
          0.21415620780211111,
          0.21414706469242273,
          0.21413081853041743,
          0.2141200209317371,
          0.21410731392562546,
          0.21409057552562283,
          0.21408782680303295,
          0.2140853995902203,
          0.2140719610667689,
          0.21406086400497742,
          0.21404307670341313,
          0.21402359873310625,
          0.2140108070317486,
          0.213996643837661,
          0.21399486308410096,
          0.2139791356059871,
          0.21398048515461304,
          0.21397010165294858,
          0.2139582232574134,
          0.2139543120586754,
          0.21394111556161213,
          0.21393386377611173,
          0.2139323795385277,
          0.21392484739653406,
          0.21391923012113262,
          0.213905804249716,
          0.21390961508995607,
          0.21390406738980344,
          0.213887196206417,
          0.21388833709783156,
          0.213893494006584,
          0.21388012221951308,
          0.21386988773456764,
          0.21385821358609836,
          0.21385080246604815,
          0.21385341636337754,
          0.21384022641746692,
          0.21382330157709742,
          0.21381265681630257,
          0.21380985421936347,
          0.21379855157756136,
          0.21378588806718352,
          0.21378284070189577,
          0.21377908896076317,
          0.21376911026476364,
          0.21376748548969235,
          0.21375878015314895,
          0.2137545703536755,
          0.21375061341944668,
          0.21374286636324183,
          0.21373993107325545,
          0.21373979193454765,
          0.21373599518203495,
          0.21372998595238427,
          0.21372622097164443,
          0.21371841989504697,
          0.21371585193585163,
          0.21370803402884275,
          0.2137081097406605,
          0.21370356707027396,
          0.2136954949722328,
          0.21368733959003403,
          0.21368272792378495,
          0.21367907906441536,
          0.2136780283120217,
          0.21366758293948346,
          0.2136566395865379,
          0.21365034618189052,
          0.2136558111431191,
          0.21365589860576528,
          0.21364961721867323,
          0.21365179751007807,
          0.2136525400752369,
          0.21365029939812463,
          0.21365167109420322,
          0.21364917156552346,
          0.21364397842238725,
          0.21363547597363788,
          0.2136298032209768,
          0.21362673110402783,
          0.2136276231319369,
          0.21362436437211937,
          0.21361465145261713,
          0.21360692238174803,
          0.2136049715638689,
          0.21360089218491574,
          0.21359255610150632,
          0.2135885586547784,
          0.21358475580328726,
          0.2135847537914483,
          0.21357938523609574,
          0.21358520656886248,
          0.21358475589481665,
          0.2135788042342496,
          0.21357938542975877,
          0.21356965790153193,
          0.21356844978104952,
          0.21356644432516306,
          0.2135604113312274,
          0.21355528525635495,
          0.2135518624473565,
          0.2135530968759287,
          0.213553315801869,
          0.21354499562398527,
          0.21354059913466822,
          0.21353057657165656,
          0.21353632177972012,
          0.21353505776287626,
          0.21353811556951216,
          0.21353468007106396,
          0.21353241262567912,
          0.213535090068438,
          0.21352965887799594,
          0.21352979247754555,
          0.21353392970910323,
          0.21353207103784952,
          0.21353261511980315,
          0.21353063049819906,
          0.21352451161462221,
          0.21352117027854228,
          0.21352002177937257,
          0.21350916209419699,
          0.2135095026314709,
          0.2135077649657252,
          0.21350169743348027,
          0.21350087458113662,
          0.21349472744942102,
          0.21349041856591827,
          0.2134898256657998,
          0.21348491596171362,
          0.21348306377250126,
          0.2134776651846051,
          0.21347275599848387,
          0.21347012927545023,
          0.21346909727772195,
          0.21347353877324668,
          0.21347254318990985,
          0.213473977270277,
          0.2134727795566382,
          0.21347226205685066,
          0.21347105999158644,
          0.2134712067618744,
          0.21348063231149914,
          0.21347518341095437,
          0.21347367444347048
         ],
         "yaxis": "y"
        }
       ],
       "layout": {
        "legend": {
         "itemsizing": "constant",
         "title": {
          "text": "Dataset"
         },
         "tracegroupgap": 0
        },
        "template": {
         "data": {
          "bar": [
           {
            "error_x": {
             "color": "#2a3f5f"
            },
            "error_y": {
             "color": "#2a3f5f"
            },
            "marker": {
             "line": {
              "color": "#E5ECF6",
              "width": 0.5
             },
             "pattern": {
              "fillmode": "overlay",
              "size": 10,
              "solidity": 0.2
             }
            },
            "type": "bar"
           }
          ],
          "barpolar": [
           {
            "marker": {
             "line": {
              "color": "#E5ECF6",
              "width": 0.5
             },
             "pattern": {
              "fillmode": "overlay",
              "size": 10,
              "solidity": 0.2
             }
            },
            "type": "barpolar"
           }
          ],
          "carpet": [
           {
            "aaxis": {
             "endlinecolor": "#2a3f5f",
             "gridcolor": "white",
             "linecolor": "white",
             "minorgridcolor": "white",
             "startlinecolor": "#2a3f5f"
            },
            "baxis": {
             "endlinecolor": "#2a3f5f",
             "gridcolor": "white",
             "linecolor": "white",
             "minorgridcolor": "white",
             "startlinecolor": "#2a3f5f"
            },
            "type": "carpet"
           }
          ],
          "choropleth": [
           {
            "colorbar": {
             "outlinewidth": 0,
             "ticks": ""
            },
            "type": "choropleth"
           }
          ],
          "contour": [
           {
            "colorbar": {
             "outlinewidth": 0,
             "ticks": ""
            },
            "colorscale": [
             [
              0,
              "#0d0887"
             ],
             [
              0.1111111111111111,
              "#46039f"
             ],
             [
              0.2222222222222222,
              "#7201a8"
             ],
             [
              0.3333333333333333,
              "#9c179e"
             ],
             [
              0.4444444444444444,
              "#bd3786"
             ],
             [
              0.5555555555555556,
              "#d8576b"
             ],
             [
              0.6666666666666666,
              "#ed7953"
             ],
             [
              0.7777777777777778,
              "#fb9f3a"
             ],
             [
              0.8888888888888888,
              "#fdca26"
             ],
             [
              1,
              "#f0f921"
             ]
            ],
            "type": "contour"
           }
          ],
          "contourcarpet": [
           {
            "colorbar": {
             "outlinewidth": 0,
             "ticks": ""
            },
            "type": "contourcarpet"
           }
          ],
          "heatmap": [
           {
            "colorbar": {
             "outlinewidth": 0,
             "ticks": ""
            },
            "colorscale": [
             [
              0,
              "#0d0887"
             ],
             [
              0.1111111111111111,
              "#46039f"
             ],
             [
              0.2222222222222222,
              "#7201a8"
             ],
             [
              0.3333333333333333,
              "#9c179e"
             ],
             [
              0.4444444444444444,
              "#bd3786"
             ],
             [
              0.5555555555555556,
              "#d8576b"
             ],
             [
              0.6666666666666666,
              "#ed7953"
             ],
             [
              0.7777777777777778,
              "#fb9f3a"
             ],
             [
              0.8888888888888888,
              "#fdca26"
             ],
             [
              1,
              "#f0f921"
             ]
            ],
            "type": "heatmap"
           }
          ],
          "heatmapgl": [
           {
            "colorbar": {
             "outlinewidth": 0,
             "ticks": ""
            },
            "colorscale": [
             [
              0,
              "#0d0887"
             ],
             [
              0.1111111111111111,
              "#46039f"
             ],
             [
              0.2222222222222222,
              "#7201a8"
             ],
             [
              0.3333333333333333,
              "#9c179e"
             ],
             [
              0.4444444444444444,
              "#bd3786"
             ],
             [
              0.5555555555555556,
              "#d8576b"
             ],
             [
              0.6666666666666666,
              "#ed7953"
             ],
             [
              0.7777777777777778,
              "#fb9f3a"
             ],
             [
              0.8888888888888888,
              "#fdca26"
             ],
             [
              1,
              "#f0f921"
             ]
            ],
            "type": "heatmapgl"
           }
          ],
          "histogram": [
           {
            "marker": {
             "pattern": {
              "fillmode": "overlay",
              "size": 10,
              "solidity": 0.2
             }
            },
            "type": "histogram"
           }
          ],
          "histogram2d": [
           {
            "colorbar": {
             "outlinewidth": 0,
             "ticks": ""
            },
            "colorscale": [
             [
              0,
              "#0d0887"
             ],
             [
              0.1111111111111111,
              "#46039f"
             ],
             [
              0.2222222222222222,
              "#7201a8"
             ],
             [
              0.3333333333333333,
              "#9c179e"
             ],
             [
              0.4444444444444444,
              "#bd3786"
             ],
             [
              0.5555555555555556,
              "#d8576b"
             ],
             [
              0.6666666666666666,
              "#ed7953"
             ],
             [
              0.7777777777777778,
              "#fb9f3a"
             ],
             [
              0.8888888888888888,
              "#fdca26"
             ],
             [
              1,
              "#f0f921"
             ]
            ],
            "type": "histogram2d"
           }
          ],
          "histogram2dcontour": [
           {
            "colorbar": {
             "outlinewidth": 0,
             "ticks": ""
            },
            "colorscale": [
             [
              0,
              "#0d0887"
             ],
             [
              0.1111111111111111,
              "#46039f"
             ],
             [
              0.2222222222222222,
              "#7201a8"
             ],
             [
              0.3333333333333333,
              "#9c179e"
             ],
             [
              0.4444444444444444,
              "#bd3786"
             ],
             [
              0.5555555555555556,
              "#d8576b"
             ],
             [
              0.6666666666666666,
              "#ed7953"
             ],
             [
              0.7777777777777778,
              "#fb9f3a"
             ],
             [
              0.8888888888888888,
              "#fdca26"
             ],
             [
              1,
              "#f0f921"
             ]
            ],
            "type": "histogram2dcontour"
           }
          ],
          "mesh3d": [
           {
            "colorbar": {
             "outlinewidth": 0,
             "ticks": ""
            },
            "type": "mesh3d"
           }
          ],
          "parcoords": [
           {
            "line": {
             "colorbar": {
              "outlinewidth": 0,
              "ticks": ""
             }
            },
            "type": "parcoords"
           }
          ],
          "pie": [
           {
            "automargin": true,
            "type": "pie"
           }
          ],
          "scatter": [
           {
            "fillpattern": {
             "fillmode": "overlay",
             "size": 10,
             "solidity": 0.2
            },
            "type": "scatter"
           }
          ],
          "scatter3d": [
           {
            "line": {
             "colorbar": {
              "outlinewidth": 0,
              "ticks": ""
             }
            },
            "marker": {
             "colorbar": {
              "outlinewidth": 0,
              "ticks": ""
             }
            },
            "type": "scatter3d"
           }
          ],
          "scattercarpet": [
           {
            "marker": {
             "colorbar": {
              "outlinewidth": 0,
              "ticks": ""
             }
            },
            "type": "scattercarpet"
           }
          ],
          "scattergeo": [
           {
            "marker": {
             "colorbar": {
              "outlinewidth": 0,
              "ticks": ""
             }
            },
            "type": "scattergeo"
           }
          ],
          "scattergl": [
           {
            "marker": {
             "colorbar": {
              "outlinewidth": 0,
              "ticks": ""
             }
            },
            "type": "scattergl"
           }
          ],
          "scattermapbox": [
           {
            "marker": {
             "colorbar": {
              "outlinewidth": 0,
              "ticks": ""
             }
            },
            "type": "scattermapbox"
           }
          ],
          "scatterpolar": [
           {
            "marker": {
             "colorbar": {
              "outlinewidth": 0,
              "ticks": ""
             }
            },
            "type": "scatterpolar"
           }
          ],
          "scatterpolargl": [
           {
            "marker": {
             "colorbar": {
              "outlinewidth": 0,
              "ticks": ""
             }
            },
            "type": "scatterpolargl"
           }
          ],
          "scatterternary": [
           {
            "marker": {
             "colorbar": {
              "outlinewidth": 0,
              "ticks": ""
             }
            },
            "type": "scatterternary"
           }
          ],
          "surface": [
           {
            "colorbar": {
             "outlinewidth": 0,
             "ticks": ""
            },
            "colorscale": [
             [
              0,
              "#0d0887"
             ],
             [
              0.1111111111111111,
              "#46039f"
             ],
             [
              0.2222222222222222,
              "#7201a8"
             ],
             [
              0.3333333333333333,
              "#9c179e"
             ],
             [
              0.4444444444444444,
              "#bd3786"
             ],
             [
              0.5555555555555556,
              "#d8576b"
             ],
             [
              0.6666666666666666,
              "#ed7953"
             ],
             [
              0.7777777777777778,
              "#fb9f3a"
             ],
             [
              0.8888888888888888,
              "#fdca26"
             ],
             [
              1,
              "#f0f921"
             ]
            ],
            "type": "surface"
           }
          ],
          "table": [
           {
            "cells": {
             "fill": {
              "color": "#EBF0F8"
             },
             "line": {
              "color": "white"
             }
            },
            "header": {
             "fill": {
              "color": "#C8D4E3"
             },
             "line": {
              "color": "white"
             }
            },
            "type": "table"
           }
          ]
         },
         "layout": {
          "annotationdefaults": {
           "arrowcolor": "#2a3f5f",
           "arrowhead": 0,
           "arrowwidth": 1
          },
          "autotypenumbers": "strict",
          "coloraxis": {
           "colorbar": {
            "outlinewidth": 0,
            "ticks": ""
           }
          },
          "colorscale": {
           "diverging": [
            [
             0,
             "#8e0152"
            ],
            [
             0.1,
             "#c51b7d"
            ],
            [
             0.2,
             "#de77ae"
            ],
            [
             0.3,
             "#f1b6da"
            ],
            [
             0.4,
             "#fde0ef"
            ],
            [
             0.5,
             "#f7f7f7"
            ],
            [
             0.6,
             "#e6f5d0"
            ],
            [
             0.7,
             "#b8e186"
            ],
            [
             0.8,
             "#7fbc41"
            ],
            [
             0.9,
             "#4d9221"
            ],
            [
             1,
             "#276419"
            ]
           ],
           "sequential": [
            [
             0,
             "#0d0887"
            ],
            [
             0.1111111111111111,
             "#46039f"
            ],
            [
             0.2222222222222222,
             "#7201a8"
            ],
            [
             0.3333333333333333,
             "#9c179e"
            ],
            [
             0.4444444444444444,
             "#bd3786"
            ],
            [
             0.5555555555555556,
             "#d8576b"
            ],
            [
             0.6666666666666666,
             "#ed7953"
            ],
            [
             0.7777777777777778,
             "#fb9f3a"
            ],
            [
             0.8888888888888888,
             "#fdca26"
            ],
            [
             1,
             "#f0f921"
            ]
           ],
           "sequentialminus": [
            [
             0,
             "#0d0887"
            ],
            [
             0.1111111111111111,
             "#46039f"
            ],
            [
             0.2222222222222222,
             "#7201a8"
            ],
            [
             0.3333333333333333,
             "#9c179e"
            ],
            [
             0.4444444444444444,
             "#bd3786"
            ],
            [
             0.5555555555555556,
             "#d8576b"
            ],
            [
             0.6666666666666666,
             "#ed7953"
            ],
            [
             0.7777777777777778,
             "#fb9f3a"
            ],
            [
             0.8888888888888888,
             "#fdca26"
            ],
            [
             1,
             "#f0f921"
            ]
           ]
          },
          "colorway": [
           "#636efa",
           "#EF553B",
           "#00cc96",
           "#ab63fa",
           "#FFA15A",
           "#19d3f3",
           "#FF6692",
           "#B6E880",
           "#FF97FF",
           "#FECB52"
          ],
          "font": {
           "color": "#2a3f5f"
          },
          "geo": {
           "bgcolor": "white",
           "lakecolor": "white",
           "landcolor": "#E5ECF6",
           "showlakes": true,
           "showland": true,
           "subunitcolor": "white"
          },
          "hoverlabel": {
           "align": "left"
          },
          "hovermode": "closest",
          "mapbox": {
           "style": "light"
          },
          "paper_bgcolor": "white",
          "plot_bgcolor": "#E5ECF6",
          "polar": {
           "angularaxis": {
            "gridcolor": "white",
            "linecolor": "white",
            "ticks": ""
           },
           "bgcolor": "#E5ECF6",
           "radialaxis": {
            "gridcolor": "white",
            "linecolor": "white",
            "ticks": ""
           }
          },
          "scene": {
           "xaxis": {
            "backgroundcolor": "#E5ECF6",
            "gridcolor": "white",
            "gridwidth": 2,
            "linecolor": "white",
            "showbackground": true,
            "ticks": "",
            "zerolinecolor": "white"
           },
           "yaxis": {
            "backgroundcolor": "#E5ECF6",
            "gridcolor": "white",
            "gridwidth": 2,
            "linecolor": "white",
            "showbackground": true,
            "ticks": "",
            "zerolinecolor": "white"
           },
           "zaxis": {
            "backgroundcolor": "#E5ECF6",
            "gridcolor": "white",
            "gridwidth": 2,
            "linecolor": "white",
            "showbackground": true,
            "ticks": "",
            "zerolinecolor": "white"
           }
          },
          "shapedefaults": {
           "line": {
            "color": "#2a3f5f"
           }
          },
          "ternary": {
           "aaxis": {
            "gridcolor": "white",
            "linecolor": "white",
            "ticks": ""
           },
           "baxis": {
            "gridcolor": "white",
            "linecolor": "white",
            "ticks": ""
           },
           "bgcolor": "#E5ECF6",
           "caxis": {
            "gridcolor": "white",
            "linecolor": "white",
            "ticks": ""
           }
          },
          "title": {
           "x": 0.05
          },
          "xaxis": {
           "automargin": true,
           "gridcolor": "white",
           "linecolor": "white",
           "ticks": "",
           "title": {
            "standoff": 15
           },
           "zerolinecolor": "white",
           "zerolinewidth": 2
          },
          "yaxis": {
           "automargin": true,
           "gridcolor": "white",
           "linecolor": "white",
           "ticks": "",
           "title": {
            "standoff": 15
           },
           "zerolinecolor": "white",
           "zerolinewidth": 2
          }
         }
        },
        "title": {
         "text": "Training and Test MAE over Boosting Rounds"
        },
        "xaxis": {
         "anchor": "y",
         "domain": [
          0,
          1
         ],
         "title": {
          "text": "Boosting Round"
         }
        },
        "yaxis": {
         "anchor": "x",
         "domain": [
          0,
          1
         ],
         "title": {
          "text": "Mean Absolute Error"
         }
        }
       }
      }
     },
     "metadata": {},
     "output_type": "display_data"
    }
   ],
   "source": [
    "# Assuming you have the train_mae and test_mae from evals_result\n",
    "train_mae = evals_result['train']['mae']\n",
    "test_mae = evals_result['test']['mae']\n",
    "rounds = range(1, len(train_mae) + 1)\n",
    "\n",
    "# Generate the plot using Plotly\n",
    "fig = px.line(\n",
    "    x=rounds, \n",
    "    y=[train_mae, test_mae],\n",
    "    labels={'x': 'Boosting Round', 'value': 'Mean Absolute Error'}, \n",
    "    title='Training and Test MAE over Boosting Rounds'\n",
    ")\n",
    "fig.update_layout(\n",
    "    legend=dict(\n",
    "        title='Legend',\n",
    "        itemsizing='constant'\n",
    "    ),\n",
    "    legend_title_text='Dataset'\n",
    ")\n",
    "fig.data[0].name = 'Train MAE'\n",
    "fig.data[1].name = 'Test MAE'\n",
    "\n",
    "# Log the plot to wandb\n",
    "wandb.log({\"MAE Plot\": fig})\n",
    "\n",
    "# Optionally, display the plot\n",
    "fig.show()"
   ]
  },
  {
   "cell_type": "code",
   "execution_count": 64,
   "metadata": {},
   "outputs": [],
   "source": [
    "# # Create a SHAP explainer for the XGBoost model\n",
    "# explainer = shap.TreeExplainer(bst)\n",
    "\n",
    "# # Calculate SHAP values for the test set\n",
    "# shap_values = explainer.shap_values(X_test)\n",
    "\n",
    "# # Generate and display a summary plot of SHAP values\n",
    "# shap.summary_plot(shap_values, X_test)\n",
    "\n",
    "# # Optional: Generate a dependence plot for a specific feature (replace 'feature_index' with the actual feature index)\n",
    "# # shap.dependence_plot(feature_index, shap_values, X_test)\n",
    "\n",
    "# # Optional: Generate a force plot for the first instance in the test set\n",
    "# # shap.force_plot(explainer.expected_value, shap_values[0, :], X_test[0, :])"
   ]
  },
  {
   "cell_type": "markdown",
   "metadata": {},
   "source": [
    "## Inference"
   ]
  },
  {
   "cell_type": "code",
   "execution_count": 65,
   "metadata": {},
   "outputs": [],
   "source": [
    "def predict_multi_step(input_dfs: dict[pl.DataFrame], model: xgb.Booster, num_steps: int) -> pl.DataFrame:\n",
    "    \"\"\"\n",
    "    Predict multiple steps into the future using a trained model.\n",
    "\n",
    "    Parameters:\n",
    "    - input_dfs: A dictionary containing the required DataFrames. \n",
    "                  Each key corresponds to a different type of DataFrame.\n",
    "    - model: The trained XGBoost model.\n",
    "    - steps: The number of steps to predict into the future.\n",
    "\n",
    "    Returns:\n",
    "    - A Polars DataFrame with the predictions.\n",
    "    \"\"\"\n",
    "    # Create a copy of the input DataFrames\n",
    "    dataframes = {k: v.clone() for k, v in input_dfs.items()}\n",
    "\n",
    "    # Create a list to store the predictions\n",
    "    preds = []\n",
    "\n",
    "    for step in range(num_steps):\n",
    "        # Create features for the current step\n",
    "        features = create_features(dataframes)\n",
    "\n",
    "        # Extract the features\n",
    "        X = features.drop([\"target\"])\n",
    "\n",
    "        # Predict\n",
    "        dmatrix = xgb.DMatrix(X.to_numpy())\n",
    "        y_pred = model.predict(dmatrix)\n",
    "\n",
    "        # Append the predictions to the list\n",
    "        preds.append(y_pred)\n",
    "\n",
    "        # Update the DataFrames with the new predictions\n",
    "        for df_name, df in dataframes.items():\n",
    "            # Get the target column\n",
    "            target_col = df.columns[-1]\n",
    "\n",
    "            # Shift the target column by 1\n",
    "            df[target_col] = df[target_col].shift(-1)\n",
    "\n",
    "            # Update the target column with the new predictions\n",
    "            df[target_col][-1] = y_pred\n",
    "\n",
    "    # Concatenate the predictions into a single DataFrame\n",
    "    return pl.DataFrame(preds).transpose()"
   ]
  },
  {
   "cell_type": "code",
   "execution_count": 1,
   "metadata": {},
   "outputs": [
    {
     "ename": "NameError",
     "evalue": "name 'np' is not defined",
     "output_type": "error",
     "traceback": [
      "\u001b[0;31m---------------------------------------------------------------------------\u001b[0m",
      "\u001b[0;31mNameError\u001b[0m                                 Traceback (most recent call last)",
      "Cell \u001b[0;32mIn[1], line 1\u001b[0m\n\u001b[0;32m----> 1\u001b[0m \u001b[38;5;28;01mdef\u001b[39;00m \u001b[38;5;21mpreds_vec_to_df\u001b[39m(preds: \u001b[43mnp\u001b[49m\u001b[38;5;241m.\u001b[39mndarray, idxs: pl\u001b[38;5;241m.\u001b[39mDataFrame, output_df: pl\u001b[38;5;241m.\u001b[39mDataFrame):\n\u001b[1;32m      2\u001b[0m \u001b[38;5;250m    \u001b[39m\u001b[38;5;124;03m\"\"\"\u001b[39;00m\n\u001b[1;32m      3\u001b[0m \u001b[38;5;124;03m    Convert a numpy array of predictions to a Polars DataFrame with the correct col and row indices.\u001b[39;00m\n\u001b[1;32m      4\u001b[0m \u001b[38;5;124;03m    \"\"\"\u001b[39;00m\n",
      "\u001b[0;31mNameError\u001b[0m: name 'np' is not defined"
     ]
    }
   ],
   "source": [
    "def preds_vec_to_df_row(preds: np.ndarray, idxs: pl.DataFrame, output_df: pl.DataFrame) -> pl.Series:\n",
    "    \"\"\"\n",
    "    Convert a numpy array of predictions to a Polars DataFrame with the correct col and row indices.\n",
    "    \"\"\"\n",
    "    \n",
    "\n",
    "    pred_format_df = pl.concat([idxs, [pl.Series(preds).alias('preds').to_frame()]], how='horizontal')\n",
    "\n",
    "    \n",
    "    "
   ]
  },
  {
   "cell_type": "code",
   "execution_count": 73,
   "metadata": {},
   "outputs": [],
   "source": [
    "def mean_absolute_error(Y_true: pl.DataFrame, Y_pred: pl.DataFrame) -> float:\n",
    "    \"\"\"\n",
    "    Compute the mean absolute error between two DataFrames.\n",
    "    \"\"\"\n",
    "    return (Y_true - Y_pred).abs().mean()"
   ]
  },
  {
   "cell_type": "code",
   "execution_count": 68,
   "metadata": {},
   "outputs": [
    {
     "data": {
      "application/vnd.jupyter.widget-view+json": {
       "model_id": "4f0c66392092473b8731a01a64d3de0b",
       "version_major": 2,
       "version_minor": 0
      },
      "text/plain": [
       "VBox(children=(Label(value='0.045 MB of 0.045 MB uploaded\\r'), FloatProgress(value=1.0, max=1.0)))"
      ]
     },
     "metadata": {},
     "output_type": "display_data"
    },
    {
     "data": {
      "text/html": [
       "<style>\n",
       "    table.wandb td:nth-child(1) { padding: 0 10px; text-align: left ; width: auto;} td:nth-child(2) {text-align: left ; width: 100%}\n",
       "    .wandb-row { display: flex; flex-direction: row; flex-wrap: wrap; justify-content: flex-start; width: 100% }\n",
       "    .wandb-col { display: flex; flex-direction: column; flex-basis: 100%; flex: 1; padding: 10px; }\n",
       "    </style>\n",
       "<div class=\"wandb-row\"><div class=\"wandb-col\"><h3>Run history:</h3><br/><table class=\"wandb\"><tr><td>best_round</td><td>▁</td></tr><tr><td>best_test_mae</td><td>▁</td></tr><tr><td>best_train_mae</td><td>▁</td></tr></table><br/></div><div class=\"wandb-col\"><h3>Run summary:</h3><br/><table class=\"wandb\"><tr><td>best_round</td><td>238</td></tr><tr><td>best_test_mae</td><td>0.21347</td></tr><tr><td>best_train_mae</td><td>0.20819</td></tr></table><br/></div></div>"
      ],
      "text/plain": [
       "<IPython.core.display.HTML object>"
      ]
     },
     "metadata": {},
     "output_type": "display_data"
    },
    {
     "data": {
      "text/html": [
       " View run <strong style=\"color:#cdcd00\">volcanic-microwave-37</strong> at: <a href='https://wandb.ai/esedx12/traffic-forecasting-challenge/runs/skouk4rr' target=\"_blank\">https://wandb.ai/esedx12/traffic-forecasting-challenge/runs/skouk4rr</a><br/> View project at: <a href='https://wandb.ai/esedx12/traffic-forecasting-challenge' target=\"_blank\">https://wandb.ai/esedx12/traffic-forecasting-challenge</a><br/>Synced 5 W&B file(s), 2 media file(s), 1 artifact file(s) and 0 other file(s)"
      ],
      "text/plain": [
       "<IPython.core.display.HTML object>"
      ]
     },
     "metadata": {},
     "output_type": "display_data"
    },
    {
     "data": {
      "text/html": [
       "Find logs at: <code>./wandb/run-20240830_121639-skouk4rr/logs</code>"
      ],
      "text/plain": [
       "<IPython.core.display.HTML object>"
      ]
     },
     "metadata": {},
     "output_type": "display_data"
    },
    {
     "data": {
      "text/html": [
       "The new W&B backend becomes opt-out in version 0.18.0; try it out with `wandb.require(\"core\")`! See https://wandb.me/wandb-core for more information."
      ],
      "text/plain": [
       "<IPython.core.display.HTML object>"
      ]
     },
     "metadata": {},
     "output_type": "display_data"
    }
   ],
   "source": [
    "wandb.finish()"
   ]
  },
  {
   "cell_type": "markdown",
   "metadata": {},
   "source": [
    "## Create Submission CSV\n",
    "\n",
    "* Hours in 5 weeks: 840\n",
    "* Hours in 6 weeks: 1008\n",
    "* We need period 841-1008 (841-1009 with Python list indexing)\n",
    "\n",
    "* Hours in 10 weeks: 1680\n",
    "* Hours in 11 weeks: 1848"
   ]
  },
  {
   "cell_type": "code",
   "execution_count": 18,
   "metadata": {},
   "outputs": [],
   "source": [
    "def create_half_submission_df(input_df: pl.DataFrame, weeks: str]) -> pl.DataFrame:\n",
    "    \"\"\"\n",
    "    Create a submission CSV file from a Polars DataFrame.\n",
    "    \"\"\"\n",
    "    if weeks == '5w-6w':\n",
    "        range = [841, 1008]\n",
    "    elif weeks == '10w-11w':\n",
    "        range = [1681, 1848]\n",
    "\n",
    "    # Choose rows with first column 'idx_hour' having the values 671-840.\n",
    "    input_df = input_df.filter(pl.col('idx_hour').is_in(range)).with_row_index()\n",
    "\n",
    "    # Check that shape of dataframe is (168, 2881)\n",
    "    assert input_df.shape == (168, 2881), f\"Expected shape (168, 2881), got {input_df.shape}\"\n",
    "\n",
    "    # Check that there is no null value in the dataframe\n",
    "    assert input_df.is_null().any().any() == False, \"Submission dataframe contains null values\"\n",
    "\n",
    "    # Stack the dataframe with f'traffic_DLThpVol_test_5w-6w_{hour}_{beam_id}' as index\n",
    "    # where it cycles through the values 671-840 for hour and then the beam_ids, which are colnames of input_df\n",
    "    return input_df.unpivot(index='idx_hour').with_columns(\n",
    "        (pl.struct(pl.all()).map_elements(lambda row: f'traffic_DLThpVol_test_5w-6w_{row['row_index']}_{row[\"variable\"]}', return_dtype=pl.String)).alias('ID')\n",
    "    ).select(['ID', 'value']).rename({'value': 'Target'})\n",
    "\n",
    "\n",
    "def create_submission_csv(input_df: pl.DataFrame, output_filename='traffic_forecast.csv', archiving_dir='submission-csvs-archive') -> pl.DataFrame:\n",
    "    \"\"\"\n",
    "    Create a submission CSV file from data in input format that's been extended to cover weeks 5-6 and 10-11.\n",
    "    \"\"\"\n",
    "\n",
    "    # Create half submission dataframes\n",
    "    half_submission_5w_6w = create_half_submission_df(input_df, '5w-6w')\n",
    "    half_submission_10w_11w = create_half_submission_df(input_df, '10w-11w')\n",
    "\n",
    "    # Concatenate the two half submission dataframes\n",
    "    submission_df = pl.concat([half_submission_5w_6w, half_submission_10w_11w], how='vertical')\n",
    "\n",
    "    # Save the submission dataframe to a CSV file for submission\n",
    "    submission_df.write_csv(output_filename)\n",
    "    \n",
    "    # Save the submission dataframe to a CSV file for archiving\n",
    "    if archiving_dir:\n",
    "        archiving_dir = Path(archiving_dir)\n",
    "        archiving_dir.mkdir(parents=True, exist_ok=True)\n",
    "        submission_df.write_csv(archiving_dir / f'{wandb.run.name}_{output_filename}')\n",
    "\n",
    "    return submission_df"
   ]
  }
 ],
 "metadata": {
  "kernelspec": {
   "display_name": "ml",
   "language": "python",
   "name": "python3"
  },
  "language_info": {
   "codemirror_mode": {
    "name": "ipython",
    "version": 3
   },
   "file_extension": ".py",
   "mimetype": "text/x-python",
   "name": "python",
   "nbconvert_exporter": "python",
   "pygments_lexer": "ipython3",
   "version": "3.12.3"
  }
 },
 "nbformat": 4,
 "nbformat_minor": 2
}
