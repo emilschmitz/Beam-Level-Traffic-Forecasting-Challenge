{
 "cells": [
  {
   "cell_type": "markdown",
   "metadata": {},
   "source": [
    "# XGBoost\n",
    "* TODO: add averages for cells and stations, NB inference code will need to be adapted too\n",
    "* TODO: target manipulations/engineering\n",
    "    * rolling autocorrelation\n",
    "* TODO: (vector leaf) multi-output regression\n",
    "* TODO: maybe for week 10-11, we should have radically different approach that does not rely on lag feats, since these will be heavily inpacted by compound errors\n",
    "    * maybe we should train lin reg for trend and xgboost for seasonality only on idx feats"
   ]
  },
  {
   "cell_type": "markdown",
   "metadata": {},
   "source": [
    "## Roadmap Note\n",
    "Regarding your plan to expand the script to first fit a linear model and then apply XGBoost on the residuals, that's a solid approach known as model stacking or residual modeling. This can be set up as a parameter in W&B for flexibility. When you're ready to implement it, you might consider:\n",
    "\n",
    "* Implementing a Pipeline: Use scikit-learn's Pipeline to chain the linear model and XGBoost.\n",
    "* Parameterization: Add a parameter in your config (e.g., use_linear_model) to toggle this behavior.\n",
    "* Logging: Use W&B to track both models' performances separately and combined."
   ]
  },
  {
   "cell_type": "code",
   "execution_count": 1,
   "metadata": {},
   "outputs": [],
   "source": [
    "# %%\n",
    "from tqdm.notebook import tqdm\n",
    "from wandb.integration.xgboost import WandbCallback\n",
    "import wandb\n",
    "import plotly.express as px\n",
    "import matplotlib.pyplot as plt\n",
    "import seaborn as sns\n",
    "import shap\n",
    "from sklearn.compose import TransformedTargetRegressor\n",
    "from sklearn.metrics import mean_squared_error, mean_absolute_error\n",
    "from sklearn.model_selection import train_test_split\n",
    "from optuna_integration.xgboost import XGBoostPruningCallback\n",
    "from optuna_integration.wandb import WeightsAndBiasesCallback\n",
    "import optuna\n",
    "import xgboost as xgb\n",
    "import sklearn\n",
    "import numpy as np\n",
    "import polars as pl\n",
    "import pandas as pd\n",
    "import pickle\n",
    "from typing import Callable\n",
    "import math\n",
    "from pathlib import Path\n",
    "import os\n",
    "import yaml\n",
    "\n",
    "import utils\n",
    "\n",
    "# Manually set the notebook name\n",
    "os.environ[\"WANDB_NOTEBOOK_NAME\"] = \"xgboost_train.ipynb\""
   ]
  },
  {
   "cell_type": "code",
   "execution_count": 2,
   "metadata": {},
   "outputs": [],
   "source": [
    "# %%\n",
    "DEBUG = False\n",
    "# config_file_path = Path('configs') / 'linear_config.yaml'\n",
    "config_file_path = Path('configs') / 'autoregressive_config.yaml'\n",
    "# config_file_path = Path('configs') / '168hour_shift_config.yaml'\n",
    "# config_file_path = Path('configs') / 'SWEEP_autoregressive_config.yaml'"
   ]
  },
  {
   "cell_type": "code",
   "execution_count": 3,
   "metadata": {},
   "outputs": [],
   "source": [
    "# Load the YAML configuration file\n",
    "with open(config_file_path, 'r') as file:\n",
    "    config = yaml.safe_load(file)\n",
    "\n",
    "# Extract xgb_hyperparams from config\n",
    "xgb_hyperparams = config.get('xgb_hyperparams', {})\n",
    "\n",
    "# Merge xgb_hyperparams into config\n",
    "config.update(xgb_hyperparams)"
   ]
  },
  {
   "cell_type": "code",
   "execution_count": 4,
   "metadata": {},
   "outputs": [],
   "source": [
    "# %%\n",
    "# Read the CSV files\n",
    "data_dir = Path('input-data')\n",
    "target_dataframes = {\n",
    "    # This is the target variable\n",
    "    'thp_vol': pl.read_csv(data_dir / 'traffic_DLThpVol.csv'),\n",
    "    'prb': pl.read_csv(data_dir / 'traffic_DLPRB.csv'),\n",
    "    'thp_time': pl.read_csv(data_dir / 'traffic_DLThpTime.csv'),\n",
    "    'mr_number': pl.read_csv(data_dir / 'traffic_MR_number.csv')\n",
    "}\n",
    "\n",
    "# Filter target dataframes based on config\n",
    "target_dataframes = {\n",
    "    k: v for k, v in target_dataframes.items() if k in config['target_df_names']}\n",
    "\n",
    "idx_hour_series = target_dataframes['thp_vol']['']\n",
    "\n",
    "# Drop the first column (idx hour) from each dataframe\n",
    "for k in target_dataframes:\n",
    "    target_dataframes[k] = target_dataframes[k].drop('')\n",
    "\n",
    "# Debug mode: shorten dataframes and config lists\n",
    "if DEBUG:\n",
    "    target_dataframes = {k: v.head(200).select(\n",
    "        v.columns[:800]) for k, v in target_dataframes.items()}\n",
    "    config = {k: v[:3] if isinstance(\n",
    "        v, list) else v for k, v in config.items()}\n",
    "\n",
    "# Merge xgb_hyperparams into config\n",
    "config.update(xgb_hyperparams)"
   ]
  },
  {
   "cell_type": "code",
   "execution_count": 5,
   "metadata": {},
   "outputs": [
    {
     "name": "stderr",
     "output_type": "stream",
     "text": [
      "\u001b[34m\u001b[1mwandb\u001b[0m: Currently logged in as: \u001b[33mesedx12\u001b[0m. Use \u001b[1m`wandb login --relogin`\u001b[0m to force relogin\n"
     ]
    },
    {
     "data": {
      "text/html": [
       "Tracking run with wandb version 0.17.9"
      ],
      "text/plain": [
       "<IPython.core.display.HTML object>"
      ]
     },
     "metadata": {},
     "output_type": "display_data"
    },
    {
     "data": {
      "text/html": [
       "Run data is saved locally in <code>/home/emil/Desktop/Beam-Level Traffic Forecasting Challenge/wandb/run-20241009_214941-f9op211v</code>"
      ],
      "text/plain": [
       "<IPython.core.display.HTML object>"
      ]
     },
     "metadata": {},
     "output_type": "display_data"
    },
    {
     "data": {
      "text/html": [
       "Syncing run <strong><a href='https://wandb.ai/esedx12/traffic-forecasting-challenge/runs/f9op211v' target=\"_blank\">woven-capybara-156</a></strong> to <a href='https://wandb.ai/esedx12/traffic-forecasting-challenge' target=\"_blank\">Weights & Biases</a> (<a href='https://wandb.me/run' target=\"_blank\">docs</a>)<br/>"
      ],
      "text/plain": [
       "<IPython.core.display.HTML object>"
      ]
     },
     "metadata": {},
     "output_type": "display_data"
    },
    {
     "data": {
      "text/html": [
       " View project at <a href='https://wandb.ai/esedx12/traffic-forecasting-challenge' target=\"_blank\">https://wandb.ai/esedx12/traffic-forecasting-challenge</a>"
      ],
      "text/plain": [
       "<IPython.core.display.HTML object>"
      ]
     },
     "metadata": {},
     "output_type": "display_data"
    },
    {
     "data": {
      "text/html": [
       " View run at <a href='https://wandb.ai/esedx12/traffic-forecasting-challenge/runs/f9op211v' target=\"_blank\">https://wandb.ai/esedx12/traffic-forecasting-challenge/runs/f9op211v</a>"
      ],
      "text/plain": [
       "<IPython.core.display.HTML object>"
      ]
     },
     "metadata": {},
     "output_type": "display_data"
    }
   ],
   "source": [
    "# %%\n",
    "# Initialize W&B\n",
    "run = wandb.init(\n",
    "    project=\"traffic-forecasting-challenge\",\n",
    "    job_type='train',\n",
    "    entity=\"esedx12\",\n",
    "    config=config,\n",
    "    save_code=True,\n",
    "    mode=('dryrun' if DEBUG else 'online')\n",
    ")\n",
    "\n",
    "# Save utils.py to W&B\n",
    "utils_path = Path('utils.py')\n",
    "if utils_path.exists():\n",
    "    wandb.save(str(utils_path))"
   ]
  },
  {
   "cell_type": "markdown",
   "metadata": {},
   "source": [
    " ## Feature Engineering\n",
    "\n",
    " The feature engineering steps are handled by utility functions."
   ]
  },
  {
   "cell_type": "code",
   "execution_count": 6,
   "metadata": {},
   "outputs": [],
   "source": [
    "# %%\n",
    "# Use first config.train_percentage of dataframe rows for training, and the rest for validation and testing\n",
    "num_rows = len(target_dataframes['thp_vol'])\n",
    "num_train_rows = round(num_rows * wandb.config.train_percentage)\n",
    "num_val_rows = round(num_rows * wandb.config.val_percentage)\n",
    "\n",
    "# Make feature dataframes\n",
    "feature_dfs = utils.create_all_feature_dfs(\n",
    "    target_dataframes, idx_hour_series, config)\n",
    "\n",
    "train_target_dfs = {k: v.head(num_train_rows)\n",
    "                    for k, v in target_dataframes.items()}\n",
    "train_feature_dfs = {k: v.head(num_train_rows)\n",
    "                     for k, v in feature_dfs.items()}\n",
    "train_idx_hour_series = idx_hour_series.head(num_train_rows)\n",
    "\n",
    "val_target_dfs = {k: v.slice(num_train_rows + 1, num_val_rows)\n",
    "                  for k, v in target_dataframes.items()}\n",
    "val_feature_dfs = {k: v.slice(num_train_rows + 1, num_val_rows)\n",
    "                   for k, v in feature_dfs.items()}\n",
    "val_idx_hour_series = idx_hour_series.slice(num_train_rows + 1, num_val_rows)"
   ]
  },
  {
   "cell_type": "code",
   "execution_count": 7,
   "metadata": {},
   "outputs": [],
   "source": [
    "# Create long format dataframes using utility functions\n",
    "long_train_df = utils.create_long_format_df(\n",
    "    train_target_dfs, train_feature_dfs, train_idx_hour_series, wandb.config)\n",
    "long_val_df = utils.create_long_format_df(\n",
    "    val_target_dfs, val_feature_dfs, val_idx_hour_series, wandb.config)\n",
    "\n",
    "target_cols = list(target_dataframes.keys())\n",
    "\n",
    "# Assuming long_train_df and long_val_df are pandas DataFrames\n",
    "X_train = long_train_df.drop(columns=target_cols)\n",
    "y_train = long_train_df[target_cols]\n",
    "\n",
    "X_val = long_val_df.drop(columns=target_cols)\n",
    "y_val = long_val_df[target_cols]\n",
    "\n",
    "wandb.config.update({\n",
    "    'num_train_samples': len(X_train),\n",
    "    'num_val_samples': len(X_val),\n",
    "    'features': X_train.columns.to_list(),\n",
    "    'targets': y_train.columns.to_list()\n",
    "})"
   ]
  },
  {
   "cell_type": "markdown",
   "metadata": {},
   "source": [
    " ## Train Models\n",
    "*  TODO if indicated for performance reasons, get the max idx_hour with a null and return it so we can shorten the df for multi-step predict\n",
    "* TODO also add target transformations (maybe sklearn can help)\n",
    "* TODO normalize somehow if data is on very different scales for different beams"
   ]
  },
  {
   "cell_type": "markdown",
   "metadata": {},
   "source": [
    "### Fit models"
   ]
  },
  {
   "cell_type": "code",
   "execution_count": 8,
   "metadata": {},
   "outputs": [],
   "source": [
    "# sk-learn linear model\n",
    "if config['model'] == 'linear':\n",
    "    models = {}\n",
    "    for target in target_cols:\n",
    "        model = sklearn.linear_model.LinearRegression()\n",
    "        model.fit(pd.get_dummies(X_train), y_train[target])\n",
    "        models[target] = model\n",
    "        # wandb log and print some metrics, like mae\n",
    "        y_pred = model.predict(pd.get_dummies(X_val))\n",
    "        mae = sklearn.metrics.mean_absolute_error(y_val[target], y_pred)\n",
    "        wandb.log({f'mae_{target}': mae})\n",
    "        print(f'MAE for {target}: {mae}')"
   ]
  },
  {
   "cell_type": "code",
   "execution_count": 9,
   "metadata": {},
   "outputs": [
    {
     "data": {
      "text/plain": [
       "Index(['beam_id', 'cell_id', 'station_id', 'daily_hours_shifted_0h',\n",
       "       'daily_hours_shifted_6h', 'daily_hours_shifted_12h',\n",
       "       'daily_hours_shifted_18h', 'weekday_shifted_0d', 'weekday_shifted_3d',\n",
       "       'weekday_shifted_6d', 'thp_vol_lag_87', 'thp_vol_lag_88',\n",
       "       'thp_vol_lag_89', 'thp_vol_lag_92', 'thp_vol_lag_98', 'thp_vol_lag_99',\n",
       "       'thp_vol_lag_100', 'thp_vol_lag_110', 'thp_vol_lag_111',\n",
       "       'thp_vol_lag_112'],\n",
       "      dtype='object')"
      ]
     },
     "execution_count": 9,
     "metadata": {},
     "output_type": "execute_result"
    }
   ],
   "source": [
    "X_train.columns[:20]"
   ]
  },
  {
   "cell_type": "code",
   "execution_count": 10,
   "metadata": {},
   "outputs": [
    {
     "name": "stdout",
     "output_type": "stream",
     "text": [
      "\n",
      "Fitting model for thp_vol:\n",
      "[0]\tvalidation_0-mae:0.41088\tvalidation_1-mae:0.39245\n",
      "[25]\tvalidation_0-mae:0.35608\tvalidation_1-mae:0.34583\n",
      "[50]\tvalidation_0-mae:0.31886\tvalidation_1-mae:0.31534\n",
      "[75]\tvalidation_0-mae:0.29392\tvalidation_1-mae:0.29580\n",
      "[100]\tvalidation_0-mae:0.27729\tvalidation_1-mae:0.28351\n",
      "[125]\tvalidation_0-mae:0.26615\tvalidation_1-mae:0.27544\n",
      "[150]\tvalidation_0-mae:0.25855\tvalidation_1-mae:0.27033\n",
      "[175]\tvalidation_0-mae:0.25340\tvalidation_1-mae:0.26741\n",
      "[200]\tvalidation_0-mae:0.24965\tvalidation_1-mae:0.26568\n",
      "[225]\tvalidation_0-mae:0.24673\tvalidation_1-mae:0.26490\n",
      "[250]\tvalidation_0-mae:0.24440\tvalidation_1-mae:0.26452\n",
      "[275]\tvalidation_0-mae:0.24245\tvalidation_1-mae:0.26425\n",
      "[276]\tvalidation_0-mae:0.24240\tvalidation_1-mae:0.26432\n",
      "\n",
      "Fitting model for mr_number:\n",
      "[0]\tvalidation_0-mae:0.65652\tvalidation_1-mae:0.65030\n",
      "[25]\tvalidation_0-mae:0.53847\tvalidation_1-mae:0.53418\n",
      "[50]\tvalidation_0-mae:0.45116\tvalidation_1-mae:0.44888\n",
      "[75]\tvalidation_0-mae:0.38777\tvalidation_1-mae:0.38736\n",
      "[100]\tvalidation_0-mae:0.34257\tvalidation_1-mae:0.34405\n",
      "[125]\tvalidation_0-mae:0.31039\tvalidation_1-mae:0.31367\n",
      "[150]\tvalidation_0-mae:0.28799\tvalidation_1-mae:0.29285\n",
      "[175]\tvalidation_0-mae:0.27262\tvalidation_1-mae:0.27882\n",
      "[200]\tvalidation_0-mae:0.26186\tvalidation_1-mae:0.26917\n",
      "[225]\tvalidation_0-mae:0.25399\tvalidation_1-mae:0.26227\n",
      "[250]\tvalidation_0-mae:0.24827\tvalidation_1-mae:0.25738\n",
      "[275]\tvalidation_0-mae:0.24383\tvalidation_1-mae:0.25372\n",
      "[300]\tvalidation_0-mae:0.24045\tvalidation_1-mae:0.25101\n",
      "[325]\tvalidation_0-mae:0.23776\tvalidation_1-mae:0.24892\n",
      "[350]\tvalidation_0-mae:0.23538\tvalidation_1-mae:0.24707\n",
      "[375]\tvalidation_0-mae:0.23346\tvalidation_1-mae:0.24563\n",
      "[400]\tvalidation_0-mae:0.23194\tvalidation_1-mae:0.24457\n",
      "[425]\tvalidation_0-mae:0.23061\tvalidation_1-mae:0.24372\n",
      "[450]\tvalidation_0-mae:0.22967\tvalidation_1-mae:0.24313\n",
      "[475]\tvalidation_0-mae:0.22879\tvalidation_1-mae:0.24265\n",
      "[499]\tvalidation_0-mae:0.22801\tvalidation_1-mae:0.24223\n"
     ]
    }
   ],
   "source": [
    "# xgboost model\n",
    "if config['model'] == 'xgboost':\n",
    "    models = {}\n",
    "    for target_name in y_train.columns:\n",
    "        model = xgb.XGBRegressor(\n",
    "            **xgb_hyperparams, callbacks=[WandbCallback(log_model=True)])\n",
    "        print(f\"\\nFitting model for {target_name}:\")\n",
    "        model.fit(\n",
    "            X_train,\n",
    "            y_train[target_name],\n",
    "            eval_set=[(X_train, y_train[target_name]),\n",
    "                      (X_val, y_val[target_name])],\n",
    "            verbose=25\n",
    "        )\n",
    "        models[target_name] = model"
   ]
  },
  {
   "cell_type": "markdown",
   "metadata": {},
   "source": [
    "### Save models"
   ]
  },
  {
   "cell_type": "code",
   "execution_count": 11,
   "metadata": {},
   "outputs": [],
   "source": [
    "# %%\n",
    "for target_name, model in models.items():\n",
    "    model_dir = Path('checkpoints') / wandb.run.name\n",
    "    model_dir.mkdir(parents=True, exist_ok=True)\n",
    "    model_path = model_dir / f'{target_name}.ubj'\n",
    "    pickle.dump(model, open(model_path, 'wb'))\n",
    "    wandb.save(str(model_path))"
   ]
  },
  {
   "cell_type": "markdown",
   "metadata": {},
   "source": [
    " ## Evaluation and Logging"
   ]
  },
  {
   "cell_type": "code",
   "execution_count": 12,
   "metadata": {},
   "outputs": [
    {
     "name": "stdout",
     "output_type": "stream",
     "text": [
      "Processing target: thp_vol\n"
     ]
    },
    {
     "data": {
      "application/vnd.plotly.v1+json": {
       "config": {
        "plotlyServerURL": "https://plot.ly"
       },
       "data": [
        {
         "hovertemplate": "variable=Train MAE<br>Round=%{x}<br>Mean Absolute Error=%{y}<extra></extra>",
         "legendgroup": "Train MAE",
         "line": {
          "color": "#636efa",
          "dash": "solid"
         },
         "marker": {
          "symbol": "circle"
         },
         "mode": "lines",
         "name": "Train MAE",
         "orientation": "v",
         "showlegend": true,
         "type": "scatter",
         "x": [
          1,
          2,
          3,
          4,
          5,
          6,
          7,
          8,
          9,
          10,
          11,
          12,
          13,
          14,
          15,
          16,
          17,
          18,
          19,
          20,
          21,
          22,
          23,
          24,
          25,
          26,
          27,
          28,
          29,
          30,
          31,
          32,
          33,
          34,
          35,
          36,
          37,
          38,
          39,
          40,
          41,
          42,
          43,
          44,
          45,
          46,
          47,
          48,
          49,
          50,
          51,
          52,
          53,
          54,
          55,
          56,
          57,
          58,
          59,
          60,
          61,
          62,
          63,
          64,
          65,
          66,
          67,
          68,
          69,
          70,
          71,
          72,
          73,
          74,
          75,
          76,
          77,
          78,
          79,
          80,
          81,
          82,
          83,
          84,
          85,
          86,
          87,
          88,
          89,
          90,
          91,
          92,
          93,
          94,
          95,
          96,
          97,
          98,
          99,
          100,
          101,
          102,
          103,
          104,
          105,
          106,
          107,
          108,
          109,
          110,
          111,
          112,
          113,
          114,
          115,
          116,
          117,
          118,
          119,
          120,
          121,
          122,
          123,
          124,
          125,
          126,
          127,
          128,
          129,
          130,
          131,
          132,
          133,
          134,
          135,
          136,
          137,
          138,
          139,
          140,
          141,
          142,
          143,
          144,
          145,
          146,
          147,
          148,
          149,
          150,
          151,
          152,
          153,
          154,
          155,
          156,
          157,
          158,
          159,
          160,
          161,
          162,
          163,
          164,
          165,
          166,
          167,
          168,
          169,
          170,
          171,
          172,
          173,
          174,
          175,
          176,
          177,
          178,
          179,
          180,
          181,
          182,
          183,
          184,
          185,
          186,
          187,
          188,
          189,
          190,
          191,
          192,
          193,
          194,
          195,
          196,
          197,
          198,
          199,
          200,
          201,
          202,
          203,
          204,
          205,
          206,
          207,
          208,
          209,
          210,
          211,
          212,
          213,
          214,
          215,
          216,
          217,
          218,
          219,
          220,
          221,
          222,
          223,
          224,
          225,
          226,
          227,
          228,
          229,
          230,
          231,
          232,
          233,
          234,
          235,
          236,
          237,
          238,
          239,
          240,
          241,
          242,
          243,
          244,
          245,
          246,
          247,
          248,
          249,
          250,
          251,
          252,
          253,
          254,
          255,
          256,
          257,
          258,
          259,
          260,
          261,
          262,
          263,
          264,
          265,
          266,
          267,
          268,
          269,
          270,
          271,
          272,
          273,
          274,
          275,
          276,
          277,
          278
         ],
         "xaxis": "x",
         "y": [
          0.4108793239007816,
          0.40826106601615386,
          0.40567626419864905,
          0.4031294923436748,
          0.4006428641313043,
          0.3981837917762172,
          0.3957424327086978,
          0.3933732992975271,
          0.39101629508607294,
          0.3887093673283355,
          0.3864288504424329,
          0.38418785132646865,
          0.38196599628917194,
          0.37978760287533847,
          0.3776534948949126,
          0.37554000565630086,
          0.3734442736824043,
          0.3714085893351202,
          0.36937224884394476,
          0.3673824033829592,
          0.3654675109608249,
          0.36353768052849944,
          0.36162098533314324,
          0.35973545315439387,
          0.3578918237737199,
          0.35607961940563326,
          0.35431939103756566,
          0.3526006691080727,
          0.35088435862488077,
          0.3491986780145839,
          0.3475042429631713,
          0.34587333584802754,
          0.3442369688263837,
          0.3426666863594497,
          0.34108040602888123,
          0.33955381507586335,
          0.3380131911311219,
          0.33649143621972555,
          0.3349801406793343,
          0.3335431239671593,
          0.3320872107975971,
          0.3306619652448241,
          0.32924394298711396,
          0.3278556236890442,
          0.32653830012530777,
          0.3251862358788422,
          0.3239190609820311,
          0.3226347024860991,
          0.32136052957001826,
          0.3201036667343834,
          0.31885970854057044,
          0.31762673900740507,
          0.3164687301346426,
          0.315304911622091,
          0.3141658173039841,
          0.31302060354683864,
          0.31189264713824777,
          0.310815702893263,
          0.30973186659710195,
          0.3086717301233481,
          0.30762205441035195,
          0.3065931096642986,
          0.30557045920417236,
          0.3045766861337565,
          0.30362639588444956,
          0.30266495910946933,
          0.3017334281892251,
          0.3008061254672878,
          0.2998859948074796,
          0.29900690264263663,
          0.2981329637427828,
          0.297259387054486,
          0.29640558514721604,
          0.2955686933578032,
          0.2947357985763825,
          0.2939157350101026,
          0.29308953951779937,
          0.29228857068359704,
          0.29150526053926734,
          0.29075335707733246,
          0.29001183121819224,
          0.28930502553689236,
          0.28856862717371895,
          0.2878344972334081,
          0.287118526745913,
          0.28642394053675974,
          0.28573943886204406,
          0.28506486067746417,
          0.2844167936437658,
          0.2837665812332858,
          0.2831386997578591,
          0.2825084470194693,
          0.2818794668319962,
          0.28130756155192926,
          0.2806809873433201,
          0.2801035894646086,
          0.27951303446401093,
          0.27897968441428717,
          0.2784051391264193,
          0.2778286472581005,
          0.2772947675084287,
          0.27676926879017977,
          0.27625626870448666,
          0.2757264062811819,
          0.2752182940908532,
          0.27470876127148997,
          0.27420651057111917,
          0.2737112303505166,
          0.2732075437545587,
          0.2727670507306264,
          0.27229905328406867,
          0.2718417976077543,
          0.2713983348641725,
          0.270958392253461,
          0.2705434094320289,
          0.27011852430975347,
          0.2696944711128119,
          0.2692841764523792,
          0.26886481321728484,
          0.26845501477321854,
          0.26806338376145133,
          0.267668208784078,
          0.2672641442988599,
          0.26690751241887006,
          0.2665271855863218,
          0.26615250729345863,
          0.2658017461861279,
          0.2654343746055939,
          0.26508936675185224,
          0.2647512959381723,
          0.26442204332475777,
          0.26405533568935474,
          0.2637383934968687,
          0.2634034177957191,
          0.2630810863184541,
          0.2627296925139219,
          0.2624315189670386,
          0.2621398850500173,
          0.26182726830986297,
          0.26153306379405816,
          0.2612467415592376,
          0.2609635604781941,
          0.26067926206605013,
          0.2604048711560261,
          0.26014409402006344,
          0.2598600031555032,
          0.2595880601824303,
          0.2593423220352571,
          0.2590608912753565,
          0.2588026104013164,
          0.25855278455270375,
          0.2582988225636752,
          0.25804205149504,
          0.2577931734325492,
          0.25755236994561154,
          0.2573271439282019,
          0.25708450099526264,
          0.25686617864715894,
          0.25665552370043054,
          0.2564449587834212,
          0.2562385454501436,
          0.2560299286765218,
          0.2558254662646982,
          0.2555956846097618,
          0.2554014822057773,
          0.2552131529366284,
          0.25502339166877186,
          0.25483661700488,
          0.25466118217560196,
          0.25447991357212685,
          0.25429787071823196,
          0.25410463701538716,
          0.2539385440481803,
          0.25376776683679647,
          0.2536039662524085,
          0.25339915576161415,
          0.25322589117490585,
          0.25306064859577565,
          0.2528855103993402,
          0.2527165386898059,
          0.2525360265096065,
          0.25235879152292917,
          0.25222151762086814,
          0.2520497326078978,
          0.25189035478052596,
          0.25172984417615085,
          0.25158044176261074,
          0.2514312571607144,
          0.25128151125947634,
          0.2511461273535574,
          0.25098826355661985,
          0.2508514898609942,
          0.2507214884384149,
          0.2505719027859115,
          0.25043725918919024,
          0.25029709778661113,
          0.2501681188371256,
          0.2500431388236485,
          0.2499141937854033,
          0.2497888467987332,
          0.2496549097249715,
          0.2495297449840358,
          0.24939467553122963,
          0.24924846232801537,
          0.24910071286684424,
          0.2489824344603262,
          0.24885158757980982,
          0.24874338437386986,
          0.24862467638358055,
          0.24848054930140887,
          0.2483572437692171,
          0.24822215339695683,
          0.24810357966989974,
          0.24797661743380192,
          0.24787913711191484,
          0.24776663600488003,
          0.24763262708824924,
          0.247513817992612,
          0.24742060853110284,
          0.2473362282728446,
          0.24723623204359413,
          0.24713797482984706,
          0.2470508009666937,
          0.24694472421347938,
          0.2468197698741132,
          0.246728067829888,
          0.24663716725725038,
          0.24652053810000255,
          0.24642476119654785,
          0.24631841644348673,
          0.2462133623735182,
          0.2461267793439802,
          0.2460422249724728,
          0.24595243950577386,
          0.2458589762012772,
          0.24576151300555082,
          0.24568293023910234,
          0.24559959270610868,
          0.24551897600016745,
          0.24539466854367983,
          0.24530040379390522,
          0.2452187943319247,
          0.24512777079140086,
          0.24499217464805673,
          0.24489123004774932,
          0.24479779172998073,
          0.24470724046551823,
          0.2446247877424664,
          0.24453732561378144,
          0.24446046444160294,
          0.24439596382363724,
          0.24431165945600358,
          0.24423504650588337,
          0.24413887849153426,
          0.24405715422530558,
          0.2439957674981908,
          0.24392267474630178,
          0.24384986152866533,
          0.2437401626304798,
          0.24367330996285497,
          0.24358079558068577,
          0.24350645659722434,
          0.2434336737596064,
          0.24337737484945504,
          0.24330285252454384,
          0.24322639789975092,
          0.24316181981408982,
          0.24308224682801774,
          0.24299668062410043,
          0.24294705310889708,
          0.24285555646858678,
          0.24277434123994332,
          0.2427004829304285,
          0.24260707417821856,
          0.24253578236161796,
          0.2424516283869373,
          0.24239671787808606,
          0.24232141585253422
         ],
         "yaxis": "y"
        },
        {
         "hovertemplate": "variable=Val MAE<br>Round=%{x}<br>Mean Absolute Error=%{y}<extra></extra>",
         "legendgroup": "Val MAE",
         "line": {
          "color": "#EF553B",
          "dash": "solid"
         },
         "marker": {
          "symbol": "circle"
         },
         "mode": "lines",
         "name": "Val MAE",
         "orientation": "v",
         "showlegend": true,
         "type": "scatter",
         "x": [
          1,
          2,
          3,
          4,
          5,
          6,
          7,
          8,
          9,
          10,
          11,
          12,
          13,
          14,
          15,
          16,
          17,
          18,
          19,
          20,
          21,
          22,
          23,
          24,
          25,
          26,
          27,
          28,
          29,
          30,
          31,
          32,
          33,
          34,
          35,
          36,
          37,
          38,
          39,
          40,
          41,
          42,
          43,
          44,
          45,
          46,
          47,
          48,
          49,
          50,
          51,
          52,
          53,
          54,
          55,
          56,
          57,
          58,
          59,
          60,
          61,
          62,
          63,
          64,
          65,
          66,
          67,
          68,
          69,
          70,
          71,
          72,
          73,
          74,
          75,
          76,
          77,
          78,
          79,
          80,
          81,
          82,
          83,
          84,
          85,
          86,
          87,
          88,
          89,
          90,
          91,
          92,
          93,
          94,
          95,
          96,
          97,
          98,
          99,
          100,
          101,
          102,
          103,
          104,
          105,
          106,
          107,
          108,
          109,
          110,
          111,
          112,
          113,
          114,
          115,
          116,
          117,
          118,
          119,
          120,
          121,
          122,
          123,
          124,
          125,
          126,
          127,
          128,
          129,
          130,
          131,
          132,
          133,
          134,
          135,
          136,
          137,
          138,
          139,
          140,
          141,
          142,
          143,
          144,
          145,
          146,
          147,
          148,
          149,
          150,
          151,
          152,
          153,
          154,
          155,
          156,
          157,
          158,
          159,
          160,
          161,
          162,
          163,
          164,
          165,
          166,
          167,
          168,
          169,
          170,
          171,
          172,
          173,
          174,
          175,
          176,
          177,
          178,
          179,
          180,
          181,
          182,
          183,
          184,
          185,
          186,
          187,
          188,
          189,
          190,
          191,
          192,
          193,
          194,
          195,
          196,
          197,
          198,
          199,
          200,
          201,
          202,
          203,
          204,
          205,
          206,
          207,
          208,
          209,
          210,
          211,
          212,
          213,
          214,
          215,
          216,
          217,
          218,
          219,
          220,
          221,
          222,
          223,
          224,
          225,
          226,
          227,
          228,
          229,
          230,
          231,
          232,
          233,
          234,
          235,
          236,
          237,
          238,
          239,
          240,
          241,
          242,
          243,
          244,
          245,
          246,
          247,
          248,
          249,
          250,
          251,
          252,
          253,
          254,
          255,
          256,
          257,
          258,
          259,
          260,
          261,
          262,
          263,
          264,
          265,
          266,
          267,
          268,
          269,
          270,
          271,
          272,
          273,
          274,
          275,
          276,
          277,
          278
         ],
         "xaxis": "x",
         "y": [
          0.39244758322690426,
          0.39011787250332086,
          0.38788192149044737,
          0.3855843548157673,
          0.38343106223489165,
          0.38134316439622096,
          0.37925888032560456,
          0.3771523825442985,
          0.37508646550705754,
          0.3732232476844135,
          0.37112301258972685,
          0.3692072047593895,
          0.3673617109471342,
          0.3655201208195033,
          0.3638248749426771,
          0.3619991870174871,
          0.3602565281101744,
          0.3586221580338382,
          0.35678750162712597,
          0.35507043716635284,
          0.3534194621273088,
          0.35182362413255586,
          0.3502427129386604,
          0.3486382182403361,
          0.34718363813853065,
          0.3458299938850499,
          0.3443754095293629,
          0.3429440134634244,
          0.341483302092725,
          0.34009115803915746,
          0.3386920670332794,
          0.33743490592705505,
          0.33607426394406226,
          0.3347549497114365,
          0.33355202135831985,
          0.33233612680124414,
          0.3310606075140748,
          0.32985838531835554,
          0.3285963308691118,
          0.32740815921567096,
          0.32629914961102774,
          0.3250679568690207,
          0.3239008609002014,
          0.32266960191725,
          0.3216676943626553,
          0.32046486428445836,
          0.3194648725856026,
          0.31841482400696647,
          0.31744664767499386,
          0.31643708520238345,
          0.315343794828372,
          0.3143779578888904,
          0.3135001945448752,
          0.31256917388158084,
          0.31174243454881156,
          0.31088105104616237,
          0.30987542888992037,
          0.30911100764183586,
          0.3082069818574029,
          0.30733866303342205,
          0.30646079680675026,
          0.30560295329627546,
          0.3047619169255299,
          0.30400741857478997,
          0.30326875575377304,
          0.30250782959165856,
          0.3017455758336386,
          0.3010809105911807,
          0.30035799022148424,
          0.29969668778301567,
          0.2990302274875611,
          0.2983638048082889,
          0.29770239436903695,
          0.2970082809187914,
          0.2963205668275126,
          0.2957983061336897,
          0.29515468784944876,
          0.2945995434288472,
          0.29403856624055585,
          0.2934921808910907,
          0.29288587530564053,
          0.2924069511707124,
          0.29190123021155856,
          0.2913750493201625,
          0.29079031971552427,
          0.2902711359767582,
          0.28970252616586395,
          0.2891798129389424,
          0.2887172700769808,
          0.2882613261792964,
          0.2877664345431567,
          0.2872917788600811,
          0.2867881128433997,
          0.2863923425506041,
          0.2859868590242736,
          0.2855454872529958,
          0.2850549738229798,
          0.28470461567583766,
          0.28434509282636644,
          0.28394018261631,
          0.28351116195203846,
          0.2831927990597838,
          0.28277975235845176,
          0.2824778623371307,
          0.2820631849818709,
          0.28167843172913687,
          0.2812600797090706,
          0.2808951001765549,
          0.2805405370436109,
          0.28030121153288495,
          0.2799689773122252,
          0.27959123436024624,
          0.2792429367185351,
          0.27892117567112584,
          0.27857743173364813,
          0.27829513796630834,
          0.2779689483948498,
          0.2776827090131357,
          0.277320330649593,
          0.276999956365848,
          0.27672930903581044,
          0.27648265544307454,
          0.27616173120900683,
          0.27594052616630416,
          0.2757095961354762,
          0.2754384192803483,
          0.2751754960249099,
          0.274931135756063,
          0.27468271965903807,
          0.27444019142813025,
          0.2742424578925987,
          0.273947018791186,
          0.27378507189457163,
          0.27351085412148896,
          0.2733121487702944,
          0.2730711291417458,
          0.27287771134653516,
          0.27263138320699837,
          0.2723960981960326,
          0.2721644391514656,
          0.2720295759389338,
          0.27184715169127555,
          0.2716914178479777,
          0.2715055722750459,
          0.2713108423823611,
          0.2711243288814993,
          0.2709326829001487,
          0.2708539193276007,
          0.2707293297187138,
          0.27049251555510745,
          0.27033107714874116,
          0.2702175248264088,
          0.27006663926493135,
          0.2698852950017928,
          0.2697245063824206,
          0.26955558322080553,
          0.2694272299605234,
          0.2692869787635329,
          0.26917563848370135,
          0.26905502023861533,
          0.2689134352804039,
          0.26879401837907896,
          0.2687108456359489,
          0.2685762227858344,
          0.2684721766089673,
          0.2683480910668234,
          0.2682723900645972,
          0.26816007709224576,
          0.2680732780648693,
          0.26799457240770175,
          0.26786443601937093,
          0.26770938856081566,
          0.2675808640811847,
          0.2675397557840782,
          0.2674764565022827,
          0.2674143615540842,
          0.26730040004378863,
          0.26721465311345677,
          0.26708956070828854,
          0.2670105447439761,
          0.26689027854011166,
          0.26683695823439446,
          0.266777279623625,
          0.26666933605634763,
          0.26660726848512156,
          0.26653940684017435,
          0.2664801077085167,
          0.2664077257007047,
          0.2663700213971044,
          0.2663120065069775,
          0.26627231437417864,
          0.2662585116707682,
          0.26620102396623535,
          0.266100090807967,
          0.26604029779250893,
          0.2659461259771084,
          0.2658185260749904,
          0.26576964492376093,
          0.26572143858364566,
          0.26569654226540856,
          0.26568396052966103,
          0.2656581841110674,
          0.26560045834222146,
          0.26552888196613805,
          0.26549713610272324,
          0.26553798470182327,
          0.265459084455547,
          0.26540987572614866,
          0.26541565965256525,
          0.2653347508899235,
          0.2652626751584169,
          0.2651741676252182,
          0.26511581359657305,
          0.2650753542788165,
          0.26503244998685793,
          0.2649978637543454,
          0.264966853859515,
          0.26492179327165655,
          0.2648694833386752,
          0.2648476093103092,
          0.26496954256764366,
          0.2649723375865034,
          0.2649282600659053,
          0.2648704035465791,
          0.2648682375668121,
          0.26490291199204674,
          0.2649114235534509,
          0.2648588081433697,
          0.2647887192777864,
          0.2647594580144808,
          0.26478423661288997,
          0.26480972000988134,
          0.26476569457173504,
          0.2648081830058973,
          0.26478827043006686,
          0.2648452416560482,
          0.26481857922168545,
          0.26476158423233925,
          0.2647286868944742,
          0.2647076322865746,
          0.2646934517658605,
          0.2647518816716975,
          0.26470372395725866,
          0.2646398465067093,
          0.2645775196166196,
          0.26453000983771824,
          0.2645085384422807,
          0.26448326546499545,
          0.26448514843104964,
          0.2644758384783157,
          0.2645221249817846,
          0.2644878429446947,
          0.2645245768920634,
          0.2644700307343496,
          0.2644724593073972,
          0.26444989129151664,
          0.26450887891904845,
          0.2645100356270898,
          0.26448722662873664,
          0.26447161711066575,
          0.26442633601813503,
          0.26440443450145523,
          0.2643728489622035,
          0.26440190443793427,
          0.2643783764015463,
          0.264327756787578,
          0.26429534069299093,
          0.26424469574791093,
          0.26429037008854894,
          0.264305200860876,
          0.26438497075121753,
          0.26436766213320506,
          0.26436572929858787,
          0.2643172296050251,
          0.26426961366477814,
          0.2642472256433663,
          0.2643183528756769,
          0.2642814720902956
         ],
         "yaxis": "y"
        }
       ],
       "layout": {
        "legend": {
         "itemsizing": "constant",
         "title": {
          "text": "Dataset"
         },
         "tracegroupgap": 0
        },
        "template": {
         "data": {
          "bar": [
           {
            "error_x": {
             "color": "#2a3f5f"
            },
            "error_y": {
             "color": "#2a3f5f"
            },
            "marker": {
             "line": {
              "color": "#E5ECF6",
              "width": 0.5
             },
             "pattern": {
              "fillmode": "overlay",
              "size": 10,
              "solidity": 0.2
             }
            },
            "type": "bar"
           }
          ],
          "barpolar": [
           {
            "marker": {
             "line": {
              "color": "#E5ECF6",
              "width": 0.5
             },
             "pattern": {
              "fillmode": "overlay",
              "size": 10,
              "solidity": 0.2
             }
            },
            "type": "barpolar"
           }
          ],
          "carpet": [
           {
            "aaxis": {
             "endlinecolor": "#2a3f5f",
             "gridcolor": "white",
             "linecolor": "white",
             "minorgridcolor": "white",
             "startlinecolor": "#2a3f5f"
            },
            "baxis": {
             "endlinecolor": "#2a3f5f",
             "gridcolor": "white",
             "linecolor": "white",
             "minorgridcolor": "white",
             "startlinecolor": "#2a3f5f"
            },
            "type": "carpet"
           }
          ],
          "choropleth": [
           {
            "colorbar": {
             "outlinewidth": 0,
             "ticks": ""
            },
            "type": "choropleth"
           }
          ],
          "contour": [
           {
            "colorbar": {
             "outlinewidth": 0,
             "ticks": ""
            },
            "colorscale": [
             [
              0,
              "#0d0887"
             ],
             [
              0.1111111111111111,
              "#46039f"
             ],
             [
              0.2222222222222222,
              "#7201a8"
             ],
             [
              0.3333333333333333,
              "#9c179e"
             ],
             [
              0.4444444444444444,
              "#bd3786"
             ],
             [
              0.5555555555555556,
              "#d8576b"
             ],
             [
              0.6666666666666666,
              "#ed7953"
             ],
             [
              0.7777777777777778,
              "#fb9f3a"
             ],
             [
              0.8888888888888888,
              "#fdca26"
             ],
             [
              1,
              "#f0f921"
             ]
            ],
            "type": "contour"
           }
          ],
          "contourcarpet": [
           {
            "colorbar": {
             "outlinewidth": 0,
             "ticks": ""
            },
            "type": "contourcarpet"
           }
          ],
          "heatmap": [
           {
            "colorbar": {
             "outlinewidth": 0,
             "ticks": ""
            },
            "colorscale": [
             [
              0,
              "#0d0887"
             ],
             [
              0.1111111111111111,
              "#46039f"
             ],
             [
              0.2222222222222222,
              "#7201a8"
             ],
             [
              0.3333333333333333,
              "#9c179e"
             ],
             [
              0.4444444444444444,
              "#bd3786"
             ],
             [
              0.5555555555555556,
              "#d8576b"
             ],
             [
              0.6666666666666666,
              "#ed7953"
             ],
             [
              0.7777777777777778,
              "#fb9f3a"
             ],
             [
              0.8888888888888888,
              "#fdca26"
             ],
             [
              1,
              "#f0f921"
             ]
            ],
            "type": "heatmap"
           }
          ],
          "heatmapgl": [
           {
            "colorbar": {
             "outlinewidth": 0,
             "ticks": ""
            },
            "colorscale": [
             [
              0,
              "#0d0887"
             ],
             [
              0.1111111111111111,
              "#46039f"
             ],
             [
              0.2222222222222222,
              "#7201a8"
             ],
             [
              0.3333333333333333,
              "#9c179e"
             ],
             [
              0.4444444444444444,
              "#bd3786"
             ],
             [
              0.5555555555555556,
              "#d8576b"
             ],
             [
              0.6666666666666666,
              "#ed7953"
             ],
             [
              0.7777777777777778,
              "#fb9f3a"
             ],
             [
              0.8888888888888888,
              "#fdca26"
             ],
             [
              1,
              "#f0f921"
             ]
            ],
            "type": "heatmapgl"
           }
          ],
          "histogram": [
           {
            "marker": {
             "pattern": {
              "fillmode": "overlay",
              "size": 10,
              "solidity": 0.2
             }
            },
            "type": "histogram"
           }
          ],
          "histogram2d": [
           {
            "colorbar": {
             "outlinewidth": 0,
             "ticks": ""
            },
            "colorscale": [
             [
              0,
              "#0d0887"
             ],
             [
              0.1111111111111111,
              "#46039f"
             ],
             [
              0.2222222222222222,
              "#7201a8"
             ],
             [
              0.3333333333333333,
              "#9c179e"
             ],
             [
              0.4444444444444444,
              "#bd3786"
             ],
             [
              0.5555555555555556,
              "#d8576b"
             ],
             [
              0.6666666666666666,
              "#ed7953"
             ],
             [
              0.7777777777777778,
              "#fb9f3a"
             ],
             [
              0.8888888888888888,
              "#fdca26"
             ],
             [
              1,
              "#f0f921"
             ]
            ],
            "type": "histogram2d"
           }
          ],
          "histogram2dcontour": [
           {
            "colorbar": {
             "outlinewidth": 0,
             "ticks": ""
            },
            "colorscale": [
             [
              0,
              "#0d0887"
             ],
             [
              0.1111111111111111,
              "#46039f"
             ],
             [
              0.2222222222222222,
              "#7201a8"
             ],
             [
              0.3333333333333333,
              "#9c179e"
             ],
             [
              0.4444444444444444,
              "#bd3786"
             ],
             [
              0.5555555555555556,
              "#d8576b"
             ],
             [
              0.6666666666666666,
              "#ed7953"
             ],
             [
              0.7777777777777778,
              "#fb9f3a"
             ],
             [
              0.8888888888888888,
              "#fdca26"
             ],
             [
              1,
              "#f0f921"
             ]
            ],
            "type": "histogram2dcontour"
           }
          ],
          "mesh3d": [
           {
            "colorbar": {
             "outlinewidth": 0,
             "ticks": ""
            },
            "type": "mesh3d"
           }
          ],
          "parcoords": [
           {
            "line": {
             "colorbar": {
              "outlinewidth": 0,
              "ticks": ""
             }
            },
            "type": "parcoords"
           }
          ],
          "pie": [
           {
            "automargin": true,
            "type": "pie"
           }
          ],
          "scatter": [
           {
            "fillpattern": {
             "fillmode": "overlay",
             "size": 10,
             "solidity": 0.2
            },
            "type": "scatter"
           }
          ],
          "scatter3d": [
           {
            "line": {
             "colorbar": {
              "outlinewidth": 0,
              "ticks": ""
             }
            },
            "marker": {
             "colorbar": {
              "outlinewidth": 0,
              "ticks": ""
             }
            },
            "type": "scatter3d"
           }
          ],
          "scattercarpet": [
           {
            "marker": {
             "colorbar": {
              "outlinewidth": 0,
              "ticks": ""
             }
            },
            "type": "scattercarpet"
           }
          ],
          "scattergeo": [
           {
            "marker": {
             "colorbar": {
              "outlinewidth": 0,
              "ticks": ""
             }
            },
            "type": "scattergeo"
           }
          ],
          "scattergl": [
           {
            "marker": {
             "colorbar": {
              "outlinewidth": 0,
              "ticks": ""
             }
            },
            "type": "scattergl"
           }
          ],
          "scattermapbox": [
           {
            "marker": {
             "colorbar": {
              "outlinewidth": 0,
              "ticks": ""
             }
            },
            "type": "scattermapbox"
           }
          ],
          "scatterpolar": [
           {
            "marker": {
             "colorbar": {
              "outlinewidth": 0,
              "ticks": ""
             }
            },
            "type": "scatterpolar"
           }
          ],
          "scatterpolargl": [
           {
            "marker": {
             "colorbar": {
              "outlinewidth": 0,
              "ticks": ""
             }
            },
            "type": "scatterpolargl"
           }
          ],
          "scatterternary": [
           {
            "marker": {
             "colorbar": {
              "outlinewidth": 0,
              "ticks": ""
             }
            },
            "type": "scatterternary"
           }
          ],
          "surface": [
           {
            "colorbar": {
             "outlinewidth": 0,
             "ticks": ""
            },
            "colorscale": [
             [
              0,
              "#0d0887"
             ],
             [
              0.1111111111111111,
              "#46039f"
             ],
             [
              0.2222222222222222,
              "#7201a8"
             ],
             [
              0.3333333333333333,
              "#9c179e"
             ],
             [
              0.4444444444444444,
              "#bd3786"
             ],
             [
              0.5555555555555556,
              "#d8576b"
             ],
             [
              0.6666666666666666,
              "#ed7953"
             ],
             [
              0.7777777777777778,
              "#fb9f3a"
             ],
             [
              0.8888888888888888,
              "#fdca26"
             ],
             [
              1,
              "#f0f921"
             ]
            ],
            "type": "surface"
           }
          ],
          "table": [
           {
            "cells": {
             "fill": {
              "color": "#EBF0F8"
             },
             "line": {
              "color": "white"
             }
            },
            "header": {
             "fill": {
              "color": "#C8D4E3"
             },
             "line": {
              "color": "white"
             }
            },
            "type": "table"
           }
          ]
         },
         "layout": {
          "annotationdefaults": {
           "arrowcolor": "#2a3f5f",
           "arrowhead": 0,
           "arrowwidth": 1
          },
          "autotypenumbers": "strict",
          "coloraxis": {
           "colorbar": {
            "outlinewidth": 0,
            "ticks": ""
           }
          },
          "colorscale": {
           "diverging": [
            [
             0,
             "#8e0152"
            ],
            [
             0.1,
             "#c51b7d"
            ],
            [
             0.2,
             "#de77ae"
            ],
            [
             0.3,
             "#f1b6da"
            ],
            [
             0.4,
             "#fde0ef"
            ],
            [
             0.5,
             "#f7f7f7"
            ],
            [
             0.6,
             "#e6f5d0"
            ],
            [
             0.7,
             "#b8e186"
            ],
            [
             0.8,
             "#7fbc41"
            ],
            [
             0.9,
             "#4d9221"
            ],
            [
             1,
             "#276419"
            ]
           ],
           "sequential": [
            [
             0,
             "#0d0887"
            ],
            [
             0.1111111111111111,
             "#46039f"
            ],
            [
             0.2222222222222222,
             "#7201a8"
            ],
            [
             0.3333333333333333,
             "#9c179e"
            ],
            [
             0.4444444444444444,
             "#bd3786"
            ],
            [
             0.5555555555555556,
             "#d8576b"
            ],
            [
             0.6666666666666666,
             "#ed7953"
            ],
            [
             0.7777777777777778,
             "#fb9f3a"
            ],
            [
             0.8888888888888888,
             "#fdca26"
            ],
            [
             1,
             "#f0f921"
            ]
           ],
           "sequentialminus": [
            [
             0,
             "#0d0887"
            ],
            [
             0.1111111111111111,
             "#46039f"
            ],
            [
             0.2222222222222222,
             "#7201a8"
            ],
            [
             0.3333333333333333,
             "#9c179e"
            ],
            [
             0.4444444444444444,
             "#bd3786"
            ],
            [
             0.5555555555555556,
             "#d8576b"
            ],
            [
             0.6666666666666666,
             "#ed7953"
            ],
            [
             0.7777777777777778,
             "#fb9f3a"
            ],
            [
             0.8888888888888888,
             "#fdca26"
            ],
            [
             1,
             "#f0f921"
            ]
           ]
          },
          "colorway": [
           "#636efa",
           "#EF553B",
           "#00cc96",
           "#ab63fa",
           "#FFA15A",
           "#19d3f3",
           "#FF6692",
           "#B6E880",
           "#FF97FF",
           "#FECB52"
          ],
          "font": {
           "color": "#2a3f5f"
          },
          "geo": {
           "bgcolor": "white",
           "lakecolor": "white",
           "landcolor": "#E5ECF6",
           "showlakes": true,
           "showland": true,
           "subunitcolor": "white"
          },
          "hoverlabel": {
           "align": "left"
          },
          "hovermode": "closest",
          "mapbox": {
           "style": "light"
          },
          "paper_bgcolor": "white",
          "plot_bgcolor": "#E5ECF6",
          "polar": {
           "angularaxis": {
            "gridcolor": "white",
            "linecolor": "white",
            "ticks": ""
           },
           "bgcolor": "#E5ECF6",
           "radialaxis": {
            "gridcolor": "white",
            "linecolor": "white",
            "ticks": ""
           }
          },
          "scene": {
           "xaxis": {
            "backgroundcolor": "#E5ECF6",
            "gridcolor": "white",
            "gridwidth": 2,
            "linecolor": "white",
            "showbackground": true,
            "ticks": "",
            "zerolinecolor": "white"
           },
           "yaxis": {
            "backgroundcolor": "#E5ECF6",
            "gridcolor": "white",
            "gridwidth": 2,
            "linecolor": "white",
            "showbackground": true,
            "ticks": "",
            "zerolinecolor": "white"
           },
           "zaxis": {
            "backgroundcolor": "#E5ECF6",
            "gridcolor": "white",
            "gridwidth": 2,
            "linecolor": "white",
            "showbackground": true,
            "ticks": "",
            "zerolinecolor": "white"
           }
          },
          "shapedefaults": {
           "line": {
            "color": "#2a3f5f"
           }
          },
          "ternary": {
           "aaxis": {
            "gridcolor": "white",
            "linecolor": "white",
            "ticks": ""
           },
           "baxis": {
            "gridcolor": "white",
            "linecolor": "white",
            "ticks": ""
           },
           "bgcolor": "#E5ECF6",
           "caxis": {
            "gridcolor": "white",
            "linecolor": "white",
            "ticks": ""
           }
          },
          "title": {
           "x": 0.05
          },
          "xaxis": {
           "automargin": true,
           "gridcolor": "white",
           "linecolor": "white",
           "ticks": "",
           "title": {
            "standoff": 15
           },
           "zerolinecolor": "white",
           "zerolinewidth": 2
          },
          "yaxis": {
           "automargin": true,
           "gridcolor": "white",
           "linecolor": "white",
           "ticks": "",
           "title": {
            "standoff": 15
           },
           "zerolinecolor": "white",
           "zerolinewidth": 2
          }
         }
        },
        "title": {
         "text": "Training and Validation MAE over Boosting Rounds for thp_vol"
        },
        "xaxis": {
         "anchor": "y",
         "domain": [
          0,
          1
         ],
         "title": {
          "text": "Round"
         }
        },
        "yaxis": {
         "anchor": "x",
         "domain": [
          0,
          1
         ],
         "title": {
          "text": "Mean Absolute Error"
         }
        }
       }
      }
     },
     "metadata": {},
     "output_type": "display_data"
    },
    {
     "name": "stdout",
     "output_type": "stream",
     "text": [
      "Best Val MAE for thp_vol: 0.2642814720902956\n",
      "Round: 278\n",
      "Processing target: mr_number\n"
     ]
    },
    {
     "data": {
      "application/vnd.plotly.v1+json": {
       "config": {
        "plotlyServerURL": "https://plot.ly"
       },
       "data": [
        {
         "hovertemplate": "variable=Train MAE<br>Round=%{x}<br>Mean Absolute Error=%{y}<extra></extra>",
         "legendgroup": "Train MAE",
         "line": {
          "color": "#636efa",
          "dash": "solid"
         },
         "marker": {
          "symbol": "circle"
         },
         "mode": "lines",
         "name": "Train MAE",
         "orientation": "v",
         "showlegend": true,
         "type": "scatter",
         "x": [
          1,
          2,
          3,
          4,
          5,
          6,
          7,
          8,
          9,
          10,
          11,
          12,
          13,
          14,
          15,
          16,
          17,
          18,
          19,
          20,
          21,
          22,
          23,
          24,
          25,
          26,
          27,
          28,
          29,
          30,
          31,
          32,
          33,
          34,
          35,
          36,
          37,
          38,
          39,
          40,
          41,
          42,
          43,
          44,
          45,
          46,
          47,
          48,
          49,
          50,
          51,
          52,
          53,
          54,
          55,
          56,
          57,
          58,
          59,
          60,
          61,
          62,
          63,
          64,
          65,
          66,
          67,
          68,
          69,
          70,
          71,
          72,
          73,
          74,
          75,
          76,
          77,
          78,
          79,
          80,
          81,
          82,
          83,
          84,
          85,
          86,
          87,
          88,
          89,
          90,
          91,
          92,
          93,
          94,
          95,
          96,
          97,
          98,
          99,
          100,
          101,
          102,
          103,
          104,
          105,
          106,
          107,
          108,
          109,
          110,
          111,
          112,
          113,
          114,
          115,
          116,
          117,
          118,
          119,
          120,
          121,
          122,
          123,
          124,
          125,
          126,
          127,
          128,
          129,
          130,
          131,
          132,
          133,
          134,
          135,
          136,
          137,
          138,
          139,
          140,
          141,
          142,
          143,
          144,
          145,
          146,
          147,
          148,
          149,
          150,
          151,
          152,
          153,
          154,
          155,
          156,
          157,
          158,
          159,
          160,
          161,
          162,
          163,
          164,
          165,
          166,
          167,
          168,
          169,
          170,
          171,
          172,
          173,
          174,
          175,
          176,
          177,
          178,
          179,
          180,
          181,
          182,
          183,
          184,
          185,
          186,
          187,
          188,
          189,
          190,
          191,
          192,
          193,
          194,
          195,
          196,
          197,
          198,
          199,
          200,
          201,
          202,
          203,
          204,
          205,
          206,
          207,
          208,
          209,
          210,
          211,
          212,
          213,
          214,
          215,
          216,
          217,
          218,
          219,
          220,
          221,
          222,
          223,
          224,
          225,
          226,
          227,
          228,
          229,
          230,
          231,
          232,
          233,
          234,
          235,
          236,
          237,
          238,
          239,
          240,
          241,
          242,
          243,
          244,
          245,
          246,
          247,
          248,
          249,
          250,
          251,
          252,
          253,
          254,
          255,
          256,
          257,
          258,
          259,
          260,
          261,
          262,
          263,
          264,
          265,
          266,
          267,
          268,
          269,
          270,
          271,
          272,
          273,
          274,
          275,
          276,
          277,
          278,
          279,
          280,
          281,
          282,
          283,
          284,
          285,
          286,
          287,
          288,
          289,
          290,
          291,
          292,
          293,
          294,
          295,
          296,
          297,
          298,
          299,
          300,
          301,
          302,
          303,
          304,
          305,
          306,
          307,
          308,
          309,
          310,
          311,
          312,
          313,
          314,
          315,
          316,
          317,
          318,
          319,
          320,
          321,
          322,
          323,
          324,
          325,
          326,
          327,
          328,
          329,
          330,
          331,
          332,
          333,
          334,
          335,
          336,
          337,
          338,
          339,
          340,
          341,
          342,
          343,
          344,
          345,
          346,
          347,
          348,
          349,
          350,
          351,
          352,
          353,
          354,
          355,
          356,
          357,
          358,
          359,
          360,
          361,
          362,
          363,
          364,
          365,
          366,
          367,
          368,
          369,
          370,
          371,
          372,
          373,
          374,
          375,
          376,
          377,
          378,
          379,
          380,
          381,
          382,
          383,
          384,
          385,
          386,
          387,
          388,
          389,
          390,
          391,
          392,
          393,
          394,
          395,
          396,
          397,
          398,
          399,
          400,
          401,
          402,
          403,
          404,
          405,
          406,
          407,
          408,
          409,
          410,
          411,
          412,
          413,
          414,
          415,
          416,
          417,
          418,
          419,
          420,
          421,
          422,
          423,
          424,
          425,
          426,
          427,
          428,
          429,
          430,
          431,
          432,
          433,
          434,
          435,
          436,
          437,
          438,
          439,
          440,
          441,
          442,
          443,
          444,
          445,
          446,
          447,
          448,
          449,
          450,
          451,
          452,
          453,
          454,
          455,
          456,
          457,
          458,
          459,
          460,
          461,
          462,
          463,
          464,
          465,
          466,
          467,
          468,
          469,
          470,
          471,
          472,
          473,
          474,
          475,
          476,
          477,
          478,
          479,
          480,
          481,
          482,
          483,
          484,
          485,
          486,
          487,
          488,
          489,
          490,
          491,
          492,
          493,
          494,
          495,
          496,
          497,
          498,
          499,
          500
         ],
         "xaxis": "x",
         "y": [
          0.6565212050124102,
          0.6510966281951827,
          0.6457358232002401,
          0.6404536598193302,
          0.6352266877190622,
          0.6300660898157182,
          0.6249554130329349,
          0.6199166336349914,
          0.6149379809975078,
          0.610007130308804,
          0.6051313780672476,
          0.6003164787470899,
          0.5955500844782089,
          0.5908122950720167,
          0.5861663869163208,
          0.5815746577112906,
          0.5770260649515064,
          0.5725283392827205,
          0.5680988452465858,
          0.5637152643289146,
          0.5593832209723761,
          0.5550670635839113,
          0.5508545805169839,
          0.5466496761512993,
          0.542538728281425,
          0.538474334563602,
          0.5344600815449612,
          0.5304488977034805,
          0.5265200346572194,
          0.5226442486407017,
          0.5188094170017493,
          0.5150385112336694,
          0.5112993255311841,
          0.507604139361681,
          0.5039663392935939,
          0.5003693074256013,
          0.49680400889400944,
          0.49328536827300895,
          0.4897776608379863,
          0.4863141160321807,
          0.4829194031022439,
          0.4795383930198818,
          0.47623955092768133,
          0.4729731868548773,
          0.469751468422523,
          0.4665735519303916,
          0.4634389428828503,
          0.4602999844961949,
          0.45719884385060583,
          0.4541756719970865,
          0.45115801961656155,
          0.4482098817401422,
          0.4453068779935642,
          0.44242508774812367,
          0.4395835708444859,
          0.4367635099596516,
          0.4339762160350685,
          0.43123725067594726,
          0.42854620694695644,
          0.42589640387332683,
          0.42327464452993735,
          0.42065884803113435,
          0.4181135280276177,
          0.41559585595608595,
          0.4131001471051849,
          0.4106083926357435,
          0.4081958480879568,
          0.40581627920785707,
          0.40346467566135347,
          0.40114625832718404,
          0.39881699656527814,
          0.3965582414941022,
          0.3943187718786256,
          0.3921148581847354,
          0.3899079636427117,
          0.3877657362615456,
          0.38565088470222486,
          0.3835672222405534,
          0.38146827462979577,
          0.3794420807398374,
          0.377424543457449,
          0.3754482041074845,
          0.373490976573985,
          0.37158202384297256,
          0.3696865838563376,
          0.36781847162246173,
          0.3659822442739228,
          0.3641589900218981,
          0.36236587818236154,
          0.3606026572652206,
          0.3588687956669575,
          0.3571484469452275,
          0.3554376194018759,
          0.3537695391206274,
          0.352101255625375,
          0.3504238878248782,
          0.34883565178431075,
          0.34722928857929103,
          0.3456784821403018,
          0.34411964543348295,
          0.3425700541932904,
          0.34103042849263493,
          0.33953715828282693,
          0.33808365870634527,
          0.33660080832870165,
          0.33518885860200065,
          0.33380399963952306,
          0.3324340587340558,
          0.33108130492147814,
          0.32968981891010446,
          0.32837286870791554,
          0.327078469636491,
          0.3257654589642835,
          0.32448184559696686,
          0.3232129377376231,
          0.3219340634370195,
          0.3206927732992664,
          0.319457037406772,
          0.31827942453729363,
          0.31709654759818257,
          0.31594836059006054,
          0.31481399693258694,
          0.31369117297495425,
          0.3125744096921393,
          0.3114885535848147,
          0.31038969298798696,
          0.3093191970783169,
          0.3082667204539139,
          0.3072322896102922,
          0.30622050824093255,
          0.3052425502232076,
          0.3042575485450172,
          0.3032874237811351,
          0.30232509741217184,
          0.30138442513152885,
          0.3004305489923986,
          0.2995091606513233,
          0.2986100046387082,
          0.29773092628335096,
          0.29686217338026705,
          0.29597188561186666,
          0.29509027516706243,
          0.29428078022846577,
          0.2934655585985058,
          0.2926637603075874,
          0.29185459914045603,
          0.2910624996437336,
          0.2902737289115962,
          0.28949645149720177,
          0.28872523084163393,
          0.2879920887659208,
          0.28724617880535513,
          0.2865509685309914,
          0.2858557325968413,
          0.28513940659524944,
          0.2844609662814798,
          0.2838020763455236,
          0.2831100569787364,
          0.2824550909860644,
          0.28181878333869326,
          0.28116810098659273,
          0.2805340077864552,
          0.27990704037626024,
          0.2792992309836936,
          0.27872472062806897,
          0.27811064923965295,
          0.27750242663864694,
          0.2769158411230904,
          0.2763496906809415,
          0.2757915762644897,
          0.2752541755820117,
          0.2747373020287856,
          0.27420098737719817,
          0.27368200378620683,
          0.2731710286913955,
          0.2726185868074889,
          0.27209765127531077,
          0.2716266848817875,
          0.2711095539414328,
          0.2706233775116826,
          0.27015482805340374,
          0.26968549083383686,
          0.26919880553882397,
          0.2687638340939592,
          0.2683033823442514,
          0.26786131935897717,
          0.26741775062569156,
          0.2669916250606141,
          0.2665520810615022,
          0.26615999059349343,
          0.26575965145950875,
          0.26534479383612153,
          0.26489759389337464,
          0.26447828894798775,
          0.2640852311306493,
          0.26371580076195916,
          0.2633581851950245,
          0.2629790974266113,
          0.26260278306835794,
          0.2622410314173917,
          0.26186483530218585,
          0.26149442756695224,
          0.2611178457580502,
          0.2607338209529289,
          0.2604025008681154,
          0.2600528634018969,
          0.25971473398462974,
          0.2594003808907296,
          0.2590677233161953,
          0.25876495407657163,
          0.2584468472328528,
          0.2580795804760928,
          0.25773181915458787,
          0.25741570721903423,
          0.2571178180387718,
          0.25680784999691314,
          0.2565356508034831,
          0.2562514948439425,
          0.255960157606678,
          0.2556566649530237,
          0.25538382009967864,
          0.25510508521878283,
          0.25481329799324504,
          0.2545208661370054,
          0.2542505572614258,
          0.25399447182069346,
          0.2537313288091998,
          0.2534615914265961,
          0.2532141603390545,
          0.25297741227238224,
          0.2527210827689848,
          0.2524896663335644,
          0.2522447378023884,
          0.25201808549655436,
          0.2517765747809002,
          0.251543545980805,
          0.2512865856214799,
          0.2510453197506345,
          0.25081688208718084,
          0.2505887562815588,
          0.25035909874338136,
          0.250123608064434,
          0.24990943894865048,
          0.24969488046340235,
          0.24948430821830045,
          0.24926524545356032,
          0.24905806755658907,
          0.2488385223204489,
          0.24865151938976282,
          0.2484659020381332,
          0.2482666162662123,
          0.24802857898343508,
          0.2478180534034279,
          0.2476238040511961,
          0.24743170472951723,
          0.24724479557040144,
          0.2470566320171177,
          0.2468758588082135,
          0.24669099198282346,
          0.2465046914925893,
          0.24629633469197593,
          0.24612902126223887,
          0.24592629669313948,
          0.24574965071299337,
          0.24558788659814695,
          0.24540715499080087,
          0.2452200321656112,
          0.24505140731808933,
          0.24490594038999955,
          0.2447488595414726,
          0.24459406699463085,
          0.24441666134041645,
          0.24425707743311464,
          0.24410966381751456,
          0.24397180225476867,
          0.2438270001459118,
          0.24368238710678947,
          0.24353652365884604,
          0.24338937282422204,
          0.24324036060110574,
          0.2430771319175836,
          0.24292623303385533,
          0.2427879254105208,
          0.24263395585586425,
          0.24249510646685302,
          0.24237106044962503,
          0.24223362199892218,
          0.24210889630743507,
          0.24196402126038427,
          0.2418294881508631,
          0.24170632858742785,
          0.24159762257628956,
          0.24145287824721404,
          0.24130723807379037,
          0.2411728658067116,
          0.24104965320992583,
          0.2409292388267712,
          0.24081735468451587,
          0.24069079045668748,
          0.24055705119057055,
          0.24044909621249666,
          0.24032433881043694,
          0.2401955543365932,
          0.2400898333263271,
          0.2399803391291225,
          0.23986653876906475,
          0.23973175881747702,
          0.23961676504857346,
          0.23950768417059243,
          0.23940549837782232,
          0.2392824405693861,
          0.23919233861058287,
          0.23907563062244724,
          0.23897996287536194,
          0.23888063027503145,
          0.2387927136619327,
          0.23868238810566306,
          0.2385799971916907,
          0.23847048959011635,
          0.2383700991216889,
          0.2382802409459176,
          0.23818007889197754,
          0.23808198912863848,
          0.23798278780159374,
          0.2378586061533392,
          0.2377594236364728,
          0.2376274794621016,
          0.23753264735406648,
          0.2374329521096657,
          0.2373485285508983,
          0.23725072393192126,
          0.2371356598843139,
          0.2370382212069556,
          0.23696871281668033,
          0.23686887510915153,
          0.23678444712786942,
          0.23666178103026914,
          0.23656571423649692,
          0.23646263876130505,
          0.23634292105792962,
          0.23624054171251818,
          0.23615974565009062,
          0.23608148249656796,
          0.2359554221326862,
          0.23588293888442755,
          0.235813338382799,
          0.23573462932572628,
          0.23562199554103458,
          0.23553013342591586,
          0.2354577970450974,
          0.23538404516424316,
          0.23528655514730976,
          0.23519068764865944,
          0.23512332007622022,
          0.23503242461783538,
          0.23495503654398045,
          0.23489570161630058,
          0.23479013073254,
          0.2347123614082437,
          0.2346301138455369,
          0.23453876580664823,
          0.2344441284271531,
          0.23438495068399012,
          0.23432668482636376,
          0.23425520737734293,
          0.2341637199724569,
          0.23410769763982198,
          0.23402558625532233,
          0.23396869631601838,
          0.23390555080584932,
          0.23384819250838496,
          0.2337964828248379,
          0.2337448863044057,
          0.23364608191833702,
          0.233553341508715,
          0.233458478610361,
          0.2334087728036797,
          0.23331157568849342,
          0.23321578983754204,
          0.23316020417907926,
          0.2330822892040271,
          0.23302095145635182,
          0.23296665583755324,
          0.23291538534832593,
          0.23286076725928848,
          0.23280964998556491,
          0.23272503206398787,
          0.23265214061921882,
          0.23260240876964428,
          0.2325236889872516,
          0.23246505006371868,
          0.2324028612348138,
          0.23234778404028333,
          0.2323087063609459,
          0.2322414776909544,
          0.23214847306644523,
          0.23210663119675312,
          0.23206731935203737,
          0.23202858998101428,
          0.231972888464431,
          0.23193641182702726,
          0.23189176628540917,
          0.23182399953581256,
          0.2317562074083615,
          0.23166547274198476,
          0.231624873244354,
          0.2315740948359609,
          0.23152178136823354,
          0.23146307236575414,
          0.23138161518754247,
          0.23133434454682159,
          0.23125300110788324,
          0.23118919583225073,
          0.23115295527435603,
          0.23111909229589775,
          0.23108454994962221,
          0.23103422649460126,
          0.23095383563565744,
          0.23090513392647424,
          0.23083515109205582,
          0.23077548364059614,
          0.2307411647257273,
          0.23070940948580926,
          0.23068240045393332,
          0.23064512893263484,
          0.2306140216424582,
          0.23057400206427972,
          0.230541663567762,
          0.23049514055380738,
          0.2304672080487968,
          0.23042224150992557,
          0.23039369493921968,
          0.23034764172089495,
          0.23030772192142324,
          0.23027978075759786,
          0.230246687531241,
          0.23022085557430577,
          0.23018083259111907,
          0.23014637093268459,
          0.23011278288089124,
          0.2300718254066705,
          0.23003266230226213,
          0.23000181813080886,
          0.22996920112640898,
          0.22993107779272018,
          0.22988320816489455,
          0.22982846843136265,
          0.22978267535392713,
          0.2297498001021669,
          0.22971119300963616,
          0.2296723911988336,
          0.22964022153408184,
          0.22959949632705343,
          0.22956070787946747,
          0.22952936803231733,
          0.2295027438139685,
          0.22946879690854208,
          0.22944150174843653,
          0.2294137337176174,
          0.22937520158578314,
          0.2293434760992759,
          0.22931299660275495,
          0.22928164323426795,
          0.22923889059108427,
          0.22919343617314653,
          0.22915769950053344,
          0.22911890160945386,
          0.2290815564721013,
          0.22904460831390916,
          0.229010389197825,
          0.22898597721324693,
          0.2289532328749453,
          0.22889240381378953,
          0.2288569500667957,
          0.2288276168498658,
          0.22879288050463367,
          0.22876333729639173,
          0.22873649130750645,
          0.22870790216778747,
          0.22868290870847227,
          0.22865363992586943,
          0.22862711143915956,
          0.22860191579481343,
          0.2285717292312684,
          0.2285352816261693,
          0.22850286066369926,
          0.2284679925377213,
          0.22843239123080109,
          0.22839821107150607,
          0.228364111249395,
          0.2283244343245917,
          0.2282587942879594,
          0.22823359691429637,
          0.22821176516018335,
          0.22817705212710254,
          0.22814072984937886,
          0.2280997204410316,
          0.22807784174032564,
          0.22804788807266696,
          0.22801495832264737
         ],
         "yaxis": "y"
        },
        {
         "hovertemplate": "variable=Val MAE<br>Round=%{x}<br>Mean Absolute Error=%{y}<extra></extra>",
         "legendgroup": "Val MAE",
         "line": {
          "color": "#EF553B",
          "dash": "solid"
         },
         "marker": {
          "symbol": "circle"
         },
         "mode": "lines",
         "name": "Val MAE",
         "orientation": "v",
         "showlegend": true,
         "type": "scatter",
         "x": [
          1,
          2,
          3,
          4,
          5,
          6,
          7,
          8,
          9,
          10,
          11,
          12,
          13,
          14,
          15,
          16,
          17,
          18,
          19,
          20,
          21,
          22,
          23,
          24,
          25,
          26,
          27,
          28,
          29,
          30,
          31,
          32,
          33,
          34,
          35,
          36,
          37,
          38,
          39,
          40,
          41,
          42,
          43,
          44,
          45,
          46,
          47,
          48,
          49,
          50,
          51,
          52,
          53,
          54,
          55,
          56,
          57,
          58,
          59,
          60,
          61,
          62,
          63,
          64,
          65,
          66,
          67,
          68,
          69,
          70,
          71,
          72,
          73,
          74,
          75,
          76,
          77,
          78,
          79,
          80,
          81,
          82,
          83,
          84,
          85,
          86,
          87,
          88,
          89,
          90,
          91,
          92,
          93,
          94,
          95,
          96,
          97,
          98,
          99,
          100,
          101,
          102,
          103,
          104,
          105,
          106,
          107,
          108,
          109,
          110,
          111,
          112,
          113,
          114,
          115,
          116,
          117,
          118,
          119,
          120,
          121,
          122,
          123,
          124,
          125,
          126,
          127,
          128,
          129,
          130,
          131,
          132,
          133,
          134,
          135,
          136,
          137,
          138,
          139,
          140,
          141,
          142,
          143,
          144,
          145,
          146,
          147,
          148,
          149,
          150,
          151,
          152,
          153,
          154,
          155,
          156,
          157,
          158,
          159,
          160,
          161,
          162,
          163,
          164,
          165,
          166,
          167,
          168,
          169,
          170,
          171,
          172,
          173,
          174,
          175,
          176,
          177,
          178,
          179,
          180,
          181,
          182,
          183,
          184,
          185,
          186,
          187,
          188,
          189,
          190,
          191,
          192,
          193,
          194,
          195,
          196,
          197,
          198,
          199,
          200,
          201,
          202,
          203,
          204,
          205,
          206,
          207,
          208,
          209,
          210,
          211,
          212,
          213,
          214,
          215,
          216,
          217,
          218,
          219,
          220,
          221,
          222,
          223,
          224,
          225,
          226,
          227,
          228,
          229,
          230,
          231,
          232,
          233,
          234,
          235,
          236,
          237,
          238,
          239,
          240,
          241,
          242,
          243,
          244,
          245,
          246,
          247,
          248,
          249,
          250,
          251,
          252,
          253,
          254,
          255,
          256,
          257,
          258,
          259,
          260,
          261,
          262,
          263,
          264,
          265,
          266,
          267,
          268,
          269,
          270,
          271,
          272,
          273,
          274,
          275,
          276,
          277,
          278,
          279,
          280,
          281,
          282,
          283,
          284,
          285,
          286,
          287,
          288,
          289,
          290,
          291,
          292,
          293,
          294,
          295,
          296,
          297,
          298,
          299,
          300,
          301,
          302,
          303,
          304,
          305,
          306,
          307,
          308,
          309,
          310,
          311,
          312,
          313,
          314,
          315,
          316,
          317,
          318,
          319,
          320,
          321,
          322,
          323,
          324,
          325,
          326,
          327,
          328,
          329,
          330,
          331,
          332,
          333,
          334,
          335,
          336,
          337,
          338,
          339,
          340,
          341,
          342,
          343,
          344,
          345,
          346,
          347,
          348,
          349,
          350,
          351,
          352,
          353,
          354,
          355,
          356,
          357,
          358,
          359,
          360,
          361,
          362,
          363,
          364,
          365,
          366,
          367,
          368,
          369,
          370,
          371,
          372,
          373,
          374,
          375,
          376,
          377,
          378,
          379,
          380,
          381,
          382,
          383,
          384,
          385,
          386,
          387,
          388,
          389,
          390,
          391,
          392,
          393,
          394,
          395,
          396,
          397,
          398,
          399,
          400,
          401,
          402,
          403,
          404,
          405,
          406,
          407,
          408,
          409,
          410,
          411,
          412,
          413,
          414,
          415,
          416,
          417,
          418,
          419,
          420,
          421,
          422,
          423,
          424,
          425,
          426,
          427,
          428,
          429,
          430,
          431,
          432,
          433,
          434,
          435,
          436,
          437,
          438,
          439,
          440,
          441,
          442,
          443,
          444,
          445,
          446,
          447,
          448,
          449,
          450,
          451,
          452,
          453,
          454,
          455,
          456,
          457,
          458,
          459,
          460,
          461,
          462,
          463,
          464,
          465,
          466,
          467,
          468,
          469,
          470,
          471,
          472,
          473,
          474,
          475,
          476,
          477,
          478,
          479,
          480,
          481,
          482,
          483,
          484,
          485,
          486,
          487,
          488,
          489,
          490,
          491,
          492,
          493,
          494,
          495,
          496,
          497,
          498,
          499,
          500
         ],
         "xaxis": "x",
         "y": [
          0.6502993096317439,
          0.6449503347454626,
          0.6396625161658385,
          0.6344583851460209,
          0.6293108173088799,
          0.6242315879877167,
          0.6191939734337635,
          0.6142287344813044,
          0.6093262084535565,
          0.6044730378769427,
          0.5996754433988056,
          0.5949366688137427,
          0.5902410525686109,
          0.5855952057341111,
          0.5810250104271529,
          0.5764972758816138,
          0.5720186127466765,
          0.5675906822650005,
          0.56324184112521,
          0.5589362419753235,
          0.5546824770618224,
          0.5504616167680056,
          0.5463331996987211,
          0.5422158547037329,
          0.5381792245613415,
          0.5341839885481221,
          0.530238990058463,
          0.5263199090071078,
          0.5224649451095882,
          0.5186718850868189,
          0.514913302679432,
          0.5112131008688431,
          0.5075527560628821,
          0.5039226999340457,
          0.5003588046767089,
          0.49684873385750317,
          0.49335661587794843,
          0.48990570697689106,
          0.4864875355405475,
          0.4831111286645279,
          0.47978538793071895,
          0.47649689797423717,
          0.47327966853547954,
          0.47009817628069606,
          0.46695031668870535,
          0.4638444325345859,
          0.4608046253369891,
          0.45775781091381884,
          0.4547486573441292,
          0.4518011060951325,
          0.4488751655929259,
          0.4459995573333578,
          0.4431770712208057,
          0.44036356310016844,
          0.43758852987755925,
          0.434850255315413,
          0.432147233294815,
          0.4294763577108664,
          0.4268605972630977,
          0.4242781333440941,
          0.42172666037528295,
          0.4191987326604805,
          0.41673016325637163,
          0.4142965400148827,
          0.41188030438054174,
          0.40946990054197663,
          0.4071273590753231,
          0.40482806255640563,
          0.4025493807943063,
          0.4002999764598571,
          0.39805005381653347,
          0.39586035536811154,
          0.3936884395579842,
          0.3915685842624895,
          0.3894358604632292,
          0.3873597445222056,
          0.38531862113066756,
          0.3833020688505799,
          0.3812877026900675,
          0.37933122669763425,
          0.3773950996975015,
          0.3754898898898315,
          0.3736171819877193,
          0.37177669083390785,
          0.36995864904440884,
          0.3681587717317027,
          0.3663940014892933,
          0.36465454870306047,
          0.36293463070172244,
          0.36124878262994625,
          0.3595842502758891,
          0.3579420694457597,
          0.35630940907305053,
          0.354720232492137,
          0.3531246916260373,
          0.35152896049128995,
          0.3500166206336063,
          0.348489431200062,
          0.34701038848804194,
          0.34552183818690907,
          0.34405052155994187,
          0.3425893568518823,
          0.341163224653432,
          0.3397844318265171,
          0.3383835857455057,
          0.33704055101549946,
          0.335724573723916,
          0.33443654600216316,
          0.3331560938531817,
          0.331833300975006,
          0.33058884870326655,
          0.32936364081075353,
          0.3281230918954478,
          0.3269105134708942,
          0.3257126548268682,
          0.32450835189988014,
          0.3233286071047425,
          0.3221681920861734,
          0.3210622440696927,
          0.3199586407457313,
          0.3188863088411519,
          0.31782306889350265,
          0.31676708071867726,
          0.31572043599564553,
          0.3146985530746917,
          0.3136732746720806,
          0.3126666186372786,
          0.31168680360904777,
          0.3107167996294001,
          0.30977387043409915,
          0.3088563710111838,
          0.30794144282391583,
          0.3070302312358445,
          0.30614026359318774,
          0.30526499752830133,
          0.30437654848367585,
          0.3035104139024479,
          0.3026689683238592,
          0.30185179518282373,
          0.3010504906713335,
          0.300223147943774,
          0.29941343760596895,
          0.2986601604143202,
          0.2978988979637686,
          0.2971587154100714,
          0.29641286546762335,
          0.29567749014143163,
          0.29494606303945275,
          0.294233640779066,
          0.2935273536967156,
          0.29284872735398404,
          0.2921645131357781,
          0.29152339363051416,
          0.29088251851254754,
          0.29022908856137736,
          0.2896054908468362,
          0.2889979289860339,
          0.2883689211067379,
          0.28776861666057035,
          0.2871820652756509,
          0.2865925803336658,
          0.28601070140754126,
          0.28543481796432113,
          0.2848810165921884,
          0.2843574399777669,
          0.28379956259300015,
          0.2832481679265762,
          0.28271625020375557,
          0.2822029228217085,
          0.281696831932461,
          0.2812043359613098,
          0.280741652627724,
          0.2802544860243822,
          0.2797767067964684,
          0.27931854883680074,
          0.27882087351833357,
          0.27834563304914894,
          0.27791929084726946,
          0.27745675932500197,
          0.27701862538511607,
          0.2765983130075317,
          0.27617394348164626,
          0.2757389720853515,
          0.27534627807208556,
          0.2749352766934707,
          0.27453688078482325,
          0.2741368967365487,
          0.27375322371073285,
          0.27335592014339344,
          0.273005254161577,
          0.272640669029861,
          0.2722695241388832,
          0.2718743265041633,
          0.2714998772979477,
          0.27115379165527675,
          0.2708206376310613,
          0.27049984032715463,
          0.2701642149180376,
          0.2698258559176217,
          0.2695023516808165,
          0.2691666285242726,
          0.26883984876685113,
          0.2685067664549154,
          0.26816471648354057,
          0.2678753355777095,
          0.26756927362872934,
          0.2672719514690589,
          0.2669974405309978,
          0.2667038697489033,
          0.26643777917823147,
          0.2661572286097014,
          0.26583639168583156,
          0.26552723922038485,
          0.2652510493071573,
          0.2649850958817112,
          0.264716010027593,
          0.2644767252638619,
          0.2642287619685121,
          0.26397788911266684,
          0.2637161593137026,
          0.26348053633590185,
          0.26324124603592414,
          0.26298939680646344,
          0.26273167385182605,
          0.2624948353168671,
          0.2622726461792566,
          0.26204270785099565,
          0.2618086873891185,
          0.26159667707483325,
          0.26139231549963565,
          0.2611762871979214,
          0.26097465534215075,
          0.26076407877980784,
          0.2605699045705667,
          0.2603661092703076,
          0.2601667229312729,
          0.2599458575514451,
          0.2597407433281604,
          0.25954378084196444,
          0.2593489479237627,
          0.2591552698696989,
          0.25894975524437897,
          0.25876607140321883,
          0.2585904721580684,
          0.25841319576966576,
          0.25822750707892506,
          0.2580505965559095,
          0.2578634046914439,
          0.2577051834424687,
          0.2575467688120192,
          0.257384714115941,
          0.2571867242904564,
          0.25701366882934273,
          0.2568481571691649,
          0.25668942201756845,
          0.2565338638831085,
          0.2563776064214171,
          0.25623457453769943,
          0.25608059055652554,
          0.25592491550332963,
          0.25575141360754017,
          0.2556116054426746,
          0.25544061411059327,
          0.255296434398658,
          0.25516189941953676,
          0.25501197393037806,
          0.25485544421771056,
          0.25472146604716556,
          0.2546003799555617,
          0.2544722345066382,
          0.25434826676719624,
          0.25419678858982736,
          0.2540720945213592,
          0.2539517202640422,
          0.25384331977024027,
          0.25372413821497686,
          0.25360694019618935,
          0.2534853711454545,
          0.25336512430691954,
          0.2532451846249294,
          0.25311375510259004,
          0.2529901224550431,
          0.252882617437911,
          0.25275627561937075,
          0.2526477344725,
          0.2525488821596983,
          0.25243218468232276,
          0.2523293300688616,
          0.2522116694565872,
          0.2521028023112183,
          0.2520072357473713,
          0.2519239624324903,
          0.2518102299680983,
          0.25169017898230184,
          0.2515835606708434,
          0.2514858264923295,
          0.2513935726065391,
          0.2513013273549826,
          0.2512004410872403,
          0.2510922696802874,
          0.25100658948278026,
          0.2509063900619463,
          0.2507990082482632,
          0.2507171756154445,
          0.250627792000425,
          0.25053532454942296,
          0.25042723300506964,
          0.2503351124831115,
          0.25024747405488845,
          0.25016792362389656,
          0.2500814726369197,
          0.2500158581648242,
          0.24992462789051953,
          0.24985113826395458,
          0.24978131125224526,
          0.24971143629746498,
          0.24962701071007548,
          0.2495477273501887,
          0.24946530391789887,
          0.24938569162186724,
          0.24932006214944963,
          0.24924274843501149,
          0.24916606927490487,
          0.24908502233860452,
          0.24899235597257896,
          0.24891643932714044,
          0.2488060049446258,
          0.24873406895959085,
          0.24865957111169706,
          0.24859518812875855,
          0.24851898887581256,
          0.24842610930699757,
          0.248349044341633,
          0.2482985232786037,
          0.24822526801541225,
          0.24816007033563087,
          0.24806064500336544,
          0.2479846160627091,
          0.24790284903791368,
          0.2478077396685467,
          0.24773424317015158,
          0.24767553434377484,
          0.24761710028083808,
          0.24750990970887404,
          0.24745825434276741,
          0.24740602486063198,
          0.24734154777444858,
          0.24725217762737808,
          0.2471808131976789,
          0.2471262718250609,
          0.24707170144729598,
          0.2469938783877168,
          0.24692088677721366,
          0.24687380992744415,
          0.2468170386872147,
          0.2467609384001378,
          0.24672139694364636,
          0.24663749313000133,
          0.246575844582342,
          0.24652594039343678,
          0.24645709730624446,
          0.24637976616718646,
          0.24633657462719677,
          0.246296150406971,
          0.24624476251728014,
          0.24617195151591464,
          0.24612923687902874,
          0.24606304018928343,
          0.24602266388786262,
          0.245979126108192,
          0.24593619219227336,
          0.2459017008886871,
          0.2458654432614576,
          0.24578324881459743,
          0.24570576699260796,
          0.24563204411117892,
          0.2455972998266194,
          0.2455149898878116,
          0.2454412450150509,
          0.24539755364600785,
          0.2453362942578794,
          0.24530139568475232,
          0.245264256765349,
          0.24522720401503084,
          0.24518456161070565,
          0.24514429985619207,
          0.2450911133478413,
          0.24504001433585362,
          0.24500333808879474,
          0.24495076339513278,
          0.24491958165691122,
          0.244874252878505,
          0.24484321074530513,
          0.24481690303965628,
          0.24477599886303464,
          0.24469932064957886,
          0.24467089112938487,
          0.24465315047566527,
          0.2446285363674913,
          0.24459276254294512,
          0.2445682695613198,
          0.2445399674498017,
          0.24450190263031457,
          0.24446070069643802,
          0.24438970441078967,
          0.244369556928609,
          0.24434050008613062,
          0.24431440961244147,
          0.24428233468504598,
          0.2442239388396621,
          0.24419699295067154,
          0.2441491267676011,
          0.24410434031502787,
          0.24408144526771214,
          0.24405910986999285,
          0.24403842093118888,
          0.24400248479142797,
          0.2439420442190336,
          0.24390674224873893,
          0.24385520452470208,
          0.2438230623890845,
          0.24379888880019696,
          0.24377789367501249,
          0.24376324665555735,
          0.2437390715662645,
          0.24372263504041886,
          0.24369521400125901,
          0.24367517901028546,
          0.24364137946859318,
          0.24362373935589127,
          0.24358997190447426,
          0.24357367343504968,
          0.24354202637641945,
          0.24351665135070205,
          0.2435000482027894,
          0.24347849404228303,
          0.2434727419218923,
          0.2434560457345968,
          0.24343145779214848,
          0.24340959380757915,
          0.24337954577489593,
          0.2433659151744881,
          0.24334475907515113,
          0.2433221620105853,
          0.24329558022812417,
          0.24326057687393277,
          0.24322399556482963,
          0.24319369876578878,
          0.24317112836979313,
          0.24314517332187363,
          0.24313487878327764,
          0.2431218757799775,
          0.2430982226831003,
          0.24307193282603443,
          0.24305148299781504,
          0.24303727098992536,
          0.24301522721339955,
          0.24299608529821456,
          0.24297906672856706,
          0.24295443903559893,
          0.24293527194526437,
          0.24293372386916115,
          0.24291396366259946,
          0.2428868160552846,
          0.24285439620240235,
          0.2428485389301766,
          0.24282150867045574,
          0.2428102818453619,
          0.2428007752341301,
          0.24277703654593105,
          0.24276515208341404,
          0.24274958181195025,
          0.24270402738653868,
          0.24269131442397465,
          0.24267394292680303,
          0.24265299661546086,
          0.24263703011842205,
          0.24262012860991078,
          0.24260540895562963,
          0.24259102871028773,
          0.24257148302710807,
          0.24255813870648257,
          0.24254293663377052,
          0.24252231744712108,
          0.24250311876324013,
          0.24248336189318623,
          0.24245925512504998,
          0.24243927661329903,
          0.2424177273320843,
          0.24239382781275545,
          0.24238033116508348,
          0.2423495366146712,
          0.2423346906458353,
          0.24232410203675847,
          0.24231243933837476,
          0.24228906902185574,
          0.24226460250295545,
          0.24225092998199818,
          0.24223217448148712,
          0.2422304536975673
         ],
         "yaxis": "y"
        }
       ],
       "layout": {
        "legend": {
         "itemsizing": "constant",
         "title": {
          "text": "Dataset"
         },
         "tracegroupgap": 0
        },
        "template": {
         "data": {
          "bar": [
           {
            "error_x": {
             "color": "#2a3f5f"
            },
            "error_y": {
             "color": "#2a3f5f"
            },
            "marker": {
             "line": {
              "color": "#E5ECF6",
              "width": 0.5
             },
             "pattern": {
              "fillmode": "overlay",
              "size": 10,
              "solidity": 0.2
             }
            },
            "type": "bar"
           }
          ],
          "barpolar": [
           {
            "marker": {
             "line": {
              "color": "#E5ECF6",
              "width": 0.5
             },
             "pattern": {
              "fillmode": "overlay",
              "size": 10,
              "solidity": 0.2
             }
            },
            "type": "barpolar"
           }
          ],
          "carpet": [
           {
            "aaxis": {
             "endlinecolor": "#2a3f5f",
             "gridcolor": "white",
             "linecolor": "white",
             "minorgridcolor": "white",
             "startlinecolor": "#2a3f5f"
            },
            "baxis": {
             "endlinecolor": "#2a3f5f",
             "gridcolor": "white",
             "linecolor": "white",
             "minorgridcolor": "white",
             "startlinecolor": "#2a3f5f"
            },
            "type": "carpet"
           }
          ],
          "choropleth": [
           {
            "colorbar": {
             "outlinewidth": 0,
             "ticks": ""
            },
            "type": "choropleth"
           }
          ],
          "contour": [
           {
            "colorbar": {
             "outlinewidth": 0,
             "ticks": ""
            },
            "colorscale": [
             [
              0,
              "#0d0887"
             ],
             [
              0.1111111111111111,
              "#46039f"
             ],
             [
              0.2222222222222222,
              "#7201a8"
             ],
             [
              0.3333333333333333,
              "#9c179e"
             ],
             [
              0.4444444444444444,
              "#bd3786"
             ],
             [
              0.5555555555555556,
              "#d8576b"
             ],
             [
              0.6666666666666666,
              "#ed7953"
             ],
             [
              0.7777777777777778,
              "#fb9f3a"
             ],
             [
              0.8888888888888888,
              "#fdca26"
             ],
             [
              1,
              "#f0f921"
             ]
            ],
            "type": "contour"
           }
          ],
          "contourcarpet": [
           {
            "colorbar": {
             "outlinewidth": 0,
             "ticks": ""
            },
            "type": "contourcarpet"
           }
          ],
          "heatmap": [
           {
            "colorbar": {
             "outlinewidth": 0,
             "ticks": ""
            },
            "colorscale": [
             [
              0,
              "#0d0887"
             ],
             [
              0.1111111111111111,
              "#46039f"
             ],
             [
              0.2222222222222222,
              "#7201a8"
             ],
             [
              0.3333333333333333,
              "#9c179e"
             ],
             [
              0.4444444444444444,
              "#bd3786"
             ],
             [
              0.5555555555555556,
              "#d8576b"
             ],
             [
              0.6666666666666666,
              "#ed7953"
             ],
             [
              0.7777777777777778,
              "#fb9f3a"
             ],
             [
              0.8888888888888888,
              "#fdca26"
             ],
             [
              1,
              "#f0f921"
             ]
            ],
            "type": "heatmap"
           }
          ],
          "heatmapgl": [
           {
            "colorbar": {
             "outlinewidth": 0,
             "ticks": ""
            },
            "colorscale": [
             [
              0,
              "#0d0887"
             ],
             [
              0.1111111111111111,
              "#46039f"
             ],
             [
              0.2222222222222222,
              "#7201a8"
             ],
             [
              0.3333333333333333,
              "#9c179e"
             ],
             [
              0.4444444444444444,
              "#bd3786"
             ],
             [
              0.5555555555555556,
              "#d8576b"
             ],
             [
              0.6666666666666666,
              "#ed7953"
             ],
             [
              0.7777777777777778,
              "#fb9f3a"
             ],
             [
              0.8888888888888888,
              "#fdca26"
             ],
             [
              1,
              "#f0f921"
             ]
            ],
            "type": "heatmapgl"
           }
          ],
          "histogram": [
           {
            "marker": {
             "pattern": {
              "fillmode": "overlay",
              "size": 10,
              "solidity": 0.2
             }
            },
            "type": "histogram"
           }
          ],
          "histogram2d": [
           {
            "colorbar": {
             "outlinewidth": 0,
             "ticks": ""
            },
            "colorscale": [
             [
              0,
              "#0d0887"
             ],
             [
              0.1111111111111111,
              "#46039f"
             ],
             [
              0.2222222222222222,
              "#7201a8"
             ],
             [
              0.3333333333333333,
              "#9c179e"
             ],
             [
              0.4444444444444444,
              "#bd3786"
             ],
             [
              0.5555555555555556,
              "#d8576b"
             ],
             [
              0.6666666666666666,
              "#ed7953"
             ],
             [
              0.7777777777777778,
              "#fb9f3a"
             ],
             [
              0.8888888888888888,
              "#fdca26"
             ],
             [
              1,
              "#f0f921"
             ]
            ],
            "type": "histogram2d"
           }
          ],
          "histogram2dcontour": [
           {
            "colorbar": {
             "outlinewidth": 0,
             "ticks": ""
            },
            "colorscale": [
             [
              0,
              "#0d0887"
             ],
             [
              0.1111111111111111,
              "#46039f"
             ],
             [
              0.2222222222222222,
              "#7201a8"
             ],
             [
              0.3333333333333333,
              "#9c179e"
             ],
             [
              0.4444444444444444,
              "#bd3786"
             ],
             [
              0.5555555555555556,
              "#d8576b"
             ],
             [
              0.6666666666666666,
              "#ed7953"
             ],
             [
              0.7777777777777778,
              "#fb9f3a"
             ],
             [
              0.8888888888888888,
              "#fdca26"
             ],
             [
              1,
              "#f0f921"
             ]
            ],
            "type": "histogram2dcontour"
           }
          ],
          "mesh3d": [
           {
            "colorbar": {
             "outlinewidth": 0,
             "ticks": ""
            },
            "type": "mesh3d"
           }
          ],
          "parcoords": [
           {
            "line": {
             "colorbar": {
              "outlinewidth": 0,
              "ticks": ""
             }
            },
            "type": "parcoords"
           }
          ],
          "pie": [
           {
            "automargin": true,
            "type": "pie"
           }
          ],
          "scatter": [
           {
            "fillpattern": {
             "fillmode": "overlay",
             "size": 10,
             "solidity": 0.2
            },
            "type": "scatter"
           }
          ],
          "scatter3d": [
           {
            "line": {
             "colorbar": {
              "outlinewidth": 0,
              "ticks": ""
             }
            },
            "marker": {
             "colorbar": {
              "outlinewidth": 0,
              "ticks": ""
             }
            },
            "type": "scatter3d"
           }
          ],
          "scattercarpet": [
           {
            "marker": {
             "colorbar": {
              "outlinewidth": 0,
              "ticks": ""
             }
            },
            "type": "scattercarpet"
           }
          ],
          "scattergeo": [
           {
            "marker": {
             "colorbar": {
              "outlinewidth": 0,
              "ticks": ""
             }
            },
            "type": "scattergeo"
           }
          ],
          "scattergl": [
           {
            "marker": {
             "colorbar": {
              "outlinewidth": 0,
              "ticks": ""
             }
            },
            "type": "scattergl"
           }
          ],
          "scattermapbox": [
           {
            "marker": {
             "colorbar": {
              "outlinewidth": 0,
              "ticks": ""
             }
            },
            "type": "scattermapbox"
           }
          ],
          "scatterpolar": [
           {
            "marker": {
             "colorbar": {
              "outlinewidth": 0,
              "ticks": ""
             }
            },
            "type": "scatterpolar"
           }
          ],
          "scatterpolargl": [
           {
            "marker": {
             "colorbar": {
              "outlinewidth": 0,
              "ticks": ""
             }
            },
            "type": "scatterpolargl"
           }
          ],
          "scatterternary": [
           {
            "marker": {
             "colorbar": {
              "outlinewidth": 0,
              "ticks": ""
             }
            },
            "type": "scatterternary"
           }
          ],
          "surface": [
           {
            "colorbar": {
             "outlinewidth": 0,
             "ticks": ""
            },
            "colorscale": [
             [
              0,
              "#0d0887"
             ],
             [
              0.1111111111111111,
              "#46039f"
             ],
             [
              0.2222222222222222,
              "#7201a8"
             ],
             [
              0.3333333333333333,
              "#9c179e"
             ],
             [
              0.4444444444444444,
              "#bd3786"
             ],
             [
              0.5555555555555556,
              "#d8576b"
             ],
             [
              0.6666666666666666,
              "#ed7953"
             ],
             [
              0.7777777777777778,
              "#fb9f3a"
             ],
             [
              0.8888888888888888,
              "#fdca26"
             ],
             [
              1,
              "#f0f921"
             ]
            ],
            "type": "surface"
           }
          ],
          "table": [
           {
            "cells": {
             "fill": {
              "color": "#EBF0F8"
             },
             "line": {
              "color": "white"
             }
            },
            "header": {
             "fill": {
              "color": "#C8D4E3"
             },
             "line": {
              "color": "white"
             }
            },
            "type": "table"
           }
          ]
         },
         "layout": {
          "annotationdefaults": {
           "arrowcolor": "#2a3f5f",
           "arrowhead": 0,
           "arrowwidth": 1
          },
          "autotypenumbers": "strict",
          "coloraxis": {
           "colorbar": {
            "outlinewidth": 0,
            "ticks": ""
           }
          },
          "colorscale": {
           "diverging": [
            [
             0,
             "#8e0152"
            ],
            [
             0.1,
             "#c51b7d"
            ],
            [
             0.2,
             "#de77ae"
            ],
            [
             0.3,
             "#f1b6da"
            ],
            [
             0.4,
             "#fde0ef"
            ],
            [
             0.5,
             "#f7f7f7"
            ],
            [
             0.6,
             "#e6f5d0"
            ],
            [
             0.7,
             "#b8e186"
            ],
            [
             0.8,
             "#7fbc41"
            ],
            [
             0.9,
             "#4d9221"
            ],
            [
             1,
             "#276419"
            ]
           ],
           "sequential": [
            [
             0,
             "#0d0887"
            ],
            [
             0.1111111111111111,
             "#46039f"
            ],
            [
             0.2222222222222222,
             "#7201a8"
            ],
            [
             0.3333333333333333,
             "#9c179e"
            ],
            [
             0.4444444444444444,
             "#bd3786"
            ],
            [
             0.5555555555555556,
             "#d8576b"
            ],
            [
             0.6666666666666666,
             "#ed7953"
            ],
            [
             0.7777777777777778,
             "#fb9f3a"
            ],
            [
             0.8888888888888888,
             "#fdca26"
            ],
            [
             1,
             "#f0f921"
            ]
           ],
           "sequentialminus": [
            [
             0,
             "#0d0887"
            ],
            [
             0.1111111111111111,
             "#46039f"
            ],
            [
             0.2222222222222222,
             "#7201a8"
            ],
            [
             0.3333333333333333,
             "#9c179e"
            ],
            [
             0.4444444444444444,
             "#bd3786"
            ],
            [
             0.5555555555555556,
             "#d8576b"
            ],
            [
             0.6666666666666666,
             "#ed7953"
            ],
            [
             0.7777777777777778,
             "#fb9f3a"
            ],
            [
             0.8888888888888888,
             "#fdca26"
            ],
            [
             1,
             "#f0f921"
            ]
           ]
          },
          "colorway": [
           "#636efa",
           "#EF553B",
           "#00cc96",
           "#ab63fa",
           "#FFA15A",
           "#19d3f3",
           "#FF6692",
           "#B6E880",
           "#FF97FF",
           "#FECB52"
          ],
          "font": {
           "color": "#2a3f5f"
          },
          "geo": {
           "bgcolor": "white",
           "lakecolor": "white",
           "landcolor": "#E5ECF6",
           "showlakes": true,
           "showland": true,
           "subunitcolor": "white"
          },
          "hoverlabel": {
           "align": "left"
          },
          "hovermode": "closest",
          "mapbox": {
           "style": "light"
          },
          "paper_bgcolor": "white",
          "plot_bgcolor": "#E5ECF6",
          "polar": {
           "angularaxis": {
            "gridcolor": "white",
            "linecolor": "white",
            "ticks": ""
           },
           "bgcolor": "#E5ECF6",
           "radialaxis": {
            "gridcolor": "white",
            "linecolor": "white",
            "ticks": ""
           }
          },
          "scene": {
           "xaxis": {
            "backgroundcolor": "#E5ECF6",
            "gridcolor": "white",
            "gridwidth": 2,
            "linecolor": "white",
            "showbackground": true,
            "ticks": "",
            "zerolinecolor": "white"
           },
           "yaxis": {
            "backgroundcolor": "#E5ECF6",
            "gridcolor": "white",
            "gridwidth": 2,
            "linecolor": "white",
            "showbackground": true,
            "ticks": "",
            "zerolinecolor": "white"
           },
           "zaxis": {
            "backgroundcolor": "#E5ECF6",
            "gridcolor": "white",
            "gridwidth": 2,
            "linecolor": "white",
            "showbackground": true,
            "ticks": "",
            "zerolinecolor": "white"
           }
          },
          "shapedefaults": {
           "line": {
            "color": "#2a3f5f"
           }
          },
          "ternary": {
           "aaxis": {
            "gridcolor": "white",
            "linecolor": "white",
            "ticks": ""
           },
           "baxis": {
            "gridcolor": "white",
            "linecolor": "white",
            "ticks": ""
           },
           "bgcolor": "#E5ECF6",
           "caxis": {
            "gridcolor": "white",
            "linecolor": "white",
            "ticks": ""
           }
          },
          "title": {
           "x": 0.05
          },
          "xaxis": {
           "automargin": true,
           "gridcolor": "white",
           "linecolor": "white",
           "ticks": "",
           "title": {
            "standoff": 15
           },
           "zerolinecolor": "white",
           "zerolinewidth": 2
          },
          "yaxis": {
           "automargin": true,
           "gridcolor": "white",
           "linecolor": "white",
           "ticks": "",
           "title": {
            "standoff": 15
           },
           "zerolinecolor": "white",
           "zerolinewidth": 2
          }
         }
        },
        "title": {
         "text": "Training and Validation MAE over Boosting Rounds for mr_number"
        },
        "xaxis": {
         "anchor": "y",
         "domain": [
          0,
          1
         ],
         "title": {
          "text": "Round"
         }
        },
        "yaxis": {
         "anchor": "x",
         "domain": [
          0,
          1
         ],
         "title": {
          "text": "Mean Absolute Error"
         }
        }
       }
      }
     },
     "metadata": {},
     "output_type": "display_data"
    },
    {
     "name": "stdout",
     "output_type": "stream",
     "text": [
      "Best Val MAE for mr_number: 0.2422304536975673\n",
      "Round: 500\n"
     ]
    }
   ],
   "source": [
    "# %%\n",
    "# Iterate through each model in models\n",
    "for target, target_model in models.items():\n",
    "    print(f\"Processing target: {target}\")\n",
    "\n",
    "    # Predict\n",
    "    train_preds = target_model.predict(X_train)\n",
    "    val_preds = target_model.predict(X_val)\n",
    "\n",
    "    # Compute MAE values\n",
    "    train_mae = mean_absolute_error(y_train[target], train_preds)\n",
    "    val_mae = mean_absolute_error(y_val[target], val_preds)\n",
    "\n",
    "    # Log the best score to wandb\n",
    "    # XGBoost does not have best_iteration attribute in scikit-learn API\n",
    "    evals_result = target_model.evals_result()\n",
    "    best_iteration = len(evals_result['validation_0']['mae'])  # Last iteration\n",
    "    best_val_mae = evals_result['validation_1']['mae'][-1]\n",
    "    best_train_mae = evals_result['validation_0']['mae'][-1]\n",
    "\n",
    "    wandb.log({\n",
    "        f'{target}_best_val_mae': best_val_mae,\n",
    "        f'{target}_best_round': best_iteration,\n",
    "        f'{target}_best_train_mae': best_train_mae\n",
    "    })\n",
    "\n",
    "    # Convert evaluation results to a DataFrame\n",
    "    eval_df = pl.DataFrame({\n",
    "        'Round': list(range(1, len(evals_result['validation_0']['mae']) + 1)),\n",
    "        'Train MAE': evals_result['validation_0']['mae'],\n",
    "        'Val MAE': evals_result['validation_1']['mae']\n",
    "    })\n",
    "\n",
    "    # Log eval_df to wandb\n",
    "    wandb.log({f'{target}_eval_df': wandb.Table(data=eval_df.to_pandas())})\n",
    "\n",
    "    # Plot the results using Plotly\n",
    "    fig = px.line(\n",
    "        eval_df.to_pandas(),\n",
    "        x='Round',\n",
    "        y=['Train MAE', 'Val MAE'],\n",
    "        labels={'value': 'Mean Absolute Error'},\n",
    "        title=f'Training and Validation MAE over Boosting Rounds for {target}'\n",
    "    )\n",
    "\n",
    "    fig.update_layout(\n",
    "        legend=dict(\n",
    "            title='Dataset',\n",
    "            itemsizing='constant'\n",
    "        )\n",
    "    )\n",
    "\n",
    "    # Log the plot to wandb\n",
    "    wandb.log({f\"{target}_MAE_Plot\": fig})\n",
    "\n",
    "    # Optionally, display the plot\n",
    "    fig.show()\n",
    "\n",
    "    print(f\"Best Val MAE for {target}: {best_val_mae}\")\n",
    "    print(f\"Round: {best_iteration}\")"
   ]
  },
  {
   "cell_type": "code",
   "execution_count": 13,
   "metadata": {},
   "outputs": [],
   "source": [
    "# %%\n",
    "if wandb.config.run_shap:\n",
    "    # Create a SHAP explainer for the XGBoost model\n",
    "    # Assuming 'thp_vol' is one of the targets\n",
    "    target_name = 'thp_vol'\n",
    "    explainer = shap.TreeExplainer(models[target_name], X_val)\n",
    "\n",
    "    # Calculate SHAP values for the val set\n",
    "    shap_values = explainer.shap_values(X_val)\n",
    "\n",
    "    # Log SHAP plots to wandb\n",
    "    shap_bar = shap.summary_plot(\n",
    "        shap_values, X_val, plot_type=\"bar\", show=False)\n",
    "    plt.savefig(\"shap_bar.png\")\n",
    "    wandb.log({\"SHAP Bar Plot\": wandb.Image(\"shap_bar.png\")})\n",
    "    plt.clf()\n",
    "\n",
    "    shap_summary = shap.summary_plot(\n",
    "        shap_values, X_val, show=False)\n",
    "    plt.savefig(\"shap_summary.png\")\n",
    "    wandb.log({\"SHAP Summary Plot\": wandb.Image(\"shap_summary.png\")})\n",
    "    plt.clf()\n",
    "\n",
    "    # Optionally, add more SHAP plots as needed"
   ]
  },
  {
   "cell_type": "code",
   "execution_count": 14,
   "metadata": {},
   "outputs": [
    {
     "data": {
      "application/vnd.jupyter.widget-view+json": {
       "model_id": "f3a596effc0944f485607ce95b5c29a9",
       "version_major": 2,
       "version_minor": 0
      },
      "text/plain": [
       "VBox(children=(Label(value='249.365 MB of 349.213 MB uploaded (0.063 MB deduped)\\r'), FloatProgress(value=0.71…"
      ]
     },
     "metadata": {},
     "output_type": "display_data"
    },
    {
     "data": {
      "text/html": [
       "W&B sync reduced upload amount by 0.0%"
      ],
      "text/plain": [
       "<IPython.core.display.HTML object>"
      ]
     },
     "metadata": {},
     "output_type": "display_data"
    },
    {
     "data": {
      "text/html": [
       "<style>\n",
       "    table.wandb td:nth-child(1) { padding: 0 10px; text-align: left ; width: auto;} td:nth-child(2) {text-align: left ; width: 100%}\n",
       "    .wandb-row { display: flex; flex-direction: row; flex-wrap: wrap; justify-content: flex-start; width: 100% }\n",
       "    .wandb-col { display: flex; flex-direction: column; flex-basis: 100%; flex: 1; padding: 10px; }\n",
       "    </style>\n",
       "<div class=\"wandb-row\"><div class=\"wandb-col\"><h3>Run history:</h3><br/><table class=\"wandb\"><tr><td>best_iteration</td><td>▁█</td></tr><tr><td>best_score</td><td>█▁</td></tr><tr><td>epoch</td><td>▁▁▂▂▂▂▃▃▃▄▄▄▄▅▁▁▂▂▂▂▃▃▃▃▄▄▄▅▅▅▅▆▆▆▇▇▇▇██</td></tr><tr><td>mr_number_best_round</td><td>▁</td></tr><tr><td>mr_number_best_train_mae</td><td>▁</td></tr><tr><td>mr_number_best_val_mae</td><td>▁</td></tr><tr><td>thp_vol_best_round</td><td>▁</td></tr><tr><td>thp_vol_best_train_mae</td><td>▁</td></tr><tr><td>thp_vol_best_val_mae</td><td>▁</td></tr><tr><td>validation_0-mae</td><td>▄▃▃▂▂▂▂▂▁▁▁▁▁▁█▇▅▄▃▃▂▂▂▂▂▁▁▁▁▁▁▁▁▁▁▁▁▁▁▁</td></tr><tr><td>validation_1-mae</td><td>▃▃▃▂▂▂▂▂▁▁▁▁▁▁█▇▅▄▃▃▂▂▂▂▁▁▁▁▁▁▁▁▁▁▁▁▁▁▁▁</td></tr></table><br/></div><div class=\"wandb-col\"><h3>Run summary:</h3><br/><table class=\"wandb\"><tr><td>best_iteration</td><td>499</td></tr><tr><td>best_score</td><td>0.24223</td></tr><tr><td>epoch</td><td>499</td></tr><tr><td>mr_number_best_round</td><td>500</td></tr><tr><td>mr_number_best_train_mae</td><td>0.22801</td></tr><tr><td>mr_number_best_val_mae</td><td>0.24223</td></tr><tr><td>thp_vol_best_round</td><td>278</td></tr><tr><td>thp_vol_best_train_mae</td><td>0.24232</td></tr><tr><td>thp_vol_best_val_mae</td><td>0.26428</td></tr></table><br/></div></div>"
      ],
      "text/plain": [
       "<IPython.core.display.HTML object>"
      ]
     },
     "metadata": {},
     "output_type": "display_data"
    },
    {
     "data": {
      "text/html": [
       " View run <strong style=\"color:#cdcd00\">woven-capybara-156</strong> at: <a href='https://wandb.ai/esedx12/traffic-forecasting-challenge/runs/f9op211v' target=\"_blank\">https://wandb.ai/esedx12/traffic-forecasting-challenge/runs/f9op211v</a><br/> View project at: <a href='https://wandb.ai/esedx12/traffic-forecasting-challenge' target=\"_blank\">https://wandb.ai/esedx12/traffic-forecasting-challenge</a><br/>Synced 6 W&B file(s), 6 media file(s), 14 artifact file(s) and 5 other file(s)"
      ],
      "text/plain": [
       "<IPython.core.display.HTML object>"
      ]
     },
     "metadata": {},
     "output_type": "display_data"
    },
    {
     "data": {
      "text/html": [
       "Find logs at: <code>./wandb/run-20241009_214941-f9op211v/logs</code>"
      ],
      "text/plain": [
       "<IPython.core.display.HTML object>"
      ]
     },
     "metadata": {},
     "output_type": "display_data"
    },
    {
     "data": {
      "text/html": [
       "The new W&B backend becomes opt-out in version 0.18.0; try it out with `wandb.require(\"core\")`! See https://wandb.me/wandb-core for more information."
      ],
      "text/plain": [
       "<IPython.core.display.HTML object>"
      ]
     },
     "metadata": {},
     "output_type": "display_data"
    }
   ],
   "source": [
    "# %%\n",
    "wandb.finish()"
   ]
  },
  {
   "cell_type": "code",
   "execution_count": null,
   "metadata": {},
   "outputs": [],
   "source": []
  }
 ],
 "metadata": {
  "kernelspec": {
   "display_name": "ml",
   "language": "python",
   "name": "python3"
  },
  "language_info": {
   "codemirror_mode": {
    "name": "ipython",
    "version": 3
   },
   "file_extension": ".py",
   "mimetype": "text/x-python",
   "name": "python",
   "nbconvert_exporter": "python",
   "pygments_lexer": "ipython3",
   "version": "3.12.3"
  }
 },
 "nbformat": 4,
 "nbformat_minor": 2
}
