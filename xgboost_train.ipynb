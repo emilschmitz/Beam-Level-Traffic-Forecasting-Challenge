{
 "cells": [
  {
   "cell_type": "markdown",
   "metadata": {},
   "source": [
    "# XGBoost\n",
    "* TODO: add averages for cells and stations, NB inference code will need to be adapted too\n",
    "* TODO: target manipulations/engineering\n",
    "    * rolling autocorrelation\n",
    "* TODO: (vector leaf) multi-output regression\n",
    "* TODO: maybe for week 10-11, we should have radically different approach that does not rely on lag feats, since these will be heavily inpacted by compound errors\n",
    "    * maybe we should train lin reg for trend and xgboost for seasonality only on idx feats"
   ]
  },
  {
   "cell_type": "code",
   "execution_count": 1,
   "metadata": {},
   "outputs": [],
   "source": [
    "# %%\n",
    "import math\n",
    "from pathlib import Path\n",
    "import os\n",
    "os.environ[\"WANDB_NOTEBOOK_NAME\"] = \"xgboost_train.ipynb\"  # Manually set the notebook name\n",
    "from typing import Callable\n",
    "\n",
    "import polars as pl\n",
    "import numpy as np\n",
    "import xgboost as xgb\n",
    "import optuna\n",
    "from optuna_integration.wandb import WeightsAndBiasesCallback\n",
    "from optuna_integration.xgboost import XGBoostPruningCallback\n",
    "from sklearn.model_selection import train_test_split\n",
    "from sklearn.metrics import mean_squared_error, mean_absolute_error\n",
    "from sklearn.compose import TransformedTargetRegressor\n",
    "import shap\n",
    "\n",
    "import seaborn as sns\n",
    "import matplotlib.pyplot as plt\n",
    "import plotly.express as px\n",
    "\n",
    "import wandb\n",
    "from wandb.integration.xgboost import WandbCallback\n",
    "from tqdm.notebook import tqdm\n",
    "\n",
    "import sys\n",
    "sys.path.append('.')\n",
    "\n",
    "# Import utility functions\n",
    "import utils\n"
   ]
  },
  {
   "cell_type": "code",
   "execution_count": 2,
   "metadata": {},
   "outputs": [],
   "source": [
    "# %%\n",
    "DEBUG = False\n"
   ]
  },
  {
   "cell_type": "code",
   "execution_count": 3,
   "metadata": {},
   "outputs": [],
   "source": [
    "# %%\n",
    "# Read the CSV files\n",
    "data_dir = Path('input-data')\n",
    "thp_vol = pl.read_csv(data_dir / 'traffic_DLThpVol.csv')  # This is the target variable\n",
    "prb = pl.read_csv(data_dir / 'traffic_DLPRB.csv')\n",
    "thp_time = pl.read_csv(data_dir / 'traffic_DLThpTime.csv')\n",
    "mr_number = pl.read_csv(data_dir / 'traffic_MR_number.csv')\n",
    "\n",
    "target_dataframes = {\n",
    "    'thp_vol': thp_vol,\n",
    "    'prb': prb,\n",
    "    'thp_time': thp_time,\n",
    "    'mr_number': mr_number\n",
    "}\n",
    "\n",
    "idx_hour_series = thp_vol['']\n",
    "\n",
    "for k, v in target_dataframes.items():\n",
    "    # Drop the first column (idx hour)\n",
    "    target_dataframes[k] = v.drop('')\n"
   ]
  },
  {
   "cell_type": "code",
   "execution_count": 4,
   "metadata": {},
   "outputs": [],
   "source": [
    "# %%\n",
    "xgb_hyperparams = {\n",
    "    'objective': 'reg:squarederror',\n",
    "    'eval_metric': 'mae',\n",
    "    # 'max_depth': 6,\n",
    "    'eta': 0.1,\n",
    "    'subsample': 0.7,\n",
    "    # 'colsample_bytree': 0.8,\n",
    "    # 'verbosity': 2,\n",
    "    'early_stopping_rounds': 10,\n",
    "    'n_estimators': 100,\n",
    "}\n",
    "\n",
    "config = {\n",
    "    'lags': [1, 2, 3, 6, 12, 13, 14, 24, 25, 26, 48, 49, 72],\n",
    "    'rolling_avgs': [1, 3, 9, 24, 48, 72, 86],\n",
    "    'delta_reference_points': [(1, 2), (1, 3), (1, 6), (1, 24), (24, 25), (48, 49)],\n",
    "    'std_windows': [3, 6, 12, 24, 48, 72, 86],\n",
    "    'num_zeros_windows': [6, 12, 24],\n",
    "    'hour_shifts': [0, 6, 12, 18],\n",
    "    'weekday_shifts': [0, 3, 6],\n",
    "    'train_percentage': 0.6,\n",
    "    'val_percentage': 0.3,  # The rest is test\n",
    "    'run_shap': False,\n",
    "    'target_df_names': [  # dataframes used as target variables\n",
    "        'thp_vol', \n",
    "        'mr_number',\n",
    "        # 'vol_per_prb',\n",
    "    ],\n",
    "    'feat_base_df_names': [  # dataframes used to create the features\n",
    "        'thp_vol', \n",
    "        'mr_number',\n",
    "        'vol_per_user', \n",
    "        # 'vol_per_prb',\n",
    "    ],\n",
    "}\n",
    "\n",
    "if DEBUG:\n",
    "    target_dataframes = {k: v.head(400).select(v.columns[:800]) for k, v in target_dataframes.items()}\n",
    "    # Shorten every list in config to max three elements\n",
    "    config = {k: v[:3] if isinstance(v, list) else v for k, v in config.items()}\n",
    "\n",
    "config = {**xgb_hyperparams, **config}\n"
   ]
  },
  {
   "cell_type": "code",
   "execution_count": 5,
   "metadata": {},
   "outputs": [
    {
     "name": "stderr",
     "output_type": "stream",
     "text": [
      "\u001b[34m\u001b[1mwandb\u001b[0m: Currently logged in as: \u001b[33mesedx12\u001b[0m. Use \u001b[1m`wandb login --relogin`\u001b[0m to force relogin\n"
     ]
    },
    {
     "data": {
      "text/html": [
       "Tracking run with wandb version 0.17.9"
      ],
      "text/plain": [
       "<IPython.core.display.HTML object>"
      ]
     },
     "metadata": {},
     "output_type": "display_data"
    },
    {
     "data": {
      "text/html": [
       "Run data is saved locally in <code>/home/emil/Desktop/Beam-Level Traffic Forecasting Challenge/wandb/run-20240929_195833-mi4g88mz</code>"
      ],
      "text/plain": [
       "<IPython.core.display.HTML object>"
      ]
     },
     "metadata": {},
     "output_type": "display_data"
    },
    {
     "data": {
      "text/html": [
       "Syncing run <strong><a href='https://wandb.ai/esedx12/traffic-forecasting-challenge/runs/mi4g88mz' target=\"_blank\">clean-jazz-77</a></strong> to <a href='https://wandb.ai/esedx12/traffic-forecasting-challenge' target=\"_blank\">Weights & Biases</a> (<a href='https://wandb.me/run' target=\"_blank\">docs</a>)<br/>"
      ],
      "text/plain": [
       "<IPython.core.display.HTML object>"
      ]
     },
     "metadata": {},
     "output_type": "display_data"
    },
    {
     "data": {
      "text/html": [
       " View project at <a href='https://wandb.ai/esedx12/traffic-forecasting-challenge' target=\"_blank\">https://wandb.ai/esedx12/traffic-forecasting-challenge</a>"
      ],
      "text/plain": [
       "<IPython.core.display.HTML object>"
      ]
     },
     "metadata": {},
     "output_type": "display_data"
    },
    {
     "data": {
      "text/html": [
       " View run at <a href='https://wandb.ai/esedx12/traffic-forecasting-challenge/runs/mi4g88mz' target=\"_blank\">https://wandb.ai/esedx12/traffic-forecasting-challenge/runs/mi4g88mz</a>"
      ],
      "text/plain": [
       "<IPython.core.display.HTML object>"
      ]
     },
     "metadata": {},
     "output_type": "display_data"
    }
   ],
   "source": [
    "# %%\n",
    "# Initialize W&B\n",
    "run = wandb.init(\n",
    "    project=\"traffic-forecasting-challenge\", \n",
    "    job_type='train', \n",
    "    entity=\"esedx12\", \n",
    "    config=config, \n",
    "    save_code=True, \n",
    "    mode=('dryrun' if DEBUG else 'online')\n",
    ")\n",
    "\n",
    "# Save utils.py to W&B\n",
    "utils_path = Path('utils.py')\n",
    "if utils_path.exists():\n",
    "    wandb.save(str(utils_path))\n"
   ]
  },
  {
   "cell_type": "markdown",
   "metadata": {},
   "source": [
    " ## Feature Engineering\n",
    "\n",
    " The feature engineering steps are handled by utility functions."
   ]
  },
  {
   "cell_type": "code",
   "execution_count": 6,
   "metadata": {},
   "outputs": [
    {
     "data": {
      "application/vnd.jupyter.widget-view+json": {
       "model_id": "e87de360465a4deda4bcfc873817a619",
       "version_major": 2,
       "version_minor": 0
      },
      "text/plain": [
       "  0%|          | 0/3 [00:00<?, ?it/s]"
      ]
     },
     "metadata": {},
     "output_type": "display_data"
    },
    {
     "data": {
      "application/vnd.jupyter.widget-view+json": {
       "model_id": "0de466ad7cdd4c88914611ea4b0a9433",
       "version_major": 2,
       "version_minor": 0
      },
      "text/plain": [
       "  0%|          | 0/3 [00:00<?, ?it/s]"
      ]
     },
     "metadata": {},
     "output_type": "display_data"
    }
   ],
   "source": [
    "# %%\n",
    "# Use first config.train_percentage of dataframe rows for training, and the rest for validation and testing\n",
    "num_rows = len(target_dataframes['thp_vol'])\n",
    "num_train_rows = round(num_rows * wandb.config.train_percentage)\n",
    "num_val_rows = round(num_rows * wandb.config.val_percentage)\n",
    "\n",
    "train_dataframes = {k: v.head(num_train_rows) for k, v in target_dataframes.items()}\n",
    "train_idx_hour_series = idx_hour_series.head(num_train_rows)\n",
    "\n",
    "val_dataframes = {k: v.slice(num_train_rows + 1, num_val_rows) for k, v in target_dataframes.items()}\n",
    "val_idx_hour_series = idx_hour_series.slice(num_train_rows + 1, num_val_rows)\n",
    "\n",
    "# Create long format dataframes using utility functions\n",
    "long_train_df = utils.create_long_format_df(train_dataframes, train_idx_hour_series, wandb.config)\n",
    "long_val_df = utils.create_long_format_df(val_dataframes, val_idx_hour_series, wandb.config)\n",
    "\n",
    "dropped_cols = ['idx_hour', 'beam_id']\n",
    "target_cols = list(target_dataframes.keys())\n",
    "\n",
    "X_train, y_train = long_train_df.drop(dropped_cols + target_cols), long_train_df.select(target_cols)\n",
    "X_val, y_val = long_val_df.drop(dropped_cols + target_cols), long_val_df.select(target_cols)\n",
    "\n",
    "wandb.config.update({\n",
    "    'train_shape': X_train.shape, \n",
    "    'val_shape': X_val.shape, \n",
    "    'features': X_train.columns, \n",
    "    'targets': y_train.columns\n",
    "})\n"
   ]
  },
  {
   "cell_type": "markdown",
   "metadata": {},
   "source": [
    " ## Train Models\n",
    "*  TODO if indicated for performance reasons, get the max idx_hour with a null and return it so we can shorten the df for multi-step predict\n",
    "* TODO also add target transformations (maybe sklearn can help)\n",
    "* TODO normalize somehow if data is on very different scales for different beams"
   ]
  },
  {
   "cell_type": "code",
   "execution_count": 7,
   "metadata": {},
   "outputs": [
    {
     "name": "stdout",
     "output_type": "stream",
     "text": [
      "\n",
      "Fitting model for thp_vol:\n",
      "[0]\tvalidation_0-mae:0.36062\tvalidation_1-mae:0.34899\n",
      "[25]\tvalidation_0-mae:0.21061\tvalidation_1-mae:0.20305\n",
      "[50]\tvalidation_0-mae:0.20551\tvalidation_1-mae:0.20049\n",
      "[75]\tvalidation_0-mae:0.20402\tvalidation_1-mae:0.20080\n",
      "\n",
      "Fitting model for prb:\n",
      "[0]\tvalidation_0-mae:0.56195\tvalidation_1-mae:0.56734\n",
      "[25]\tvalidation_0-mae:0.26076\tvalidation_1-mae:0.26140\n",
      "[50]\tvalidation_0-mae:0.25204\tvalidation_1-mae:0.25384\n",
      "[75]\tvalidation_0-mae:0.24967\tvalidation_1-mae:0.25256\n",
      "[99]\tvalidation_0-mae:0.24823\tvalidation_1-mae:0.25200\n",
      "\n",
      "Fitting model for thp_time:\n",
      "[0]\tvalidation_0-mae:0.46431\tvalidation_1-mae:0.45966\n",
      "[25]\tvalidation_0-mae:0.24542\tvalidation_1-mae:0.24187\n",
      "[50]\tvalidation_0-mae:0.23922\tvalidation_1-mae:0.23722\n",
      "[75]\tvalidation_0-mae:0.23734\tvalidation_1-mae:0.23646\n",
      "[99]\tvalidation_0-mae:0.23586\tvalidation_1-mae:0.23616\n",
      "\n",
      "Fitting model for mr_number:\n",
      "[0]\tvalidation_0-mae:0.58309\tvalidation_1-mae:0.59065\n",
      "[25]\tvalidation_0-mae:0.20207\tvalidation_1-mae:0.20304\n",
      "[50]\tvalidation_0-mae:0.19256\tvalidation_1-mae:0.19438\n",
      "[75]\tvalidation_0-mae:0.19091\tvalidation_1-mae:0.19340\n"
     ]
    }
   ],
   "source": [
    "# %%\n",
    "models = {}\n",
    "for target_name in y_train.columns:\n",
    "    model = xgb.XGBRegressor(**xgb_hyperparams, callbacks=[WandbCallback(log_model=True)])\n",
    "    print(f\"\\nFitting model for {target_name}:\")\n",
    "    model.fit(\n",
    "        X_train.to_pandas(), \n",
    "        y_train[target_name].to_pandas(), \n",
    "        eval_set=[(X_train.to_pandas(), y_train[target_name].to_pandas()), \n",
    "                  (X_val.to_pandas(), y_val[target_name].to_pandas())], \n",
    "        verbose=25\n",
    "    )\n",
    "    models[target_name] = model\n"
   ]
  },
  {
   "cell_type": "code",
   "execution_count": 9,
   "metadata": {},
   "outputs": [],
   "source": [
    "# %%\n",
    "# Save models\n",
    "for target_name, model in models.items():\n",
    "    model_dir = Path('checkpoints') / wandb.run.name\n",
    "    model_dir.mkdir(parents=True, exist_ok=True)\n",
    "    model_path = model_dir / f'{target_name}.ubj'\n",
    "    model.save_model(model_path)\n",
    "    wandb.save(str(model_path))"
   ]
  },
  {
   "cell_type": "markdown",
   "metadata": {},
   "source": [
    " ## Evaluation and Logging"
   ]
  },
  {
   "cell_type": "code",
   "execution_count": 10,
   "metadata": {},
   "outputs": [
    {
     "name": "stdout",
     "output_type": "stream",
     "text": [
      "Processing target: thp_vol\n"
     ]
    },
    {
     "data": {
      "application/vnd.plotly.v1+json": {
       "config": {
        "plotlyServerURL": "https://plot.ly"
       },
       "data": [
        {
         "hovertemplate": "variable=Train MAE<br>Round=%{x}<br>Mean Absolute Error=%{y}<extra></extra>",
         "legendgroup": "Train MAE",
         "line": {
          "color": "#636efa",
          "dash": "solid"
         },
         "marker": {
          "symbol": "circle"
         },
         "mode": "lines",
         "name": "Train MAE",
         "orientation": "v",
         "showlegend": true,
         "type": "scatter",
         "x": [
          1,
          2,
          3,
          4,
          5,
          6,
          7,
          8,
          9,
          10,
          11,
          12,
          13,
          14,
          15,
          16,
          17,
          18,
          19,
          20,
          21,
          22,
          23,
          24,
          25,
          26,
          27,
          28,
          29,
          30,
          31,
          32,
          33,
          34,
          35,
          36,
          37,
          38,
          39,
          40,
          41,
          42,
          43,
          44,
          45,
          46,
          47,
          48,
          49,
          50,
          51,
          52,
          53,
          54,
          55,
          56,
          57,
          58,
          59,
          60,
          61,
          62,
          63,
          64,
          65,
          66,
          67,
          68,
          69,
          70,
          71,
          72,
          73,
          74,
          75,
          76,
          77
         ],
         "xaxis": "x",
         "y": [
          0.3606181034283685,
          0.3378743349345389,
          0.31830549682536324,
          0.30163113859921903,
          0.2874292201059536,
          0.275418658278753,
          0.2650736359998513,
          0.2564390670204018,
          0.2491138799742529,
          0.24290428667546857,
          0.23763492216615667,
          0.23319388614664946,
          0.22940587929320252,
          0.22624126200054603,
          0.22358159731458604,
          0.22136912686259008,
          0.21944396660942558,
          0.21777502888294853,
          0.21640224010275863,
          0.21512515563701004,
          0.21412738572707343,
          0.21324513016385366,
          0.21246526802754023,
          0.21173291182363185,
          0.21111734953963873,
          0.21060511021348424,
          0.21006638281790327,
          0.2095792604712312,
          0.20919937038265213,
          0.2088385818483553,
          0.20848911985302115,
          0.20819929739191778,
          0.2079280015217781,
          0.20771807163098474,
          0.2075222225397038,
          0.20724905446792827,
          0.20710258982085683,
          0.2069502583011296,
          0.20676357637788803,
          0.20666153926212544,
          0.20655036859097406,
          0.20636177964535488,
          0.2062283007371763,
          0.20610628088380942,
          0.20600333603559262,
          0.20596204183321765,
          0.20586633304555166,
          0.20577858272048208,
          0.20567297444178836,
          0.2055505032045458,
          0.20550720018541965,
          0.20543137522364338,
          0.20536220061395222,
          0.2052894703478553,
          0.20527852099581134,
          0.2052468895751981,
          0.20517774322376944,
          0.2051484212628492,
          0.20507961156268828,
          0.20497747404984096,
          0.20494610673774083,
          0.20483376526647293,
          0.2048124370105144,
          0.20474191535273023,
          0.20468721757808767,
          0.20463125749883307,
          0.20459855110718111,
          0.20455433237018691,
          0.20447080410992657,
          0.20446415473485183,
          0.20433691445645447,
          0.2042355003385012,
          0.20416374870152776,
          0.20412365248745967,
          0.20409590182138218,
          0.2040179634136971,
          0.20395018439189816
         ],
         "yaxis": "y"
        },
        {
         "hovertemplate": "variable=Val MAE<br>Round=%{x}<br>Mean Absolute Error=%{y}<extra></extra>",
         "legendgroup": "Val MAE",
         "line": {
          "color": "#EF553B",
          "dash": "solid"
         },
         "marker": {
          "symbol": "circle"
         },
         "mode": "lines",
         "name": "Val MAE",
         "orientation": "v",
         "showlegend": true,
         "type": "scatter",
         "x": [
          1,
          2,
          3,
          4,
          5,
          6,
          7,
          8,
          9,
          10,
          11,
          12,
          13,
          14,
          15,
          16,
          17,
          18,
          19,
          20,
          21,
          22,
          23,
          24,
          25,
          26,
          27,
          28,
          29,
          30,
          31,
          32,
          33,
          34,
          35,
          36,
          37,
          38,
          39,
          40,
          41,
          42,
          43,
          44,
          45,
          46,
          47,
          48,
          49,
          50,
          51,
          52,
          53,
          54,
          55,
          56,
          57,
          58,
          59,
          60,
          61,
          62,
          63,
          64,
          65,
          66,
          67,
          68,
          69,
          70,
          71,
          72,
          73,
          74,
          75,
          76,
          77
         ],
         "xaxis": "x",
         "y": [
          0.34899384479102,
          0.3264095014383533,
          0.306927120151189,
          0.2902129010116891,
          0.2761034024787233,
          0.26427620730569795,
          0.2542082692818452,
          0.24576643004917154,
          0.23859441595750772,
          0.2325562401725337,
          0.22748654679456973,
          0.22317619040563835,
          0.2195665208052425,
          0.21662837881651,
          0.21414072498772044,
          0.21214499175784657,
          0.2104115427561853,
          0.2089202737676555,
          0.20766021095483858,
          0.20656873889141522,
          0.2057544672677449,
          0.204991206483159,
          0.2043884623901059,
          0.2038617894225082,
          0.20344052543839342,
          0.20304554267845956,
          0.20269408082210455,
          0.20235720290543815,
          0.20210557546073726,
          0.20187011469722957,
          0.20176757602710707,
          0.201574085097134,
          0.2014574735929879,
          0.2013130401007398,
          0.2012048603413041,
          0.20107261941805163,
          0.20098298287261696,
          0.20090532806272843,
          0.20079028077969702,
          0.20073846878208718,
          0.2007777996979118,
          0.20069693039425365,
          0.20065555056337944,
          0.2005773155434303,
          0.20057939254783436,
          0.20056936299331174,
          0.20058322732952383,
          0.20052806434151807,
          0.20050808856339788,
          0.2004910997690792,
          0.20048701665970342,
          0.2004662639127202,
          0.20044655873715328,
          0.200474299875687,
          0.20046921447949373,
          0.20044149130410718,
          0.20041810049697573,
          0.20038842130070578,
          0.2003739450400811,
          0.2003401318617813,
          0.20042159867823808,
          0.20039752232784389,
          0.2003870134101902,
          0.2003756524870528,
          0.20034380408591732,
          0.200330191749936,
          0.20031914253734892,
          0.20042481741976048,
          0.20042706402961083,
          0.20042368297074437,
          0.2008335574646137,
          0.20082676481225759,
          0.20081183333470298,
          0.20080286317353072,
          0.20080824109233558,
          0.20079865613013392,
          0.2008071520950386
         ],
         "yaxis": "y"
        }
       ],
       "layout": {
        "legend": {
         "itemsizing": "constant",
         "title": {
          "text": "Dataset"
         },
         "tracegroupgap": 0
        },
        "template": {
         "data": {
          "bar": [
           {
            "error_x": {
             "color": "#2a3f5f"
            },
            "error_y": {
             "color": "#2a3f5f"
            },
            "marker": {
             "line": {
              "color": "#E5ECF6",
              "width": 0.5
             },
             "pattern": {
              "fillmode": "overlay",
              "size": 10,
              "solidity": 0.2
             }
            },
            "type": "bar"
           }
          ],
          "barpolar": [
           {
            "marker": {
             "line": {
              "color": "#E5ECF6",
              "width": 0.5
             },
             "pattern": {
              "fillmode": "overlay",
              "size": 10,
              "solidity": 0.2
             }
            },
            "type": "barpolar"
           }
          ],
          "carpet": [
           {
            "aaxis": {
             "endlinecolor": "#2a3f5f",
             "gridcolor": "white",
             "linecolor": "white",
             "minorgridcolor": "white",
             "startlinecolor": "#2a3f5f"
            },
            "baxis": {
             "endlinecolor": "#2a3f5f",
             "gridcolor": "white",
             "linecolor": "white",
             "minorgridcolor": "white",
             "startlinecolor": "#2a3f5f"
            },
            "type": "carpet"
           }
          ],
          "choropleth": [
           {
            "colorbar": {
             "outlinewidth": 0,
             "ticks": ""
            },
            "type": "choropleth"
           }
          ],
          "contour": [
           {
            "colorbar": {
             "outlinewidth": 0,
             "ticks": ""
            },
            "colorscale": [
             [
              0,
              "#0d0887"
             ],
             [
              0.1111111111111111,
              "#46039f"
             ],
             [
              0.2222222222222222,
              "#7201a8"
             ],
             [
              0.3333333333333333,
              "#9c179e"
             ],
             [
              0.4444444444444444,
              "#bd3786"
             ],
             [
              0.5555555555555556,
              "#d8576b"
             ],
             [
              0.6666666666666666,
              "#ed7953"
             ],
             [
              0.7777777777777778,
              "#fb9f3a"
             ],
             [
              0.8888888888888888,
              "#fdca26"
             ],
             [
              1,
              "#f0f921"
             ]
            ],
            "type": "contour"
           }
          ],
          "contourcarpet": [
           {
            "colorbar": {
             "outlinewidth": 0,
             "ticks": ""
            },
            "type": "contourcarpet"
           }
          ],
          "heatmap": [
           {
            "colorbar": {
             "outlinewidth": 0,
             "ticks": ""
            },
            "colorscale": [
             [
              0,
              "#0d0887"
             ],
             [
              0.1111111111111111,
              "#46039f"
             ],
             [
              0.2222222222222222,
              "#7201a8"
             ],
             [
              0.3333333333333333,
              "#9c179e"
             ],
             [
              0.4444444444444444,
              "#bd3786"
             ],
             [
              0.5555555555555556,
              "#d8576b"
             ],
             [
              0.6666666666666666,
              "#ed7953"
             ],
             [
              0.7777777777777778,
              "#fb9f3a"
             ],
             [
              0.8888888888888888,
              "#fdca26"
             ],
             [
              1,
              "#f0f921"
             ]
            ],
            "type": "heatmap"
           }
          ],
          "heatmapgl": [
           {
            "colorbar": {
             "outlinewidth": 0,
             "ticks": ""
            },
            "colorscale": [
             [
              0,
              "#0d0887"
             ],
             [
              0.1111111111111111,
              "#46039f"
             ],
             [
              0.2222222222222222,
              "#7201a8"
             ],
             [
              0.3333333333333333,
              "#9c179e"
             ],
             [
              0.4444444444444444,
              "#bd3786"
             ],
             [
              0.5555555555555556,
              "#d8576b"
             ],
             [
              0.6666666666666666,
              "#ed7953"
             ],
             [
              0.7777777777777778,
              "#fb9f3a"
             ],
             [
              0.8888888888888888,
              "#fdca26"
             ],
             [
              1,
              "#f0f921"
             ]
            ],
            "type": "heatmapgl"
           }
          ],
          "histogram": [
           {
            "marker": {
             "pattern": {
              "fillmode": "overlay",
              "size": 10,
              "solidity": 0.2
             }
            },
            "type": "histogram"
           }
          ],
          "histogram2d": [
           {
            "colorbar": {
             "outlinewidth": 0,
             "ticks": ""
            },
            "colorscale": [
             [
              0,
              "#0d0887"
             ],
             [
              0.1111111111111111,
              "#46039f"
             ],
             [
              0.2222222222222222,
              "#7201a8"
             ],
             [
              0.3333333333333333,
              "#9c179e"
             ],
             [
              0.4444444444444444,
              "#bd3786"
             ],
             [
              0.5555555555555556,
              "#d8576b"
             ],
             [
              0.6666666666666666,
              "#ed7953"
             ],
             [
              0.7777777777777778,
              "#fb9f3a"
             ],
             [
              0.8888888888888888,
              "#fdca26"
             ],
             [
              1,
              "#f0f921"
             ]
            ],
            "type": "histogram2d"
           }
          ],
          "histogram2dcontour": [
           {
            "colorbar": {
             "outlinewidth": 0,
             "ticks": ""
            },
            "colorscale": [
             [
              0,
              "#0d0887"
             ],
             [
              0.1111111111111111,
              "#46039f"
             ],
             [
              0.2222222222222222,
              "#7201a8"
             ],
             [
              0.3333333333333333,
              "#9c179e"
             ],
             [
              0.4444444444444444,
              "#bd3786"
             ],
             [
              0.5555555555555556,
              "#d8576b"
             ],
             [
              0.6666666666666666,
              "#ed7953"
             ],
             [
              0.7777777777777778,
              "#fb9f3a"
             ],
             [
              0.8888888888888888,
              "#fdca26"
             ],
             [
              1,
              "#f0f921"
             ]
            ],
            "type": "histogram2dcontour"
           }
          ],
          "mesh3d": [
           {
            "colorbar": {
             "outlinewidth": 0,
             "ticks": ""
            },
            "type": "mesh3d"
           }
          ],
          "parcoords": [
           {
            "line": {
             "colorbar": {
              "outlinewidth": 0,
              "ticks": ""
             }
            },
            "type": "parcoords"
           }
          ],
          "pie": [
           {
            "automargin": true,
            "type": "pie"
           }
          ],
          "scatter": [
           {
            "fillpattern": {
             "fillmode": "overlay",
             "size": 10,
             "solidity": 0.2
            },
            "type": "scatter"
           }
          ],
          "scatter3d": [
           {
            "line": {
             "colorbar": {
              "outlinewidth": 0,
              "ticks": ""
             }
            },
            "marker": {
             "colorbar": {
              "outlinewidth": 0,
              "ticks": ""
             }
            },
            "type": "scatter3d"
           }
          ],
          "scattercarpet": [
           {
            "marker": {
             "colorbar": {
              "outlinewidth": 0,
              "ticks": ""
             }
            },
            "type": "scattercarpet"
           }
          ],
          "scattergeo": [
           {
            "marker": {
             "colorbar": {
              "outlinewidth": 0,
              "ticks": ""
             }
            },
            "type": "scattergeo"
           }
          ],
          "scattergl": [
           {
            "marker": {
             "colorbar": {
              "outlinewidth": 0,
              "ticks": ""
             }
            },
            "type": "scattergl"
           }
          ],
          "scattermapbox": [
           {
            "marker": {
             "colorbar": {
              "outlinewidth": 0,
              "ticks": ""
             }
            },
            "type": "scattermapbox"
           }
          ],
          "scatterpolar": [
           {
            "marker": {
             "colorbar": {
              "outlinewidth": 0,
              "ticks": ""
             }
            },
            "type": "scatterpolar"
           }
          ],
          "scatterpolargl": [
           {
            "marker": {
             "colorbar": {
              "outlinewidth": 0,
              "ticks": ""
             }
            },
            "type": "scatterpolargl"
           }
          ],
          "scatterternary": [
           {
            "marker": {
             "colorbar": {
              "outlinewidth": 0,
              "ticks": ""
             }
            },
            "type": "scatterternary"
           }
          ],
          "surface": [
           {
            "colorbar": {
             "outlinewidth": 0,
             "ticks": ""
            },
            "colorscale": [
             [
              0,
              "#0d0887"
             ],
             [
              0.1111111111111111,
              "#46039f"
             ],
             [
              0.2222222222222222,
              "#7201a8"
             ],
             [
              0.3333333333333333,
              "#9c179e"
             ],
             [
              0.4444444444444444,
              "#bd3786"
             ],
             [
              0.5555555555555556,
              "#d8576b"
             ],
             [
              0.6666666666666666,
              "#ed7953"
             ],
             [
              0.7777777777777778,
              "#fb9f3a"
             ],
             [
              0.8888888888888888,
              "#fdca26"
             ],
             [
              1,
              "#f0f921"
             ]
            ],
            "type": "surface"
           }
          ],
          "table": [
           {
            "cells": {
             "fill": {
              "color": "#EBF0F8"
             },
             "line": {
              "color": "white"
             }
            },
            "header": {
             "fill": {
              "color": "#C8D4E3"
             },
             "line": {
              "color": "white"
             }
            },
            "type": "table"
           }
          ]
         },
         "layout": {
          "annotationdefaults": {
           "arrowcolor": "#2a3f5f",
           "arrowhead": 0,
           "arrowwidth": 1
          },
          "autotypenumbers": "strict",
          "coloraxis": {
           "colorbar": {
            "outlinewidth": 0,
            "ticks": ""
           }
          },
          "colorscale": {
           "diverging": [
            [
             0,
             "#8e0152"
            ],
            [
             0.1,
             "#c51b7d"
            ],
            [
             0.2,
             "#de77ae"
            ],
            [
             0.3,
             "#f1b6da"
            ],
            [
             0.4,
             "#fde0ef"
            ],
            [
             0.5,
             "#f7f7f7"
            ],
            [
             0.6,
             "#e6f5d0"
            ],
            [
             0.7,
             "#b8e186"
            ],
            [
             0.8,
             "#7fbc41"
            ],
            [
             0.9,
             "#4d9221"
            ],
            [
             1,
             "#276419"
            ]
           ],
           "sequential": [
            [
             0,
             "#0d0887"
            ],
            [
             0.1111111111111111,
             "#46039f"
            ],
            [
             0.2222222222222222,
             "#7201a8"
            ],
            [
             0.3333333333333333,
             "#9c179e"
            ],
            [
             0.4444444444444444,
             "#bd3786"
            ],
            [
             0.5555555555555556,
             "#d8576b"
            ],
            [
             0.6666666666666666,
             "#ed7953"
            ],
            [
             0.7777777777777778,
             "#fb9f3a"
            ],
            [
             0.8888888888888888,
             "#fdca26"
            ],
            [
             1,
             "#f0f921"
            ]
           ],
           "sequentialminus": [
            [
             0,
             "#0d0887"
            ],
            [
             0.1111111111111111,
             "#46039f"
            ],
            [
             0.2222222222222222,
             "#7201a8"
            ],
            [
             0.3333333333333333,
             "#9c179e"
            ],
            [
             0.4444444444444444,
             "#bd3786"
            ],
            [
             0.5555555555555556,
             "#d8576b"
            ],
            [
             0.6666666666666666,
             "#ed7953"
            ],
            [
             0.7777777777777778,
             "#fb9f3a"
            ],
            [
             0.8888888888888888,
             "#fdca26"
            ],
            [
             1,
             "#f0f921"
            ]
           ]
          },
          "colorway": [
           "#636efa",
           "#EF553B",
           "#00cc96",
           "#ab63fa",
           "#FFA15A",
           "#19d3f3",
           "#FF6692",
           "#B6E880",
           "#FF97FF",
           "#FECB52"
          ],
          "font": {
           "color": "#2a3f5f"
          },
          "geo": {
           "bgcolor": "white",
           "lakecolor": "white",
           "landcolor": "#E5ECF6",
           "showlakes": true,
           "showland": true,
           "subunitcolor": "white"
          },
          "hoverlabel": {
           "align": "left"
          },
          "hovermode": "closest",
          "mapbox": {
           "style": "light"
          },
          "paper_bgcolor": "white",
          "plot_bgcolor": "#E5ECF6",
          "polar": {
           "angularaxis": {
            "gridcolor": "white",
            "linecolor": "white",
            "ticks": ""
           },
           "bgcolor": "#E5ECF6",
           "radialaxis": {
            "gridcolor": "white",
            "linecolor": "white",
            "ticks": ""
           }
          },
          "scene": {
           "xaxis": {
            "backgroundcolor": "#E5ECF6",
            "gridcolor": "white",
            "gridwidth": 2,
            "linecolor": "white",
            "showbackground": true,
            "ticks": "",
            "zerolinecolor": "white"
           },
           "yaxis": {
            "backgroundcolor": "#E5ECF6",
            "gridcolor": "white",
            "gridwidth": 2,
            "linecolor": "white",
            "showbackground": true,
            "ticks": "",
            "zerolinecolor": "white"
           },
           "zaxis": {
            "backgroundcolor": "#E5ECF6",
            "gridcolor": "white",
            "gridwidth": 2,
            "linecolor": "white",
            "showbackground": true,
            "ticks": "",
            "zerolinecolor": "white"
           }
          },
          "shapedefaults": {
           "line": {
            "color": "#2a3f5f"
           }
          },
          "ternary": {
           "aaxis": {
            "gridcolor": "white",
            "linecolor": "white",
            "ticks": ""
           },
           "baxis": {
            "gridcolor": "white",
            "linecolor": "white",
            "ticks": ""
           },
           "bgcolor": "#E5ECF6",
           "caxis": {
            "gridcolor": "white",
            "linecolor": "white",
            "ticks": ""
           }
          },
          "title": {
           "x": 0.05
          },
          "xaxis": {
           "automargin": true,
           "gridcolor": "white",
           "linecolor": "white",
           "ticks": "",
           "title": {
            "standoff": 15
           },
           "zerolinecolor": "white",
           "zerolinewidth": 2
          },
          "yaxis": {
           "automargin": true,
           "gridcolor": "white",
           "linecolor": "white",
           "ticks": "",
           "title": {
            "standoff": 15
           },
           "zerolinecolor": "white",
           "zerolinewidth": 2
          }
         }
        },
        "title": {
         "text": "Training and Validation MAE over Boosting Rounds for thp_vol"
        },
        "xaxis": {
         "anchor": "y",
         "domain": [
          0,
          1
         ],
         "title": {
          "text": "Round"
         }
        },
        "yaxis": {
         "anchor": "x",
         "domain": [
          0,
          1
         ],
         "title": {
          "text": "Mean Absolute Error"
         }
        }
       }
      }
     },
     "metadata": {},
     "output_type": "display_data"
    },
    {
     "name": "stdout",
     "output_type": "stream",
     "text": [
      "Best Val MAE for thp_vol: 0.2008071520950386\n",
      "Round: 77\n",
      "Processing target: prb\n"
     ]
    },
    {
     "data": {
      "application/vnd.plotly.v1+json": {
       "config": {
        "plotlyServerURL": "https://plot.ly"
       },
       "data": [
        {
         "hovertemplate": "variable=Train MAE<br>Round=%{x}<br>Mean Absolute Error=%{y}<extra></extra>",
         "legendgroup": "Train MAE",
         "line": {
          "color": "#636efa",
          "dash": "solid"
         },
         "marker": {
          "symbol": "circle"
         },
         "mode": "lines",
         "name": "Train MAE",
         "orientation": "v",
         "showlegend": true,
         "type": "scatter",
         "x": [
          1,
          2,
          3,
          4,
          5,
          6,
          7,
          8,
          9,
          10,
          11,
          12,
          13,
          14,
          15,
          16,
          17,
          18,
          19,
          20,
          21,
          22,
          23,
          24,
          25,
          26,
          27,
          28,
          29,
          30,
          31,
          32,
          33,
          34,
          35,
          36,
          37,
          38,
          39,
          40,
          41,
          42,
          43,
          44,
          45,
          46,
          47,
          48,
          49,
          50,
          51,
          52,
          53,
          54,
          55,
          56,
          57,
          58,
          59,
          60,
          61,
          62,
          63,
          64,
          65,
          66,
          67,
          68,
          69,
          70,
          71,
          72,
          73,
          74,
          75,
          76,
          77,
          78,
          79,
          80,
          81,
          82,
          83,
          84,
          85,
          86,
          87,
          88,
          89,
          90,
          91,
          92,
          93,
          94,
          95,
          96,
          97,
          98,
          99,
          100
         ],
         "xaxis": "x",
         "y": [
          0.5619492706029484,
          0.5195364101839404,
          0.4823167979682101,
          0.4498158695050731,
          0.42153235049818033,
          0.3971268845563393,
          0.3760055068240747,
          0.3579535941531335,
          0.34246321228402876,
          0.3293019461602959,
          0.3181312931882322,
          0.3086622352805063,
          0.3006382655396234,
          0.2938750065033124,
          0.28815362678091516,
          0.2832935011248101,
          0.2791731586915803,
          0.2757145858524369,
          0.27273547969539913,
          0.27020253976951203,
          0.26800063990659573,
          0.2661098367215689,
          0.26445204403964323,
          0.2630520304454512,
          0.26182353582229106,
          0.2607562358204819,
          0.2598658039677805,
          0.25907496322091017,
          0.25834945350825234,
          0.25769534945333683,
          0.2570888771857144,
          0.2566107717907453,
          0.2561767515411707,
          0.25577106556367385,
          0.2553912959825225,
          0.2550643508791014,
          0.25472680999082203,
          0.25444251938837464,
          0.2541831613070151,
          0.25393709938439446,
          0.2537011756599759,
          0.253505420175827,
          0.2532751834801103,
          0.25306817585807057,
          0.2528868374217684,
          0.252731285756744,
          0.25257945451443875,
          0.2524292383233119,
          0.2522767920905809,
          0.25215086281022836,
          0.2520383074363235,
          0.25192967107489367,
          0.25182878138448084,
          0.2516987900483442,
          0.25160172451216334,
          0.251468520004702,
          0.2513788138909265,
          0.25129402795596134,
          0.25120033237558975,
          0.25108350835701915,
          0.25096763341536854,
          0.250868212499085,
          0.2507719281788514,
          0.2506841705843888,
          0.25056740544589867,
          0.2504729223685127,
          0.25038864882414846,
          0.2503112626926708,
          0.25023297616153223,
          0.25015567345778716,
          0.2500595554931814,
          0.2499508028832839,
          0.24987831051723008,
          0.24980481737009963,
          0.24974946012683977,
          0.24967239641817782,
          0.24959639503130396,
          0.2495141640337593,
          0.24945192026278706,
          0.2493929036314981,
          0.24932507442270768,
          0.24924837194689667,
          0.24918755563585385,
          0.2491314705182969,
          0.2490685663062806,
          0.24898546376181616,
          0.24890852369374877,
          0.2488510916497533,
          0.24879197117387206,
          0.24872329661641185,
          0.24867281726800727,
          0.24862406863624126,
          0.24855960825582762,
          0.2484898907115568,
          0.24844844463833624,
          0.24840919972514947,
          0.2483665208970579,
          0.24831783031884325,
          0.24828282911717894,
          0.24823141495761467
         ],
         "yaxis": "y"
        },
        {
         "hovertemplate": "variable=Val MAE<br>Round=%{x}<br>Mean Absolute Error=%{y}<extra></extra>",
         "legendgroup": "Val MAE",
         "line": {
          "color": "#EF553B",
          "dash": "solid"
         },
         "marker": {
          "symbol": "circle"
         },
         "mode": "lines",
         "name": "Val MAE",
         "orientation": "v",
         "showlegend": true,
         "type": "scatter",
         "x": [
          1,
          2,
          3,
          4,
          5,
          6,
          7,
          8,
          9,
          10,
          11,
          12,
          13,
          14,
          15,
          16,
          17,
          18,
          19,
          20,
          21,
          22,
          23,
          24,
          25,
          26,
          27,
          28,
          29,
          30,
          31,
          32,
          33,
          34,
          35,
          36,
          37,
          38,
          39,
          40,
          41,
          42,
          43,
          44,
          45,
          46,
          47,
          48,
          49,
          50,
          51,
          52,
          53,
          54,
          55,
          56,
          57,
          58,
          59,
          60,
          61,
          62,
          63,
          64,
          65,
          66,
          67,
          68,
          69,
          70,
          71,
          72,
          73,
          74,
          75,
          76,
          77,
          78,
          79,
          80,
          81,
          82,
          83,
          84,
          85,
          86,
          87,
          88,
          89,
          90,
          91,
          92,
          93,
          94,
          95,
          96,
          97,
          98,
          99,
          100
         ],
         "xaxis": "x",
         "y": [
          0.567336037155419,
          0.5240538747211946,
          0.48611246567824795,
          0.45302278320635436,
          0.42417025165772626,
          0.39929000762038164,
          0.37773061952955145,
          0.3593762595448057,
          0.3436365303058561,
          0.3302366977627981,
          0.31897269128031663,
          0.30943126752056244,
          0.30132504376853037,
          0.29449896298469214,
          0.28875453815897717,
          0.28383671549663764,
          0.27968389794984433,
          0.2761892574640593,
          0.2732333677545797,
          0.27071262897658344,
          0.26851646239962645,
          0.2666555272661046,
          0.26503034396990205,
          0.2636451911504198,
          0.26241751446708456,
          0.2613951367083744,
          0.26057487573108257,
          0.25979932307290166,
          0.25910771406868754,
          0.2585048381728759,
          0.2579642409191952,
          0.25753150955403603,
          0.2571330929949173,
          0.2567848082142321,
          0.25645130511397124,
          0.25615403728154107,
          0.25585861715875097,
          0.25562058886997163,
          0.2554180421786295,
          0.2552059758674379,
          0.2550178017725182,
          0.25487778310509246,
          0.2546885271672857,
          0.254538393082757,
          0.2544056511311957,
          0.2542843115644929,
          0.25417404166883145,
          0.2540696537381084,
          0.25395471281306164,
          0.2539007113938779,
          0.2538392332586266,
          0.253772929943205,
          0.2537128615289984,
          0.2536118549700314,
          0.2535587490279929,
          0.253474463905997,
          0.25342467568164867,
          0.2533879661715069,
          0.25333351209711535,
          0.2532591006785316,
          0.25318296650314964,
          0.2531302928308978,
          0.2530818374278057,
          0.25305010781486786,
          0.2529835077584604,
          0.25293042243077607,
          0.2528848388211914,
          0.25285637673817546,
          0.25282772130571834,
          0.2527820707700308,
          0.2527273632324107,
          0.2526496947885635,
          0.2526152192010416,
          0.2525909921420522,
          0.2525725298408234,
          0.2525646219861644,
          0.2525288330183699,
          0.25249567881465446,
          0.25247292798051846,
          0.2524408224849167,
          0.252423180025014,
          0.2523826585632696,
          0.2523618752901747,
          0.25232837690259274,
          0.2523061737098013,
          0.25225343213270063,
          0.2522210096978229,
          0.252203126170649,
          0.2521846118697797,
          0.2521577740919376,
          0.25214897101105116,
          0.2521367875263779,
          0.25211936892022546,
          0.252079517394164,
          0.2520655542198778,
          0.2520390989719404,
          0.2520243852967866,
          0.25202903006847993,
          0.2520257129488919,
          0.2519975820163693
         ],
         "yaxis": "y"
        }
       ],
       "layout": {
        "legend": {
         "itemsizing": "constant",
         "title": {
          "text": "Dataset"
         },
         "tracegroupgap": 0
        },
        "template": {
         "data": {
          "bar": [
           {
            "error_x": {
             "color": "#2a3f5f"
            },
            "error_y": {
             "color": "#2a3f5f"
            },
            "marker": {
             "line": {
              "color": "#E5ECF6",
              "width": 0.5
             },
             "pattern": {
              "fillmode": "overlay",
              "size": 10,
              "solidity": 0.2
             }
            },
            "type": "bar"
           }
          ],
          "barpolar": [
           {
            "marker": {
             "line": {
              "color": "#E5ECF6",
              "width": 0.5
             },
             "pattern": {
              "fillmode": "overlay",
              "size": 10,
              "solidity": 0.2
             }
            },
            "type": "barpolar"
           }
          ],
          "carpet": [
           {
            "aaxis": {
             "endlinecolor": "#2a3f5f",
             "gridcolor": "white",
             "linecolor": "white",
             "minorgridcolor": "white",
             "startlinecolor": "#2a3f5f"
            },
            "baxis": {
             "endlinecolor": "#2a3f5f",
             "gridcolor": "white",
             "linecolor": "white",
             "minorgridcolor": "white",
             "startlinecolor": "#2a3f5f"
            },
            "type": "carpet"
           }
          ],
          "choropleth": [
           {
            "colorbar": {
             "outlinewidth": 0,
             "ticks": ""
            },
            "type": "choropleth"
           }
          ],
          "contour": [
           {
            "colorbar": {
             "outlinewidth": 0,
             "ticks": ""
            },
            "colorscale": [
             [
              0,
              "#0d0887"
             ],
             [
              0.1111111111111111,
              "#46039f"
             ],
             [
              0.2222222222222222,
              "#7201a8"
             ],
             [
              0.3333333333333333,
              "#9c179e"
             ],
             [
              0.4444444444444444,
              "#bd3786"
             ],
             [
              0.5555555555555556,
              "#d8576b"
             ],
             [
              0.6666666666666666,
              "#ed7953"
             ],
             [
              0.7777777777777778,
              "#fb9f3a"
             ],
             [
              0.8888888888888888,
              "#fdca26"
             ],
             [
              1,
              "#f0f921"
             ]
            ],
            "type": "contour"
           }
          ],
          "contourcarpet": [
           {
            "colorbar": {
             "outlinewidth": 0,
             "ticks": ""
            },
            "type": "contourcarpet"
           }
          ],
          "heatmap": [
           {
            "colorbar": {
             "outlinewidth": 0,
             "ticks": ""
            },
            "colorscale": [
             [
              0,
              "#0d0887"
             ],
             [
              0.1111111111111111,
              "#46039f"
             ],
             [
              0.2222222222222222,
              "#7201a8"
             ],
             [
              0.3333333333333333,
              "#9c179e"
             ],
             [
              0.4444444444444444,
              "#bd3786"
             ],
             [
              0.5555555555555556,
              "#d8576b"
             ],
             [
              0.6666666666666666,
              "#ed7953"
             ],
             [
              0.7777777777777778,
              "#fb9f3a"
             ],
             [
              0.8888888888888888,
              "#fdca26"
             ],
             [
              1,
              "#f0f921"
             ]
            ],
            "type": "heatmap"
           }
          ],
          "heatmapgl": [
           {
            "colorbar": {
             "outlinewidth": 0,
             "ticks": ""
            },
            "colorscale": [
             [
              0,
              "#0d0887"
             ],
             [
              0.1111111111111111,
              "#46039f"
             ],
             [
              0.2222222222222222,
              "#7201a8"
             ],
             [
              0.3333333333333333,
              "#9c179e"
             ],
             [
              0.4444444444444444,
              "#bd3786"
             ],
             [
              0.5555555555555556,
              "#d8576b"
             ],
             [
              0.6666666666666666,
              "#ed7953"
             ],
             [
              0.7777777777777778,
              "#fb9f3a"
             ],
             [
              0.8888888888888888,
              "#fdca26"
             ],
             [
              1,
              "#f0f921"
             ]
            ],
            "type": "heatmapgl"
           }
          ],
          "histogram": [
           {
            "marker": {
             "pattern": {
              "fillmode": "overlay",
              "size": 10,
              "solidity": 0.2
             }
            },
            "type": "histogram"
           }
          ],
          "histogram2d": [
           {
            "colorbar": {
             "outlinewidth": 0,
             "ticks": ""
            },
            "colorscale": [
             [
              0,
              "#0d0887"
             ],
             [
              0.1111111111111111,
              "#46039f"
             ],
             [
              0.2222222222222222,
              "#7201a8"
             ],
             [
              0.3333333333333333,
              "#9c179e"
             ],
             [
              0.4444444444444444,
              "#bd3786"
             ],
             [
              0.5555555555555556,
              "#d8576b"
             ],
             [
              0.6666666666666666,
              "#ed7953"
             ],
             [
              0.7777777777777778,
              "#fb9f3a"
             ],
             [
              0.8888888888888888,
              "#fdca26"
             ],
             [
              1,
              "#f0f921"
             ]
            ],
            "type": "histogram2d"
           }
          ],
          "histogram2dcontour": [
           {
            "colorbar": {
             "outlinewidth": 0,
             "ticks": ""
            },
            "colorscale": [
             [
              0,
              "#0d0887"
             ],
             [
              0.1111111111111111,
              "#46039f"
             ],
             [
              0.2222222222222222,
              "#7201a8"
             ],
             [
              0.3333333333333333,
              "#9c179e"
             ],
             [
              0.4444444444444444,
              "#bd3786"
             ],
             [
              0.5555555555555556,
              "#d8576b"
             ],
             [
              0.6666666666666666,
              "#ed7953"
             ],
             [
              0.7777777777777778,
              "#fb9f3a"
             ],
             [
              0.8888888888888888,
              "#fdca26"
             ],
             [
              1,
              "#f0f921"
             ]
            ],
            "type": "histogram2dcontour"
           }
          ],
          "mesh3d": [
           {
            "colorbar": {
             "outlinewidth": 0,
             "ticks": ""
            },
            "type": "mesh3d"
           }
          ],
          "parcoords": [
           {
            "line": {
             "colorbar": {
              "outlinewidth": 0,
              "ticks": ""
             }
            },
            "type": "parcoords"
           }
          ],
          "pie": [
           {
            "automargin": true,
            "type": "pie"
           }
          ],
          "scatter": [
           {
            "fillpattern": {
             "fillmode": "overlay",
             "size": 10,
             "solidity": 0.2
            },
            "type": "scatter"
           }
          ],
          "scatter3d": [
           {
            "line": {
             "colorbar": {
              "outlinewidth": 0,
              "ticks": ""
             }
            },
            "marker": {
             "colorbar": {
              "outlinewidth": 0,
              "ticks": ""
             }
            },
            "type": "scatter3d"
           }
          ],
          "scattercarpet": [
           {
            "marker": {
             "colorbar": {
              "outlinewidth": 0,
              "ticks": ""
             }
            },
            "type": "scattercarpet"
           }
          ],
          "scattergeo": [
           {
            "marker": {
             "colorbar": {
              "outlinewidth": 0,
              "ticks": ""
             }
            },
            "type": "scattergeo"
           }
          ],
          "scattergl": [
           {
            "marker": {
             "colorbar": {
              "outlinewidth": 0,
              "ticks": ""
             }
            },
            "type": "scattergl"
           }
          ],
          "scattermapbox": [
           {
            "marker": {
             "colorbar": {
              "outlinewidth": 0,
              "ticks": ""
             }
            },
            "type": "scattermapbox"
           }
          ],
          "scatterpolar": [
           {
            "marker": {
             "colorbar": {
              "outlinewidth": 0,
              "ticks": ""
             }
            },
            "type": "scatterpolar"
           }
          ],
          "scatterpolargl": [
           {
            "marker": {
             "colorbar": {
              "outlinewidth": 0,
              "ticks": ""
             }
            },
            "type": "scatterpolargl"
           }
          ],
          "scatterternary": [
           {
            "marker": {
             "colorbar": {
              "outlinewidth": 0,
              "ticks": ""
             }
            },
            "type": "scatterternary"
           }
          ],
          "surface": [
           {
            "colorbar": {
             "outlinewidth": 0,
             "ticks": ""
            },
            "colorscale": [
             [
              0,
              "#0d0887"
             ],
             [
              0.1111111111111111,
              "#46039f"
             ],
             [
              0.2222222222222222,
              "#7201a8"
             ],
             [
              0.3333333333333333,
              "#9c179e"
             ],
             [
              0.4444444444444444,
              "#bd3786"
             ],
             [
              0.5555555555555556,
              "#d8576b"
             ],
             [
              0.6666666666666666,
              "#ed7953"
             ],
             [
              0.7777777777777778,
              "#fb9f3a"
             ],
             [
              0.8888888888888888,
              "#fdca26"
             ],
             [
              1,
              "#f0f921"
             ]
            ],
            "type": "surface"
           }
          ],
          "table": [
           {
            "cells": {
             "fill": {
              "color": "#EBF0F8"
             },
             "line": {
              "color": "white"
             }
            },
            "header": {
             "fill": {
              "color": "#C8D4E3"
             },
             "line": {
              "color": "white"
             }
            },
            "type": "table"
           }
          ]
         },
         "layout": {
          "annotationdefaults": {
           "arrowcolor": "#2a3f5f",
           "arrowhead": 0,
           "arrowwidth": 1
          },
          "autotypenumbers": "strict",
          "coloraxis": {
           "colorbar": {
            "outlinewidth": 0,
            "ticks": ""
           }
          },
          "colorscale": {
           "diverging": [
            [
             0,
             "#8e0152"
            ],
            [
             0.1,
             "#c51b7d"
            ],
            [
             0.2,
             "#de77ae"
            ],
            [
             0.3,
             "#f1b6da"
            ],
            [
             0.4,
             "#fde0ef"
            ],
            [
             0.5,
             "#f7f7f7"
            ],
            [
             0.6,
             "#e6f5d0"
            ],
            [
             0.7,
             "#b8e186"
            ],
            [
             0.8,
             "#7fbc41"
            ],
            [
             0.9,
             "#4d9221"
            ],
            [
             1,
             "#276419"
            ]
           ],
           "sequential": [
            [
             0,
             "#0d0887"
            ],
            [
             0.1111111111111111,
             "#46039f"
            ],
            [
             0.2222222222222222,
             "#7201a8"
            ],
            [
             0.3333333333333333,
             "#9c179e"
            ],
            [
             0.4444444444444444,
             "#bd3786"
            ],
            [
             0.5555555555555556,
             "#d8576b"
            ],
            [
             0.6666666666666666,
             "#ed7953"
            ],
            [
             0.7777777777777778,
             "#fb9f3a"
            ],
            [
             0.8888888888888888,
             "#fdca26"
            ],
            [
             1,
             "#f0f921"
            ]
           ],
           "sequentialminus": [
            [
             0,
             "#0d0887"
            ],
            [
             0.1111111111111111,
             "#46039f"
            ],
            [
             0.2222222222222222,
             "#7201a8"
            ],
            [
             0.3333333333333333,
             "#9c179e"
            ],
            [
             0.4444444444444444,
             "#bd3786"
            ],
            [
             0.5555555555555556,
             "#d8576b"
            ],
            [
             0.6666666666666666,
             "#ed7953"
            ],
            [
             0.7777777777777778,
             "#fb9f3a"
            ],
            [
             0.8888888888888888,
             "#fdca26"
            ],
            [
             1,
             "#f0f921"
            ]
           ]
          },
          "colorway": [
           "#636efa",
           "#EF553B",
           "#00cc96",
           "#ab63fa",
           "#FFA15A",
           "#19d3f3",
           "#FF6692",
           "#B6E880",
           "#FF97FF",
           "#FECB52"
          ],
          "font": {
           "color": "#2a3f5f"
          },
          "geo": {
           "bgcolor": "white",
           "lakecolor": "white",
           "landcolor": "#E5ECF6",
           "showlakes": true,
           "showland": true,
           "subunitcolor": "white"
          },
          "hoverlabel": {
           "align": "left"
          },
          "hovermode": "closest",
          "mapbox": {
           "style": "light"
          },
          "paper_bgcolor": "white",
          "plot_bgcolor": "#E5ECF6",
          "polar": {
           "angularaxis": {
            "gridcolor": "white",
            "linecolor": "white",
            "ticks": ""
           },
           "bgcolor": "#E5ECF6",
           "radialaxis": {
            "gridcolor": "white",
            "linecolor": "white",
            "ticks": ""
           }
          },
          "scene": {
           "xaxis": {
            "backgroundcolor": "#E5ECF6",
            "gridcolor": "white",
            "gridwidth": 2,
            "linecolor": "white",
            "showbackground": true,
            "ticks": "",
            "zerolinecolor": "white"
           },
           "yaxis": {
            "backgroundcolor": "#E5ECF6",
            "gridcolor": "white",
            "gridwidth": 2,
            "linecolor": "white",
            "showbackground": true,
            "ticks": "",
            "zerolinecolor": "white"
           },
           "zaxis": {
            "backgroundcolor": "#E5ECF6",
            "gridcolor": "white",
            "gridwidth": 2,
            "linecolor": "white",
            "showbackground": true,
            "ticks": "",
            "zerolinecolor": "white"
           }
          },
          "shapedefaults": {
           "line": {
            "color": "#2a3f5f"
           }
          },
          "ternary": {
           "aaxis": {
            "gridcolor": "white",
            "linecolor": "white",
            "ticks": ""
           },
           "baxis": {
            "gridcolor": "white",
            "linecolor": "white",
            "ticks": ""
           },
           "bgcolor": "#E5ECF6",
           "caxis": {
            "gridcolor": "white",
            "linecolor": "white",
            "ticks": ""
           }
          },
          "title": {
           "x": 0.05
          },
          "xaxis": {
           "automargin": true,
           "gridcolor": "white",
           "linecolor": "white",
           "ticks": "",
           "title": {
            "standoff": 15
           },
           "zerolinecolor": "white",
           "zerolinewidth": 2
          },
          "yaxis": {
           "automargin": true,
           "gridcolor": "white",
           "linecolor": "white",
           "ticks": "",
           "title": {
            "standoff": 15
           },
           "zerolinecolor": "white",
           "zerolinewidth": 2
          }
         }
        },
        "title": {
         "text": "Training and Validation MAE over Boosting Rounds for prb"
        },
        "xaxis": {
         "anchor": "y",
         "domain": [
          0,
          1
         ],
         "title": {
          "text": "Round"
         }
        },
        "yaxis": {
         "anchor": "x",
         "domain": [
          0,
          1
         ],
         "title": {
          "text": "Mean Absolute Error"
         }
        }
       }
      }
     },
     "metadata": {},
     "output_type": "display_data"
    },
    {
     "name": "stdout",
     "output_type": "stream",
     "text": [
      "Best Val MAE for prb: 0.2519975820163693\n",
      "Round: 100\n",
      "Processing target: thp_time\n"
     ]
    },
    {
     "data": {
      "application/vnd.plotly.v1+json": {
       "config": {
        "plotlyServerURL": "https://plot.ly"
       },
       "data": [
        {
         "hovertemplate": "variable=Train MAE<br>Round=%{x}<br>Mean Absolute Error=%{y}<extra></extra>",
         "legendgroup": "Train MAE",
         "line": {
          "color": "#636efa",
          "dash": "solid"
         },
         "marker": {
          "symbol": "circle"
         },
         "mode": "lines",
         "name": "Train MAE",
         "orientation": "v",
         "showlegend": true,
         "type": "scatter",
         "x": [
          1,
          2,
          3,
          4,
          5,
          6,
          7,
          8,
          9,
          10,
          11,
          12,
          13,
          14,
          15,
          16,
          17,
          18,
          19,
          20,
          21,
          22,
          23,
          24,
          25,
          26,
          27,
          28,
          29,
          30,
          31,
          32,
          33,
          34,
          35,
          36,
          37,
          38,
          39,
          40,
          41,
          42,
          43,
          44,
          45,
          46,
          47,
          48,
          49,
          50,
          51,
          52,
          53,
          54,
          55,
          56,
          57,
          58,
          59,
          60,
          61,
          62,
          63,
          64,
          65,
          66,
          67,
          68,
          69,
          70,
          71,
          72,
          73,
          74,
          75,
          76,
          77,
          78,
          79,
          80,
          81,
          82,
          83,
          84,
          85,
          86,
          87,
          88,
          89,
          90,
          91,
          92,
          93,
          94,
          95,
          96,
          97,
          98,
          99,
          100
         ],
         "xaxis": "x",
         "y": [
          0.46431391010414175,
          0.43261388902575204,
          0.405016407547177,
          0.38101696122190404,
          0.3603529565400087,
          0.3427611926597766,
          0.3276250584432937,
          0.3147929951618636,
          0.30347289467819755,
          0.2939154876359916,
          0.2860581980171281,
          0.279213882874058,
          0.27348940608733824,
          0.2686598057059335,
          0.2647478656204165,
          0.26131135288920926,
          0.2583602943347251,
          0.25587646079551146,
          0.25379527676785885,
          0.2520159510079805,
          0.25059509536604263,
          0.2492417353523529,
          0.24807653885224504,
          0.24704996767288417,
          0.24614806945849066,
          0.24542032563449592,
          0.24475720514948301,
          0.24416189181633804,
          0.24367482287789818,
          0.24325755044242284,
          0.24283012314842248,
          0.24247593821381264,
          0.242153147237159,
          0.24187682988764525,
          0.24163456272649128,
          0.24137951452385933,
          0.24114518840228785,
          0.2409787211617867,
          0.24077994039810496,
          0.24059379185480567,
          0.2404326595495367,
          0.2402342079404042,
          0.2401126830304679,
          0.23994888396518424,
          0.23983077232616745,
          0.2396999640183827,
          0.23961193960943297,
          0.23952923684906488,
          0.2394391487822327,
          0.23930622844590835,
          0.23921713043157924,
          0.23912058395542057,
          0.238972735189656,
          0.23887417632976318,
          0.2388109428065725,
          0.23875119867303035,
          0.2386776353038222,
          0.23859579258646985,
          0.23851173036549042,
          0.23844808637596043,
          0.23834886233996105,
          0.23829669151883792,
          0.2382631285420131,
          0.23819132325145903,
          0.23812589507759477,
          0.23809438782014672,
          0.23799299334616045,
          0.23791530142161105,
          0.23784417294989962,
          0.23775930291710629,
          0.23764640285328,
          0.23757107516261225,
          0.23750288158830896,
          0.23745469560380875,
          0.2374063987828861,
          0.23733778014145057,
          0.23732224293572993,
          0.23724495983271796,
          0.2371923347837138,
          0.23713406269057982,
          0.23703883389845679,
          0.2369495983840367,
          0.23691856518081977,
          0.23685045380918326,
          0.236772191328771,
          0.23673783895678618,
          0.23666199977489552,
          0.23660141540046178,
          0.23652363021261827,
          0.23646381948303996,
          0.23637781076667,
          0.23632204456811892,
          0.23624821653583616,
          0.2361815493540605,
          0.23608946835550007,
          0.2360411180749779,
          0.2359749483151543,
          0.23590521992761448,
          0.23588567601277963,
          0.23586480739609778
         ],
         "yaxis": "y"
        },
        {
         "hovertemplate": "variable=Val MAE<br>Round=%{x}<br>Mean Absolute Error=%{y}<extra></extra>",
         "legendgroup": "Val MAE",
         "line": {
          "color": "#EF553B",
          "dash": "solid"
         },
         "marker": {
          "symbol": "circle"
         },
         "mode": "lines",
         "name": "Val MAE",
         "orientation": "v",
         "showlegend": true,
         "type": "scatter",
         "x": [
          1,
          2,
          3,
          4,
          5,
          6,
          7,
          8,
          9,
          10,
          11,
          12,
          13,
          14,
          15,
          16,
          17,
          18,
          19,
          20,
          21,
          22,
          23,
          24,
          25,
          26,
          27,
          28,
          29,
          30,
          31,
          32,
          33,
          34,
          35,
          36,
          37,
          38,
          39,
          40,
          41,
          42,
          43,
          44,
          45,
          46,
          47,
          48,
          49,
          50,
          51,
          52,
          53,
          54,
          55,
          56,
          57,
          58,
          59,
          60,
          61,
          62,
          63,
          64,
          65,
          66,
          67,
          68,
          69,
          70,
          71,
          72,
          73,
          74,
          75,
          76,
          77,
          78,
          79,
          80,
          81,
          82,
          83,
          84,
          85,
          86,
          87,
          88,
          89,
          90,
          91,
          92,
          93,
          94,
          95,
          96,
          97,
          98,
          99,
          100
         ],
         "xaxis": "x",
         "y": [
          0.45966473890211645,
          0.42769797904304085,
          0.39988619975544326,
          0.3757966767462629,
          0.3551334151785591,
          0.3375577488188523,
          0.32244138432973046,
          0.30963006673492627,
          0.2983307382939982,
          0.28876001903833387,
          0.2809757591460375,
          0.27421463775874577,
          0.26860746621045783,
          0.26387748330327526,
          0.2601238524817414,
          0.2567704762604868,
          0.25392755413224727,
          0.2515708280227476,
          0.24960983206305734,
          0.24790534064649958,
          0.2465851857856638,
          0.24533913442324237,
          0.2442415295858444,
          0.24328885840601444,
          0.24249716144531386,
          0.24186959026734048,
          0.241270111796237,
          0.24079581400565928,
          0.24041510977924282,
          0.24006999407670807,
          0.23974026466209106,
          0.23946619488327256,
          0.2392301436042079,
          0.23900640450753527,
          0.2388223783943398,
          0.23865930545061964,
          0.2384536531853578,
          0.23832746338819397,
          0.23814364141783673,
          0.23800708158556502,
          0.2378868796062404,
          0.23774344357633753,
          0.23768491475753517,
          0.23754028340586064,
          0.23749055232544478,
          0.237420621494536,
          0.23741155142983617,
          0.23737146836188727,
          0.23730550755535026,
          0.23726546736539686,
          0.2372207767336636,
          0.2371439988776199,
          0.2370778880398609,
          0.23703175568562962,
          0.23701126505034414,
          0.23698580610675554,
          0.23698824164421775,
          0.23693731801636259,
          0.23689229175021173,
          0.2368619505496603,
          0.23680621402633004,
          0.23677336982977118,
          0.23676464337466904,
          0.23677573139489633,
          0.2367820046038061,
          0.23676485104037398,
          0.2367068723910904,
          0.23667690373946326,
          0.23665441864687847,
          0.23662437585491444,
          0.2365751763363579,
          0.23655181402540756,
          0.2365315887828636,
          0.23651298456819825,
          0.23651196286067852,
          0.236459677412412,
          0.2364678488909538,
          0.23644522462686002,
          0.23640782666065635,
          0.23640368593868197,
          0.23638411023779507,
          0.2363249708303685,
          0.23630135868191685,
          0.2362839545890021,
          0.2362616002951049,
          0.2362770868308464,
          0.23626596588294838,
          0.2362236997700808,
          0.2362162243103557,
          0.2362454769458524,
          0.23621987857287943,
          0.23619862811235304,
          0.23618364418128251,
          0.2361842707358677,
          0.23616407874255302,
          0.23617965093947482,
          0.23618724970895988,
          0.23617145672392345,
          0.23617827656847196,
          0.23616248640245366
         ],
         "yaxis": "y"
        }
       ],
       "layout": {
        "legend": {
         "itemsizing": "constant",
         "title": {
          "text": "Dataset"
         },
         "tracegroupgap": 0
        },
        "template": {
         "data": {
          "bar": [
           {
            "error_x": {
             "color": "#2a3f5f"
            },
            "error_y": {
             "color": "#2a3f5f"
            },
            "marker": {
             "line": {
              "color": "#E5ECF6",
              "width": 0.5
             },
             "pattern": {
              "fillmode": "overlay",
              "size": 10,
              "solidity": 0.2
             }
            },
            "type": "bar"
           }
          ],
          "barpolar": [
           {
            "marker": {
             "line": {
              "color": "#E5ECF6",
              "width": 0.5
             },
             "pattern": {
              "fillmode": "overlay",
              "size": 10,
              "solidity": 0.2
             }
            },
            "type": "barpolar"
           }
          ],
          "carpet": [
           {
            "aaxis": {
             "endlinecolor": "#2a3f5f",
             "gridcolor": "white",
             "linecolor": "white",
             "minorgridcolor": "white",
             "startlinecolor": "#2a3f5f"
            },
            "baxis": {
             "endlinecolor": "#2a3f5f",
             "gridcolor": "white",
             "linecolor": "white",
             "minorgridcolor": "white",
             "startlinecolor": "#2a3f5f"
            },
            "type": "carpet"
           }
          ],
          "choropleth": [
           {
            "colorbar": {
             "outlinewidth": 0,
             "ticks": ""
            },
            "type": "choropleth"
           }
          ],
          "contour": [
           {
            "colorbar": {
             "outlinewidth": 0,
             "ticks": ""
            },
            "colorscale": [
             [
              0,
              "#0d0887"
             ],
             [
              0.1111111111111111,
              "#46039f"
             ],
             [
              0.2222222222222222,
              "#7201a8"
             ],
             [
              0.3333333333333333,
              "#9c179e"
             ],
             [
              0.4444444444444444,
              "#bd3786"
             ],
             [
              0.5555555555555556,
              "#d8576b"
             ],
             [
              0.6666666666666666,
              "#ed7953"
             ],
             [
              0.7777777777777778,
              "#fb9f3a"
             ],
             [
              0.8888888888888888,
              "#fdca26"
             ],
             [
              1,
              "#f0f921"
             ]
            ],
            "type": "contour"
           }
          ],
          "contourcarpet": [
           {
            "colorbar": {
             "outlinewidth": 0,
             "ticks": ""
            },
            "type": "contourcarpet"
           }
          ],
          "heatmap": [
           {
            "colorbar": {
             "outlinewidth": 0,
             "ticks": ""
            },
            "colorscale": [
             [
              0,
              "#0d0887"
             ],
             [
              0.1111111111111111,
              "#46039f"
             ],
             [
              0.2222222222222222,
              "#7201a8"
             ],
             [
              0.3333333333333333,
              "#9c179e"
             ],
             [
              0.4444444444444444,
              "#bd3786"
             ],
             [
              0.5555555555555556,
              "#d8576b"
             ],
             [
              0.6666666666666666,
              "#ed7953"
             ],
             [
              0.7777777777777778,
              "#fb9f3a"
             ],
             [
              0.8888888888888888,
              "#fdca26"
             ],
             [
              1,
              "#f0f921"
             ]
            ],
            "type": "heatmap"
           }
          ],
          "heatmapgl": [
           {
            "colorbar": {
             "outlinewidth": 0,
             "ticks": ""
            },
            "colorscale": [
             [
              0,
              "#0d0887"
             ],
             [
              0.1111111111111111,
              "#46039f"
             ],
             [
              0.2222222222222222,
              "#7201a8"
             ],
             [
              0.3333333333333333,
              "#9c179e"
             ],
             [
              0.4444444444444444,
              "#bd3786"
             ],
             [
              0.5555555555555556,
              "#d8576b"
             ],
             [
              0.6666666666666666,
              "#ed7953"
             ],
             [
              0.7777777777777778,
              "#fb9f3a"
             ],
             [
              0.8888888888888888,
              "#fdca26"
             ],
             [
              1,
              "#f0f921"
             ]
            ],
            "type": "heatmapgl"
           }
          ],
          "histogram": [
           {
            "marker": {
             "pattern": {
              "fillmode": "overlay",
              "size": 10,
              "solidity": 0.2
             }
            },
            "type": "histogram"
           }
          ],
          "histogram2d": [
           {
            "colorbar": {
             "outlinewidth": 0,
             "ticks": ""
            },
            "colorscale": [
             [
              0,
              "#0d0887"
             ],
             [
              0.1111111111111111,
              "#46039f"
             ],
             [
              0.2222222222222222,
              "#7201a8"
             ],
             [
              0.3333333333333333,
              "#9c179e"
             ],
             [
              0.4444444444444444,
              "#bd3786"
             ],
             [
              0.5555555555555556,
              "#d8576b"
             ],
             [
              0.6666666666666666,
              "#ed7953"
             ],
             [
              0.7777777777777778,
              "#fb9f3a"
             ],
             [
              0.8888888888888888,
              "#fdca26"
             ],
             [
              1,
              "#f0f921"
             ]
            ],
            "type": "histogram2d"
           }
          ],
          "histogram2dcontour": [
           {
            "colorbar": {
             "outlinewidth": 0,
             "ticks": ""
            },
            "colorscale": [
             [
              0,
              "#0d0887"
             ],
             [
              0.1111111111111111,
              "#46039f"
             ],
             [
              0.2222222222222222,
              "#7201a8"
             ],
             [
              0.3333333333333333,
              "#9c179e"
             ],
             [
              0.4444444444444444,
              "#bd3786"
             ],
             [
              0.5555555555555556,
              "#d8576b"
             ],
             [
              0.6666666666666666,
              "#ed7953"
             ],
             [
              0.7777777777777778,
              "#fb9f3a"
             ],
             [
              0.8888888888888888,
              "#fdca26"
             ],
             [
              1,
              "#f0f921"
             ]
            ],
            "type": "histogram2dcontour"
           }
          ],
          "mesh3d": [
           {
            "colorbar": {
             "outlinewidth": 0,
             "ticks": ""
            },
            "type": "mesh3d"
           }
          ],
          "parcoords": [
           {
            "line": {
             "colorbar": {
              "outlinewidth": 0,
              "ticks": ""
             }
            },
            "type": "parcoords"
           }
          ],
          "pie": [
           {
            "automargin": true,
            "type": "pie"
           }
          ],
          "scatter": [
           {
            "fillpattern": {
             "fillmode": "overlay",
             "size": 10,
             "solidity": 0.2
            },
            "type": "scatter"
           }
          ],
          "scatter3d": [
           {
            "line": {
             "colorbar": {
              "outlinewidth": 0,
              "ticks": ""
             }
            },
            "marker": {
             "colorbar": {
              "outlinewidth": 0,
              "ticks": ""
             }
            },
            "type": "scatter3d"
           }
          ],
          "scattercarpet": [
           {
            "marker": {
             "colorbar": {
              "outlinewidth": 0,
              "ticks": ""
             }
            },
            "type": "scattercarpet"
           }
          ],
          "scattergeo": [
           {
            "marker": {
             "colorbar": {
              "outlinewidth": 0,
              "ticks": ""
             }
            },
            "type": "scattergeo"
           }
          ],
          "scattergl": [
           {
            "marker": {
             "colorbar": {
              "outlinewidth": 0,
              "ticks": ""
             }
            },
            "type": "scattergl"
           }
          ],
          "scattermapbox": [
           {
            "marker": {
             "colorbar": {
              "outlinewidth": 0,
              "ticks": ""
             }
            },
            "type": "scattermapbox"
           }
          ],
          "scatterpolar": [
           {
            "marker": {
             "colorbar": {
              "outlinewidth": 0,
              "ticks": ""
             }
            },
            "type": "scatterpolar"
           }
          ],
          "scatterpolargl": [
           {
            "marker": {
             "colorbar": {
              "outlinewidth": 0,
              "ticks": ""
             }
            },
            "type": "scatterpolargl"
           }
          ],
          "scatterternary": [
           {
            "marker": {
             "colorbar": {
              "outlinewidth": 0,
              "ticks": ""
             }
            },
            "type": "scatterternary"
           }
          ],
          "surface": [
           {
            "colorbar": {
             "outlinewidth": 0,
             "ticks": ""
            },
            "colorscale": [
             [
              0,
              "#0d0887"
             ],
             [
              0.1111111111111111,
              "#46039f"
             ],
             [
              0.2222222222222222,
              "#7201a8"
             ],
             [
              0.3333333333333333,
              "#9c179e"
             ],
             [
              0.4444444444444444,
              "#bd3786"
             ],
             [
              0.5555555555555556,
              "#d8576b"
             ],
             [
              0.6666666666666666,
              "#ed7953"
             ],
             [
              0.7777777777777778,
              "#fb9f3a"
             ],
             [
              0.8888888888888888,
              "#fdca26"
             ],
             [
              1,
              "#f0f921"
             ]
            ],
            "type": "surface"
           }
          ],
          "table": [
           {
            "cells": {
             "fill": {
              "color": "#EBF0F8"
             },
             "line": {
              "color": "white"
             }
            },
            "header": {
             "fill": {
              "color": "#C8D4E3"
             },
             "line": {
              "color": "white"
             }
            },
            "type": "table"
           }
          ]
         },
         "layout": {
          "annotationdefaults": {
           "arrowcolor": "#2a3f5f",
           "arrowhead": 0,
           "arrowwidth": 1
          },
          "autotypenumbers": "strict",
          "coloraxis": {
           "colorbar": {
            "outlinewidth": 0,
            "ticks": ""
           }
          },
          "colorscale": {
           "diverging": [
            [
             0,
             "#8e0152"
            ],
            [
             0.1,
             "#c51b7d"
            ],
            [
             0.2,
             "#de77ae"
            ],
            [
             0.3,
             "#f1b6da"
            ],
            [
             0.4,
             "#fde0ef"
            ],
            [
             0.5,
             "#f7f7f7"
            ],
            [
             0.6,
             "#e6f5d0"
            ],
            [
             0.7,
             "#b8e186"
            ],
            [
             0.8,
             "#7fbc41"
            ],
            [
             0.9,
             "#4d9221"
            ],
            [
             1,
             "#276419"
            ]
           ],
           "sequential": [
            [
             0,
             "#0d0887"
            ],
            [
             0.1111111111111111,
             "#46039f"
            ],
            [
             0.2222222222222222,
             "#7201a8"
            ],
            [
             0.3333333333333333,
             "#9c179e"
            ],
            [
             0.4444444444444444,
             "#bd3786"
            ],
            [
             0.5555555555555556,
             "#d8576b"
            ],
            [
             0.6666666666666666,
             "#ed7953"
            ],
            [
             0.7777777777777778,
             "#fb9f3a"
            ],
            [
             0.8888888888888888,
             "#fdca26"
            ],
            [
             1,
             "#f0f921"
            ]
           ],
           "sequentialminus": [
            [
             0,
             "#0d0887"
            ],
            [
             0.1111111111111111,
             "#46039f"
            ],
            [
             0.2222222222222222,
             "#7201a8"
            ],
            [
             0.3333333333333333,
             "#9c179e"
            ],
            [
             0.4444444444444444,
             "#bd3786"
            ],
            [
             0.5555555555555556,
             "#d8576b"
            ],
            [
             0.6666666666666666,
             "#ed7953"
            ],
            [
             0.7777777777777778,
             "#fb9f3a"
            ],
            [
             0.8888888888888888,
             "#fdca26"
            ],
            [
             1,
             "#f0f921"
            ]
           ]
          },
          "colorway": [
           "#636efa",
           "#EF553B",
           "#00cc96",
           "#ab63fa",
           "#FFA15A",
           "#19d3f3",
           "#FF6692",
           "#B6E880",
           "#FF97FF",
           "#FECB52"
          ],
          "font": {
           "color": "#2a3f5f"
          },
          "geo": {
           "bgcolor": "white",
           "lakecolor": "white",
           "landcolor": "#E5ECF6",
           "showlakes": true,
           "showland": true,
           "subunitcolor": "white"
          },
          "hoverlabel": {
           "align": "left"
          },
          "hovermode": "closest",
          "mapbox": {
           "style": "light"
          },
          "paper_bgcolor": "white",
          "plot_bgcolor": "#E5ECF6",
          "polar": {
           "angularaxis": {
            "gridcolor": "white",
            "linecolor": "white",
            "ticks": ""
           },
           "bgcolor": "#E5ECF6",
           "radialaxis": {
            "gridcolor": "white",
            "linecolor": "white",
            "ticks": ""
           }
          },
          "scene": {
           "xaxis": {
            "backgroundcolor": "#E5ECF6",
            "gridcolor": "white",
            "gridwidth": 2,
            "linecolor": "white",
            "showbackground": true,
            "ticks": "",
            "zerolinecolor": "white"
           },
           "yaxis": {
            "backgroundcolor": "#E5ECF6",
            "gridcolor": "white",
            "gridwidth": 2,
            "linecolor": "white",
            "showbackground": true,
            "ticks": "",
            "zerolinecolor": "white"
           },
           "zaxis": {
            "backgroundcolor": "#E5ECF6",
            "gridcolor": "white",
            "gridwidth": 2,
            "linecolor": "white",
            "showbackground": true,
            "ticks": "",
            "zerolinecolor": "white"
           }
          },
          "shapedefaults": {
           "line": {
            "color": "#2a3f5f"
           }
          },
          "ternary": {
           "aaxis": {
            "gridcolor": "white",
            "linecolor": "white",
            "ticks": ""
           },
           "baxis": {
            "gridcolor": "white",
            "linecolor": "white",
            "ticks": ""
           },
           "bgcolor": "#E5ECF6",
           "caxis": {
            "gridcolor": "white",
            "linecolor": "white",
            "ticks": ""
           }
          },
          "title": {
           "x": 0.05
          },
          "xaxis": {
           "automargin": true,
           "gridcolor": "white",
           "linecolor": "white",
           "ticks": "",
           "title": {
            "standoff": 15
           },
           "zerolinecolor": "white",
           "zerolinewidth": 2
          },
          "yaxis": {
           "automargin": true,
           "gridcolor": "white",
           "linecolor": "white",
           "ticks": "",
           "title": {
            "standoff": 15
           },
           "zerolinecolor": "white",
           "zerolinewidth": 2
          }
         }
        },
        "title": {
         "text": "Training and Validation MAE over Boosting Rounds for thp_time"
        },
        "xaxis": {
         "anchor": "y",
         "domain": [
          0,
          1
         ],
         "title": {
          "text": "Round"
         }
        },
        "yaxis": {
         "anchor": "x",
         "domain": [
          0,
          1
         ],
         "title": {
          "text": "Mean Absolute Error"
         }
        }
       }
      }
     },
     "metadata": {},
     "output_type": "display_data"
    },
    {
     "name": "stdout",
     "output_type": "stream",
     "text": [
      "Best Val MAE for thp_time: 0.23616248640245366\n",
      "Round: 100\n",
      "Processing target: mr_number\n"
     ]
    },
    {
     "data": {
      "application/vnd.plotly.v1+json": {
       "config": {
        "plotlyServerURL": "https://plot.ly"
       },
       "data": [
        {
         "hovertemplate": "variable=Train MAE<br>Round=%{x}<br>Mean Absolute Error=%{y}<extra></extra>",
         "legendgroup": "Train MAE",
         "line": {
          "color": "#636efa",
          "dash": "solid"
         },
         "marker": {
          "symbol": "circle"
         },
         "mode": "lines",
         "name": "Train MAE",
         "orientation": "v",
         "showlegend": true,
         "type": "scatter",
         "x": [
          1,
          2,
          3,
          4,
          5,
          6,
          7,
          8,
          9,
          10,
          11,
          12,
          13,
          14,
          15,
          16,
          17,
          18,
          19,
          20,
          21,
          22,
          23,
          24,
          25,
          26,
          27,
          28,
          29,
          30,
          31,
          32,
          33,
          34,
          35,
          36,
          37,
          38,
          39,
          40,
          41,
          42,
          43,
          44,
          45,
          46,
          47,
          48,
          49,
          50,
          51,
          52,
          53,
          54,
          55,
          56,
          57,
          58,
          59,
          60,
          61,
          62,
          63,
          64,
          65,
          66,
          67,
          68,
          69,
          70,
          71,
          72,
          73,
          74,
          75,
          76,
          77,
          78,
          79,
          80,
          81,
          82,
          83,
          84,
          85,
          86,
          87,
          88,
          89,
          90,
          91,
          92,
          93,
          94,
          95,
          96,
          97,
          98,
          99,
          100
         ],
         "xaxis": "x",
         "y": [
          0.5830899150304869,
          0.5330350871521193,
          0.48864287672257906,
          0.449374322676541,
          0.4146290934070918,
          0.38415286986814323,
          0.3573892638899147,
          0.3340067364543316,
          0.31374922513826625,
          0.29612744488153786,
          0.2810658983237943,
          0.26811977431558964,
          0.2569924582771505,
          0.24760119619590276,
          0.23955856695404085,
          0.23277808203891584,
          0.226989721756276,
          0.22214038485998697,
          0.2179847629840725,
          0.2144616998038178,
          0.21149759958474043,
          0.20896813573547457,
          0.2068102412771583,
          0.20497450800613187,
          0.20342517913807978,
          0.20207479056485833,
          0.2009037994810406,
          0.19992537785637796,
          0.19906321801586227,
          0.19826776632358759,
          0.19760120941299347,
          0.19701767869550904,
          0.196499679283638,
          0.19605829916112577,
          0.19562405429074378,
          0.19527266068170965,
          0.19496844983010458,
          0.19467393735380423,
          0.19442793001524275,
          0.19420292728409036,
          0.19397116891007696,
          0.19378059058366798,
          0.19359179124362239,
          0.19342268107383195,
          0.19330599008823443,
          0.19317906044854583,
          0.1930670872463265,
          0.19290056847883036,
          0.19278551954306342,
          0.19265700361827076,
          0.19255518495481622,
          0.192444534514433,
          0.192355559250344,
          0.1922419157110207,
          0.19213530929325742,
          0.19203319110341427,
          0.19194707244858192,
          0.1918654067726059,
          0.19183032738828518,
          0.19176524842426534,
          0.1917294378642274,
          0.1916750870923631,
          0.19159003024449675,
          0.1915365029946593,
          0.191491208839523,
          0.19145434173393724,
          0.19139888555984744,
          0.19135852483247823,
          0.19131354207391169,
          0.1912636960839883,
          0.19116920195349416,
          0.19112070931392075,
          0.1910834360840739,
          0.19103320564682516,
          0.19095990060196816,
          0.19091401469095115,
          0.19087017716932458,
          0.1908051245595654,
          0.1907212869206585,
          0.1906842087214335,
          0.19061053939163386,
          0.19053681415004742,
          0.19048201831180428,
          0.1904368376897997,
          0.1904128169682161,
          0.1903674294963679,
          0.19033343649279386,
          0.19029140217993343,
          0.19021166720680976,
          0.19017616713274035,
          0.19013860425271645,
          0.19009674685742295,
          0.19005994306498597,
          0.19000015711894477,
          0.189946550182456,
          0.18991381581167724,
          0.18988566873914434,
          0.18985907614156391,
          0.1898275290395377,
          0.1897920741674237
         ],
         "yaxis": "y"
        },
        {
         "hovertemplate": "variable=Val MAE<br>Round=%{x}<br>Mean Absolute Error=%{y}<extra></extra>",
         "legendgroup": "Val MAE",
         "line": {
          "color": "#EF553B",
          "dash": "solid"
         },
         "marker": {
          "symbol": "circle"
         },
         "mode": "lines",
         "name": "Val MAE",
         "orientation": "v",
         "showlegend": true,
         "type": "scatter",
         "x": [
          1,
          2,
          3,
          4,
          5,
          6,
          7,
          8,
          9,
          10,
          11,
          12,
          13,
          14,
          15,
          16,
          17,
          18,
          19,
          20,
          21,
          22,
          23,
          24,
          25,
          26,
          27,
          28,
          29,
          30,
          31,
          32,
          33,
          34,
          35,
          36,
          37,
          38,
          39,
          40,
          41,
          42,
          43,
          44,
          45,
          46,
          47,
          48,
          49,
          50,
          51,
          52,
          53,
          54,
          55,
          56,
          57,
          58,
          59,
          60,
          61,
          62,
          63,
          64,
          65,
          66,
          67,
          68,
          69,
          70,
          71,
          72,
          73,
          74,
          75,
          76,
          77,
          78,
          79,
          80,
          81,
          82,
          83,
          84,
          85,
          86,
          87,
          88,
          89,
          90,
          91,
          92,
          93,
          94,
          95,
          96,
          97,
          98,
          99,
          100
         ],
         "xaxis": "x",
         "y": [
          0.5906548400234974,
          0.539612024381303,
          0.4943174800060071,
          0.4542386838906336,
          0.4188260902767537,
          0.38771900438982243,
          0.36044041099883317,
          0.3366283390014289,
          0.31600613639396374,
          0.298081131259053,
          0.28277277831312947,
          0.26959139934824805,
          0.25828618814707754,
          0.24875281421859452,
          0.240581827871863,
          0.23369562410086536,
          0.22788258497879083,
          0.22298672607676917,
          0.21879076113481163,
          0.215266523440649,
          0.21231852385470734,
          0.20979668425423045,
          0.20767212720395226,
          0.20583401311917818,
          0.2043473707240697,
          0.20303541399704333,
          0.20191016826040575,
          0.2009729415799804,
          0.20015718479518602,
          0.19940573214983426,
          0.19878769278976852,
          0.1982408923113708,
          0.1977698159007944,
          0.19737204326721286,
          0.19696542067195189,
          0.19664990876413574,
          0.19635945079009576,
          0.19608966984162407,
          0.19587072426449492,
          0.19567352339457514,
          0.19548202940063997,
          0.19531143207472831,
          0.1951424684370148,
          0.19500538752205807,
          0.19491885157632294,
          0.19481675482355526,
          0.19472529029633714,
          0.19459241465489685,
          0.19451973090972036,
          0.19443349015421613,
          0.19437736425655505,
          0.19428328385741916,
          0.19422596399266162,
          0.19416210014682841,
          0.19409459835520365,
          0.19401901148064174,
          0.1939691848162395,
          0.193936008946421,
          0.19391742730120293,
          0.1938807058090307,
          0.19386303933401072,
          0.1938408439443322,
          0.1937797966673576,
          0.19374853562976604,
          0.19372349881675766,
          0.1936973627205355,
          0.19367029992834803,
          0.19365480576476352,
          0.19363842450618873,
          0.1936174023482671,
          0.19355183746458637,
          0.19352252857943764,
          0.19349890693649438,
          0.19347266073666075,
          0.1934253628671539,
          0.19340255556360758,
          0.1933794448269457,
          0.19333596515217252,
          0.1932985065331922,
          0.19328211767935533,
          0.1932400059330752,
          0.19319255983686762,
          0.193154672761842,
          0.19313563426662653,
          0.1931264788577549,
          0.19310543775143577,
          0.19309137197574072,
          0.19307768829028968,
          0.1930301070441376,
          0.19301589284887244,
          0.19299250225559278,
          0.19296579149974338,
          0.1929506953652106,
          0.19290536850019432,
          0.1928813669724135,
          0.1928821767062962,
          0.19287599836242927,
          0.19287607842124024,
          0.19286512689160182,
          0.19285431611752188
         ],
         "yaxis": "y"
        }
       ],
       "layout": {
        "legend": {
         "itemsizing": "constant",
         "title": {
          "text": "Dataset"
         },
         "tracegroupgap": 0
        },
        "template": {
         "data": {
          "bar": [
           {
            "error_x": {
             "color": "#2a3f5f"
            },
            "error_y": {
             "color": "#2a3f5f"
            },
            "marker": {
             "line": {
              "color": "#E5ECF6",
              "width": 0.5
             },
             "pattern": {
              "fillmode": "overlay",
              "size": 10,
              "solidity": 0.2
             }
            },
            "type": "bar"
           }
          ],
          "barpolar": [
           {
            "marker": {
             "line": {
              "color": "#E5ECF6",
              "width": 0.5
             },
             "pattern": {
              "fillmode": "overlay",
              "size": 10,
              "solidity": 0.2
             }
            },
            "type": "barpolar"
           }
          ],
          "carpet": [
           {
            "aaxis": {
             "endlinecolor": "#2a3f5f",
             "gridcolor": "white",
             "linecolor": "white",
             "minorgridcolor": "white",
             "startlinecolor": "#2a3f5f"
            },
            "baxis": {
             "endlinecolor": "#2a3f5f",
             "gridcolor": "white",
             "linecolor": "white",
             "minorgridcolor": "white",
             "startlinecolor": "#2a3f5f"
            },
            "type": "carpet"
           }
          ],
          "choropleth": [
           {
            "colorbar": {
             "outlinewidth": 0,
             "ticks": ""
            },
            "type": "choropleth"
           }
          ],
          "contour": [
           {
            "colorbar": {
             "outlinewidth": 0,
             "ticks": ""
            },
            "colorscale": [
             [
              0,
              "#0d0887"
             ],
             [
              0.1111111111111111,
              "#46039f"
             ],
             [
              0.2222222222222222,
              "#7201a8"
             ],
             [
              0.3333333333333333,
              "#9c179e"
             ],
             [
              0.4444444444444444,
              "#bd3786"
             ],
             [
              0.5555555555555556,
              "#d8576b"
             ],
             [
              0.6666666666666666,
              "#ed7953"
             ],
             [
              0.7777777777777778,
              "#fb9f3a"
             ],
             [
              0.8888888888888888,
              "#fdca26"
             ],
             [
              1,
              "#f0f921"
             ]
            ],
            "type": "contour"
           }
          ],
          "contourcarpet": [
           {
            "colorbar": {
             "outlinewidth": 0,
             "ticks": ""
            },
            "type": "contourcarpet"
           }
          ],
          "heatmap": [
           {
            "colorbar": {
             "outlinewidth": 0,
             "ticks": ""
            },
            "colorscale": [
             [
              0,
              "#0d0887"
             ],
             [
              0.1111111111111111,
              "#46039f"
             ],
             [
              0.2222222222222222,
              "#7201a8"
             ],
             [
              0.3333333333333333,
              "#9c179e"
             ],
             [
              0.4444444444444444,
              "#bd3786"
             ],
             [
              0.5555555555555556,
              "#d8576b"
             ],
             [
              0.6666666666666666,
              "#ed7953"
             ],
             [
              0.7777777777777778,
              "#fb9f3a"
             ],
             [
              0.8888888888888888,
              "#fdca26"
             ],
             [
              1,
              "#f0f921"
             ]
            ],
            "type": "heatmap"
           }
          ],
          "heatmapgl": [
           {
            "colorbar": {
             "outlinewidth": 0,
             "ticks": ""
            },
            "colorscale": [
             [
              0,
              "#0d0887"
             ],
             [
              0.1111111111111111,
              "#46039f"
             ],
             [
              0.2222222222222222,
              "#7201a8"
             ],
             [
              0.3333333333333333,
              "#9c179e"
             ],
             [
              0.4444444444444444,
              "#bd3786"
             ],
             [
              0.5555555555555556,
              "#d8576b"
             ],
             [
              0.6666666666666666,
              "#ed7953"
             ],
             [
              0.7777777777777778,
              "#fb9f3a"
             ],
             [
              0.8888888888888888,
              "#fdca26"
             ],
             [
              1,
              "#f0f921"
             ]
            ],
            "type": "heatmapgl"
           }
          ],
          "histogram": [
           {
            "marker": {
             "pattern": {
              "fillmode": "overlay",
              "size": 10,
              "solidity": 0.2
             }
            },
            "type": "histogram"
           }
          ],
          "histogram2d": [
           {
            "colorbar": {
             "outlinewidth": 0,
             "ticks": ""
            },
            "colorscale": [
             [
              0,
              "#0d0887"
             ],
             [
              0.1111111111111111,
              "#46039f"
             ],
             [
              0.2222222222222222,
              "#7201a8"
             ],
             [
              0.3333333333333333,
              "#9c179e"
             ],
             [
              0.4444444444444444,
              "#bd3786"
             ],
             [
              0.5555555555555556,
              "#d8576b"
             ],
             [
              0.6666666666666666,
              "#ed7953"
             ],
             [
              0.7777777777777778,
              "#fb9f3a"
             ],
             [
              0.8888888888888888,
              "#fdca26"
             ],
             [
              1,
              "#f0f921"
             ]
            ],
            "type": "histogram2d"
           }
          ],
          "histogram2dcontour": [
           {
            "colorbar": {
             "outlinewidth": 0,
             "ticks": ""
            },
            "colorscale": [
             [
              0,
              "#0d0887"
             ],
             [
              0.1111111111111111,
              "#46039f"
             ],
             [
              0.2222222222222222,
              "#7201a8"
             ],
             [
              0.3333333333333333,
              "#9c179e"
             ],
             [
              0.4444444444444444,
              "#bd3786"
             ],
             [
              0.5555555555555556,
              "#d8576b"
             ],
             [
              0.6666666666666666,
              "#ed7953"
             ],
             [
              0.7777777777777778,
              "#fb9f3a"
             ],
             [
              0.8888888888888888,
              "#fdca26"
             ],
             [
              1,
              "#f0f921"
             ]
            ],
            "type": "histogram2dcontour"
           }
          ],
          "mesh3d": [
           {
            "colorbar": {
             "outlinewidth": 0,
             "ticks": ""
            },
            "type": "mesh3d"
           }
          ],
          "parcoords": [
           {
            "line": {
             "colorbar": {
              "outlinewidth": 0,
              "ticks": ""
             }
            },
            "type": "parcoords"
           }
          ],
          "pie": [
           {
            "automargin": true,
            "type": "pie"
           }
          ],
          "scatter": [
           {
            "fillpattern": {
             "fillmode": "overlay",
             "size": 10,
             "solidity": 0.2
            },
            "type": "scatter"
           }
          ],
          "scatter3d": [
           {
            "line": {
             "colorbar": {
              "outlinewidth": 0,
              "ticks": ""
             }
            },
            "marker": {
             "colorbar": {
              "outlinewidth": 0,
              "ticks": ""
             }
            },
            "type": "scatter3d"
           }
          ],
          "scattercarpet": [
           {
            "marker": {
             "colorbar": {
              "outlinewidth": 0,
              "ticks": ""
             }
            },
            "type": "scattercarpet"
           }
          ],
          "scattergeo": [
           {
            "marker": {
             "colorbar": {
              "outlinewidth": 0,
              "ticks": ""
             }
            },
            "type": "scattergeo"
           }
          ],
          "scattergl": [
           {
            "marker": {
             "colorbar": {
              "outlinewidth": 0,
              "ticks": ""
             }
            },
            "type": "scattergl"
           }
          ],
          "scattermapbox": [
           {
            "marker": {
             "colorbar": {
              "outlinewidth": 0,
              "ticks": ""
             }
            },
            "type": "scattermapbox"
           }
          ],
          "scatterpolar": [
           {
            "marker": {
             "colorbar": {
              "outlinewidth": 0,
              "ticks": ""
             }
            },
            "type": "scatterpolar"
           }
          ],
          "scatterpolargl": [
           {
            "marker": {
             "colorbar": {
              "outlinewidth": 0,
              "ticks": ""
             }
            },
            "type": "scatterpolargl"
           }
          ],
          "scatterternary": [
           {
            "marker": {
             "colorbar": {
              "outlinewidth": 0,
              "ticks": ""
             }
            },
            "type": "scatterternary"
           }
          ],
          "surface": [
           {
            "colorbar": {
             "outlinewidth": 0,
             "ticks": ""
            },
            "colorscale": [
             [
              0,
              "#0d0887"
             ],
             [
              0.1111111111111111,
              "#46039f"
             ],
             [
              0.2222222222222222,
              "#7201a8"
             ],
             [
              0.3333333333333333,
              "#9c179e"
             ],
             [
              0.4444444444444444,
              "#bd3786"
             ],
             [
              0.5555555555555556,
              "#d8576b"
             ],
             [
              0.6666666666666666,
              "#ed7953"
             ],
             [
              0.7777777777777778,
              "#fb9f3a"
             ],
             [
              0.8888888888888888,
              "#fdca26"
             ],
             [
              1,
              "#f0f921"
             ]
            ],
            "type": "surface"
           }
          ],
          "table": [
           {
            "cells": {
             "fill": {
              "color": "#EBF0F8"
             },
             "line": {
              "color": "white"
             }
            },
            "header": {
             "fill": {
              "color": "#C8D4E3"
             },
             "line": {
              "color": "white"
             }
            },
            "type": "table"
           }
          ]
         },
         "layout": {
          "annotationdefaults": {
           "arrowcolor": "#2a3f5f",
           "arrowhead": 0,
           "arrowwidth": 1
          },
          "autotypenumbers": "strict",
          "coloraxis": {
           "colorbar": {
            "outlinewidth": 0,
            "ticks": ""
           }
          },
          "colorscale": {
           "diverging": [
            [
             0,
             "#8e0152"
            ],
            [
             0.1,
             "#c51b7d"
            ],
            [
             0.2,
             "#de77ae"
            ],
            [
             0.3,
             "#f1b6da"
            ],
            [
             0.4,
             "#fde0ef"
            ],
            [
             0.5,
             "#f7f7f7"
            ],
            [
             0.6,
             "#e6f5d0"
            ],
            [
             0.7,
             "#b8e186"
            ],
            [
             0.8,
             "#7fbc41"
            ],
            [
             0.9,
             "#4d9221"
            ],
            [
             1,
             "#276419"
            ]
           ],
           "sequential": [
            [
             0,
             "#0d0887"
            ],
            [
             0.1111111111111111,
             "#46039f"
            ],
            [
             0.2222222222222222,
             "#7201a8"
            ],
            [
             0.3333333333333333,
             "#9c179e"
            ],
            [
             0.4444444444444444,
             "#bd3786"
            ],
            [
             0.5555555555555556,
             "#d8576b"
            ],
            [
             0.6666666666666666,
             "#ed7953"
            ],
            [
             0.7777777777777778,
             "#fb9f3a"
            ],
            [
             0.8888888888888888,
             "#fdca26"
            ],
            [
             1,
             "#f0f921"
            ]
           ],
           "sequentialminus": [
            [
             0,
             "#0d0887"
            ],
            [
             0.1111111111111111,
             "#46039f"
            ],
            [
             0.2222222222222222,
             "#7201a8"
            ],
            [
             0.3333333333333333,
             "#9c179e"
            ],
            [
             0.4444444444444444,
             "#bd3786"
            ],
            [
             0.5555555555555556,
             "#d8576b"
            ],
            [
             0.6666666666666666,
             "#ed7953"
            ],
            [
             0.7777777777777778,
             "#fb9f3a"
            ],
            [
             0.8888888888888888,
             "#fdca26"
            ],
            [
             1,
             "#f0f921"
            ]
           ]
          },
          "colorway": [
           "#636efa",
           "#EF553B",
           "#00cc96",
           "#ab63fa",
           "#FFA15A",
           "#19d3f3",
           "#FF6692",
           "#B6E880",
           "#FF97FF",
           "#FECB52"
          ],
          "font": {
           "color": "#2a3f5f"
          },
          "geo": {
           "bgcolor": "white",
           "lakecolor": "white",
           "landcolor": "#E5ECF6",
           "showlakes": true,
           "showland": true,
           "subunitcolor": "white"
          },
          "hoverlabel": {
           "align": "left"
          },
          "hovermode": "closest",
          "mapbox": {
           "style": "light"
          },
          "paper_bgcolor": "white",
          "plot_bgcolor": "#E5ECF6",
          "polar": {
           "angularaxis": {
            "gridcolor": "white",
            "linecolor": "white",
            "ticks": ""
           },
           "bgcolor": "#E5ECF6",
           "radialaxis": {
            "gridcolor": "white",
            "linecolor": "white",
            "ticks": ""
           }
          },
          "scene": {
           "xaxis": {
            "backgroundcolor": "#E5ECF6",
            "gridcolor": "white",
            "gridwidth": 2,
            "linecolor": "white",
            "showbackground": true,
            "ticks": "",
            "zerolinecolor": "white"
           },
           "yaxis": {
            "backgroundcolor": "#E5ECF6",
            "gridcolor": "white",
            "gridwidth": 2,
            "linecolor": "white",
            "showbackground": true,
            "ticks": "",
            "zerolinecolor": "white"
           },
           "zaxis": {
            "backgroundcolor": "#E5ECF6",
            "gridcolor": "white",
            "gridwidth": 2,
            "linecolor": "white",
            "showbackground": true,
            "ticks": "",
            "zerolinecolor": "white"
           }
          },
          "shapedefaults": {
           "line": {
            "color": "#2a3f5f"
           }
          },
          "ternary": {
           "aaxis": {
            "gridcolor": "white",
            "linecolor": "white",
            "ticks": ""
           },
           "baxis": {
            "gridcolor": "white",
            "linecolor": "white",
            "ticks": ""
           },
           "bgcolor": "#E5ECF6",
           "caxis": {
            "gridcolor": "white",
            "linecolor": "white",
            "ticks": ""
           }
          },
          "title": {
           "x": 0.05
          },
          "xaxis": {
           "automargin": true,
           "gridcolor": "white",
           "linecolor": "white",
           "ticks": "",
           "title": {
            "standoff": 15
           },
           "zerolinecolor": "white",
           "zerolinewidth": 2
          },
          "yaxis": {
           "automargin": true,
           "gridcolor": "white",
           "linecolor": "white",
           "ticks": "",
           "title": {
            "standoff": 15
           },
           "zerolinecolor": "white",
           "zerolinewidth": 2
          }
         }
        },
        "title": {
         "text": "Training and Validation MAE over Boosting Rounds for mr_number"
        },
        "xaxis": {
         "anchor": "y",
         "domain": [
          0,
          1
         ],
         "title": {
          "text": "Round"
         }
        },
        "yaxis": {
         "anchor": "x",
         "domain": [
          0,
          1
         ],
         "title": {
          "text": "Mean Absolute Error"
         }
        }
       }
      }
     },
     "metadata": {},
     "output_type": "display_data"
    },
    {
     "name": "stdout",
     "output_type": "stream",
     "text": [
      "Best Val MAE for mr_number: 0.19285431611752188\n",
      "Round: 100\n"
     ]
    }
   ],
   "source": [
    "# %%\n",
    "# Iterate through each model in models\n",
    "for target, target_model in models.items():\n",
    "    print(f\"Processing target: {target}\")\n",
    "\n",
    "    # Predict\n",
    "    train_preds = target_model.predict(X_train.to_pandas())\n",
    "    val_preds = target_model.predict(X_val.to_pandas())\n",
    "\n",
    "    # Compute MAE values\n",
    "    train_mae = mean_absolute_error(y_train[target].to_pandas(), train_preds)\n",
    "    val_mae = mean_absolute_error(y_val[target].to_pandas(), val_preds)\n",
    "\n",
    "    # Log the best score to wandb\n",
    "    # XGBoost does not have best_iteration attribute in scikit-learn API\n",
    "    evals_result = target_model.evals_result()\n",
    "    best_iteration = len(evals_result['validation_0']['mae'])  # Last iteration\n",
    "    best_val_mae = evals_result['validation_1']['mae'][-1]\n",
    "    best_train_mae = evals_result['validation_0']['mae'][-1]\n",
    "\n",
    "    wandb.log({\n",
    "        f'{target}_best_val_mae': best_val_mae, \n",
    "        f'{target}_best_round': best_iteration, \n",
    "        f'{target}_best_train_mae': best_train_mae\n",
    "    })\n",
    "\n",
    "    # Convert evaluation results to a DataFrame\n",
    "    eval_df = pl.DataFrame({\n",
    "        'Round': list(range(1, len(evals_result['validation_0']['mae']) + 1)),\n",
    "        'Train MAE': evals_result['validation_0']['mae'],\n",
    "        'Val MAE': evals_result['validation_1']['mae']\n",
    "    })\n",
    "\n",
    "    # Log eval_df to wandb\n",
    "    wandb.log({f'{target}_eval_df': wandb.Table(data=eval_df.to_pandas())})\n",
    "\n",
    "    # Plot the results using Plotly\n",
    "    fig = px.line(\n",
    "        eval_df.to_pandas(), \n",
    "        x='Round', \n",
    "        y=['Train MAE', 'Val MAE'],\n",
    "        labels={'value': 'Mean Absolute Error'}, \n",
    "        title=f'Training and Validation MAE over Boosting Rounds for {target}'\n",
    "    )\n",
    "    \n",
    "    fig.update_layout(\n",
    "        legend=dict(\n",
    "            title='Dataset',\n",
    "            itemsizing='constant'\n",
    "        )\n",
    "    )\n",
    "\n",
    "    # Log the plot to wandb\n",
    "    wandb.log({f\"{target}_MAE_Plot\": fig})\n",
    "\n",
    "    # Optionally, display the plot\n",
    "    fig.show()\n",
    "\n",
    "    print(f\"Best Val MAE for {target}: {best_val_mae}\")\n",
    "    print(f\"Round: {best_iteration}\")\n"
   ]
  },
  {
   "cell_type": "code",
   "execution_count": 11,
   "metadata": {},
   "outputs": [],
   "source": [
    "# %%\n",
    "if wandb.config.run_shap:\n",
    "    # Create a SHAP explainer for the XGBoost model\n",
    "    # Assuming 'thp_vol' is one of the targets\n",
    "    target_name = 'thp_vol'\n",
    "    explainer = shap.TreeExplainer(models[target_name], X_val.to_pandas())\n",
    "    \n",
    "    # Calculate SHAP values for the val set\n",
    "    shap_values = explainer.shap_values(X_val.to_pandas())\n",
    "    \n",
    "    # Log SHAP plots to wandb\n",
    "    shap_bar = shap.summary_plot(shap_values, X_val.to_pandas(), plot_type=\"bar\", show=False)\n",
    "    plt.savefig(\"shap_bar.png\")\n",
    "    wandb.log({\"SHAP Bar Plot\": wandb.Image(\"shap_bar.png\")})\n",
    "    plt.clf()\n",
    "    \n",
    "    shap_summary = shap.summary_plot(shap_values, X_val.to_pandas(), show=False)\n",
    "    plt.savefig(\"shap_summary.png\")\n",
    "    wandb.log({\"SHAP Summary Plot\": wandb.Image(\"shap_summary.png\")})\n",
    "    plt.clf()\n",
    "\n",
    "    # Optionally, add more SHAP plots as needed\n"
   ]
  },
  {
   "cell_type": "code",
   "execution_count": 12,
   "metadata": {},
   "outputs": [
    {
     "data": {
      "application/vnd.jupyter.widget-view+json": {
       "model_id": "7d4b01d793ea4870ab845f228c24d5e7",
       "version_major": 2,
       "version_minor": 0
      },
      "text/plain": [
       "VBox(children=(Label(value='5.274 MB of 5.274 MB uploaded (0.098 MB deduped)\\r'), FloatProgress(value=1.0, max…"
      ]
     },
     "metadata": {},
     "output_type": "display_data"
    },
    {
     "data": {
      "text/html": [
       "W&B sync reduced upload amount by 1.6%"
      ],
      "text/plain": [
       "<IPython.core.display.HTML object>"
      ]
     },
     "metadata": {},
     "output_type": "display_data"
    },
    {
     "data": {
      "text/html": [
       "<style>\n",
       "    table.wandb td:nth-child(1) { padding: 0 10px; text-align: left ; width: auto;} td:nth-child(2) {text-align: left ; width: 100%}\n",
       "    .wandb-row { display: flex; flex-direction: row; flex-wrap: wrap; justify-content: flex-start; width: 100% }\n",
       "    .wandb-col { display: flex; flex-direction: column; flex-basis: 100%; flex: 1; padding: 10px; }\n",
       "    </style>\n",
       "<div class=\"wandb-row\"><div class=\"wandb-col\"><h3>Run history:</h3><br/><table class=\"wandb\"><tr><td>best_iteration</td><td>▁███</td></tr><tr><td>best_score</td><td>▂█▆▁</td></tr><tr><td>epoch</td><td>▁▂▂▃▄▄▅▆▁▂▂▃▄▅▅▆▇▇█▁▂▃▃▄▅▅▆▇▇▁▂▂▃▄▅▅▆▇▇█</td></tr><tr><td>mr_number_best_round</td><td>▁</td></tr><tr><td>mr_number_best_train_mae</td><td>▁</td></tr><tr><td>mr_number_best_val_mae</td><td>▁</td></tr><tr><td>prb_best_round</td><td>▁</td></tr><tr><td>prb_best_train_mae</td><td>▁</td></tr><tr><td>prb_best_val_mae</td><td>▁</td></tr><tr><td>thp_time_best_round</td><td>▁</td></tr><tr><td>thp_time_best_train_mae</td><td>▁</td></tr><tr><td>thp_time_best_val_mae</td><td>▁</td></tr><tr><td>thp_vol_best_round</td><td>▁</td></tr><tr><td>thp_vol_best_train_mae</td><td>▁</td></tr><tr><td>thp_vol_best_val_mae</td><td>▁</td></tr><tr><td>validation_0-mae</td><td>▄▂▂▁▁▁▁▁█▄▃▃▃▃▃▃▃▃▃▄▃▂▂▂▂▂▂▂▂█▃▂▁▁▁▁▁▁▁▁</td></tr><tr><td>validation_1-mae</td><td>▄▂▁▁▁▁▁▁█▄▃▃▃▃▃▃▃▃▃▄▃▂▂▂▂▂▂▂▂█▃▂▁▁▁▁▁▁▁▁</td></tr></table><br/></div><div class=\"wandb-col\"><h3>Run summary:</h3><br/><table class=\"wandb\"><tr><td>best_iteration</td><td>99</td></tr><tr><td>best_score</td><td>0.19285</td></tr><tr><td>epoch</td><td>99</td></tr><tr><td>mr_number_best_round</td><td>100</td></tr><tr><td>mr_number_best_train_mae</td><td>0.18979</td></tr><tr><td>mr_number_best_val_mae</td><td>0.19285</td></tr><tr><td>prb_best_round</td><td>100</td></tr><tr><td>prb_best_train_mae</td><td>0.24823</td></tr><tr><td>prb_best_val_mae</td><td>0.252</td></tr><tr><td>thp_time_best_round</td><td>100</td></tr><tr><td>thp_time_best_train_mae</td><td>0.23586</td></tr><tr><td>thp_time_best_val_mae</td><td>0.23616</td></tr><tr><td>thp_vol_best_round</td><td>77</td></tr><tr><td>thp_vol_best_train_mae</td><td>0.20395</td></tr><tr><td>thp_vol_best_val_mae</td><td>0.20081</td></tr></table><br/></div></div>"
      ],
      "text/plain": [
       "<IPython.core.display.HTML object>"
      ]
     },
     "metadata": {},
     "output_type": "display_data"
    },
    {
     "data": {
      "text/html": [
       " View run <strong style=\"color:#cdcd00\">giddy-yogurt-76</strong> at: <a href='https://wandb.ai/esedx12/traffic-forecasting-challenge/runs/6m19tzos' target=\"_blank\">https://wandb.ai/esedx12/traffic-forecasting-challenge/runs/6m19tzos</a><br/> View project at: <a href='https://wandb.ai/esedx12/traffic-forecasting-challenge' target=\"_blank\">https://wandb.ai/esedx12/traffic-forecasting-challenge</a><br/>Synced 6 W&B file(s), 12 media file(s), 20 artifact file(s) and 7 other file(s)"
      ],
      "text/plain": [
       "<IPython.core.display.HTML object>"
      ]
     },
     "metadata": {},
     "output_type": "display_data"
    },
    {
     "data": {
      "text/html": [
       "Find logs at: <code>./wandb/run-20240929_192253-6m19tzos/logs</code>"
      ],
      "text/plain": [
       "<IPython.core.display.HTML object>"
      ]
     },
     "metadata": {},
     "output_type": "display_data"
    },
    {
     "data": {
      "text/html": [
       "The new W&B backend becomes opt-out in version 0.18.0; try it out with `wandb.require(\"core\")`! See https://wandb.me/wandb-core for more information."
      ],
      "text/plain": [
       "<IPython.core.display.HTML object>"
      ]
     },
     "metadata": {},
     "output_type": "display_data"
    }
   ],
   "source": [
    "# %%\n",
    "wandb.finish()\n"
   ]
  }
 ],
 "metadata": {
  "kernelspec": {
   "display_name": "ml",
   "language": "python",
   "name": "python3"
  },
  "language_info": {
   "codemirror_mode": {
    "name": "ipython",
    "version": 3
   },
   "file_extension": ".py",
   "mimetype": "text/x-python",
   "name": "python",
   "nbconvert_exporter": "python",
   "pygments_lexer": "ipython3",
   "version": "3.12.3"
  }
 },
 "nbformat": 4,
 "nbformat_minor": 2
}
