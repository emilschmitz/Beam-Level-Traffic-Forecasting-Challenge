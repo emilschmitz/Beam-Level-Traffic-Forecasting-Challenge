{
 "cells": [
  {
   "cell_type": "markdown",
   "metadata": {},
   "source": [
    "# XGBoost\n",
    "* TODO: add averages for cells and stations, NB inference code will need to be adapted too\n",
    "* TODO: target manipulations/engineering\n",
    "    * rolling autocorrelation\n",
    "* TODO: (vector leaf) multi-output regression\n",
    "* TODO: maybe for week 10-11, we should have radically different approach that does not rely on lag feats, since these will be heavily inpacted by compound errors\n",
    "    * maybe we should train lin reg for trend and xgboost for seasonality only on idx feats"
   ]
  },
  {
   "cell_type": "code",
   "execution_count": 107,
   "metadata": {},
   "outputs": [],
   "source": [
    "import math\n",
    "from pathlib import Path\n",
    "import os\n",
    "os.environ[\"WANDB_NOTEBOOK_NAME\"] = \"xgboost_train.ipynb\"  # Manually set the notebook name\n",
    "from typing import Callable\n",
    "\n",
    "import polars as pl\n",
    "import numpy as np\n",
    "import xgboost as xgb\n",
    "import optuna\n",
    "from optuna_integration.wandb import WeightsAndBiasesCallback\n",
    "from optuna_integration.xgboost import XGBoostPruningCallback\n",
    "from sklearn.model_selection import train_test_split\n",
    "from sklearn.metrics import mean_squared_error, mean_absolute_error\n",
    "from sklearn.compose import TransformedTargetRegressor\n",
    "import shap\n",
    "\n",
    "import seaborn as sns\n",
    "import matplotlib.pyplot as plt\n",
    "import plotly.express as px\n",
    "\n",
    "import wandb\n",
    "from wandb.integration.xgboost import WandbCallback\n",
    "from tqdm.notebook import tqdm"
   ]
  },
  {
   "cell_type": "code",
   "execution_count": 108,
   "metadata": {},
   "outputs": [],
   "source": [
    "DEBUG = False"
   ]
  },
  {
   "cell_type": "code",
   "execution_count": 109,
   "metadata": {},
   "outputs": [],
   "source": [
    "# Read the CSV files\n",
    "data_dir = Path('input-data')\n",
    "thp_vol = pl.read_csv(data_dir / 'traffic_DLThpVol.csv')  # This is the target variable\n",
    "prb = pl.read_csv(data_dir / 'traffic_DLPRB.csv')\n",
    "thp_time = pl.read_csv(data_dir / 'traffic_DLThpTime.csv')\n",
    "mr_number = pl.read_csv(data_dir / 'traffic_MR_number.csv')\n",
    "\n",
    "target_dataframes = {\n",
    "    'thp_vol': thp_vol,\n",
    "    'prb': prb,\n",
    "    'thp_time': thp_time,\n",
    "    'mr_number': mr_number\n",
    "}\n",
    "\n",
    "idx_hour_series = thp_vol['']\n",
    "\n",
    "for k, v in target_dataframes.items():\n",
    "    # Drop the first column (idx hour)\n",
    "    target_dataframes[k] = v.drop('')"
   ]
  },
  {
   "cell_type": "code",
   "execution_count": 110,
   "metadata": {},
   "outputs": [],
   "source": [
    "xgb_hyperparams = {\n",
    "    'objective': 'reg:squarederror',\n",
    "    'eval_metric': 'mae',\n",
    "    # 'max_depth': 6,\n",
    "    'eta': 0.1,\n",
    "    'subsample': 0.7,\n",
    "    # 'colsample_bytree': 0.8,\n",
    "    # 'verbosity': 2,\n",
    "    'early_stopping_rounds': 10,\n",
    "    'n_estimators': 100,\n",
    "}\n",
    "\n",
    "config = {\n",
    "    'lags': [1, 2, 3, 6, 12, 13, 14, 24, 25, 26, 48, 49, 72],\n",
    "    'rolling_avgs': [1, 3, 9, 24, 48, 72, 86],\n",
    "    'delta_reference_points': [(1, 2), (1, 3), (1, 6), (1, 24), (24, 25), (48, 49)],\n",
    "    'std_windows': [3, 6, 12, 24, 48, 72, 86],\n",
    "    'num_zeros_windows': [6, 12, 24],\n",
    "    'hour_shifts': [0, 6, 12, 18],\n",
    "    'weekday_shifts': [0, 3, 6],\n",
    "    'train_percentage': 0.6,\n",
    "    'val_percentage': 0.3,  # The rest is test\n",
    "    'run_shap': False,\n",
    "    'target_df_names': [  # dataframes used as target variables\n",
    "        'thp_vol', \n",
    "        'mr_number',\n",
    "        # 'vol_per_prb',\n",
    "    ],\n",
    "    'feat_base_df_names': [  # dataframes used to create the features\n",
    "        'thp_vol', \n",
    "        'mr_number',\n",
    "        'vol_per_user', \n",
    "        # 'vol_per_prb',\n",
    "    ],\n",
    "}\n",
    "\n",
    "if DEBUG:\n",
    "    target_dataframes = {k: v.head(400).select(v.columns[:800]) for k, v in target_dataframes.items()}\n",
    "    # shorten every list in config to max three elements\n",
    "    config = {k: v[:3] if isinstance(v, list) else v for k, v in config.items()}\n",
    "\n",
    "config = xgb_hyperparams | config"
   ]
  },
  {
   "cell_type": "code",
   "execution_count": 111,
   "metadata": {},
   "outputs": [
    {
     "data": {
      "text/html": [
       "Finishing last run (ID:f1t07h6y) before initializing another..."
      ],
      "text/plain": [
       "<IPython.core.display.HTML object>"
      ]
     },
     "metadata": {},
     "output_type": "display_data"
    },
    {
     "data": {
      "application/vnd.jupyter.widget-view+json": {
       "model_id": "c5e2dc07399844569aa5e934c9f6c4ec",
       "version_major": 2,
       "version_minor": 0
      },
      "text/plain": [
       "VBox(children=(Label(value='0.036 MB of 0.036 MB uploaded\\r'), FloatProgress(value=1.0, max=1.0)))"
      ]
     },
     "metadata": {},
     "output_type": "display_data"
    },
    {
     "data": {
      "text/html": [
       " View run <strong style=\"color:#cdcd00\">ruby-snowflake-74</strong> at: <a href='https://wandb.ai/esedx12/traffic-forecasting-challenge/runs/f1t07h6y' target=\"_blank\">https://wandb.ai/esedx12/traffic-forecasting-challenge/runs/f1t07h6y</a><br/> View project at: <a href='https://wandb.ai/esedx12/traffic-forecasting-challenge' target=\"_blank\">https://wandb.ai/esedx12/traffic-forecasting-challenge</a><br/>Synced 5 W&B file(s), 0 media file(s), 0 artifact file(s) and 0 other file(s)"
      ],
      "text/plain": [
       "<IPython.core.display.HTML object>"
      ]
     },
     "metadata": {},
     "output_type": "display_data"
    },
    {
     "data": {
      "text/html": [
       "Find logs at: <code>./wandb/run-20240929_182338-f1t07h6y/logs</code>"
      ],
      "text/plain": [
       "<IPython.core.display.HTML object>"
      ]
     },
     "metadata": {},
     "output_type": "display_data"
    },
    {
     "data": {
      "text/html": [
       "wandb version 0.18.2 is available!  To upgrade, please run:\n",
       " $ pip install wandb --upgrade"
      ],
      "text/plain": [
       "<IPython.core.display.HTML object>"
      ]
     },
     "metadata": {},
     "output_type": "display_data"
    },
    {
     "data": {
      "text/html": [
       "The new W&B backend becomes opt-out in version 0.18.0; try it out with `wandb.require(\"core\")`! See https://wandb.me/wandb-core for more information."
      ],
      "text/plain": [
       "<IPython.core.display.HTML object>"
      ]
     },
     "metadata": {},
     "output_type": "display_data"
    },
    {
     "data": {
      "text/html": [
       "Successfully finished last run (ID:f1t07h6y). Initializing new run:<br/>"
      ],
      "text/plain": [
       "<IPython.core.display.HTML object>"
      ]
     },
     "metadata": {},
     "output_type": "display_data"
    },
    {
     "data": {
      "application/vnd.jupyter.widget-view+json": {
       "model_id": "6bbc4254a14a47cb985358c2c5c31529",
       "version_major": 2,
       "version_minor": 0
      },
      "text/plain": [
       "VBox(children=(Label(value='Waiting for wandb.init()...\\r'), FloatProgress(value=0.011112407944488546, max=1.0…"
      ]
     },
     "metadata": {},
     "output_type": "display_data"
    },
    {
     "data": {
      "text/html": [
       "Tracking run with wandb version 0.17.9"
      ],
      "text/plain": [
       "<IPython.core.display.HTML object>"
      ]
     },
     "metadata": {},
     "output_type": "display_data"
    },
    {
     "data": {
      "text/html": [
       "Run data is saved locally in <code>/home/emil/Desktop/Beam-Level Traffic Forecasting Challenge/wandb/run-20240929_182802-jklzsnsf</code>"
      ],
      "text/plain": [
       "<IPython.core.display.HTML object>"
      ]
     },
     "metadata": {},
     "output_type": "display_data"
    },
    {
     "data": {
      "text/html": [
       "Syncing run <strong><a href='https://wandb.ai/esedx12/traffic-forecasting-challenge/runs/jklzsnsf' target=\"_blank\">smart-haze-75</a></strong> to <a href='https://wandb.ai/esedx12/traffic-forecasting-challenge' target=\"_blank\">Weights & Biases</a> (<a href='https://wandb.me/run' target=\"_blank\">docs</a>)<br/>"
      ],
      "text/plain": [
       "<IPython.core.display.HTML object>"
      ]
     },
     "metadata": {},
     "output_type": "display_data"
    },
    {
     "data": {
      "text/html": [
       " View project at <a href='https://wandb.ai/esedx12/traffic-forecasting-challenge' target=\"_blank\">https://wandb.ai/esedx12/traffic-forecasting-challenge</a>"
      ],
      "text/plain": [
       "<IPython.core.display.HTML object>"
      ]
     },
     "metadata": {},
     "output_type": "display_data"
    },
    {
     "data": {
      "text/html": [
       " View run at <a href='https://wandb.ai/esedx12/traffic-forecasting-challenge/runs/jklzsnsf' target=\"_blank\">https://wandb.ai/esedx12/traffic-forecasting-challenge/runs/jklzsnsf</a>"
      ],
      "text/plain": [
       "<IPython.core.display.HTML object>"
      ]
     },
     "metadata": {},
     "output_type": "display_data"
    }
   ],
   "source": [
    "run = wandb.init(project=\"traffic-forecasting-challenge\", job_type='train', entity=\"esedx12\", config=config, save_code=True, mode=('dryrun' if DEBUG else 'online'))"
   ]
  },
  {
   "cell_type": "markdown",
   "metadata": {},
   "source": [
    "## Create interactions between targets"
   ]
  },
  {
   "cell_type": "code",
   "execution_count": 112,
   "metadata": {},
   "outputs": [],
   "source": [
    "def make_interaction_dataframe(name, target_dataframes, eps=0.1):\n",
    "    match name:\n",
    "        case 'vol_per_user':\n",
    "            return target_dataframes['thp_vol'] / (target_dataframes['mr_number'] + eps)\n",
    "        case 'vol_per_prb':\n",
    "            return target_dataframes['thp_vol'] / (target_dataframes['prb'] + eps)\n",
    "        case 'vol_per_time':\n",
    "            return target_dataframes['thp_vol'] / (target_dataframes['thp_time'] + eps)\n",
    "        case 'prb_per_user':\n",
    "            return target_dataframes['prb'] / (target_dataframes['mr_number'] + eps)\n",
    "        case 'prb_per_time':\n",
    "            return target_dataframes['prb'] / (target_dataframes['thp_time'] + eps)"
   ]
  },
  {
   "cell_type": "code",
   "execution_count": 113,
   "metadata": {},
   "outputs": [],
   "source": [
    "def make_base_dataframes(target_dataframes: dict[str, pl.DataFrame], base_df_names: list[str]) -> dict[str, pl.DataFrame]:\n",
    "    \"\"\"\n",
    "    Create new dataframes to be used for feature eng or as targets.\n",
    "    \"\"\"\n",
    "    base_dataframes = {}\n",
    "    for name in base_df_names:\n",
    "        try:\n",
    "            base_dataframes[name] = target_dataframes[name]\n",
    "        except KeyError:\n",
    "            base_dataframes[name] = make_interaction_dataframe(name, target_dataframes)\n",
    "\n",
    "    return base_dataframes"
   ]
  },
  {
   "cell_type": "markdown",
   "metadata": {},
   "source": [
    "### **Modify targets** based on `config['target_df_names']`"
   ]
  },
  {
   "cell_type": "code",
   "execution_count": 114,
   "metadata": {},
   "outputs": [],
   "source": [
    "target_dataframes = make_base_dataframes(target_dataframes, config['target_df_names'])"
   ]
  },
  {
   "cell_type": "markdown",
   "metadata": {},
   "source": [
    "## Feature Engineering"
   ]
  },
  {
   "cell_type": "code",
   "execution_count": 115,
   "metadata": {},
   "outputs": [],
   "source": [
    "# TODO if indicated for performance reasons, get the max idx_hour with a null and return it so we can shorten the df for multi-step predict\n",
    "# TODO also add target transformations (maybe sklearn can help)\n",
    "# TODO normalize somehow if data is on very different scales for different beams"
   ]
  },
  {
   "cell_type": "markdown",
   "metadata": {},
   "source": [
    "### Hours of day, days of week"
   ]
  },
  {
   "cell_type": "code",
   "execution_count": 116,
   "metadata": {},
   "outputs": [],
   "source": [
    "def create_hour_feats(idx_hour_df: pl.DataFrame, lags: list[int]) -> dict[str, pl.DataFrame]:\n",
    "    \"\"\"\n",
    "    Create shifted versions of daily 24h count for each column in the DataFrame.\n",
    "    Returns a dictionary of DataFrames with the key format '24h_shifted_{lag}h'.\n",
    "    \"\"\"\n",
    "    feature_dfs = {}\n",
    "    daily_hour_df = idx_hour_df % 24  # Calculate daily hours\n",
    "\n",
    "    for lag in lags:\n",
    "        shifted_df = (daily_hour_df + lag) % 24\n",
    "        feature_dfs.update({f'daily_hours_shifted_{lag}h': shifted_df})\n",
    "\n",
    "    return feature_dfs\n",
    "\n",
    "def create_weekday_feats(idx_hour_df: pl.DataFrame, lags: list[int]) -> dict[str, pl.DataFrame]:\n",
    "    \"\"\"\n",
    "    Create shifted versions of weekday count for each column in the DataFrame.\n",
    "    Returns a dictionary of DataFrames with the key format 'weekday_shifted_{lag}d'.\n",
    "    \"\"\"\n",
    "    feature_dfs = {}\n",
    "    day_df = idx_hour_df // 24  # Calculate days\n",
    "    weekday_df = day_df % 7  # Calculate weekdays\n",
    "\n",
    "    for lag in lags:\n",
    "        shifted_df = (weekday_df + lag) % 7\n",
    "        feature_dfs.update({f'weekday_shifted_{lag}d': shifted_df})\n",
    "\n",
    "    return feature_dfs"
   ]
  },
  {
   "cell_type": "code",
   "execution_count": 117,
   "metadata": {},
   "outputs": [],
   "source": [
    "def create_time_feature_dfs(idx_hour_df: pl.DataFrame, idx_hour_shifts: int, weekday_shifts: int) -> dict[str, pl.DataFrame]:\n",
    "    \"\"\"\n",
    "    Create repeating 24h and 7d features.\n",
    "    \"\"\"\n",
    "    hour_feats = create_hour_feats(idx_hour_df, idx_hour_shifts)\n",
    "    weekday_feats = create_weekday_feats(idx_hour_df, weekday_shifts)\n",
    "\n",
    "    return {**hour_feats, **weekday_feats}"
   ]
  },
  {
   "cell_type": "markdown",
   "metadata": {},
   "source": [
    "### Time-series features"
   ]
  },
  {
   "cell_type": "code",
   "execution_count": 118,
   "metadata": {},
   "outputs": [],
   "source": [
    "def create_ts_feature_dfs(df_name: str, df: pl.DataFrame, lags: list[int], rolling_avgs: list[int], delta_reference_points: list[tuple[int, int]], std_windows: list[int], num_zeros_windows: list[int]) -> dict[str, pl.DataFrame]:\n",
    "    \"\"\"\n",
    "    Create lag, rolling average, delta, and standard deviation features for all columns in the DataFrame.\n",
    "    Returns a dict of DataFrames.\n",
    "    \"\"\"\n",
    "    lag_feats = {f\"{df_name}_lag_{lag}\": df.shift(lag) for lag in lags}\n",
    "\n",
    "    delta_feats = {f\"{df_name}_delta_{point_pair[0]}_{point_pair[1]}\": (df.shift(point_pair[0]) - df.shift(point_pair[1])) for point_pair in delta_reference_points}\n",
    "\n",
    "    # We need to shift one step to aviod data leakage\n",
    "    shifted_df = df.shift(1)\n",
    "    rolling_avg_feats = {\n",
    "        f\"{df_name}_rolling_avg_{window}\":\n",
    "            pl.DataFrame({\n",
    "                col: shifted_df[col].rolling_mean(window_size=window)\n",
    "                for col in df.columns\n",
    "            })\n",
    "        for window in rolling_avgs\n",
    "    }\n",
    "\n",
    "    std_feats = {\n",
    "        f\"{df_name}_std_{window}\":\n",
    "            pl.DataFrame({\n",
    "                col: shifted_df[col].rolling_std(window_size=window)\n",
    "                for col in df.columns\n",
    "            })\n",
    "        for window in std_windows\n",
    "    }\n",
    "\n",
    "    num_zeros_feats = {\n",
    "        f\"{df_name}_rolling_avg_{window}\":\n",
    "            pl.DataFrame({\n",
    "                col: (shifted_df[col] == 0).cast(pl.Float32).rolling_sum(window_size=window)\n",
    "                for col in df.columns\n",
    "            })\n",
    "        for window in rolling_avgs\n",
    "    }\n",
    "\n",
    "    return {**lag_feats, **rolling_avg_feats, **delta_feats, **std_feats, **num_zeros_feats}"
   ]
  },
  {
   "cell_type": "markdown",
   "metadata": {},
   "source": [
    "### Aggregations over cells, stations"
   ]
  },
  {
   "cell_type": "code",
   "execution_count": 119,
   "metadata": {},
   "outputs": [],
   "source": [
    "def extract_cell_id(beam_id: str) -> str:\n",
    "    \"\"\"\n",
    "    Extract the cell ID from a beam ID.\n",
    "    \"\"\"\n",
    "    return \"_\".join(beam_id.split(\"_\")[0:2])\n",
    "\n",
    "def extract_station_id(beam_id: str) -> int:\n",
    "    \"\"\"\n",
    "    Extract the station ID from a beam ID.\n",
    "    \"\"\"\n",
    "    return beam_id.split(\"_\")[0]\n",
    "\n",
    "def compute_cell_avg(dataframe: pl.DataFrame, cell_id: str) -> pl.Series:\n",
    "    \"\"\"\n",
    "    Compute the average of a DataFrame for a given cell.\n",
    "    \"\"\"\n",
    "    cell_cols = [col for col in dataframe.columns if col.startswith(cell_id)]\n",
    "    cell_data = dataframe.select(cell_cols)\n",
    "    return cell_data.mean(axis=1)\n",
    "\n",
    "def compute_station_avg(dataframe: pl.DataFrame, station_id: int) -> pl.Series:\n",
    "    \"\"\"\n",
    "    Compute the average of a DataFrame for a given station.\n",
    "    \"\"\"\n",
    "    station_cols = [col for col in dataframe.columns if col.startswith(station_id)]\n",
    "    station_data = dataframe.select(station_cols)\n",
    "    return station_data.mean(axis=1)"
   ]
  },
  {
   "cell_type": "code",
   "execution_count": 120,
   "metadata": {},
   "outputs": [],
   "source": [
    "# def create_id_features(beam_id: str, length: int) -> pl.DataFrame:\n",
    "#     \"\"\"\n",
    "#     Create DataFrame columns for cell and station IDs based on beam ID.\n",
    "#     \"\"\"\n",
    "#     beam_id_col = pl.Series([beam_id] * length).alias(\"beam_id\").to_frame()\n",
    "\n",
    "#     cell_id = extract_cell_id(beam_id)\n",
    "#     cell_id_col = pl.Series([cell_id] * length).alias(\"cell_id\").to_frame()\n",
    "\n",
    "#     station_id = extract_station_id(beam_id)\n",
    "#     station_id_col = pl.Series([station_id] * length).alias(\"station_id\").to_frame() \n",
    "\n",
    "#     return pl.concat([beam_id_col, cell_id_col, station_id_col], how=\"horizontal\")"
   ]
  },
  {
   "cell_type": "code",
   "execution_count": 121,
   "metadata": {},
   "outputs": [],
   "source": [
    "def create_id_feature_dfs(template_df: pl.DataFrame) -> dict[str, pl.DataFrame]:\n",
    "    \"\"\"\n",
    "    Create DataFrames for beam, cell and station IDs based on a template DataFrame.\n",
    "    \"\"\"\n",
    "    id_feature_dfs = {}\n",
    "    id_feature_dfs['beam_id'] = pl.DataFrame({beam_id: [beam_id] * len(template_df) for beam_id in template_df.columns})\n",
    "    id_feature_dfs['cell_id'] = pl.DataFrame({beam_id: [extract_cell_id(beam_id)] * len(template_df) for beam_id in template_df.columns})\n",
    "    id_feature_dfs['station_id'] = pl.DataFrame({beam_id: [extract_station_id(beam_id)] * len(template_df) for beam_id in template_df.columns})\n",
    "\n",
    "    return id_feature_dfs"
   ]
  },
  {
   "cell_type": "markdown",
   "metadata": {},
   "source": [
    "### Combine all the features"
   ]
  },
  {
   "cell_type": "code",
   "execution_count": 122,
   "metadata": {},
   "outputs": [],
   "source": [
    "def create_all_feature_dfs(target_dataframes: dict[str, pl.DataFrame], idx_hour_series: pl.Series, config: wandb.Config) -> dict[str, pl.DataFrame]:\n",
    "    \"\"\"\n",
    "    Create features for the traffic forecasting model for all beams at once.\n",
    "    Returns a dictionary of feature DataFrames.\n",
    "    \"\"\"\n",
    "    feature_dfs = {}\n",
    "    template_df = target_dataframes['thp_vol']\n",
    "    beam_ids = template_df.columns\n",
    "\n",
    "    # TODO add more beam id features for station and cell\n",
    "    feature_dfs['beam_id'] = pl.DataFrame({beam_id: [beam_id] * len(template_df) for beam_id in beam_ids})\n",
    "    \n",
    "    # Create a DataFrame full of the idx_hour series repeated across all columns\n",
    "    feature_dfs['idx_hour'] = pl.DataFrame({beam_id: idx_hour_series for beam_id in beam_ids})\n",
    "\n",
    "    # Repeating 24h and 7d features\n",
    "    feature_dfs.update(create_time_feature_dfs(\n",
    "        feature_dfs['idx_hour'], config.hour_shifts, config.weekday_shifts))\n",
    "\n",
    "    # Make list of dataframes, on which ts features will be created\n",
    "    base_dataframes = make_base_dataframes(\n",
    "        target_dataframes, config.feat_base_df_names)\n",
    "\n",
    "    for df_name, df in tqdm(base_dataframes.items()):\n",
    "        feature_dfs.update(create_ts_feature_dfs(df_name, df, config.lags, config.rolling_avgs,\n",
    "                           config.delta_reference_points, config.std_windows, config.num_zeros_windows))\n",
    "\n",
    "    return feature_dfs"
   ]
  },
  {
   "cell_type": "markdown",
   "metadata": {},
   "source": [
    "## Data Formatting"
   ]
  },
  {
   "cell_type": "code",
   "execution_count": 123,
   "metadata": {},
   "outputs": [],
   "source": [
    "def convert_to_long_format(dataframes: dict[str, pl.DataFrame]) -> pl.DataFrame:\n",
    "    \"\"\"\n",
    "    Convert the target and feature DataFrames to a long/tidy format.\n",
    "    Drop nulls.\n",
    "    \"\"\"\n",
    "    columnized = []\n",
    "    for df_name, df in dataframes.items():\n",
    "        columnized.append(df.unpivot(value_name=df_name).select(df_name))\n",
    "\n",
    "    return pl.concat(columnized, how='horizontal').drop_nulls()\n",
    "\n",
    "\n",
    "def convert_to_wide_format(dataframe: pl.DataFrame, output_df_names: list[str]) -> dict[str, pl.DataFrame]:\n",
    "    \"\"\"\n",
    "    Convert the target and feature DataFrames to a dict of wide format DataFrames.\n",
    "    \"\"\"\n",
    "    wide_dfs = {}\n",
    "    for df_name in output_df_names:\n",
    "        wide_df = dataframe.pivot(index='idx_hour', columns='beam_id', values=df_name)\n",
    "        wide_dfs[df_name] = wide_df\n",
    "\n",
    "    return wide_dfs"
   ]
  },
  {
   "cell_type": "code",
   "execution_count": 124,
   "metadata": {},
   "outputs": [],
   "source": [
    "def create_long_format_df(target_dataframes: dict[str, pl.DataFrame], idx_hour_series: pl.Series, config: wandb.Config) -> pl.DataFrame:\n",
    "    \"\"\"\n",
    "    Create long DataFrame with features and target cols\n",
    "    \"\"\"\n",
    "    feature_dfs = create_all_feature_dfs(target_dataframes, idx_hour_series, config)\n",
    "    target_dfs = {k: v for k, v in target_dataframes.items()}\n",
    "    all_train_dfs = {**feature_dfs, **target_dfs}\n",
    "    long_train_df = convert_to_long_format(all_train_dfs)\n",
    "    return long_train_df"
   ]
  },
  {
   "cell_type": "code",
   "execution_count": 125,
   "metadata": {},
   "outputs": [],
   "source": [
    "# Use first config.train_percentage of dataframe rows for training, and the rest for validation and testing\n",
    "num_rows = len(target_dataframes['thp_vol'])\n",
    "num_train_rows = round(num_rows * wandb.config.train_percentage)\n",
    "num_val_rows = round(num_rows * wandb.config.val_percentage)\n",
    "\n",
    "train_dataframes = {k: v.head(num_train_rows) for k, v in target_dataframes.items()}\n",
    "train_idx_hour_series = idx_hour_series.head(num_train_rows)\n",
    "\n",
    "val_dataframes = {k: v.slice(num_train_rows + 1, num_train_rows + num_val_rows) for k, v in target_dataframes.items()}\n",
    "val_idx_hour_series = idx_hour_series.slice(num_train_rows + 1, num_train_rows + num_val_rows)"
   ]
  },
  {
   "cell_type": "code",
   "execution_count": 127,
   "metadata": {},
   "outputs": [],
   "source": [
    "long_train_df = create_long_format_df(target_dataframes, idx_hour_series, wandb.config)\n",
    "long_val_df = create_long_format_df(val_dataframes, idx_hour_series, wandb.config)\n",
    "\n",
    "dropped_cols = ['idx_hour', 'beam_id']\n",
    "target_cols = list(target_dataframes.keys())\n",
    "\n",
    "X_train, y_train = long_train_df.drop(dropped_cols + target_cols), long_train_df.select(target_cols)\n",
    "X_val, y_val = long_val_df.drop(dropped_cols + target_cols), long_val_df.select(target_cols)\n",
    "\n",
    "wandb.config.update({'train_shape': X_train.shape, 'val_shape': X_val.shape, 'features': X_train.columns, 'targets': y_train.columns})"
   ]
  },
  {
   "cell_type": "markdown",
   "metadata": {},
   "source": [
    "## Train\n",
    "* We use the Scikit-Learn API\n",
    "* TODO add optuna\n",
    "* wandbc = WeightsAndBiasesCallback(metric_name=\"accuracy\", wandb_kwargs=wandb_kwargs"
   ]
  },
  {
   "cell_type": "code",
   "execution_count": 128,
   "metadata": {},
   "outputs": [
    {
     "name": "stdout",
     "output_type": "stream",
     "text": [
      "\n",
      "Fitting model for thp_vol:\n",
      "[0]\tvalidation_0-mae:0.35708\tvalidation_1-mae:0.34713\n",
      "[25]\tvalidation_0-mae:0.20801\tvalidation_1-mae:0.20139\n",
      "[50]\tvalidation_0-mae:0.20379\tvalidation_1-mae:0.19848\n",
      "[75]\tvalidation_0-mae:0.20252\tvalidation_1-mae:0.19797\n",
      "[90]\tvalidation_0-mae:0.20190\tvalidation_1-mae:0.19799\n",
      "\n",
      "Fitting model for mr_number:\n",
      "[0]\tvalidation_0-mae:0.58935\tvalidation_1-mae:0.59602\n",
      "[25]\tvalidation_0-mae:0.20257\tvalidation_1-mae:0.20954\n",
      "[50]\tvalidation_0-mae:0.19285\tvalidation_1-mae:0.20244\n",
      "[75]\tvalidation_0-mae:0.19136\tvalidation_1-mae:0.20208\n",
      "[87]\tvalidation_0-mae:0.19083\tvalidation_1-mae:0.20209\n"
     ]
    }
   ],
   "source": [
    "models = {}\n",
    "for target_name in y_train.columns:\n",
    "    model = xgb.XGBRegressor(**xgb_hyperparams, callbacks=[WandbCallback(log_model=True)])\n",
    "    print(f\"\\nFitting model for {target_name}:\")\n",
    "    model.fit(X_train, y_train[target_name], eval_set=[(X_train, y_train[target_name]), (X_val, y_val[target_name])], verbose=25)\n",
    "    models[target_name] = model"
   ]
  },
  {
   "cell_type": "code",
   "execution_count": 22,
   "metadata": {},
   "outputs": [],
   "source": [
    "for target_name, model in models.items():\n",
    "    model_dir = Path('checkpoints') / wandb.run.name\n",
    "    model_dir.mkdir(parents=True, exist_ok=True)\n",
    "    model_path = model_dir / f'{target_name}.ubj'\n",
    "    model.save_model(model_path)"
   ]
  },
  {
   "cell_type": "markdown",
   "metadata": {},
   "source": [
    "## Charts, Tables"
   ]
  },
  {
   "cell_type": "code",
   "execution_count": 24,
   "metadata": {},
   "outputs": [
    {
     "name": "stdout",
     "output_type": "stream",
     "text": [
      "Processing target: thp_vol\n"
     ]
    },
    {
     "data": {
      "application/vnd.plotly.v1+json": {
       "config": {
        "plotlyServerURL": "https://plot.ly"
       },
       "data": [
        {
         "hovertemplate": "variable=wide_variable_0<br>Boosting Round=%{x}<br>Mean Absolute Error=%{y}<extra></extra>",
         "legendgroup": "wide_variable_0",
         "line": {
          "color": "#636efa",
          "dash": "solid"
         },
         "marker": {
          "symbol": "circle"
         },
         "mode": "lines",
         "name": "Train MAE",
         "orientation": "v",
         "showlegend": true,
         "type": "scatter",
         "x": [
          1,
          2,
          3,
          4,
          5,
          6,
          7,
          8,
          9,
          10,
          11,
          12,
          13,
          14,
          15,
          16,
          17,
          18,
          19,
          20,
          21,
          22,
          23,
          24,
          25,
          26,
          27,
          28,
          29,
          30,
          31,
          32,
          33,
          34,
          35,
          36,
          37,
          38,
          39,
          40,
          41,
          42,
          43,
          44,
          45,
          46,
          47,
          48,
          49,
          50,
          51,
          52,
          53,
          54,
          55,
          56,
          57,
          58,
          59,
          60,
          61,
          62,
          63,
          64,
          65,
          66,
          67,
          68,
          69,
          70,
          71,
          72,
          73,
          74,
          75,
          76,
          77,
          78,
          79,
          80,
          81,
          82,
          83,
          84,
          85,
          86,
          87,
          88,
          89,
          90,
          91,
          92,
          93,
          94,
          95,
          96,
          97,
          98,
          99,
          100
         ],
         "xaxis": "x",
         "y": [
          0.3570827047861816,
          0.33440986946979995,
          0.3149633301444645,
          0.29826183021756153,
          0.28391540363894374,
          0.2716944354481656,
          0.2613906599892506,
          0.2527858106067419,
          0.24540051200809745,
          0.23928191406230861,
          0.23407825844618607,
          0.22969144535045236,
          0.22602927691435015,
          0.2230129759833868,
          0.22039238350333146,
          0.21821953139233277,
          0.21641790536041527,
          0.21479271447901951,
          0.21348128468337593,
          0.21228929052656637,
          0.21130412020563227,
          0.210470847299366,
          0.20972792683787006,
          0.20901953380557248,
          0.20848020971380263,
          0.20800918742603194,
          0.20752686787257335,
          0.20712625818419483,
          0.20680035225208457,
          0.2065109617058132,
          0.20624896036254403,
          0.20603488069274611,
          0.20582353756406835,
          0.2056401643748653,
          0.20546419831787824,
          0.20530537054756232,
          0.20518057704441153,
          0.20505390142312496,
          0.2049123054144144,
          0.20479787801328053,
          0.2046302911473736,
          0.2044913239890096,
          0.20440431952742735,
          0.20432881812725445,
          0.20429389504816792,
          0.2042436124988059,
          0.20420486780612765,
          0.20404549631007546,
          0.20393379754034516,
          0.2038692712117197,
          0.20379412266656224,
          0.20375497968218953,
          0.2037202945560685,
          0.20361221523966805,
          0.20348253482491055,
          0.20343418063371857,
          0.20339738093596704,
          0.20327235945947125,
          0.2032299172141756,
          0.20317646474722223,
          0.20313385141605406,
          0.20307746490968306,
          0.20300764659295573,
          0.20295506531833402,
          0.20294230550293957,
          0.20287274730841598,
          0.20285032047530024,
          0.20279707480728418,
          0.2027708770241509,
          0.2027191172368769,
          0.2027052814610755,
          0.20266117713078016,
          0.2026226894775316,
          0.20261136827962328,
          0.20256539357089196,
          0.20252497603704384,
          0.2024808942672498,
          0.20241572926043744,
          0.20237990651992094,
          0.20235719698529495,
          0.20231046857482102,
          0.2022619438288152,
          0.20220868531994982,
          0.20218488144144858,
          0.20212614717750674,
          0.202104945400495,
          0.2020468673734024,
          0.20199199684459984,
          0.20195886082909026,
          0.20192356891367305,
          0.2018961585133682,
          0.20186168629988802,
          0.20185185146428505,
          0.20180144125419788,
          0.20180682792325455,
          0.20178955068748097,
          0.20176635326992048,
          0.20174773278084737,
          0.2017277939656246,
          0.20169599112251868
         ],
         "yaxis": "y"
        },
        {
         "hovertemplate": "variable=wide_variable_1<br>Boosting Round=%{x}<br>Mean Absolute Error=%{y}<extra></extra>",
         "legendgroup": "wide_variable_1",
         "line": {
          "color": "#EF553B",
          "dash": "solid"
         },
         "marker": {
          "symbol": "circle"
         },
         "mode": "lines",
         "name": "Val MAE",
         "orientation": "v",
         "showlegend": true,
         "type": "scatter",
         "x": [
          1,
          2,
          3,
          4,
          5,
          6,
          7,
          8,
          9,
          10,
          11,
          12,
          13,
          14,
          15,
          16,
          17,
          18,
          19,
          20,
          21,
          22,
          23,
          24,
          25,
          26,
          27,
          28,
          29,
          30,
          31,
          32,
          33,
          34,
          35,
          36,
          37,
          38,
          39,
          40,
          41,
          42,
          43,
          44,
          45,
          46,
          47,
          48,
          49,
          50,
          51,
          52,
          53,
          54,
          55,
          56,
          57,
          58,
          59,
          60,
          61,
          62,
          63,
          64,
          65,
          66,
          67,
          68,
          69,
          70,
          71,
          72,
          73,
          74,
          75,
          76,
          77,
          78,
          79,
          80,
          81,
          82,
          83,
          84,
          85,
          86,
          87,
          88,
          89,
          90,
          91,
          92,
          93,
          94,
          95,
          96,
          97,
          98,
          99,
          100
         ],
         "xaxis": "x",
         "y": [
          0.34693310012008594,
          0.32428587745004056,
          0.3048587698475713,
          0.2881306340048648,
          0.2738109132474881,
          0.261606571063807,
          0.251305862179698,
          0.24274485781433502,
          0.2354056667153433,
          0.22938346716556415,
          0.2242259478336034,
          0.21995535344011136,
          0.21636471309749403,
          0.21339684292563,
          0.21085332575517934,
          0.2087634621932043,
          0.20705345569699293,
          0.20552663152497377,
          0.20431035240088843,
          0.20317990852684856,
          0.20222761787564855,
          0.2014587181663105,
          0.20079660452513226,
          0.20018261521668698,
          0.1996917157074707,
          0.19924788587538705,
          0.19884436944081846,
          0.19850412294502529,
          0.1982293213857769,
          0.1979712870939261,
          0.19776235048121665,
          0.1976159806466583,
          0.19744043496727773,
          0.1972905775897554,
          0.19716148535931496,
          0.19705179002217446,
          0.19693781686227402,
          0.19682838144439527,
          0.19671335068919854,
          0.19664288078999725,
          0.19651767802469533,
          0.1964323272754609,
          0.19636283508207636,
          0.1963110167725029,
          0.1962747581785573,
          0.1962256416030495,
          0.19620061432379374,
          0.1961041056572273,
          0.1960341315191922,
          0.19598834616274574,
          0.19594124950427333,
          0.1959129713587243,
          0.1958915916387222,
          0.19584372171892253,
          0.19577623696908464,
          0.1957414898394628,
          0.19571044795950557,
          0.19563337117844537,
          0.1956039620932672,
          0.19557758490064014,
          0.19554378137374956,
          0.19551218612920926,
          0.19545513757731775,
          0.1954206989507863,
          0.1954249708800099,
          0.19538515989959468,
          0.19537641452799703,
          0.19534195095528456,
          0.19529465475013205,
          0.19526372683313534,
          0.19528103229467758,
          0.1952459512523993,
          0.19522568906200302,
          0.1952181162214787,
          0.1951782643967501,
          0.195156298144029,
          0.19512399840301942,
          0.1950999398550533,
          0.1950786969376415,
          0.19507159178986264,
          0.19503900487339473,
          0.1950085880753419,
          0.1949918285791948,
          0.19497747413554098,
          0.19496362467346603,
          0.19494835328851282,
          0.19492954422615894,
          0.19490583270060577,
          0.19488258039714454,
          0.19485006889468703,
          0.19483242558143954,
          0.19482044158129713,
          0.19481803054450658,
          0.19480154829900392,
          0.1948037052680004,
          0.1948063853557044,
          0.1947923472449588,
          0.19477835848611408,
          0.19476429362285191,
          0.19475508059303637
         ],
         "yaxis": "y"
        }
       ],
       "layout": {
        "legend": {
         "itemsizing": "constant",
         "title": {
          "text": "Dataset"
         },
         "tracegroupgap": 0
        },
        "template": {
         "data": {
          "bar": [
           {
            "error_x": {
             "color": "#2a3f5f"
            },
            "error_y": {
             "color": "#2a3f5f"
            },
            "marker": {
             "line": {
              "color": "#E5ECF6",
              "width": 0.5
             },
             "pattern": {
              "fillmode": "overlay",
              "size": 10,
              "solidity": 0.2
             }
            },
            "type": "bar"
           }
          ],
          "barpolar": [
           {
            "marker": {
             "line": {
              "color": "#E5ECF6",
              "width": 0.5
             },
             "pattern": {
              "fillmode": "overlay",
              "size": 10,
              "solidity": 0.2
             }
            },
            "type": "barpolar"
           }
          ],
          "carpet": [
           {
            "aaxis": {
             "endlinecolor": "#2a3f5f",
             "gridcolor": "white",
             "linecolor": "white",
             "minorgridcolor": "white",
             "startlinecolor": "#2a3f5f"
            },
            "baxis": {
             "endlinecolor": "#2a3f5f",
             "gridcolor": "white",
             "linecolor": "white",
             "minorgridcolor": "white",
             "startlinecolor": "#2a3f5f"
            },
            "type": "carpet"
           }
          ],
          "choropleth": [
           {
            "colorbar": {
             "outlinewidth": 0,
             "ticks": ""
            },
            "type": "choropleth"
           }
          ],
          "contour": [
           {
            "colorbar": {
             "outlinewidth": 0,
             "ticks": ""
            },
            "colorscale": [
             [
              0,
              "#0d0887"
             ],
             [
              0.1111111111111111,
              "#46039f"
             ],
             [
              0.2222222222222222,
              "#7201a8"
             ],
             [
              0.3333333333333333,
              "#9c179e"
             ],
             [
              0.4444444444444444,
              "#bd3786"
             ],
             [
              0.5555555555555556,
              "#d8576b"
             ],
             [
              0.6666666666666666,
              "#ed7953"
             ],
             [
              0.7777777777777778,
              "#fb9f3a"
             ],
             [
              0.8888888888888888,
              "#fdca26"
             ],
             [
              1,
              "#f0f921"
             ]
            ],
            "type": "contour"
           }
          ],
          "contourcarpet": [
           {
            "colorbar": {
             "outlinewidth": 0,
             "ticks": ""
            },
            "type": "contourcarpet"
           }
          ],
          "heatmap": [
           {
            "colorbar": {
             "outlinewidth": 0,
             "ticks": ""
            },
            "colorscale": [
             [
              0,
              "#0d0887"
             ],
             [
              0.1111111111111111,
              "#46039f"
             ],
             [
              0.2222222222222222,
              "#7201a8"
             ],
             [
              0.3333333333333333,
              "#9c179e"
             ],
             [
              0.4444444444444444,
              "#bd3786"
             ],
             [
              0.5555555555555556,
              "#d8576b"
             ],
             [
              0.6666666666666666,
              "#ed7953"
             ],
             [
              0.7777777777777778,
              "#fb9f3a"
             ],
             [
              0.8888888888888888,
              "#fdca26"
             ],
             [
              1,
              "#f0f921"
             ]
            ],
            "type": "heatmap"
           }
          ],
          "heatmapgl": [
           {
            "colorbar": {
             "outlinewidth": 0,
             "ticks": ""
            },
            "colorscale": [
             [
              0,
              "#0d0887"
             ],
             [
              0.1111111111111111,
              "#46039f"
             ],
             [
              0.2222222222222222,
              "#7201a8"
             ],
             [
              0.3333333333333333,
              "#9c179e"
             ],
             [
              0.4444444444444444,
              "#bd3786"
             ],
             [
              0.5555555555555556,
              "#d8576b"
             ],
             [
              0.6666666666666666,
              "#ed7953"
             ],
             [
              0.7777777777777778,
              "#fb9f3a"
             ],
             [
              0.8888888888888888,
              "#fdca26"
             ],
             [
              1,
              "#f0f921"
             ]
            ],
            "type": "heatmapgl"
           }
          ],
          "histogram": [
           {
            "marker": {
             "pattern": {
              "fillmode": "overlay",
              "size": 10,
              "solidity": 0.2
             }
            },
            "type": "histogram"
           }
          ],
          "histogram2d": [
           {
            "colorbar": {
             "outlinewidth": 0,
             "ticks": ""
            },
            "colorscale": [
             [
              0,
              "#0d0887"
             ],
             [
              0.1111111111111111,
              "#46039f"
             ],
             [
              0.2222222222222222,
              "#7201a8"
             ],
             [
              0.3333333333333333,
              "#9c179e"
             ],
             [
              0.4444444444444444,
              "#bd3786"
             ],
             [
              0.5555555555555556,
              "#d8576b"
             ],
             [
              0.6666666666666666,
              "#ed7953"
             ],
             [
              0.7777777777777778,
              "#fb9f3a"
             ],
             [
              0.8888888888888888,
              "#fdca26"
             ],
             [
              1,
              "#f0f921"
             ]
            ],
            "type": "histogram2d"
           }
          ],
          "histogram2dcontour": [
           {
            "colorbar": {
             "outlinewidth": 0,
             "ticks": ""
            },
            "colorscale": [
             [
              0,
              "#0d0887"
             ],
             [
              0.1111111111111111,
              "#46039f"
             ],
             [
              0.2222222222222222,
              "#7201a8"
             ],
             [
              0.3333333333333333,
              "#9c179e"
             ],
             [
              0.4444444444444444,
              "#bd3786"
             ],
             [
              0.5555555555555556,
              "#d8576b"
             ],
             [
              0.6666666666666666,
              "#ed7953"
             ],
             [
              0.7777777777777778,
              "#fb9f3a"
             ],
             [
              0.8888888888888888,
              "#fdca26"
             ],
             [
              1,
              "#f0f921"
             ]
            ],
            "type": "histogram2dcontour"
           }
          ],
          "mesh3d": [
           {
            "colorbar": {
             "outlinewidth": 0,
             "ticks": ""
            },
            "type": "mesh3d"
           }
          ],
          "parcoords": [
           {
            "line": {
             "colorbar": {
              "outlinewidth": 0,
              "ticks": ""
             }
            },
            "type": "parcoords"
           }
          ],
          "pie": [
           {
            "automargin": true,
            "type": "pie"
           }
          ],
          "scatter": [
           {
            "fillpattern": {
             "fillmode": "overlay",
             "size": 10,
             "solidity": 0.2
            },
            "type": "scatter"
           }
          ],
          "scatter3d": [
           {
            "line": {
             "colorbar": {
              "outlinewidth": 0,
              "ticks": ""
             }
            },
            "marker": {
             "colorbar": {
              "outlinewidth": 0,
              "ticks": ""
             }
            },
            "type": "scatter3d"
           }
          ],
          "scattercarpet": [
           {
            "marker": {
             "colorbar": {
              "outlinewidth": 0,
              "ticks": ""
             }
            },
            "type": "scattercarpet"
           }
          ],
          "scattergeo": [
           {
            "marker": {
             "colorbar": {
              "outlinewidth": 0,
              "ticks": ""
             }
            },
            "type": "scattergeo"
           }
          ],
          "scattergl": [
           {
            "marker": {
             "colorbar": {
              "outlinewidth": 0,
              "ticks": ""
             }
            },
            "type": "scattergl"
           }
          ],
          "scattermapbox": [
           {
            "marker": {
             "colorbar": {
              "outlinewidth": 0,
              "ticks": ""
             }
            },
            "type": "scattermapbox"
           }
          ],
          "scatterpolar": [
           {
            "marker": {
             "colorbar": {
              "outlinewidth": 0,
              "ticks": ""
             }
            },
            "type": "scatterpolar"
           }
          ],
          "scatterpolargl": [
           {
            "marker": {
             "colorbar": {
              "outlinewidth": 0,
              "ticks": ""
             }
            },
            "type": "scatterpolargl"
           }
          ],
          "scatterternary": [
           {
            "marker": {
             "colorbar": {
              "outlinewidth": 0,
              "ticks": ""
             }
            },
            "type": "scatterternary"
           }
          ],
          "surface": [
           {
            "colorbar": {
             "outlinewidth": 0,
             "ticks": ""
            },
            "colorscale": [
             [
              0,
              "#0d0887"
             ],
             [
              0.1111111111111111,
              "#46039f"
             ],
             [
              0.2222222222222222,
              "#7201a8"
             ],
             [
              0.3333333333333333,
              "#9c179e"
             ],
             [
              0.4444444444444444,
              "#bd3786"
             ],
             [
              0.5555555555555556,
              "#d8576b"
             ],
             [
              0.6666666666666666,
              "#ed7953"
             ],
             [
              0.7777777777777778,
              "#fb9f3a"
             ],
             [
              0.8888888888888888,
              "#fdca26"
             ],
             [
              1,
              "#f0f921"
             ]
            ],
            "type": "surface"
           }
          ],
          "table": [
           {
            "cells": {
             "fill": {
              "color": "#EBF0F8"
             },
             "line": {
              "color": "white"
             }
            },
            "header": {
             "fill": {
              "color": "#C8D4E3"
             },
             "line": {
              "color": "white"
             }
            },
            "type": "table"
           }
          ]
         },
         "layout": {
          "annotationdefaults": {
           "arrowcolor": "#2a3f5f",
           "arrowhead": 0,
           "arrowwidth": 1
          },
          "autotypenumbers": "strict",
          "coloraxis": {
           "colorbar": {
            "outlinewidth": 0,
            "ticks": ""
           }
          },
          "colorscale": {
           "diverging": [
            [
             0,
             "#8e0152"
            ],
            [
             0.1,
             "#c51b7d"
            ],
            [
             0.2,
             "#de77ae"
            ],
            [
             0.3,
             "#f1b6da"
            ],
            [
             0.4,
             "#fde0ef"
            ],
            [
             0.5,
             "#f7f7f7"
            ],
            [
             0.6,
             "#e6f5d0"
            ],
            [
             0.7,
             "#b8e186"
            ],
            [
             0.8,
             "#7fbc41"
            ],
            [
             0.9,
             "#4d9221"
            ],
            [
             1,
             "#276419"
            ]
           ],
           "sequential": [
            [
             0,
             "#0d0887"
            ],
            [
             0.1111111111111111,
             "#46039f"
            ],
            [
             0.2222222222222222,
             "#7201a8"
            ],
            [
             0.3333333333333333,
             "#9c179e"
            ],
            [
             0.4444444444444444,
             "#bd3786"
            ],
            [
             0.5555555555555556,
             "#d8576b"
            ],
            [
             0.6666666666666666,
             "#ed7953"
            ],
            [
             0.7777777777777778,
             "#fb9f3a"
            ],
            [
             0.8888888888888888,
             "#fdca26"
            ],
            [
             1,
             "#f0f921"
            ]
           ],
           "sequentialminus": [
            [
             0,
             "#0d0887"
            ],
            [
             0.1111111111111111,
             "#46039f"
            ],
            [
             0.2222222222222222,
             "#7201a8"
            ],
            [
             0.3333333333333333,
             "#9c179e"
            ],
            [
             0.4444444444444444,
             "#bd3786"
            ],
            [
             0.5555555555555556,
             "#d8576b"
            ],
            [
             0.6666666666666666,
             "#ed7953"
            ],
            [
             0.7777777777777778,
             "#fb9f3a"
            ],
            [
             0.8888888888888888,
             "#fdca26"
            ],
            [
             1,
             "#f0f921"
            ]
           ]
          },
          "colorway": [
           "#636efa",
           "#EF553B",
           "#00cc96",
           "#ab63fa",
           "#FFA15A",
           "#19d3f3",
           "#FF6692",
           "#B6E880",
           "#FF97FF",
           "#FECB52"
          ],
          "font": {
           "color": "#2a3f5f"
          },
          "geo": {
           "bgcolor": "white",
           "lakecolor": "white",
           "landcolor": "#E5ECF6",
           "showlakes": true,
           "showland": true,
           "subunitcolor": "white"
          },
          "hoverlabel": {
           "align": "left"
          },
          "hovermode": "closest",
          "mapbox": {
           "style": "light"
          },
          "paper_bgcolor": "white",
          "plot_bgcolor": "#E5ECF6",
          "polar": {
           "angularaxis": {
            "gridcolor": "white",
            "linecolor": "white",
            "ticks": ""
           },
           "bgcolor": "#E5ECF6",
           "radialaxis": {
            "gridcolor": "white",
            "linecolor": "white",
            "ticks": ""
           }
          },
          "scene": {
           "xaxis": {
            "backgroundcolor": "#E5ECF6",
            "gridcolor": "white",
            "gridwidth": 2,
            "linecolor": "white",
            "showbackground": true,
            "ticks": "",
            "zerolinecolor": "white"
           },
           "yaxis": {
            "backgroundcolor": "#E5ECF6",
            "gridcolor": "white",
            "gridwidth": 2,
            "linecolor": "white",
            "showbackground": true,
            "ticks": "",
            "zerolinecolor": "white"
           },
           "zaxis": {
            "backgroundcolor": "#E5ECF6",
            "gridcolor": "white",
            "gridwidth": 2,
            "linecolor": "white",
            "showbackground": true,
            "ticks": "",
            "zerolinecolor": "white"
           }
          },
          "shapedefaults": {
           "line": {
            "color": "#2a3f5f"
           }
          },
          "ternary": {
           "aaxis": {
            "gridcolor": "white",
            "linecolor": "white",
            "ticks": ""
           },
           "baxis": {
            "gridcolor": "white",
            "linecolor": "white",
            "ticks": ""
           },
           "bgcolor": "#E5ECF6",
           "caxis": {
            "gridcolor": "white",
            "linecolor": "white",
            "ticks": ""
           }
          },
          "title": {
           "x": 0.05
          },
          "xaxis": {
           "automargin": true,
           "gridcolor": "white",
           "linecolor": "white",
           "ticks": "",
           "title": {
            "standoff": 15
           },
           "zerolinecolor": "white",
           "zerolinewidth": 2
          },
          "yaxis": {
           "automargin": true,
           "gridcolor": "white",
           "linecolor": "white",
           "ticks": "",
           "title": {
            "standoff": 15
           },
           "zerolinecolor": "white",
           "zerolinewidth": 2
          }
         }
        },
        "title": {
         "text": "Training and Val MAE over Boosting Rounds for thp_vol"
        },
        "xaxis": {
         "anchor": "y",
         "domain": [
          0,
          1
         ],
         "title": {
          "text": "Boosting Round"
         }
        },
        "yaxis": {
         "anchor": "x",
         "domain": [
          0,
          1
         ],
         "title": {
          "text": "Mean Absolute Error"
         }
        }
       }
      }
     },
     "metadata": {},
     "output_type": "display_data"
    },
    {
     "name": "stdout",
     "output_type": "stream",
     "text": [
      "Best Val MAE for thp_vol: 0.19475508059303637\n",
      "Round: 99\n",
      "Processing target: mr_number\n"
     ]
    },
    {
     "data": {
      "application/vnd.plotly.v1+json": {
       "config": {
        "plotlyServerURL": "https://plot.ly"
       },
       "data": [
        {
         "hovertemplate": "variable=wide_variable_0<br>Boosting Round=%{x}<br>Mean Absolute Error=%{y}<extra></extra>",
         "legendgroup": "wide_variable_0",
         "line": {
          "color": "#636efa",
          "dash": "solid"
         },
         "marker": {
          "symbol": "circle"
         },
         "mode": "lines",
         "name": "Train MAE",
         "orientation": "v",
         "showlegend": true,
         "type": "scatter",
         "x": [
          1,
          2,
          3,
          4,
          5,
          6,
          7,
          8,
          9,
          10,
          11,
          12,
          13,
          14,
          15,
          16,
          17,
          18,
          19,
          20,
          21,
          22,
          23,
          24,
          25,
          26,
          27,
          28,
          29,
          30,
          31,
          32,
          33,
          34,
          35,
          36,
          37,
          38,
          39,
          40,
          41,
          42,
          43,
          44,
          45,
          46,
          47,
          48,
          49,
          50,
          51,
          52,
          53,
          54,
          55,
          56,
          57,
          58,
          59,
          60,
          61,
          62,
          63,
          64,
          65,
          66,
          67,
          68,
          69,
          70,
          71,
          72,
          73,
          74,
          75,
          76,
          77,
          78,
          79,
          80,
          81,
          82,
          83,
          84,
          85,
          86,
          87,
          88,
          89,
          90,
          91,
          92,
          93,
          94,
          95,
          96,
          97,
          98,
          99,
          100
         ],
         "xaxis": "x",
         "y": [
          0.5893470385679088,
          0.5385511549205607,
          0.4935541437525643,
          0.453694061725421,
          0.4183776869831169,
          0.3874359643508329,
          0.3602531339829039,
          0.3365937001660363,
          0.3159952445654473,
          0.2981949106049912,
          0.2829202710627976,
          0.2698162409753478,
          0.2585678091685947,
          0.24896666600075631,
          0.24077452314295894,
          0.23388429940220135,
          0.2279886662594063,
          0.22297308523344253,
          0.2187409464929632,
          0.21518772883547127,
          0.21218951609220313,
          0.2095947729407945,
          0.2074200073482268,
          0.2055982109481389,
          0.20397723832049933,
          0.20257245934725968,
          0.20139987211711302,
          0.20039515484721185,
          0.199510122435585,
          0.1987514908308134,
          0.19807826325700606,
          0.19748829892150166,
          0.1969893885076742,
          0.19651913812536073,
          0.19608810827372533,
          0.19571997161809898,
          0.19539233649417603,
          0.19508953864829376,
          0.19483573057919057,
          0.19457385538175337,
          0.19434276912276552,
          0.1941555320427679,
          0.19395116796988476,
          0.19375989359871243,
          0.19359547923253004,
          0.19345581744249898,
          0.19331651148673135,
          0.1931822186460349,
          0.19307230279046117,
          0.19295404664665838,
          0.1928460028295866,
          0.19274935891420047,
          0.19265018572496373,
          0.192565361982221,
          0.1924967689665163,
          0.1924031599420825,
          0.19233859447483118,
          0.19226231910123773,
          0.19218480652324207,
          0.19212529884545268,
          0.1920632982178982,
          0.19200093003723256,
          0.19195866567255748,
          0.19190407699429016,
          0.19184085105050158,
          0.19180362503542417,
          0.19176040193997324,
          0.1917061562087772,
          0.19165731534411024,
          0.19159322578409116,
          0.19154801615019149,
          0.19150016042423113,
          0.1914566339621359,
          0.19142592333243855,
          0.19139187705613855,
          0.19136087830510867,
          0.19130466855110462,
          0.19127262510651924,
          0.19121101724228404,
          0.19116866237321284,
          0.19112700155959797,
          0.19107770337633173,
          0.19104916548053413,
          0.19102609869623816,
          0.19096349869320933,
          0.1909280560992204,
          0.19090329627442768,
          0.19083233907481875,
          0.19080291003086566,
          0.19077179125008678,
          0.19073169458279485,
          0.1907168548527444,
          0.19068013356388486,
          0.19064353240628273,
          0.19061813889372675,
          0.19058159441152564,
          0.1905570883605812,
          0.1905175999116663,
          0.19047726405613308,
          0.1904547627832286
         ],
         "yaxis": "y"
        },
        {
         "hovertemplate": "variable=wide_variable_1<br>Boosting Round=%{x}<br>Mean Absolute Error=%{y}<extra></extra>",
         "legendgroup": "wide_variable_1",
         "line": {
          "color": "#EF553B",
          "dash": "solid"
         },
         "marker": {
          "symbol": "circle"
         },
         "mode": "lines",
         "name": "Val MAE",
         "orientation": "v",
         "showlegend": true,
         "type": "scatter",
         "x": [
          1,
          2,
          3,
          4,
          5,
          6,
          7,
          8,
          9,
          10,
          11,
          12,
          13,
          14,
          15,
          16,
          17,
          18,
          19,
          20,
          21,
          22,
          23,
          24,
          25,
          26,
          27,
          28,
          29,
          30,
          31,
          32,
          33,
          34,
          35,
          36,
          37,
          38,
          39,
          40,
          41,
          42,
          43,
          44,
          45,
          46,
          47,
          48,
          49,
          50,
          51,
          52,
          53,
          54,
          55,
          56,
          57,
          58,
          59,
          60,
          61,
          62,
          63,
          64,
          65,
          66,
          67,
          68,
          69,
          70,
          71,
          72,
          73,
          74,
          75,
          76,
          77,
          78,
          79,
          80,
          81,
          82,
          83,
          84,
          85,
          86,
          87,
          88,
          89,
          90,
          91,
          92,
          93,
          94,
          95,
          96,
          97,
          98,
          99,
          100
         ],
         "xaxis": "x",
         "y": [
          0.5957092741761973,
          0.544031852146254,
          0.49830778249014135,
          0.4577397320535498,
          0.42183609621620927,
          0.39036469940646373,
          0.36272482036809084,
          0.3387364652486155,
          0.3178347786550611,
          0.2997600915894122,
          0.2842321980897327,
          0.27093761252204646,
          0.2595334512806202,
          0.24980829065172722,
          0.24153717618282064,
          0.2345759000236772,
          0.22865411714094433,
          0.22361948020592712,
          0.21934986531800751,
          0.21580127345111108,
          0.2128135288047672,
          0.21021981919864324,
          0.2080578989308994,
          0.20625122918262484,
          0.20463505347862665,
          0.20323538823340617,
          0.20207626855682723,
          0.2010819315398912,
          0.20022507083852328,
          0.19946930594078405,
          0.198810624481168,
          0.19824102212272215,
          0.1977602043902665,
          0.19728394141000982,
          0.19686019959349838,
          0.1965079522705667,
          0.19618732913823797,
          0.19589260671555722,
          0.19563429733279578,
          0.1953781312608336,
          0.1951435984622503,
          0.1949583221122671,
          0.1947439061245703,
          0.1945546214029038,
          0.194384897483874,
          0.19426049582392094,
          0.1941126627894708,
          0.19397630141977254,
          0.19386466796198357,
          0.1937478442465486,
          0.19363818634598956,
          0.19353889357836274,
          0.19344034532015755,
          0.19335663943552428,
          0.19328684644192734,
          0.1931855534223091,
          0.1931207096350473,
          0.1930371244164214,
          0.19295940414797444,
          0.19290261213277016,
          0.19283940342701247,
          0.19277352426991207,
          0.19272746675163016,
          0.1926752192202726,
          0.1926137021284983,
          0.19258399434273113,
          0.19253747228568147,
          0.19248213261317423,
          0.19242686803705344,
          0.19235920192179543,
          0.19231608504347214,
          0.19226411216545056,
          0.19223013090102142,
          0.1921929862684926,
          0.1921535461021338,
          0.1921239641938048,
          0.1920660535948005,
          0.19203356560603688,
          0.19196823703410884,
          0.19192481017437174,
          0.1918799804201536,
          0.19182845239901367,
          0.19179912263429189,
          0.19177445448972733,
          0.19170768159248247,
          0.19167043215467966,
          0.19164423647927298,
          0.19157024309324205,
          0.1915509522121991,
          0.19151783339996553,
          0.19147709444040711,
          0.1914606537837702,
          0.19142178740393145,
          0.19138082016028862,
          0.19135227234683486,
          0.19130557084866462,
          0.19128027759859514,
          0.19123050995097604,
          0.19118595069485358,
          0.19116729092533408
         ],
         "yaxis": "y"
        }
       ],
       "layout": {
        "legend": {
         "itemsizing": "constant",
         "title": {
          "text": "Dataset"
         },
         "tracegroupgap": 0
        },
        "template": {
         "data": {
          "bar": [
           {
            "error_x": {
             "color": "#2a3f5f"
            },
            "error_y": {
             "color": "#2a3f5f"
            },
            "marker": {
             "line": {
              "color": "#E5ECF6",
              "width": 0.5
             },
             "pattern": {
              "fillmode": "overlay",
              "size": 10,
              "solidity": 0.2
             }
            },
            "type": "bar"
           }
          ],
          "barpolar": [
           {
            "marker": {
             "line": {
              "color": "#E5ECF6",
              "width": 0.5
             },
             "pattern": {
              "fillmode": "overlay",
              "size": 10,
              "solidity": 0.2
             }
            },
            "type": "barpolar"
           }
          ],
          "carpet": [
           {
            "aaxis": {
             "endlinecolor": "#2a3f5f",
             "gridcolor": "white",
             "linecolor": "white",
             "minorgridcolor": "white",
             "startlinecolor": "#2a3f5f"
            },
            "baxis": {
             "endlinecolor": "#2a3f5f",
             "gridcolor": "white",
             "linecolor": "white",
             "minorgridcolor": "white",
             "startlinecolor": "#2a3f5f"
            },
            "type": "carpet"
           }
          ],
          "choropleth": [
           {
            "colorbar": {
             "outlinewidth": 0,
             "ticks": ""
            },
            "type": "choropleth"
           }
          ],
          "contour": [
           {
            "colorbar": {
             "outlinewidth": 0,
             "ticks": ""
            },
            "colorscale": [
             [
              0,
              "#0d0887"
             ],
             [
              0.1111111111111111,
              "#46039f"
             ],
             [
              0.2222222222222222,
              "#7201a8"
             ],
             [
              0.3333333333333333,
              "#9c179e"
             ],
             [
              0.4444444444444444,
              "#bd3786"
             ],
             [
              0.5555555555555556,
              "#d8576b"
             ],
             [
              0.6666666666666666,
              "#ed7953"
             ],
             [
              0.7777777777777778,
              "#fb9f3a"
             ],
             [
              0.8888888888888888,
              "#fdca26"
             ],
             [
              1,
              "#f0f921"
             ]
            ],
            "type": "contour"
           }
          ],
          "contourcarpet": [
           {
            "colorbar": {
             "outlinewidth": 0,
             "ticks": ""
            },
            "type": "contourcarpet"
           }
          ],
          "heatmap": [
           {
            "colorbar": {
             "outlinewidth": 0,
             "ticks": ""
            },
            "colorscale": [
             [
              0,
              "#0d0887"
             ],
             [
              0.1111111111111111,
              "#46039f"
             ],
             [
              0.2222222222222222,
              "#7201a8"
             ],
             [
              0.3333333333333333,
              "#9c179e"
             ],
             [
              0.4444444444444444,
              "#bd3786"
             ],
             [
              0.5555555555555556,
              "#d8576b"
             ],
             [
              0.6666666666666666,
              "#ed7953"
             ],
             [
              0.7777777777777778,
              "#fb9f3a"
             ],
             [
              0.8888888888888888,
              "#fdca26"
             ],
             [
              1,
              "#f0f921"
             ]
            ],
            "type": "heatmap"
           }
          ],
          "heatmapgl": [
           {
            "colorbar": {
             "outlinewidth": 0,
             "ticks": ""
            },
            "colorscale": [
             [
              0,
              "#0d0887"
             ],
             [
              0.1111111111111111,
              "#46039f"
             ],
             [
              0.2222222222222222,
              "#7201a8"
             ],
             [
              0.3333333333333333,
              "#9c179e"
             ],
             [
              0.4444444444444444,
              "#bd3786"
             ],
             [
              0.5555555555555556,
              "#d8576b"
             ],
             [
              0.6666666666666666,
              "#ed7953"
             ],
             [
              0.7777777777777778,
              "#fb9f3a"
             ],
             [
              0.8888888888888888,
              "#fdca26"
             ],
             [
              1,
              "#f0f921"
             ]
            ],
            "type": "heatmapgl"
           }
          ],
          "histogram": [
           {
            "marker": {
             "pattern": {
              "fillmode": "overlay",
              "size": 10,
              "solidity": 0.2
             }
            },
            "type": "histogram"
           }
          ],
          "histogram2d": [
           {
            "colorbar": {
             "outlinewidth": 0,
             "ticks": ""
            },
            "colorscale": [
             [
              0,
              "#0d0887"
             ],
             [
              0.1111111111111111,
              "#46039f"
             ],
             [
              0.2222222222222222,
              "#7201a8"
             ],
             [
              0.3333333333333333,
              "#9c179e"
             ],
             [
              0.4444444444444444,
              "#bd3786"
             ],
             [
              0.5555555555555556,
              "#d8576b"
             ],
             [
              0.6666666666666666,
              "#ed7953"
             ],
             [
              0.7777777777777778,
              "#fb9f3a"
             ],
             [
              0.8888888888888888,
              "#fdca26"
             ],
             [
              1,
              "#f0f921"
             ]
            ],
            "type": "histogram2d"
           }
          ],
          "histogram2dcontour": [
           {
            "colorbar": {
             "outlinewidth": 0,
             "ticks": ""
            },
            "colorscale": [
             [
              0,
              "#0d0887"
             ],
             [
              0.1111111111111111,
              "#46039f"
             ],
             [
              0.2222222222222222,
              "#7201a8"
             ],
             [
              0.3333333333333333,
              "#9c179e"
             ],
             [
              0.4444444444444444,
              "#bd3786"
             ],
             [
              0.5555555555555556,
              "#d8576b"
             ],
             [
              0.6666666666666666,
              "#ed7953"
             ],
             [
              0.7777777777777778,
              "#fb9f3a"
             ],
             [
              0.8888888888888888,
              "#fdca26"
             ],
             [
              1,
              "#f0f921"
             ]
            ],
            "type": "histogram2dcontour"
           }
          ],
          "mesh3d": [
           {
            "colorbar": {
             "outlinewidth": 0,
             "ticks": ""
            },
            "type": "mesh3d"
           }
          ],
          "parcoords": [
           {
            "line": {
             "colorbar": {
              "outlinewidth": 0,
              "ticks": ""
             }
            },
            "type": "parcoords"
           }
          ],
          "pie": [
           {
            "automargin": true,
            "type": "pie"
           }
          ],
          "scatter": [
           {
            "fillpattern": {
             "fillmode": "overlay",
             "size": 10,
             "solidity": 0.2
            },
            "type": "scatter"
           }
          ],
          "scatter3d": [
           {
            "line": {
             "colorbar": {
              "outlinewidth": 0,
              "ticks": ""
             }
            },
            "marker": {
             "colorbar": {
              "outlinewidth": 0,
              "ticks": ""
             }
            },
            "type": "scatter3d"
           }
          ],
          "scattercarpet": [
           {
            "marker": {
             "colorbar": {
              "outlinewidth": 0,
              "ticks": ""
             }
            },
            "type": "scattercarpet"
           }
          ],
          "scattergeo": [
           {
            "marker": {
             "colorbar": {
              "outlinewidth": 0,
              "ticks": ""
             }
            },
            "type": "scattergeo"
           }
          ],
          "scattergl": [
           {
            "marker": {
             "colorbar": {
              "outlinewidth": 0,
              "ticks": ""
             }
            },
            "type": "scattergl"
           }
          ],
          "scattermapbox": [
           {
            "marker": {
             "colorbar": {
              "outlinewidth": 0,
              "ticks": ""
             }
            },
            "type": "scattermapbox"
           }
          ],
          "scatterpolar": [
           {
            "marker": {
             "colorbar": {
              "outlinewidth": 0,
              "ticks": ""
             }
            },
            "type": "scatterpolar"
           }
          ],
          "scatterpolargl": [
           {
            "marker": {
             "colorbar": {
              "outlinewidth": 0,
              "ticks": ""
             }
            },
            "type": "scatterpolargl"
           }
          ],
          "scatterternary": [
           {
            "marker": {
             "colorbar": {
              "outlinewidth": 0,
              "ticks": ""
             }
            },
            "type": "scatterternary"
           }
          ],
          "surface": [
           {
            "colorbar": {
             "outlinewidth": 0,
             "ticks": ""
            },
            "colorscale": [
             [
              0,
              "#0d0887"
             ],
             [
              0.1111111111111111,
              "#46039f"
             ],
             [
              0.2222222222222222,
              "#7201a8"
             ],
             [
              0.3333333333333333,
              "#9c179e"
             ],
             [
              0.4444444444444444,
              "#bd3786"
             ],
             [
              0.5555555555555556,
              "#d8576b"
             ],
             [
              0.6666666666666666,
              "#ed7953"
             ],
             [
              0.7777777777777778,
              "#fb9f3a"
             ],
             [
              0.8888888888888888,
              "#fdca26"
             ],
             [
              1,
              "#f0f921"
             ]
            ],
            "type": "surface"
           }
          ],
          "table": [
           {
            "cells": {
             "fill": {
              "color": "#EBF0F8"
             },
             "line": {
              "color": "white"
             }
            },
            "header": {
             "fill": {
              "color": "#C8D4E3"
             },
             "line": {
              "color": "white"
             }
            },
            "type": "table"
           }
          ]
         },
         "layout": {
          "annotationdefaults": {
           "arrowcolor": "#2a3f5f",
           "arrowhead": 0,
           "arrowwidth": 1
          },
          "autotypenumbers": "strict",
          "coloraxis": {
           "colorbar": {
            "outlinewidth": 0,
            "ticks": ""
           }
          },
          "colorscale": {
           "diverging": [
            [
             0,
             "#8e0152"
            ],
            [
             0.1,
             "#c51b7d"
            ],
            [
             0.2,
             "#de77ae"
            ],
            [
             0.3,
             "#f1b6da"
            ],
            [
             0.4,
             "#fde0ef"
            ],
            [
             0.5,
             "#f7f7f7"
            ],
            [
             0.6,
             "#e6f5d0"
            ],
            [
             0.7,
             "#b8e186"
            ],
            [
             0.8,
             "#7fbc41"
            ],
            [
             0.9,
             "#4d9221"
            ],
            [
             1,
             "#276419"
            ]
           ],
           "sequential": [
            [
             0,
             "#0d0887"
            ],
            [
             0.1111111111111111,
             "#46039f"
            ],
            [
             0.2222222222222222,
             "#7201a8"
            ],
            [
             0.3333333333333333,
             "#9c179e"
            ],
            [
             0.4444444444444444,
             "#bd3786"
            ],
            [
             0.5555555555555556,
             "#d8576b"
            ],
            [
             0.6666666666666666,
             "#ed7953"
            ],
            [
             0.7777777777777778,
             "#fb9f3a"
            ],
            [
             0.8888888888888888,
             "#fdca26"
            ],
            [
             1,
             "#f0f921"
            ]
           ],
           "sequentialminus": [
            [
             0,
             "#0d0887"
            ],
            [
             0.1111111111111111,
             "#46039f"
            ],
            [
             0.2222222222222222,
             "#7201a8"
            ],
            [
             0.3333333333333333,
             "#9c179e"
            ],
            [
             0.4444444444444444,
             "#bd3786"
            ],
            [
             0.5555555555555556,
             "#d8576b"
            ],
            [
             0.6666666666666666,
             "#ed7953"
            ],
            [
             0.7777777777777778,
             "#fb9f3a"
            ],
            [
             0.8888888888888888,
             "#fdca26"
            ],
            [
             1,
             "#f0f921"
            ]
           ]
          },
          "colorway": [
           "#636efa",
           "#EF553B",
           "#00cc96",
           "#ab63fa",
           "#FFA15A",
           "#19d3f3",
           "#FF6692",
           "#B6E880",
           "#FF97FF",
           "#FECB52"
          ],
          "font": {
           "color": "#2a3f5f"
          },
          "geo": {
           "bgcolor": "white",
           "lakecolor": "white",
           "landcolor": "#E5ECF6",
           "showlakes": true,
           "showland": true,
           "subunitcolor": "white"
          },
          "hoverlabel": {
           "align": "left"
          },
          "hovermode": "closest",
          "mapbox": {
           "style": "light"
          },
          "paper_bgcolor": "white",
          "plot_bgcolor": "#E5ECF6",
          "polar": {
           "angularaxis": {
            "gridcolor": "white",
            "linecolor": "white",
            "ticks": ""
           },
           "bgcolor": "#E5ECF6",
           "radialaxis": {
            "gridcolor": "white",
            "linecolor": "white",
            "ticks": ""
           }
          },
          "scene": {
           "xaxis": {
            "backgroundcolor": "#E5ECF6",
            "gridcolor": "white",
            "gridwidth": 2,
            "linecolor": "white",
            "showbackground": true,
            "ticks": "",
            "zerolinecolor": "white"
           },
           "yaxis": {
            "backgroundcolor": "#E5ECF6",
            "gridcolor": "white",
            "gridwidth": 2,
            "linecolor": "white",
            "showbackground": true,
            "ticks": "",
            "zerolinecolor": "white"
           },
           "zaxis": {
            "backgroundcolor": "#E5ECF6",
            "gridcolor": "white",
            "gridwidth": 2,
            "linecolor": "white",
            "showbackground": true,
            "ticks": "",
            "zerolinecolor": "white"
           }
          },
          "shapedefaults": {
           "line": {
            "color": "#2a3f5f"
           }
          },
          "ternary": {
           "aaxis": {
            "gridcolor": "white",
            "linecolor": "white",
            "ticks": ""
           },
           "baxis": {
            "gridcolor": "white",
            "linecolor": "white",
            "ticks": ""
           },
           "bgcolor": "#E5ECF6",
           "caxis": {
            "gridcolor": "white",
            "linecolor": "white",
            "ticks": ""
           }
          },
          "title": {
           "x": 0.05
          },
          "xaxis": {
           "automargin": true,
           "gridcolor": "white",
           "linecolor": "white",
           "ticks": "",
           "title": {
            "standoff": 15
           },
           "zerolinecolor": "white",
           "zerolinewidth": 2
          },
          "yaxis": {
           "automargin": true,
           "gridcolor": "white",
           "linecolor": "white",
           "ticks": "",
           "title": {
            "standoff": 15
           },
           "zerolinecolor": "white",
           "zerolinewidth": 2
          }
         }
        },
        "title": {
         "text": "Training and Val MAE over Boosting Rounds for mr_number"
        },
        "xaxis": {
         "anchor": "y",
         "domain": [
          0,
          1
         ],
         "title": {
          "text": "Boosting Round"
         }
        },
        "yaxis": {
         "anchor": "x",
         "domain": [
          0,
          1
         ],
         "title": {
          "text": "Mean Absolute Error"
         }
        }
       }
      }
     },
     "metadata": {},
     "output_type": "display_data"
    },
    {
     "name": "stdout",
     "output_type": "stream",
     "text": [
      "Best Val MAE for mr_number: 0.19116729092533408\n",
      "Round: 99\n"
     ]
    }
   ],
   "source": [
    "# Iterate through each model in model.models\n",
    "for target, target_model in models.items():\n",
    "    print(f\"Processing target: {target}\")\n",
    "\n",
    "    # Predict\n",
    "    train_preds = target_model.predict(X_train.to_numpy())\n",
    "    val_preds = target_model.predict(X_val.to_numpy())\n",
    "\n",
    "    # Compute MAE values\n",
    "    train_mae = mean_absolute_error(y_train[target].to_numpy(), train_preds)\n",
    "    val_mae = mean_absolute_error(y_val[target].to_numpy(), val_preds)\n",
    "\n",
    "    # Log the best score to wandb\n",
    "    best_iteration = target_model.best_iteration\n",
    "    best_val_mae = target_model.evals_result()['validation_1']['mae'][best_iteration]\n",
    "    best_train_mae = target_model.evals_result()['validation_0']['mae'][best_iteration]\n",
    "\n",
    "    wandb.log({\n",
    "        f'{target}_best_val_mae': best_val_mae, \n",
    "        f'{target}_best_round': best_iteration, \n",
    "        f'{target}_best_train_mae': best_train_mae\n",
    "    })\n",
    "\n",
    "    # Convert evaluation results to a DataFrame\n",
    "    evals_result = target_model.evals_result()\n",
    "    rounds = range(1, len(evals_result['validation_0']['mae']) + 1)\n",
    "\n",
    "    # Create a DataFrame using polars\n",
    "    eval_df = pl.DataFrame({\n",
    "        'Round': rounds,\n",
    "        'Train MAE': evals_result['validation_0']['mae'],\n",
    "        'Val MAE': evals_result['validation_1']['mae']\n",
    "    })\n",
    "\n",
    "    # Log eval_df to wandb\n",
    "    wandb.log({f'{target}_eval_df': wandb.Table(data=eval_df.to_pandas())})\n",
    "\n",
    "    # Plot the results using Plotly\n",
    "    fig = px.line(\n",
    "        x=rounds, \n",
    "        y=[evals_result['validation_0']['mae'], evals_result['validation_1']['mae']],\n",
    "        labels={'x': 'Boosting Round', 'value': 'Mean Absolute Error'}, \n",
    "        title=f'Training and Val MAE over Boosting Rounds for {target}'\n",
    "    )\n",
    "    fig.update_layout(\n",
    "        legend=dict(\n",
    "            title='Legend',\n",
    "            itemsizing='constant'\n",
    "        ),\n",
    "        legend_title_text='Dataset'\n",
    "    )\n",
    "    fig.data[0].name = 'Train MAE'\n",
    "    fig.data[1].name = 'Val MAE'\n",
    "\n",
    "    # Log the plot to wandb\n",
    "    wandb.log({f\"{target}_MAE_Plot\": fig})\n",
    "\n",
    "    # Optionally, display the plot\n",
    "    fig.show()\n",
    "\n",
    "    print(f\"Best Val MAE for {target}: {best_val_mae}\")\n",
    "    print(f\"Round: {best_iteration}\")"
   ]
  },
  {
   "cell_type": "code",
   "execution_count": 25,
   "metadata": {},
   "outputs": [],
   "source": [
    "if wandb.config.run_shap:\n",
    "    # Create a SHAP explainer for the XGBoost model\n",
    "    explainer = shap.TreeExplainer(model.models['thp_vol'], X_val.to_pandas())\n",
    "\n",
    "    # Calculate SHAP values for the val set\n",
    "    explanation = explainer(X_val.to_pandas())\n",
    "\n",
    "    # Upload plots and SHAP values to wandb\n",
    "    wandb.log({\"SHAP Bar Plot\": shap.plots.bar(explanation, max_display=30)})\n",
    "    wandb.log({\"SHAP Summary Plot\": shap.summary_plot(explanation, X_val.to_pandas())})\n",
    "\n",
    "    # # Optional: Generate a dependence plot for a specific feature (replace 'feature_index' with the actual feature index)\n",
    "    # shap.dependence_plot(0, shap_values, X_val.to_pandas())\n",
    "\n",
    "    # # Optional: Generate a force plot for the first instance in the val set\n",
    "    # shap.force_plot(explainer.expected_value, shap_values[0, :], X_val.to_pandas()[0, :])"
   ]
  },
  {
   "cell_type": "code",
   "execution_count": 26,
   "metadata": {},
   "outputs": [
    {
     "data": {
      "application/vnd.jupyter.widget-view+json": {
       "model_id": "63a77fe208f440929af338490f5cca2c",
       "version_major": 2,
       "version_minor": 0
      },
      "text/plain": [
       "VBox(children=(Label(value='2.678 MB of 2.678 MB uploaded (0.060 MB deduped)\\r'), FloatProgress(value=1.0, max…"
      ]
     },
     "metadata": {},
     "output_type": "display_data"
    },
    {
     "data": {
      "text/html": [
       "W&B sync reduced upload amount by 1.8%"
      ],
      "text/plain": [
       "<IPython.core.display.HTML object>"
      ]
     },
     "metadata": {},
     "output_type": "display_data"
    },
    {
     "data": {
      "text/html": [
       "<style>\n",
       "    table.wandb td:nth-child(1) { padding: 0 10px; text-align: left ; width: auto;} td:nth-child(2) {text-align: left ; width: 100%}\n",
       "    .wandb-row { display: flex; flex-direction: row; flex-wrap: wrap; justify-content: flex-start; width: 100% }\n",
       "    .wandb-col { display: flex; flex-direction: column; flex-basis: 100%; flex: 1; padding: 10px; }\n",
       "    </style>\n",
       "<div class=\"wandb-row\"><div class=\"wandb-col\"><h3>Run history:</h3><br/><table class=\"wandb\"><tr><td>best_iteration</td><td>▁▁</td></tr><tr><td>best_score</td><td>█▁</td></tr><tr><td>epoch</td><td>▁▁▂▂▂▃▃▃▄▄▅▅▅▆▆▆▇▇▇█▁▁▂▂▂▃▃▄▄▄▅▅▅▆▆▆▇▇██</td></tr><tr><td>mr_number_best_round</td><td>▁</td></tr><tr><td>mr_number_best_train_mae</td><td>▁</td></tr><tr><td>mr_number_best_val_mae</td><td>▁</td></tr><tr><td>thp_vol_best_round</td><td>▁</td></tr><tr><td>thp_vol_best_train_mae</td><td>▁</td></tr><tr><td>thp_vol_best_val_mae</td><td>▁</td></tr><tr><td>validation_0-mae</td><td>▄▃▂▂▁▁▁▁▁▁▁▁▁▁▁▁▁▁▁▁█▄▃▂▁▁▁▁▁▁▁▁▁▁▁▁▁▁▁▁</td></tr><tr><td>validation_1-mae</td><td>▄▂▂▁▁▁▁▁▁▁▁▁▁▁▁▁▁▁▁▁█▄▃▂▁▁▁▁▁▁▁▁▁▁▁▁▁▁▁▁</td></tr></table><br/></div><div class=\"wandb-col\"><h3>Run summary:</h3><br/><table class=\"wandb\"><tr><td>best_iteration</td><td>99</td></tr><tr><td>best_score</td><td>0.19117</td></tr><tr><td>epoch</td><td>99</td></tr><tr><td>mr_number_best_round</td><td>99</td></tr><tr><td>mr_number_best_train_mae</td><td>0.19045</td></tr><tr><td>mr_number_best_val_mae</td><td>0.19117</td></tr><tr><td>thp_vol_best_round</td><td>99</td></tr><tr><td>thp_vol_best_train_mae</td><td>0.2017</td></tr><tr><td>thp_vol_best_val_mae</td><td>0.19476</td></tr></table><br/></div></div>"
      ],
      "text/plain": [
       "<IPython.core.display.HTML object>"
      ]
     },
     "metadata": {},
     "output_type": "display_data"
    },
    {
     "data": {
      "text/html": [
       " View run <strong style=\"color:#cdcd00\">sweet-breeze-68</strong> at: <a href='https://wandb.ai/esedx12/traffic-forecasting-challenge/runs/3e2axid7' target=\"_blank\">https://wandb.ai/esedx12/traffic-forecasting-challenge/runs/3e2axid7</a><br/> View project at: <a href='https://wandb.ai/esedx12/traffic-forecasting-challenge' target=\"_blank\">https://wandb.ai/esedx12/traffic-forecasting-challenge</a><br/>Synced 6 W&B file(s), 6 media file(s), 14 artifact file(s) and 2 other file(s)"
      ],
      "text/plain": [
       "<IPython.core.display.HTML object>"
      ]
     },
     "metadata": {},
     "output_type": "display_data"
    },
    {
     "data": {
      "text/html": [
       "Find logs at: <code>./wandb/run-20240929_094024-3e2axid7/logs</code>"
      ],
      "text/plain": [
       "<IPython.core.display.HTML object>"
      ]
     },
     "metadata": {},
     "output_type": "display_data"
    },
    {
     "data": {
      "text/html": [
       "The new W&B backend becomes opt-out in version 0.18.0; try it out with `wandb.require(\"core\")`! See https://wandb.me/wandb-core for more information."
      ],
      "text/plain": [
       "<IPython.core.display.HTML object>"
      ]
     },
     "metadata": {},
     "output_type": "display_data"
    }
   ],
   "source": [
    "wandb.finish()"
   ]
  },
  {
   "cell_type": "code",
   "execution_count": null,
   "metadata": {},
   "outputs": [],
   "source": []
  }
 ],
 "metadata": {
  "kernelspec": {
   "display_name": "ml",
   "language": "python",
   "name": "python3"
  },
  "language_info": {
   "codemirror_mode": {
    "name": "ipython",
    "version": 3
   },
   "file_extension": ".py",
   "mimetype": "text/x-python",
   "name": "python",
   "nbconvert_exporter": "python",
   "pygments_lexer": "ipython3",
   "version": "3.12.3"
  }
 },
 "nbformat": 4,
 "nbformat_minor": 2
}
