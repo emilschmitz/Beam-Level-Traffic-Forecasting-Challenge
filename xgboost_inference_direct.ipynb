{
 "cells": [
  {
   "cell_type": "markdown",
   "metadata": {},
   "source": [
    "# Inference"
   ]
  },
  {
   "cell_type": "code",
   "execution_count": 20,
   "metadata": {},
   "outputs": [],
   "source": [
    "from pathlib import Path\n",
    "import os\n",
    "os.environ[\"WANDB_NOTEBOOK_NAME\"] = \"xgboost_inference.ipynb\"  # Manually set the notebook name\n",
    "\n",
    "import polars as pl\n",
    "import xgboost as xgb\n",
    "import wandb\n",
    "from tqdm.notebook import tqdm\n",
    "import pickle\n",
    "\n",
    "import utils"
   ]
  },
  {
   "cell_type": "code",
   "execution_count": 21,
   "metadata": {},
   "outputs": [],
   "source": [
    "DEBUG = True"
   ]
  },
  {
   "cell_type": "code",
   "execution_count": 22,
   "metadata": {},
   "outputs": [],
   "source": [
    "# Choose training run from which to load the model, etc.\n",
    "train_run_name = 'prime-wind-87'\n",
    "run_path = f'esedx12/traffic-forecasting-challenge/{train_run_name}'\n",
    "api = wandb.Api()\n",
    "train_run = api.runs(\n",
    "    path=\"esedx12/traffic-forecasting-challenge\",\n",
    "    filters={\"display_name\": {\"$eq\": train_run_name}} \n",
    ")[0]\n",
    "train_config = train_run.config"
   ]
  },
  {
   "cell_type": "code",
   "execution_count": 23,
   "metadata": {},
   "outputs": [],
   "source": [
    "inference_config = {\n",
    "    # 'prediction_start': train_config['train_shape'][0] + 1,\n",
    "    'prediction_length': 1900 - train_config['num_train_rows'] if not DEBUG else 5,\n",
    "}"
   ]
  },
  {
   "cell_type": "code",
   "execution_count": 24,
   "metadata": {},
   "outputs": [
    {
     "data": {
      "text/html": [
       "Finishing last run (ID:2ypkf3p5) before initializing another..."
      ],
      "text/plain": [
       "<IPython.core.display.HTML object>"
      ]
     },
     "metadata": {},
     "output_type": "display_data"
    },
    {
     "data": {
      "application/vnd.jupyter.widget-view+json": {
       "model_id": "1f1f34d114c34a2bb834b04e34761d43",
       "version_major": 2,
       "version_minor": 0
      },
      "text/plain": [
       "VBox(children=(Label(value='0.000 MB of 0.000 MB uploaded\\r'), FloatProgress(value=1.0, max=1.0)))"
      ]
     },
     "metadata": {},
     "output_type": "display_data"
    },
    {
     "data": {
      "text/html": [
       "You can sync this run to the cloud by running:<br/><code>wandb sync /home/emil/Desktop/Beam-Level Traffic Forecasting Challenge/wandb/offline-run-20241003_151033-2ypkf3p5<code>"
      ],
      "text/plain": [
       "<IPython.core.display.HTML object>"
      ]
     },
     "metadata": {},
     "output_type": "display_data"
    },
    {
     "data": {
      "text/html": [
       "Find logs at: <code>./wandb/offline-run-20241003_151033-2ypkf3p5/logs</code>"
      ],
      "text/plain": [
       "<IPython.core.display.HTML object>"
      ]
     },
     "metadata": {},
     "output_type": "display_data"
    },
    {
     "data": {
      "text/html": [
       "The new W&B backend becomes opt-out in version 0.18.0; try it out with `wandb.require(\"core\")`! See https://wandb.me/wandb-core for more information."
      ],
      "text/plain": [
       "<IPython.core.display.HTML object>"
      ]
     },
     "metadata": {},
     "output_type": "display_data"
    },
    {
     "data": {
      "text/html": [
       "Successfully finished last run (ID:2ypkf3p5). Initializing new run:<br/>"
      ],
      "text/plain": [
       "<IPython.core.display.HTML object>"
      ]
     },
     "metadata": {},
     "output_type": "display_data"
    },
    {
     "data": {
      "text/html": [
       "Tracking run with wandb version 0.17.9"
      ],
      "text/plain": [
       "<IPython.core.display.HTML object>"
      ]
     },
     "metadata": {},
     "output_type": "display_data"
    },
    {
     "data": {
      "text/html": [
       "W&B syncing is set to <code>`offline`<code> in this directory.  <br/>Run <code>`wandb online`<code> or set <code>WANDB_MODE=online<code> to enable cloud syncing."
      ],
      "text/plain": [
       "<IPython.core.display.HTML object>"
      ]
     },
     "metadata": {},
     "output_type": "display_data"
    }
   ],
   "source": [
    "run = wandb.init(project=\"traffic-forecasting-challenge\", tags=[train_run_name], job_type='inference',\n",
    "                 entity=\"esedx12\", config=inference_config, save_code=True, mode=('dryrun' if DEBUG else 'online'))"
   ]
  },
  {
   "cell_type": "code",
   "execution_count": 25,
   "metadata": {},
   "outputs": [],
   "source": [
    "checkpoints_dir = 'checkpoints'\n",
    "xgboost_models_dir = Path(checkpoints_dir) / train_run_name\n",
    "\n",
    "models = {}\n",
    "for file_name in os.listdir(xgboost_models_dir):\n",
    "    if file_name.endswith('.ubj'):\n",
    "        target_name = file_name[:-4]\n",
    "        model_path = xgboost_models_dir / file_name\n",
    "        models[target_name] = pickle.load(open(model_path, 'rb'))"
   ]
  },
  {
   "cell_type": "markdown",
   "metadata": {},
   "source": [
    "## Load and prepare data"
   ]
  },
  {
   "cell_type": "code",
   "execution_count": 26,
   "metadata": {},
   "outputs": [],
   "source": [
    "# %%\n",
    "# Read the CSV files\n",
    "data_dir = Path('input-data')\n",
    "target_dataframes = {\n",
    "    'thp_vol': pl.read_csv(data_dir / 'traffic_DLThpVol.csv'),  # This is the target variable\n",
    "    'prb': pl.read_csv(data_dir / 'traffic_DLPRB.csv'),\n",
    "    'thp_time': pl.read_csv(data_dir / 'traffic_DLThpTime.csv'),\n",
    "    'mr_number': pl.read_csv(data_dir / 'traffic_MR_number.csv')\n",
    "}\n",
    "\n",
    "# Filter target dataframes based on train_config\n",
    "target_dataframes = {k: v for k, v in target_dataframes.items() if k in train_config['target_df_names']}\n",
    "\n",
    "idx_hour_series = target_dataframes['thp_vol']['']\n",
    "\n",
    "# Drop the first column (idx hour) from each dataframe\n",
    "for k in target_dataframes:\n",
    "    target_dataframes[k] = target_dataframes[k].rename({'': 'idx_hour'})\n",
    "\n",
    "# A long format beam_id column to be used for converting to wide format\n",
    "beam_id_col = utils.convert_to_long_format({'beam_id': pl.DataFrame({beam_id: [beam_id] * len(target_dataframes['thp_vol']) for beam_id in target_dataframes['thp_vol'].columns})})"
   ]
  },
  {
   "cell_type": "code",
   "execution_count": 51,
   "metadata": {},
   "outputs": [],
   "source": [
    "num_rows = len(target_dataframes['thp_vol'])\n",
    "num_train_rows = round(num_rows * train_config['train_percentage'])\n",
    "# num_val_rows = round(num_rows * train_config['val_percentage'])\n",
    "\n",
    "# Split data into train and test\n",
    "input_dataframes = {k: v.drop('idx_hour').head(num_train_rows) for k, v in target_dataframes.items()}\n",
    "input_idx_hour_series = idx_hour_series.head(num_train_rows)\n",
    "\n",
    "comparison_dataframes = {k: v.slice(num_train_rows, inference_config['prediction_length']) for k, v in target_dataframes.items()}\n",
    "# TODO add different df sets form idx of validation and holdout test"
   ]
  },
  {
   "cell_type": "markdown",
   "metadata": {},
   "source": [
    "## Multi-Step Inference"
   ]
  },
  {
   "cell_type": "code",
   "execution_count": 52,
   "metadata": {},
   "outputs": [],
   "source": [
    "def predict_one_step(target_dataframes: dict[pl.DataFrame], idx_hour_series: pl.Series ,models: xgb.Booster, train_config: wandb.Config) -> dict[pl.DataFrame]:\n",
    "    \"\"\"\n",
    "    Predict one step into the future using a trained model.\n",
    "    Takes DataFrames of len n, returns DataFrames of len n + 1.\n",
    "    \"\"\"\n",
    "    template_df = target_dataframes['thp_vol']\n",
    "    predict_hour = idx_hour_series[-1] + 1\n",
    "\n",
    "    null_row = pl.DataFrame({beam_id: [None] for beam_id in template_df.columns})\n",
    "    target_dataframes = {k: pl.concat([v, null_row], how='vertical_relaxed') for k, v in target_dataframes.items()}\n",
    "\n",
    "    target_names = list(target_dataframes.keys())\n",
    "    feature_dfs = utils.create_all_feature_dfs(target_dataframes, idx_hour_series, train_config)\n",
    "    feature_dfs = {k: v.tail(1) for k, v in feature_dfs.items()}  # maybe turn in to lazyframe for efficiency?\n",
    "    X_predict = utils.convert_to_long_format(feature_dfs)\n",
    "\n",
    "    # We predict only the idx immediately folling the last idx in the input, ie a single row\n",
    "    ys_predicted_long = pl.DataFrame()\n",
    "    for target_name, model in models.items():\n",
    "        y_predicted = model.predict(X_predict.to_numpy())\n",
    "        ys_predicted_long = pl.concat([ys_predicted_long, pl.DataFrame({target_name: y_predicted})], how='horizontal')\n",
    "\n",
    "    # We need these long-format columns to convert the predictions to wide format\n",
    "    util_dfs = {}\n",
    "    util_dfs['beam_id'] = pl.DataFrame({beam_id: [beam_id] for beam_id in template_df.columns})\n",
    "    util_dfs['idx_hour'] = pl.DataFrame({beam_id: [predict_hour] for beam_id in template_df.columns})\n",
    "    util_long_df = utils.convert_to_long_format(util_dfs)\n",
    "    ys_predicted_long = pl.concat([util_long_df, ys_predicted_long], how='horizontal')\n",
    "\n",
    "    y_predicted_wide = utils.convert_to_wide_format(ys_predicted_long, output_df_names=target_names)    \n",
    "\n",
    "    return (\n",
    "        {target_name: pl.concat([target_dataframes[target_name].head(-1), y_predicted_wide[target_name]], how='vertical_relaxed') for target_name in target_names},\n",
    "        idx_hour_series.append(pl.Series([predict_hour]))\n",
    "        )"
   ]
  },
  {
   "cell_type": "code",
   "execution_count": 53,
   "metadata": {},
   "outputs": [],
   "source": [
    "def predict_multi_step(target_dataframes: dict[pl.DataFrame], idx_hour_series: pl.Series, models: xgb.Booster, train_config: wandb.Config, num_steps: int, max_lag=None) -> dict[pl.DataFrame]:\n",
    "    \"\"\"\n",
    "    Predict multiple steps into the future using a trained model.\n",
    "    Takes DataFrames of len n, returns DataFrames of len n + num_steps.\n",
    "    \n",
    "    Args:\n",
    "        target_dataframes (dict): A dictionary of DataFrames representing the target data.\n",
    "        idx_hour_series (Series): Index hours CORRESPONDING to target_dataframes.\n",
    "\n",
    "    Returns:\n",
    "        dict: A dictionary of DataFrames representing the predicted target dataframes.\n",
    "    \"\"\"\n",
    "    if max_lag:\n",
    "        target_dataframes = {k: v.tail(max_lag + 5) for k, v in target_dataframes.items()}\n",
    "        idx_hour_series = idx_hour_series.tail(max_lag + 5)\n",
    "\n",
    "    for _ in tqdm(range(num_steps), desc='Predicting steps...'):\n",
    "        target_dataframes, idx_hour_series = predict_one_step(target_dataframes, idx_hour_series, models, train_config)\n",
    "\n",
    "    return {k: pl.concat([pl.DataFrame({'idx_hour': idx_hour_series}), v], how='horizontal') for k, v in target_dataframes.items()}"
   ]
  },
  {
   "cell_type": "code",
   "execution_count": 54,
   "metadata": {},
   "outputs": [
    {
     "data": {
      "application/vnd.jupyter.widget-view+json": {
       "model_id": "60b447074df24ae8ad2ca5c25245881b",
       "version_major": 2,
       "version_minor": 0
      },
      "text/plain": [
       "Predicting steps...:   0%|          | 0/10 [00:00<?, ?it/s]"
      ]
     },
     "metadata": {},
     "output_type": "display_data"
    }
   ],
   "source": [
    "ys_pred = predict_multi_step(input_dataframes, input_idx_hour_series, models, train_config=train_config, num_steps=inference_config['prediction_length'])"
   ]
  },
  {
   "cell_type": "code",
   "execution_count": 55,
   "metadata": {},
   "outputs": [],
   "source": [
    "def mean_absolute_error(Y_true: pl.DataFrame, Y_pred: pl.DataFrame) -> float:\n",
    "    \"\"\"\n",
    "    Compute the mean absolute error between two DataFrames.\n",
    "    \"\"\"\n",
    "    # TODO some kind of check here even though idx_hour is no longer normally part of dfs\n",
    "    assert (Y_true['idx_hour'] == Y_pred['idx_hour']).all(), \"DataFrames must be aligned\"\n",
    "    # assert Y_true.shape == Y_pred.shape, \"DataFrames must have the same shape\"\n",
    "\n",
    "    return (Y_true - Y_pred).select(pl.all().abs().mean()).mean_horizontal()[0]"
   ]
  },
  {
   "cell_type": "code",
   "execution_count": 56,
   "metadata": {},
   "outputs": [
    {
     "data": {
      "text/html": [
       "<div><style>\n",
       ".dataframe > thead > tr,\n",
       ".dataframe > tbody > tr {\n",
       "  text-align: right;\n",
       "  white-space: pre-wrap;\n",
       "}\n",
       "</style>\n",
       "<small>shape: (11, 2_881)</small><table border=\"1\" class=\"dataframe\"><thead><tr><th>idx_hour</th><th>0_0_0</th><th>0_0_1</th><th>0_0_2</th><th>0_0_3</th><th>0_0_4</th><th>0_0_5</th><th>0_0_6</th><th>0_0_7</th><th>0_0_8</th><th>0_0_9</th><th>0_0_10</th><th>0_0_11</th><th>0_0_12</th><th>0_0_13</th><th>0_0_14</th><th>0_0_15</th><th>0_0_16</th><th>0_0_17</th><th>0_0_18</th><th>0_0_19</th><th>0_0_20</th><th>0_0_21</th><th>0_0_22</th><th>0_0_23</th><th>0_0_24</th><th>0_0_25</th><th>0_0_26</th><th>0_0_27</th><th>0_0_28</th><th>0_0_29</th><th>0_0_30</th><th>0_0_31</th><th>0_1_0</th><th>0_1_1</th><th>0_1_2</th><th>0_1_3</th><th>&hellip;</th><th>29_1_27</th><th>29_1_28</th><th>29_1_29</th><th>29_1_30</th><th>29_1_31</th><th>29_2_0</th><th>29_2_1</th><th>29_2_2</th><th>29_2_3</th><th>29_2_4</th><th>29_2_5</th><th>29_2_6</th><th>29_2_7</th><th>29_2_8</th><th>29_2_9</th><th>29_2_10</th><th>29_2_11</th><th>29_2_12</th><th>29_2_13</th><th>29_2_14</th><th>29_2_15</th><th>29_2_16</th><th>29_2_17</th><th>29_2_18</th><th>29_2_19</th><th>29_2_20</th><th>29_2_21</th><th>29_2_22</th><th>29_2_23</th><th>29_2_24</th><th>29_2_25</th><th>29_2_26</th><th>29_2_27</th><th>29_2_28</th><th>29_2_29</th><th>29_2_30</th><th>29_2_31</th></tr><tr><td>i64</td><td>f64</td><td>f64</td><td>f64</td><td>f64</td><td>f64</td><td>f64</td><td>f64</td><td>f64</td><td>f64</td><td>f64</td><td>f64</td><td>f64</td><td>f64</td><td>f64</td><td>f64</td><td>f64</td><td>f64</td><td>f64</td><td>f64</td><td>f64</td><td>f64</td><td>f64</td><td>f64</td><td>f64</td><td>f64</td><td>f64</td><td>f64</td><td>f64</td><td>f64</td><td>f64</td><td>f64</td><td>f64</td><td>f64</td><td>f64</td><td>f64</td><td>f64</td><td>&hellip;</td><td>f64</td><td>f64</td><td>f64</td><td>f64</td><td>f64</td><td>f64</td><td>f64</td><td>f64</td><td>f64</td><td>f64</td><td>f64</td><td>f64</td><td>f64</td><td>f64</td><td>f64</td><td>f64</td><td>f64</td><td>f64</td><td>f64</td><td>f64</td><td>f64</td><td>f64</td><td>f64</td><td>f64</td><td>f64</td><td>f64</td><td>f64</td><td>f64</td><td>f64</td><td>f64</td><td>f64</td><td>f64</td><td>f64</td><td>f64</td><td>f64</td><td>f64</td><td>f64</td></tr></thead><tbody><tr><td>503</td><td>0.342484</td><td>0.17033</td><td>0.21847</td><td>0.0</td><td>0.321722</td><td>0.166766</td><td>0.0</td><td>0.0</td><td>1.003408</td><td>0.0</td><td>0.204035</td><td>0.981364</td><td>0.132587</td><td>0.0</td><td>0.0</td><td>0.162998</td><td>0.066661</td><td>0.078624</td><td>0.55093</td><td>0.300764</td><td>0.101321</td><td>0.07419</td><td>0.195417</td><td>0.12561</td><td>0.0</td><td>0.133651</td><td>0.186158</td><td>0.000732</td><td>0.236092</td><td>0.0</td><td>0.19081</td><td>0.0</td><td>0.0</td><td>0.0</td><td>0.002198</td><td>0.0</td><td>&hellip;</td><td>0.203027</td><td>1.473573</td><td>0.689921</td><td>0.127269</td><td>0.0</td><td>0.0</td><td>0.074132</td><td>0.0</td><td>0.003583</td><td>0.0</td><td>0.191806</td><td>0.144702</td><td>0.078267</td><td>0.0</td><td>0.146916</td><td>0.0</td><td>0.0</td><td>0.0</td><td>1.344579</td><td>0.269339</td><td>0.0875</td><td>0.018413</td><td>0.095665</td><td>0.0</td><td>0.0</td><td>0.0</td><td>0.0</td><td>0.0</td><td>0.0</td><td>0.0</td><td>0.128113</td><td>0.0</td><td>0.081418</td><td>0.0</td><td>0.156009</td><td>0.0</td><td>0.00809</td></tr><tr><td>504</td><td>0.431801</td><td>0.144597</td><td>0.126805</td><td>0.09827</td><td>0.477011</td><td>0.445733</td><td>0.112457</td><td>0.102793</td><td>0.667032</td><td>0.160219</td><td>0.202257</td><td>0.398203</td><td>0.353289</td><td>0.22105</td><td>0.150519</td><td>0.144597</td><td>0.111847</td><td>0.276468</td><td>0.60596</td><td>0.220566</td><td>0.17084</td><td>0.155375</td><td>0.154788</td><td>0.225817</td><td>0.156116</td><td>0.130746</td><td>0.202349</td><td>0.195328</td><td>0.122004</td><td>0.174934</td><td>0.104827</td><td>0.098666</td><td>0.101186</td><td>0.230874</td><td>0.164885</td><td>0.1156</td><td>&hellip;</td><td>0.211631</td><td>0.958214</td><td>0.534678</td><td>0.236536</td><td>0.104158</td><td>0.117715</td><td>0.150519</td><td>0.136829</td><td>0.097634</td><td>0.097634</td><td>0.163796</td><td>0.262018</td><td>0.21509</td><td>0.097634</td><td>0.313692</td><td>0.162413</td><td>0.130746</td><td>0.134151</td><td>0.504932</td><td>0.144472</td><td>0.142101</td><td>0.097634</td><td>0.097634</td><td>0.1156</td><td>0.228833</td><td>0.097634</td><td>0.099904</td><td>0.111964</td><td>0.097634</td><td>0.207696</td><td>0.105032</td><td>0.101005</td><td>0.097634</td><td>0.097634</td><td>0.106472</td><td>0.1379</td><td>0.106472</td></tr><tr><td>505</td><td>0.285405</td><td>0.117619</td><td>0.106743</td><td>0.09675</td><td>0.385073</td><td>0.268494</td><td>0.100035</td><td>0.098191</td><td>0.527826</td><td>0.131386</td><td>0.157878</td><td>0.199236</td><td>0.253426</td><td>0.156706</td><td>0.120937</td><td>0.117619</td><td>0.098195</td><td>0.216932</td><td>0.527099</td><td>0.180957</td><td>0.142642</td><td>0.1215</td><td>0.1215</td><td>0.16468</td><td>0.102616</td><td>0.112139</td><td>0.136031</td><td>0.119249</td><td>0.100668</td><td>0.124636</td><td>0.097547</td><td>0.09675</td><td>0.09675</td><td>0.205148</td><td>0.123926</td><td>0.102616</td><td>&hellip;</td><td>0.192335</td><td>0.635448</td><td>0.367571</td><td>0.158032</td><td>0.097989</td><td>0.101572</td><td>0.122175</td><td>0.114206</td><td>0.09675</td><td>0.09675</td><td>0.121343</td><td>0.184391</td><td>0.131029</td><td>0.09675</td><td>0.215374</td><td>0.131265</td><td>0.110901</td><td>0.110901</td><td>0.283154</td><td>0.118612</td><td>0.110901</td><td>0.09675</td><td>0.101186</td><td>0.102616</td><td>0.143473</td><td>0.09675</td><td>0.105911</td><td>0.100019</td><td>0.09675</td><td>0.127461</td><td>0.097547</td><td>0.10081</td><td>0.097782</td><td>0.09675</td><td>0.098987</td><td>0.114878</td><td>0.098987</td></tr><tr><td>506</td><td>0.255296</td><td>0.117868</td><td>0.106107</td><td>0.09675</td><td>0.418617</td><td>0.271414</td><td>0.100035</td><td>0.09675</td><td>0.392848</td><td>0.127516</td><td>0.128877</td><td>0.152732</td><td>0.226745</td><td>0.144703</td><td>0.120937</td><td>0.113648</td><td>0.09675</td><td>0.138903</td><td>0.753619</td><td>0.151232</td><td>0.13054</td><td>0.1215</td><td>0.1215</td><td>0.124786</td><td>0.105354</td><td>0.108168</td><td>0.123468</td><td>0.111474</td><td>0.105354</td><td>0.153874</td><td>0.097547</td><td>0.09675</td><td>0.09675</td><td>0.200592</td><td>0.126393</td><td>0.11266</td><td>&hellip;</td><td>0.179396</td><td>0.481833</td><td>0.26873</td><td>0.114085</td><td>0.09675</td><td>0.098987</td><td>0.122175</td><td>0.111474</td><td>0.09675</td><td>0.099489</td><td>0.108168</td><td>0.133287</td><td>0.116251</td><td>0.097989</td><td>0.241005</td><td>0.126676</td><td>0.10693</td><td>0.108168</td><td>0.183876</td><td>0.110235</td><td>0.10693</td><td>0.09675</td><td>0.09675</td><td>0.106032</td><td>0.159375</td><td>0.09675</td><td>0.103647</td><td>0.100226</td><td>0.09675</td><td>0.104977</td><td>0.100131</td><td>0.09675</td><td>0.099489</td><td>0.097989</td><td>0.098987</td><td>0.108168</td><td>0.101642</td></tr><tr><td>507</td><td>0.180511</td><td>0.114887</td><td>0.107982</td><td>0.09675</td><td>0.455054</td><td>0.525483</td><td>0.100684</td><td>0.100603</td><td>0.295442</td><td>0.12535</td><td>0.172612</td><td>0.127668</td><td>0.219926</td><td>0.141865</td><td>0.122175</td><td>0.114887</td><td>0.098625</td><td>0.182388</td><td>0.633682</td><td>0.175223</td><td>0.122175</td><td>0.122739</td><td>0.126475</td><td>0.193516</td><td>0.103854</td><td>0.108168</td><td>0.123337</td><td>0.111474</td><td>0.103854</td><td>0.15166</td><td>0.098183</td><td>0.099489</td><td>0.09675</td><td>0.18907</td><td>0.11929</td><td>0.137654</td><td>&hellip;</td><td>0.240767</td><td>0.398367</td><td>0.337502</td><td>0.114085</td><td>0.09675</td><td>0.101211</td><td>0.124409</td><td>0.111474</td><td>0.09675</td><td>0.100188</td><td>0.108168</td><td>0.130601</td><td>0.114085</td><td>0.099489</td><td>0.282774</td><td>0.122739</td><td>0.108168</td><td>0.114494</td><td>0.163784</td><td>0.111474</td><td>0.108168</td><td>0.09675</td><td>0.09675</td><td>0.106032</td><td>0.130792</td><td>0.09675</td><td>0.097989</td><td>0.100226</td><td>0.09675</td><td>0.110153</td><td>0.116398</td><td>0.097989</td><td>0.09675</td><td>0.09675</td><td>0.098987</td><td>0.110907</td><td>0.100925</td></tr><tr><td>&hellip;</td><td>&hellip;</td><td>&hellip;</td><td>&hellip;</td><td>&hellip;</td><td>&hellip;</td><td>&hellip;</td><td>&hellip;</td><td>&hellip;</td><td>&hellip;</td><td>&hellip;</td><td>&hellip;</td><td>&hellip;</td><td>&hellip;</td><td>&hellip;</td><td>&hellip;</td><td>&hellip;</td><td>&hellip;</td><td>&hellip;</td><td>&hellip;</td><td>&hellip;</td><td>&hellip;</td><td>&hellip;</td><td>&hellip;</td><td>&hellip;</td><td>&hellip;</td><td>&hellip;</td><td>&hellip;</td><td>&hellip;</td><td>&hellip;</td><td>&hellip;</td><td>&hellip;</td><td>&hellip;</td><td>&hellip;</td><td>&hellip;</td><td>&hellip;</td><td>&hellip;</td><td>&hellip;</td><td>&hellip;</td><td>&hellip;</td><td>&hellip;</td><td>&hellip;</td><td>&hellip;</td><td>&hellip;</td><td>&hellip;</td><td>&hellip;</td><td>&hellip;</td><td>&hellip;</td><td>&hellip;</td><td>&hellip;</td><td>&hellip;</td><td>&hellip;</td><td>&hellip;</td><td>&hellip;</td><td>&hellip;</td><td>&hellip;</td><td>&hellip;</td><td>&hellip;</td><td>&hellip;</td><td>&hellip;</td><td>&hellip;</td><td>&hellip;</td><td>&hellip;</td><td>&hellip;</td><td>&hellip;</td><td>&hellip;</td><td>&hellip;</td><td>&hellip;</td><td>&hellip;</td><td>&hellip;</td><td>&hellip;</td><td>&hellip;</td><td>&hellip;</td><td>&hellip;</td><td>&hellip;</td></tr><tr><td>509</td><td>0.137196</td><td>0.114887</td><td>0.10883</td><td>0.09675</td><td>0.826051</td><td>0.441458</td><td>0.101274</td><td>0.097387</td><td>0.265679</td><td>0.132303</td><td>0.221306</td><td>0.121503</td><td>0.220666</td><td>0.137953</td><td>0.122175</td><td>0.123048</td><td>0.098195</td><td>0.137433</td><td>0.482534</td><td>0.196176</td><td>0.122739</td><td>0.128654</td><td>0.136936</td><td>0.24584</td><td>0.103854</td><td>0.108168</td><td>0.119987</td><td>0.111474</td><td>0.1017</td><td>0.134533</td><td>0.097547</td><td>0.09675</td><td>0.09675</td><td>0.189227</td><td>0.142305</td><td>0.13661</td><td>&hellip;</td><td>0.130037</td><td>0.436334</td><td>0.186077</td><td>0.122985</td><td>0.09675</td><td>0.100226</td><td>0.122175</td><td>0.111474</td><td>0.09675</td><td>0.09675</td><td>0.108168</td><td>0.131388</td><td>0.12544</td><td>0.09675</td><td>0.189991</td><td>0.122739</td><td>0.108168</td><td>0.110907</td><td>0.124786</td><td>0.111474</td><td>0.108168</td><td>0.09675</td><td>0.09675</td><td>0.106032</td><td>0.130131</td><td>0.09675</td><td>0.097989</td><td>0.100226</td><td>0.097449</td><td>0.106215</td><td>0.10137</td><td>0.09675</td><td>0.09675</td><td>0.09675</td><td>0.101726</td><td>0.108168</td><td>0.104661</td></tr><tr><td>510</td><td>0.133431</td><td>0.122843</td><td>0.108347</td><td>0.09675</td><td>0.834369</td><td>0.286684</td><td>0.10594</td><td>0.097782</td><td>0.271414</td><td>0.189243</td><td>0.216313</td><td>0.125026</td><td>0.370032</td><td>0.204663</td><td>0.173593</td><td>0.187552</td><td>0.098195</td><td>0.279057</td><td>0.361392</td><td>0.150618</td><td>0.13054</td><td>0.159512</td><td>0.253944</td><td>0.290509</td><td>0.103854</td><td>0.121574</td><td>0.162499</td><td>0.111474</td><td>0.162641</td><td>0.126688</td><td>0.097547</td><td>0.09675</td><td>0.09675</td><td>0.237063</td><td>0.143172</td><td>0.104942</td><td>&hellip;</td><td>0.14237</td><td>0.440314</td><td>0.143389</td><td>0.111474</td><td>0.09675</td><td>0.101895</td><td>0.158948</td><td>0.111474</td><td>0.09675</td><td>0.09675</td><td>0.112106</td><td>0.366592</td><td>0.125534</td><td>0.097782</td><td>0.351812</td><td>0.149215</td><td>0.114205</td><td>0.108168</td><td>0.172166</td><td>0.117562</td><td>0.115805</td><td>0.09675</td><td>0.097387</td><td>0.106669</td><td>0.135581</td><td>0.09675</td><td>0.09675</td><td>0.100226</td><td>0.101186</td><td>0.218074</td><td>0.102068</td><td>0.096957</td><td>0.09675</td><td>0.09675</td><td>0.098987</td><td>0.108168</td><td>0.108148</td></tr><tr><td>511</td><td>0.296281</td><td>0.166898</td><td>0.116655</td><td>0.100942</td><td>1.025458</td><td>0.309343</td><td>0.126335</td><td>0.100942</td><td>0.42463</td><td>0.267416</td><td>0.187796</td><td>0.145368</td><td>0.38005</td><td>0.334134</td><td>0.595489</td><td>0.247853</td><td>0.110795</td><td>0.462407</td><td>0.64951</td><td>0.37155</td><td>0.724168</td><td>0.709376</td><td>0.502902</td><td>0.286322</td><td>0.112268</td><td>0.125461</td><td>0.358006</td><td>0.141934</td><td>0.119472</td><td>0.141989</td><td>0.103241</td><td>0.100942</td><td>0.100942</td><td>0.183699</td><td>0.134972</td><td>0.107639</td><td>&hellip;</td><td>0.166531</td><td>0.383427</td><td>0.245553</td><td>0.136896</td><td>0.100942</td><td>0.109226</td><td>0.341871</td><td>0.15335</td><td>0.100942</td><td>0.100942</td><td>0.126153</td><td>0.28516</td><td>0.161022</td><td>0.102181</td><td>0.706467</td><td>0.389007</td><td>0.131936</td><td>0.15141</td><td>0.188654</td><td>0.159685</td><td>0.141715</td><td>0.100942</td><td>0.100942</td><td>0.125662</td><td>0.173479</td><td>0.100942</td><td>0.102651</td><td>0.107212</td><td>0.100942</td><td>0.125491</td><td>0.11314</td><td>0.103868</td><td>0.100942</td><td>0.109737</td><td>0.104681</td><td>0.125461</td><td>0.112167</td></tr><tr><td>512</td><td>0.38991</td><td>0.561767</td><td>0.138311</td><td>0.103117</td><td>0.834946</td><td>0.366681</td><td>0.137325</td><td>0.101826</td><td>0.548946</td><td>1.451273</td><td>0.398294</td><td>0.182332</td><td>0.357878</td><td>0.353254</td><td>0.436824</td><td>0.263285</td><td>0.11893</td><td>0.772944</td><td>0.889756</td><td>0.356399</td><td>0.543026</td><td>0.651263</td><td>0.593158</td><td>0.450362</td><td>0.126889</td><td>0.158606</td><td>0.215681</td><td>0.157473</td><td>0.119096</td><td>0.16225</td><td>0.110841</td><td>0.102462</td><td>0.106685</td><td>0.190096</td><td>0.147521</td><td>0.114888</td><td>&hellip;</td><td>0.266183</td><td>0.407418</td><td>0.262767</td><td>0.158765</td><td>0.101826</td><td>0.116388</td><td>0.322659</td><td>0.173077</td><td>0.101826</td><td>0.106663</td><td>0.162814</td><td>0.346573</td><td>0.180093</td><td>0.122348</td><td>0.878663</td><td>0.411464</td><td>0.161097</td><td>0.196325</td><td>0.209403</td><td>0.174103</td><td>0.170256</td><td>0.103117</td><td>0.101826</td><td>0.139831</td><td>0.243756</td><td>0.101826</td><td>0.107938</td><td>0.112688</td><td>0.101826</td><td>0.142111</td><td>0.113379</td><td>0.106435</td><td>0.101826</td><td>0.101859</td><td>0.10873</td><td>0.158606</td><td>0.109968</td></tr><tr><td>513</td><td>0.434551</td><td>0.554393</td><td>0.150081</td><td>0.101826</td><td>0.860422</td><td>0.375072</td><td>0.151174</td><td>0.101826</td><td>0.681018</td><td>1.856116</td><td>0.364488</td><td>0.199519</td><td>0.41588</td><td>0.419809</td><td>0.447161</td><td>0.316193</td><td>0.117508</td><td>0.891898</td><td>0.830726</td><td>0.419218</td><td>0.458838</td><td>0.620047</td><td>0.624845</td><td>0.384251</td><td>0.12902</td><td>0.147917</td><td>0.234151</td><td>0.159519</td><td>0.129008</td><td>0.217481</td><td>0.111964</td><td>0.102462</td><td>0.101826</td><td>0.203534</td><td>0.164052</td><td>0.119377</td><td>&hellip;</td><td>0.288104</td><td>0.550947</td><td>0.344601</td><td>0.165808</td><td>0.101826</td><td>0.122884</td><td>0.353181</td><td>0.182947</td><td>0.101826</td><td>0.101826</td><td>0.185663</td><td>0.495932</td><td>0.197541</td><td>0.103064</td><td>0.83654</td><td>0.390968</td><td>0.184082</td><td>0.194107</td><td>0.286655</td><td>0.205234</td><td>0.211884</td><td>0.101826</td><td>0.103064</td><td>0.144627</td><td>0.323981</td><td>0.101826</td><td>0.111964</td><td>0.115536</td><td>0.103117</td><td>0.135005</td><td>0.120995</td><td>0.103701</td><td>0.101826</td><td>0.101826</td><td>0.116019</td><td>0.160693</td><td>0.115516</td></tr></tbody></table></div>"
      ],
      "text/plain": [
       "shape: (11, 2_881)\n",
       "┌──────────┬──────────┬──────────┬──────────┬───┬──────────┬──────────┬──────────┬──────────┐\n",
       "│ idx_hour ┆ 0_0_0    ┆ 0_0_1    ┆ 0_0_2    ┆ … ┆ 29_2_28  ┆ 29_2_29  ┆ 29_2_30  ┆ 29_2_31  │\n",
       "│ ---      ┆ ---      ┆ ---      ┆ ---      ┆   ┆ ---      ┆ ---      ┆ ---      ┆ ---      │\n",
       "│ i64      ┆ f64      ┆ f64      ┆ f64      ┆   ┆ f64      ┆ f64      ┆ f64      ┆ f64      │\n",
       "╞══════════╪══════════╪══════════╪══════════╪═══╪══════════╪══════════╪══════════╪══════════╡\n",
       "│ 503      ┆ 0.342484 ┆ 0.17033  ┆ 0.21847  ┆ … ┆ 0.0      ┆ 0.156009 ┆ 0.0      ┆ 0.00809  │\n",
       "│ 504      ┆ 0.431801 ┆ 0.144597 ┆ 0.126805 ┆ … ┆ 0.097634 ┆ 0.106472 ┆ 0.1379   ┆ 0.106472 │\n",
       "│ 505      ┆ 0.285405 ┆ 0.117619 ┆ 0.106743 ┆ … ┆ 0.09675  ┆ 0.098987 ┆ 0.114878 ┆ 0.098987 │\n",
       "│ 506      ┆ 0.255296 ┆ 0.117868 ┆ 0.106107 ┆ … ┆ 0.097989 ┆ 0.098987 ┆ 0.108168 ┆ 0.101642 │\n",
       "│ 507      ┆ 0.180511 ┆ 0.114887 ┆ 0.107982 ┆ … ┆ 0.09675  ┆ 0.098987 ┆ 0.110907 ┆ 0.100925 │\n",
       "│ …        ┆ …        ┆ …        ┆ …        ┆ … ┆ …        ┆ …        ┆ …        ┆ …        │\n",
       "│ 509      ┆ 0.137196 ┆ 0.114887 ┆ 0.10883  ┆ … ┆ 0.09675  ┆ 0.101726 ┆ 0.108168 ┆ 0.104661 │\n",
       "│ 510      ┆ 0.133431 ┆ 0.122843 ┆ 0.108347 ┆ … ┆ 0.09675  ┆ 0.098987 ┆ 0.108168 ┆ 0.108148 │\n",
       "│ 511      ┆ 0.296281 ┆ 0.166898 ┆ 0.116655 ┆ … ┆ 0.109737 ┆ 0.104681 ┆ 0.125461 ┆ 0.112167 │\n",
       "│ 512      ┆ 0.38991  ┆ 0.561767 ┆ 0.138311 ┆ … ┆ 0.101859 ┆ 0.10873  ┆ 0.158606 ┆ 0.109968 │\n",
       "│ 513      ┆ 0.434551 ┆ 0.554393 ┆ 0.150081 ┆ … ┆ 0.101826 ┆ 0.116019 ┆ 0.160693 ┆ 0.115516 │\n",
       "└──────────┴──────────┴──────────┴──────────┴───┴──────────┴──────────┴──────────┴──────────┘"
      ]
     },
     "execution_count": 56,
     "metadata": {},
     "output_type": "execute_result"
    }
   ],
   "source": [
    "comparison_dataframes['thp_vol'] \n",
    "ys_pred['thp_vol'].slice(503, 515).head(15)"
   ]
  },
  {
   "cell_type": "code",
   "execution_count": 58,
   "metadata": {},
   "outputs": [
    {
     "data": {
      "text/plain": [
       "0.2050350198807903"
      ]
     },
     "execution_count": 58,
     "metadata": {},
     "output_type": "execute_result"
    }
   ],
   "source": [
    "mean_absolute_error(comparison_dataframes['thp_vol'], ys_pred['thp_vol'].tail(inference_config['prediction_length']))"
   ]
  },
  {
   "cell_type": "markdown",
   "metadata": {},
   "source": [
    "## ...on Validation Set"
   ]
  },
  {
   "cell_type": "markdown",
   "metadata": {},
   "source": [
    "## ...on Test Set"
   ]
  },
  {
   "cell_type": "markdown",
   "metadata": {},
   "source": [
    "## ...on Validation and Test Sets"
   ]
  },
  {
   "cell_type": "markdown",
   "metadata": {},
   "source": [
    "## Create Submission CSV\n",
    "\n",
    "* Hours in 5 weeks: 840\n",
    "* Hours in 6 weeks: 1008\n",
    "* We need period 841-1008 (841:1009 with Python list indexing)\n",
    "\n",
    "* Hours in 10 weeks: 1680\n",
    "* Hours in 11 weeks: 1848"
   ]
  },
  {
   "cell_type": "code",
   "execution_count": 103,
   "metadata": {},
   "outputs": [],
   "source": [
    "def create_half_submission_df(input_df: pl.DataFrame, weeks: str) -> pl.DataFrame:\n",
    "    \"\"\"\n",
    "    Create a submission CSV file from a Polars DataFrame of thp_vol.\n",
    "    \"\"\"\n",
    "    if weeks == '5w-6w':\n",
    "        range = [841, 1008]\n",
    "    elif weeks == '10w-11w':\n",
    "        range = [1681, 1848]\n",
    "\n",
    "    # Choose rows with first column 'idx_hour' having the values 671-840.\n",
    "    input_df = input_df.filter(pl.col('idx_hour') >= range[0], pl.col('idx_hour') <= range[1])\n",
    "\n",
    "    # Some checks on the input_df\n",
    "    assert input_df.shape == (168, 2881), f\"Expected shape (168, 2881), got {input_df.shape}\"\n",
    "    assert input_df.select(pl.any_horizontal(pl.all().is_null().any())).item() == False, \"Submission dataframe contains null values\"\n",
    "    assert input_df['idx_hour'].head(1)[0] <= range[0] and input_df['idx_hour'].tail(1)[0] >= range[1], \"Submission dataframe does seemingly not contain the correct idx_hour values\"\n",
    "\n",
    "    # Stack the dataframe with f'traffic_DLThpVol_test_5w-6w_{hour}_{beam_id}' as index\n",
    "    # where it cycles through the values 671-840 for hour and then the beam_ids, which are colnames of input_df\n",
    "    # return input_df.unpivot(index='idx_hour')\n",
    "    return input_df.unpivot(index='idx_hour', variable_name='beam_id').with_columns(\n",
    "        pl.concat_str([pl.lit('traffic_DLThpVol_test'), pl.lit(weeks), pl.col('idx_hour') - range[0], pl.col('beam_id')], separator='_').alias('ID')\n",
    "    ).select(['ID', 'value']).rename({'value': 'Target'})\n",
    "\n",
    "\n",
    "def create_submission_csv(input_df: pl.DataFrame, output_filename='traffic_forecast.csv', archiving_dir='submission-csvs-archive') -> pl.DataFrame:\n",
    "    \"\"\"\n",
    "    Create a submission CSV file from data in input format that's been extended to cover weeks 5-6 and 10-11.\n",
    "    \"\"\"\n",
    "\n",
    "    # Create half submission dataframes\n",
    "    half_submission_5w_6w = create_half_submission_df(input_df, '5w-6w')\n",
    "    half_submission_10w_11w = create_half_submission_df(input_df, '10w-11w')\n",
    "\n",
    "    # Concatenate the two half submission dataframes\n",
    "    submission_df = pl.concat([half_submission_5w_6w, half_submission_10w_11w], how='vertical')\n",
    "\n",
    "    # Save the submission dataframe to a CSV file for submission, and to wandb\n",
    "    submission_df.write_csv(output_filename)\n",
    "    wandb.save(output_filename)\n",
    "\n",
    "    # Save the submission dataframe to a CSV file for archiving\n",
    "    if archiving_dir:\n",
    "        archiving_dir = Path(archiving_dir)\n",
    "        archiving_dir.mkdir(parents=True, exist_ok=True)\n",
    "        submission_df.write_csv(archiving_dir / f'{wandb.run.name}_{output_filename}')\n",
    "\n",
    "    return submission_df"
   ]
  },
  {
   "cell_type": "code",
   "execution_count": 70,
   "metadata": {},
   "outputs": [],
   "source": [
    "if inference_config['create_submission_csv']:\n",
    "    submission_df = create_submission_csv(ys_pred['thp_vol'])"
   ]
  },
  {
   "cell_type": "code",
   "execution_count": 104,
   "metadata": {},
   "outputs": [
    {
     "data": {
      "text/html": [
       "<div><style>\n",
       ".dataframe > thead > tr,\n",
       ".dataframe > tbody > tr {\n",
       "  text-align: right;\n",
       "  white-space: pre-wrap;\n",
       "}\n",
       "</style>\n",
       "<small>shape: (967_680, 2)</small><table border=\"1\" class=\"dataframe\"><thead><tr><th>ID</th><th>Target</th></tr><tr><td>str</td><td>i64</td></tr></thead><tbody><tr><td>&quot;traffic_DLThpVol_test_5w-6w_0_…</td><td>841</td></tr><tr><td>&quot;traffic_DLThpVol_test_5w-6w_1_…</td><td>842</td></tr><tr><td>&quot;traffic_DLThpVol_test_5w-6w_2_…</td><td>843</td></tr><tr><td>&quot;traffic_DLThpVol_test_5w-6w_3_…</td><td>844</td></tr><tr><td>&quot;traffic_DLThpVol_test_5w-6w_4_…</td><td>845</td></tr><tr><td>&hellip;</td><td>&hellip;</td></tr><tr><td>&quot;traffic_DLThpVol_test_10w-11w_…</td><td>1844</td></tr><tr><td>&quot;traffic_DLThpVol_test_10w-11w_…</td><td>1845</td></tr><tr><td>&quot;traffic_DLThpVol_test_10w-11w_…</td><td>1846</td></tr><tr><td>&quot;traffic_DLThpVol_test_10w-11w_…</td><td>1847</td></tr><tr><td>&quot;traffic_DLThpVol_test_10w-11w_…</td><td>1848</td></tr></tbody></table></div>"
      ],
      "text/plain": [
       "shape: (967_680, 2)\n",
       "┌─────────────────────────────────┬────────┐\n",
       "│ ID                              ┆ Target │\n",
       "│ ---                             ┆ ---    │\n",
       "│ str                             ┆ i64    │\n",
       "╞═════════════════════════════════╪════════╡\n",
       "│ traffic_DLThpVol_test_5w-6w_0_… ┆ 841    │\n",
       "│ traffic_DLThpVol_test_5w-6w_1_… ┆ 842    │\n",
       "│ traffic_DLThpVol_test_5w-6w_2_… ┆ 843    │\n",
       "│ traffic_DLThpVol_test_5w-6w_3_… ┆ 844    │\n",
       "│ traffic_DLThpVol_test_5w-6w_4_… ┆ 845    │\n",
       "│ …                               ┆ …      │\n",
       "│ traffic_DLThpVol_test_10w-11w_… ┆ 1844   │\n",
       "│ traffic_DLThpVol_test_10w-11w_… ┆ 1845   │\n",
       "│ traffic_DLThpVol_test_10w-11w_… ┆ 1846   │\n",
       "│ traffic_DLThpVol_test_10w-11w_… ┆ 1847   │\n",
       "│ traffic_DLThpVol_test_10w-11w_… ┆ 1848   │\n",
       "└─────────────────────────────────┴────────┘"
      ]
     },
     "execution_count": 104,
     "metadata": {},
     "output_type": "execute_result"
    }
   ],
   "source": [
    "# debug_submission_df_5w_6w = pl.DataFrame(\n",
    "#     {'idx_hour': pl.Series(range(1, 1901))} | {id: pl.Series(range(1, 1901)) for id in ys_pred['thp_vol'].columns})\n",
    "# debug_filtered = debug_submission_df_5w_6w.filter(pl.col('idx_hour') >= 841, pl.col('idx_hour') <= 1848)\n",
    "# df = create_half_submission_df(debug_filtered, '5w-6w')\n",
    "# # df = create_submission_csv(ys_pred['thp_vol'], 'traffic_forecast.csv', 'submission-csvs-archive')\n",
    "# create_submission_csv(debug_filtered)"
   ]
  },
  {
   "cell_type": "code",
   "execution_count": null,
   "metadata": {},
   "outputs": [],
   "source": []
  },
  {
   "cell_type": "code",
   "execution_count": null,
   "metadata": {},
   "outputs": [],
   "source": []
  }
 ],
 "metadata": {
  "kernelspec": {
   "display_name": "venv",
   "language": "python",
   "name": "python3"
  },
  "language_info": {
   "codemirror_mode": {
    "name": "ipython",
    "version": 3
   },
   "file_extension": ".py",
   "mimetype": "text/x-python",
   "name": "python",
   "nbconvert_exporter": "python",
   "pygments_lexer": "ipython3",
   "version": "3.12.3"
  }
 },
 "nbformat": 4,
 "nbformat_minor": 2
}
