{
 "cells": [
  {
   "cell_type": "markdown",
   "metadata": {},
   "source": [
    " # Inference"
   ]
  },
  {
   "cell_type": "code",
   "execution_count": 1,
   "metadata": {},
   "outputs": [],
   "source": [
    "# %%\n",
    "from pathlib import Path\n",
    "import os\n",
    "os.environ[\"WANDB_NOTEBOOK_NAME\"] = \"xgboost_inference.ipynb\"  # Manually set the notebook name\n",
    "\n",
    "import pandas as pd\n",
    "import polars as pl\n",
    "import xgboost as xgb\n",
    "import wandb\n",
    "from tqdm.notebook import tqdm\n",
    "import pickle\n",
    "import numpy as np\n",
    "\n",
    "import utils\n",
    "import yaml\n"
   ]
  },
  {
   "cell_type": "code",
   "execution_count": 2,
   "metadata": {},
   "outputs": [],
   "source": [
    "# %%\n",
    "DEBUG = True\n",
    "# Load the inference config from the YAML file\n",
    "\n",
    "with open('configs/direct_inference_config_11_10_24.yaml', 'r') as f:\n",
    "    train_config = yaml.safe_load(f)\n",
    "\n",
    "class dotdict(dict):\n",
    "    \"\"\"dot.notation access to dictionary attributes\"\"\"\n",
    "    __getattr__ = dict.get\n",
    "    __setattr__ = dict.__setitem__\n",
    "    __delattr__ = dict.__delitem__\n",
    "\n",
    "train_config = dotdict(train_config)\n",
    "\n",
    "inference_config = {\n",
    "    'prediction_length': 168,\n",
    "    'create_submission_csv': False\n",
    "}\n",
    "\n",
    "# Update the checkpoints directory to 'checkpoints_final'\n",
    "checkpoints_dir = 'checkpoints_final'\n",
    "xgboost_models_dir = Path(checkpoints_dir)\n"
   ]
  },
  {
   "cell_type": "code",
   "execution_count": 3,
   "metadata": {},
   "outputs": [
    {
     "data": {
      "application/vnd.jupyter.widget-view+json": {
       "model_id": "a37408cf77c7409cb6d42d1cfb58dd06",
       "version_major": 2,
       "version_minor": 0
      },
      "text/plain": [
       "  0%|          | 0/168 [00:00<?, ?it/s]"
      ]
     },
     "metadata": {},
     "output_type": "display_data"
    }
   ],
   "source": [
    "\n",
    "# Load all models\n",
    "models = {}\n",
    "for file_name in tqdm(os.listdir(xgboost_models_dir)):\n",
    "    if file_name.startswith('forward_shift_'):\n",
    "        shift = int(file_name.split('_')[-1])\n",
    "        model_path = xgboost_models_dir / file_name\n",
    "        with open(model_path, 'rb') as f:\n",
    "            models[shift] = pickle.load(f)"
   ]
  },
  {
   "cell_type": "markdown",
   "metadata": {},
   "source": [
    " ## Load and Prepare Data"
   ]
  },
  {
   "cell_type": "code",
   "execution_count": 4,
   "metadata": {},
   "outputs": [],
   "source": [
    "# %%\n",
    "# Read the CSV files\n",
    "data_dir = Path('input-data')\n",
    "target_dataframes = {\n",
    "    'thp_vol': pl.read_csv(data_dir / 'traffic_DLThpVol.csv'),  # This is the target variable\n",
    "    'prb': pl.read_csv(data_dir / 'traffic_DLPRB.csv'),\n",
    "    'thp_time': pl.read_csv(data_dir / 'traffic_DLThpTime.csv'),\n",
    "    'mr_number': pl.read_csv(data_dir / 'traffic_MR_number.csv')\n",
    "}\n",
    "\n",
    "idx_hour_series = target_dataframes['thp_vol']['']\n",
    "\n",
    "for k, v in target_dataframes.items():\n",
    "    target_dataframes[k] = v.drop('')\n",
    "\n",
    "template_df = target_dataframes['thp_vol']\n",
    "\n",
    "predict_hour = 840\n",
    "\n",
    "null_row = pl.DataFrame({beam_id: [None] for beam_id in template_df.columns})\n",
    "\n",
    "target_dataframes = {k: pl.concat([v, null_row], how='vertical_relaxed') for k, v in target_dataframes.items()}\n",
    "\n",
    "target_names = list(target_dataframes.keys())\n",
    "feature_dfs = utils.create_all_feature_dfs(target_dataframes, idx_hour_series, train_config)\n",
    "feature_dfs = {k: v.tail(1) for k, v in feature_dfs.items()}  # maybe turn in to lazyframe for efficiency?\n",
    "X_predict = utils.convert_to_long_format(feature_dfs)\n",
    "\n",
    "cat_types = utils.make_id_cat_type(template_df.columns)\n",
    "X_predict = X_predict.to_pandas()\n",
    "for col in ['beam_id', 'cell_id', 'station_id']:\n",
    "    if col in X_predict.columns:\n",
    "        X_predict[col] = X_predict[col].astype(cat_types[col])"
   ]
  },
  {
   "cell_type": "code",
   "execution_count": 11,
   "metadata": {},
   "outputs": [
    {
     "data": {
      "application/vnd.jupyter.widget-view+json": {
       "model_id": "64f61e7c274d4239a8beed07c442097d",
       "version_major": 2,
       "version_minor": 0
      },
      "text/plain": [
       "  0%|          | 0/168 [00:00<?, ?it/s]"
      ]
     },
     "metadata": {},
     "output_type": "display_data"
    }
   ],
   "source": [
    "# %%\n",
    "\n",
    "ys_predicted_wide = []\n",
    "\n",
    "for shift in tqdm(range(168)):\n",
    "    y_predicted = models[shift].predict(X_predict)\n",
    "\n",
    "    idx_hour = pl.DataFrame({'idx_hour': [840 + shift] * len(template_df.columns)})\n",
    "\n",
    "    y_predicted_long_df = pl.DataFrame({'idx_hour': idx_hour, 'beam_id': X_predict['beam_id'], 'thp_vol': y_predicted})\n",
    "\n",
    "    y_predicted_wide = utils.convert_to_wide_format(y_predicted_long_df, ['thp_vol'])['thp_vol']\n",
    "\n",
    "    ys_predicted_wide.append(y_predicted_wide)\n"
   ]
  },
  {
   "cell_type": "code",
   "execution_count": 14,
   "metadata": {},
   "outputs": [],
   "source": [
    "# %%\n",
    "predictions_wide = pl.concat(ys_predicted_wide, how='vertical')\n",
    "predictions_wide = predictions_wide.with_columns(idx_hour=pl.Series(range(840, 1008)))\n"
   ]
  },
  {
   "cell_type": "code",
   "execution_count": 23,
   "metadata": {},
   "outputs": [
    {
     "data": {
      "text/html": [
       "<div><style>\n",
       ".dataframe > thead > tr,\n",
       ".dataframe > tbody > tr {\n",
       "  text-align: right;\n",
       "  white-space: pre-wrap;\n",
       "}\n",
       "</style>\n",
       "<small>shape: (168, 2_881)</small><table border=\"1\" class=\"dataframe\"><thead><tr><th>idx_hour</th><th>0_0_0</th><th>0_0_1</th><th>0_0_2</th><th>0_0_3</th><th>0_0_4</th><th>0_0_5</th><th>0_0_6</th><th>0_0_7</th><th>0_0_8</th><th>0_0_9</th><th>0_0_10</th><th>0_0_11</th><th>0_0_12</th><th>0_0_13</th><th>0_0_14</th><th>0_0_15</th><th>0_0_16</th><th>0_0_17</th><th>0_0_18</th><th>0_0_19</th><th>0_0_20</th><th>0_0_21</th><th>0_0_22</th><th>0_0_23</th><th>0_0_24</th><th>0_0_25</th><th>0_0_26</th><th>0_0_27</th><th>0_0_28</th><th>0_0_29</th><th>0_0_30</th><th>0_0_31</th><th>0_1_0</th><th>0_1_1</th><th>0_1_2</th><th>0_1_3</th><th>&hellip;</th><th>29_1_27</th><th>29_1_28</th><th>29_1_29</th><th>29_1_30</th><th>29_1_31</th><th>29_2_0</th><th>29_2_1</th><th>29_2_2</th><th>29_2_3</th><th>29_2_4</th><th>29_2_5</th><th>29_2_6</th><th>29_2_7</th><th>29_2_8</th><th>29_2_9</th><th>29_2_10</th><th>29_2_11</th><th>29_2_12</th><th>29_2_13</th><th>29_2_14</th><th>29_2_15</th><th>29_2_16</th><th>29_2_17</th><th>29_2_18</th><th>29_2_19</th><th>29_2_20</th><th>29_2_21</th><th>29_2_22</th><th>29_2_23</th><th>29_2_24</th><th>29_2_25</th><th>29_2_26</th><th>29_2_27</th><th>29_2_28</th><th>29_2_29</th><th>29_2_30</th><th>29_2_31</th></tr><tr><td>i64</td><td>f32</td><td>f32</td><td>f32</td><td>f32</td><td>f32</td><td>f32</td><td>f32</td><td>f32</td><td>f32</td><td>f32</td><td>f32</td><td>f32</td><td>f32</td><td>f32</td><td>f32</td><td>f32</td><td>f32</td><td>f32</td><td>f32</td><td>f32</td><td>f32</td><td>f32</td><td>f32</td><td>f32</td><td>f32</td><td>f32</td><td>f32</td><td>f32</td><td>f32</td><td>f32</td><td>f32</td><td>f32</td><td>f32</td><td>f32</td><td>f32</td><td>f32</td><td>&hellip;</td><td>f32</td><td>f32</td><td>f32</td><td>f32</td><td>f32</td><td>f32</td><td>f32</td><td>f32</td><td>f32</td><td>f32</td><td>f32</td><td>f32</td><td>f32</td><td>f32</td><td>f32</td><td>f32</td><td>f32</td><td>f32</td><td>f32</td><td>f32</td><td>f32</td><td>f32</td><td>f32</td><td>f32</td><td>f32</td><td>f32</td><td>f32</td><td>f32</td><td>f32</td><td>f32</td><td>f32</td><td>f32</td><td>f32</td><td>f32</td><td>f32</td><td>f32</td><td>f32</td></tr></thead><tbody><tr><td>840</td><td>0.466081</td><td>0.105483</td><td>0.149764</td><td>0.07013</td><td>1.138302</td><td>0.539551</td><td>0.09427</td><td>0.07013</td><td>0.635353</td><td>0.617956</td><td>0.125508</td><td>0.151468</td><td>0.660757</td><td>0.16226</td><td>0.14043</td><td>0.116173</td><td>0.101051</td><td>0.303548</td><td>1.393848</td><td>0.714513</td><td>0.130742</td><td>0.114484</td><td>0.130271</td><td>0.341998</td><td>0.087457</td><td>0.10228</td><td>1.384943</td><td>0.093579</td><td>0.105328</td><td>0.167898</td><td>0.094431</td><td>0.077898</td><td>0.070685</td><td>0.159843</td><td>0.134162</td><td>0.495922</td><td>&hellip;</td><td>0.366006</td><td>0.563202</td><td>0.877411</td><td>0.248561</td><td>0.068914</td><td>0.094377</td><td>0.103158</td><td>0.098499</td><td>0.080331</td><td>0.070698</td><td>0.098352</td><td>0.179785</td><td>0.100533</td><td>0.081107</td><td>0.213927</td><td>0.102621</td><td>0.096659</td><td>0.096707</td><td>0.323838</td><td>0.10493</td><td>0.100565</td><td>0.071091</td><td>0.104655</td><td>0.098098</td><td>0.283177</td><td>0.17434</td><td>0.087915</td><td>0.126967</td><td>0.069353</td><td>0.093761</td><td>0.082774</td><td>0.082669</td><td>0.084514</td><td>0.069541</td><td>0.089541</td><td>0.102618</td><td>0.077246</td></tr><tr><td>841</td><td>0.349067</td><td>0.114122</td><td>0.365288</td><td>0.070777</td><td>0.75924</td><td>0.514641</td><td>0.088071</td><td>0.070777</td><td>0.541569</td><td>0.395453</td><td>0.134796</td><td>0.140268</td><td>0.417919</td><td>0.171833</td><td>0.132208</td><td>0.135961</td><td>0.101817</td><td>0.186731</td><td>1.192911</td><td>0.485041</td><td>0.144062</td><td>0.140639</td><td>0.135782</td><td>0.325621</td><td>0.090982</td><td>0.096628</td><td>0.169835</td><td>0.086482</td><td>0.095266</td><td>0.164192</td><td>0.086003</td><td>0.07569</td><td>0.072087</td><td>0.174577</td><td>0.128622</td><td>0.460806</td><td>&hellip;</td><td>0.264044</td><td>0.658557</td><td>0.544527</td><td>0.184946</td><td>0.069083</td><td>0.091339</td><td>0.111099</td><td>0.096764</td><td>0.078599</td><td>0.072625</td><td>0.095315</td><td>0.199519</td><td>0.097169</td><td>0.077253</td><td>0.190637</td><td>0.107674</td><td>0.098724</td><td>0.097073</td><td>0.214651</td><td>0.103337</td><td>0.094676</td><td>0.071227</td><td>0.092499</td><td>0.096107</td><td>0.202352</td><td>0.100795</td><td>0.082301</td><td>0.119546</td><td>0.071383</td><td>0.086623</td><td>0.078347</td><td>0.079846</td><td>0.081462</td><td>0.069849</td><td>0.087333</td><td>0.095188</td><td>0.074722</td></tr><tr><td>842</td><td>0.321606</td><td>0.142163</td><td>0.956922</td><td>0.070082</td><td>0.541167</td><td>0.503571</td><td>0.084412</td><td>0.070082</td><td>0.382485</td><td>0.0518</td><td>0.13033</td><td>0.140306</td><td>0.290956</td><td>0.224402</td><td>0.147279</td><td>0.168332</td><td>0.110168</td><td>0.220572</td><td>1.123015</td><td>0.402481</td><td>0.194486</td><td>0.201382</td><td>0.184022</td><td>0.278421</td><td>0.080271</td><td>0.098321</td><td>0.147988</td><td>0.077482</td><td>0.097235</td><td>0.166244</td><td>0.076884</td><td>0.070996</td><td>0.071204</td><td>0.172753</td><td>0.120458</td><td>0.270621</td><td>&hellip;</td><td>0.253255</td><td>0.461135</td><td>0.391571</td><td>0.152435</td><td>0.06837</td><td>0.090716</td><td>0.134313</td><td>0.102475</td><td>0.07446</td><td>0.073411</td><td>0.095694</td><td>0.272838</td><td>0.105211</td><td>0.07735</td><td>0.229896</td><td>0.178292</td><td>0.1085</td><td>0.124598</td><td>0.189833</td><td>0.125484</td><td>0.097922</td><td>0.071203</td><td>0.09154</td><td>0.101167</td><td>0.1674</td><td>0.08274</td><td>0.079931</td><td>0.098272</td><td>0.071901</td><td>0.084584</td><td>0.07976</td><td>0.077499</td><td>0.077674</td><td>0.068924</td><td>0.085145</td><td>0.095514</td><td>0.085771</td></tr><tr><td>843</td><td>0.256772</td><td>0.15254</td><td>0.144487</td><td>0.071674</td><td>0.652168</td><td>0.377</td><td>0.084175</td><td>0.071674</td><td>0.284285</td><td>0.178115</td><td>0.147477</td><td>0.126126</td><td>0.261665</td><td>0.194638</td><td>0.14049</td><td>0.144841</td><td>0.105706</td><td>0.214634</td><td>0.934179</td><td>0.228563</td><td>0.171008</td><td>0.177292</td><td>0.172015</td><td>0.25701</td><td>0.081144</td><td>0.097251</td><td>0.10717</td><td>0.088367</td><td>0.093451</td><td>0.150312</td><td>0.079478</td><td>0.072043</td><td>0.071444</td><td>0.164914</td><td>0.108961</td><td>0.208146</td><td>&hellip;</td><td>0.24916</td><td>0.440034</td><td>0.309431</td><td>0.12958</td><td>0.069836</td><td>0.089148</td><td>0.129243</td><td>0.100106</td><td>0.075436</td><td>0.074549</td><td>0.100461</td><td>0.228939</td><td>0.104852</td><td>0.078283</td><td>0.204459</td><td>0.1571</td><td>0.111729</td><td>0.121196</td><td>0.159668</td><td>0.121469</td><td>0.100191</td><td>0.071333</td><td>0.089208</td><td>0.102576</td><td>0.156645</td><td>0.077818</td><td>0.07884</td><td>0.089243</td><td>0.072304</td><td>0.086647</td><td>0.08159</td><td>0.080385</td><td>0.077865</td><td>0.069559</td><td>0.085092</td><td>0.09751</td><td>0.07592</td></tr><tr><td>844</td><td>0.201087</td><td>0.151786</td><td>0.16632</td><td>0.072165</td><td>0.517022</td><td>0.354426</td><td>0.084704</td><td>0.07248</td><td>0.195417</td><td>0.151439</td><td>0.145536</td><td>0.128983</td><td>0.180761</td><td>0.189154</td><td>0.16001</td><td>0.166237</td><td>0.116049</td><td>0.181516</td><td>0.702928</td><td>0.208299</td><td>0.152736</td><td>0.176887</td><td>0.162114</td><td>0.223751</td><td>0.08242</td><td>0.097157</td><td>0.096651</td><td>0.081549</td><td>0.094134</td><td>0.134083</td><td>0.081877</td><td>0.07248</td><td>0.072126</td><td>0.136798</td><td>0.100516</td><td>0.228552</td><td>&hellip;</td><td>0.208336</td><td>0.405753</td><td>0.245721</td><td>0.115604</td><td>0.071689</td><td>0.086226</td><td>0.129328</td><td>0.097724</td><td>0.07636</td><td>0.075975</td><td>0.096125</td><td>0.215622</td><td>0.105862</td><td>0.080775</td><td>0.18451</td><td>0.13566</td><td>0.108815</td><td>0.116357</td><td>0.120611</td><td>0.113921</td><td>0.09997</td><td>0.072282</td><td>0.094287</td><td>0.10619</td><td>0.140795</td><td>0.079859</td><td>0.08153</td><td>0.085939</td><td>0.073337</td><td>0.088561</td><td>0.082715</td><td>0.083364</td><td>0.080187</td><td>0.07105</td><td>0.084931</td><td>0.096068</td><td>0.078594</td></tr><tr><td>&hellip;</td><td>&hellip;</td><td>&hellip;</td><td>&hellip;</td><td>&hellip;</td><td>&hellip;</td><td>&hellip;</td><td>&hellip;</td><td>&hellip;</td><td>&hellip;</td><td>&hellip;</td><td>&hellip;</td><td>&hellip;</td><td>&hellip;</td><td>&hellip;</td><td>&hellip;</td><td>&hellip;</td><td>&hellip;</td><td>&hellip;</td><td>&hellip;</td><td>&hellip;</td><td>&hellip;</td><td>&hellip;</td><td>&hellip;</td><td>&hellip;</td><td>&hellip;</td><td>&hellip;</td><td>&hellip;</td><td>&hellip;</td><td>&hellip;</td><td>&hellip;</td><td>&hellip;</td><td>&hellip;</td><td>&hellip;</td><td>&hellip;</td><td>&hellip;</td><td>&hellip;</td><td>&hellip;</td><td>&hellip;</td><td>&hellip;</td><td>&hellip;</td><td>&hellip;</td><td>&hellip;</td><td>&hellip;</td><td>&hellip;</td><td>&hellip;</td><td>&hellip;</td><td>&hellip;</td><td>&hellip;</td><td>&hellip;</td><td>&hellip;</td><td>&hellip;</td><td>&hellip;</td><td>&hellip;</td><td>&hellip;</td><td>&hellip;</td><td>&hellip;</td><td>&hellip;</td><td>&hellip;</td><td>&hellip;</td><td>&hellip;</td><td>&hellip;</td><td>&hellip;</td><td>&hellip;</td><td>&hellip;</td><td>&hellip;</td><td>&hellip;</td><td>&hellip;</td><td>&hellip;</td><td>&hellip;</td><td>&hellip;</td><td>&hellip;</td><td>&hellip;</td><td>&hellip;</td><td>&hellip;</td></tr><tr><td>1003</td><td>0.785802</td><td>0.19292</td><td>0.919532</td><td>0.080161</td><td>3.369255</td><td>2.517078</td><td>0.097956</td><td>0.080161</td><td>0.777475</td><td>0.934418</td><td>0.287254</td><td>0.366046</td><td>1.002874</td><td>0.475969</td><td>0.357358</td><td>0.296671</td><td>0.180528</td><td>1.0067</td><td>1.327262</td><td>0.712475</td><td>0.565407</td><td>0.56673</td><td>0.846098</td><td>0.446173</td><td>0.109263</td><td>0.139686</td><td>0.168376</td><td>0.093968</td><td>0.141049</td><td>0.246284</td><td>0.108248</td><td>0.080161</td><td>0.077338</td><td>0.438352</td><td>0.163978</td><td>0.204689</td><td>&hellip;</td><td>0.556077</td><td>0.981051</td><td>0.65788</td><td>0.191846</td><td>0.078082</td><td>0.119162</td><td>0.350075</td><td>0.255251</td><td>0.07954</td><td>0.078536</td><td>0.143547</td><td>0.617534</td><td>0.187067</td><td>0.083148</td><td>1.059229</td><td>0.593434</td><td>0.187851</td><td>0.264418</td><td>0.307057</td><td>0.307736</td><td>0.19721</td><td>0.078536</td><td>0.098454</td><td>0.200153</td><td>0.454371</td><td>0.107821</td><td>0.097007</td><td>0.122682</td><td>0.078536</td><td>0.099069</td><td>0.113965</td><td>0.110439</td><td>0.081632</td><td>0.078082</td><td>0.102592</td><td>0.157153</td><td>0.083148</td></tr><tr><td>1004</td><td>0.905722</td><td>0.19546</td><td>0.287623</td><td>0.078535</td><td>4.182957</td><td>3.069052</td><td>0.100289</td><td>0.078535</td><td>0.609168</td><td>0.895572</td><td>0.29844</td><td>0.366478</td><td>1.153975</td><td>0.485891</td><td>0.27166</td><td>0.244047</td><td>0.17527</td><td>0.875149</td><td>1.451405</td><td>0.780759</td><td>0.459926</td><td>0.486236</td><td>0.521021</td><td>0.421355</td><td>0.108757</td><td>0.143696</td><td>0.253706</td><td>0.093125</td><td>0.136748</td><td>0.238314</td><td>0.108382</td><td>0.078535</td><td>0.076399</td><td>0.612883</td><td>0.154773</td><td>0.216868</td><td>&hellip;</td><td>0.523206</td><td>0.969965</td><td>0.667413</td><td>0.194858</td><td>0.076593</td><td>0.115763</td><td>0.304643</td><td>0.253785</td><td>0.080951</td><td>0.077748</td><td>0.147053</td><td>0.480636</td><td>0.180538</td><td>0.081536</td><td>0.667378</td><td>0.395275</td><td>0.186872</td><td>0.219356</td><td>0.3722</td><td>0.26605</td><td>0.178965</td><td>0.077939</td><td>0.100132</td><td>0.189851</td><td>0.383976</td><td>0.123886</td><td>0.088115</td><td>0.129192</td><td>0.07749</td><td>0.100139</td><td>0.10887</td><td>0.105514</td><td>0.080583</td><td>0.07749</td><td>0.104698</td><td>0.172554</td><td>0.086122</td></tr><tr><td>1005</td><td>0.817579</td><td>0.169659</td><td>0.364458</td><td>0.080052</td><td>3.789816</td><td>2.408399</td><td>0.105673</td><td>0.080052</td><td>0.480036</td><td>0.479029</td><td>0.366126</td><td>0.340522</td><td>1.256107</td><td>0.35766</td><td>0.196935</td><td>0.188492</td><td>0.156621</td><td>0.669894</td><td>2.004391</td><td>0.820667</td><td>0.32756</td><td>0.338983</td><td>0.382474</td><td>0.505162</td><td>0.102963</td><td>0.134139</td><td>0.242892</td><td>0.096014</td><td>0.141536</td><td>0.223325</td><td>0.090878</td><td>0.080052</td><td>0.07771</td><td>0.565465</td><td>0.142905</td><td>0.228065</td><td>&hellip;</td><td>0.421394</td><td>0.938256</td><td>0.63229</td><td>0.210789</td><td>0.07996</td><td>0.119394</td><td>0.193897</td><td>0.179114</td><td>0.084058</td><td>0.07892</td><td>0.140954</td><td>0.266571</td><td>0.156548</td><td>0.085071</td><td>0.440643</td><td>0.212289</td><td>0.142347</td><td>0.172707</td><td>0.453927</td><td>0.220654</td><td>0.137879</td><td>0.079373</td><td>0.104431</td><td>0.139706</td><td>0.328955</td><td>0.15288</td><td>0.093049</td><td>0.147525</td><td>0.07892</td><td>0.1038</td><td>0.101524</td><td>0.097681</td><td>0.084479</td><td>0.07892</td><td>0.109229</td><td>0.150083</td><td>0.088547</td></tr><tr><td>1006</td><td>0.685358</td><td>0.158854</td><td>0.357996</td><td>0.08148</td><td>2.939298</td><td>1.409624</td><td>0.107322</td><td>0.08148</td><td>0.507386</td><td>0.47262</td><td>0.28434</td><td>0.301383</td><td>0.843075</td><td>0.313909</td><td>0.177207</td><td>0.230126</td><td>0.134573</td><td>0.549925</td><td>1.6049</td><td>0.764628</td><td>0.256479</td><td>0.247576</td><td>0.246518</td><td>0.397863</td><td>0.097203</td><td>0.128326</td><td>0.19369</td><td>0.102027</td><td>0.138786</td><td>0.181333</td><td>0.092976</td><td>0.08148</td><td>0.077999</td><td>0.460672</td><td>0.160305</td><td>0.258814</td><td>&hellip;</td><td>0.385403</td><td>0.851494</td><td>0.731206</td><td>0.243895</td><td>0.078996</td><td>0.110277</td><td>0.173739</td><td>0.150539</td><td>0.086866</td><td>0.08301</td><td>0.138789</td><td>0.250428</td><td>0.140676</td><td>0.083958</td><td>0.358872</td><td>0.168565</td><td>0.138082</td><td>0.15802</td><td>0.364444</td><td>0.192167</td><td>0.132767</td><td>0.079766</td><td>0.098759</td><td>0.13722</td><td>0.270502</td><td>0.163475</td><td>0.087615</td><td>0.161042</td><td>0.079766</td><td>0.110148</td><td>0.096945</td><td>0.095598</td><td>0.086474</td><td>0.079766</td><td>0.113014</td><td>0.169646</td><td>0.092821</td></tr><tr><td>1007</td><td>0.489298</td><td>0.156989</td><td>0.317734</td><td>0.079469</td><td>2.499535</td><td>1.173483</td><td>0.111013</td><td>0.079469</td><td>0.613475</td><td>0.802344</td><td>0.259049</td><td>0.242383</td><td>0.597138</td><td>0.272471</td><td>0.175998</td><td>0.214979</td><td>0.130282</td><td>0.548338</td><td>2.500928</td><td>0.894779</td><td>0.214168</td><td>0.201958</td><td>0.207583</td><td>0.425019</td><td>0.100086</td><td>0.126352</td><td>0.471346</td><td>0.096481</td><td>0.133013</td><td>0.180091</td><td>0.093495</td><td>0.082315</td><td>0.077433</td><td>0.343085</td><td>0.159051</td><td>0.309579</td><td>&hellip;</td><td>0.349081</td><td>0.579876</td><td>0.749174</td><td>0.267074</td><td>0.078603</td><td>0.109172</td><td>0.153291</td><td>0.134365</td><td>0.084212</td><td>0.085041</td><td>0.132356</td><td>0.265499</td><td>0.127856</td><td>0.084599</td><td>0.266336</td><td>0.175459</td><td>0.128715</td><td>0.142575</td><td>0.340653</td><td>0.18461</td><td>0.129823</td><td>0.07903</td><td>0.108149</td><td>0.129154</td><td>0.272534</td><td>0.162554</td><td>0.086103</td><td>0.157439</td><td>0.078231</td><td>0.10597</td><td>0.094756</td><td>0.090737</td><td>0.085803</td><td>0.078231</td><td>0.107003</td><td>0.174074</td><td>0.083157</td></tr></tbody></table></div>"
      ],
      "text/plain": [
       "shape: (168, 2_881)\n",
       "┌──────────┬──────────┬──────────┬──────────┬───┬──────────┬──────────┬──────────┬──────────┐\n",
       "│ idx_hour ┆ 0_0_0    ┆ 0_0_1    ┆ 0_0_2    ┆ … ┆ 29_2_28  ┆ 29_2_29  ┆ 29_2_30  ┆ 29_2_31  │\n",
       "│ ---      ┆ ---      ┆ ---      ┆ ---      ┆   ┆ ---      ┆ ---      ┆ ---      ┆ ---      │\n",
       "│ i64      ┆ f32      ┆ f32      ┆ f32      ┆   ┆ f32      ┆ f32      ┆ f32      ┆ f32      │\n",
       "╞══════════╪══════════╪══════════╪══════════╪═══╪══════════╪══════════╪══════════╪══════════╡\n",
       "│ 840      ┆ 0.466081 ┆ 0.105483 ┆ 0.149764 ┆ … ┆ 0.069541 ┆ 0.089541 ┆ 0.102618 ┆ 0.077246 │\n",
       "│ 841      ┆ 0.349067 ┆ 0.114122 ┆ 0.365288 ┆ … ┆ 0.069849 ┆ 0.087333 ┆ 0.095188 ┆ 0.074722 │\n",
       "│ 842      ┆ 0.321606 ┆ 0.142163 ┆ 0.956922 ┆ … ┆ 0.068924 ┆ 0.085145 ┆ 0.095514 ┆ 0.085771 │\n",
       "│ 843      ┆ 0.256772 ┆ 0.15254  ┆ 0.144487 ┆ … ┆ 0.069559 ┆ 0.085092 ┆ 0.09751  ┆ 0.07592  │\n",
       "│ 844      ┆ 0.201087 ┆ 0.151786 ┆ 0.16632  ┆ … ┆ 0.07105  ┆ 0.084931 ┆ 0.096068 ┆ 0.078594 │\n",
       "│ …        ┆ …        ┆ …        ┆ …        ┆ … ┆ …        ┆ …        ┆ …        ┆ …        │\n",
       "│ 1003     ┆ 0.785802 ┆ 0.19292  ┆ 0.919532 ┆ … ┆ 0.078082 ┆ 0.102592 ┆ 0.157153 ┆ 0.083148 │\n",
       "│ 1004     ┆ 0.905722 ┆ 0.19546  ┆ 0.287623 ┆ … ┆ 0.07749  ┆ 0.104698 ┆ 0.172554 ┆ 0.086122 │\n",
       "│ 1005     ┆ 0.817579 ┆ 0.169659 ┆ 0.364458 ┆ … ┆ 0.07892  ┆ 0.109229 ┆ 0.150083 ┆ 0.088547 │\n",
       "│ 1006     ┆ 0.685358 ┆ 0.158854 ┆ 0.357996 ┆ … ┆ 0.079766 ┆ 0.113014 ┆ 0.169646 ┆ 0.092821 │\n",
       "│ 1007     ┆ 0.489298 ┆ 0.156989 ┆ 0.317734 ┆ … ┆ 0.078231 ┆ 0.107003 ┆ 0.174074 ┆ 0.083157 │\n",
       "└──────────┴──────────┴──────────┴──────────┴───┴──────────┴──────────┴──────────┴──────────┘"
      ]
     },
     "execution_count": 23,
     "metadata": {},
     "output_type": "execute_result"
    }
   ],
   "source": [
    "predictions_wide = predictions_wide.select(pl.col('idx_hour'), pl.exclude('idx_hour'))\n",
    "predictions_wide"
   ]
  },
  {
   "cell_type": "code",
   "execution_count": 16,
   "metadata": {},
   "outputs": [
    {
     "ename": "NameError",
     "evalue": "name 'ys_predicted_long' is not defined",
     "output_type": "error",
     "traceback": [
      "\u001b[0;31m---------------------------------------------------------------------------\u001b[0m",
      "\u001b[0;31mNameError\u001b[0m                                 Traceback (most recent call last)",
      "Cell \u001b[0;32mIn[16], line 7\u001b[0m\n\u001b[1;32m      5\u001b[0m util_dfs[\u001b[38;5;124m'\u001b[39m\u001b[38;5;124midx_hour\u001b[39m\u001b[38;5;124m'\u001b[39m] \u001b[38;5;241m=\u001b[39m pl\u001b[38;5;241m.\u001b[39mDataFrame({beam_id: [predict_hour] \u001b[38;5;28;01mfor\u001b[39;00m beam_id \u001b[38;5;129;01min\u001b[39;00m template_df\u001b[38;5;241m.\u001b[39mcolumns})\n\u001b[1;32m      6\u001b[0m util_long_df \u001b[38;5;241m=\u001b[39m utils\u001b[38;5;241m.\u001b[39mconvert_to_long_format(util_dfs)\n\u001b[0;32m----> 7\u001b[0m ys_predicted_long \u001b[38;5;241m=\u001b[39m pl\u001b[38;5;241m.\u001b[39mconcat([util_long_df, \u001b[43mys_predicted_long\u001b[49m], how\u001b[38;5;241m=\u001b[39m\u001b[38;5;124m'\u001b[39m\u001b[38;5;124mhorizontal\u001b[39m\u001b[38;5;124m'\u001b[39m)\n\u001b[1;32m      9\u001b[0m y_predicted_wide \u001b[38;5;241m=\u001b[39m utils\u001b[38;5;241m.\u001b[39mconvert_to_wide_format(ys_predicted_long, output_df_names\u001b[38;5;241m=\u001b[39mtarget_names)    \n",
      "\u001b[0;31mNameError\u001b[0m: name 'ys_predicted_long' is not defined"
     ]
    }
   ],
   "source": [
    "def create_half_submission_df(input_df: pl.DataFrame, weeks: str) -> pl.DataFrame:\n",
    "    \"\"\"\n",
    "    Create a submission CSV file from a Polars DataFrame of thp_vol.\n",
    "    \"\"\"\n",
    "    if weeks == '5w-6w':\n",
    "        range = [840, 1007]\n",
    "    elif weeks == '10w-11w':\n",
    "        range = [1680, 1847]\n",
    "\n",
    "    # Choose rows with first column 'idx_hour' having the values 671-840.\n",
    "    input_df = input_df.filter(pl.col('idx_hour') >= range[0], pl.col('idx_hour') <= range[1])\n",
    "\n",
    "    # Some checks on the input_df\n",
    "    assert input_df.shape == (168, 2881), f\"Expected shape (168, 2881), got {input_df.shape}\"\n",
    "    assert input_df.select(pl.any_horizontal(pl.all().is_null().any())).item() == False, \"Submission dataframe contains null values\"\n",
    "    assert input_df['idx_hour'].head(1)[0] <= range[0] and input_df['idx_hour'].tail(1)[0] >= range[1], \"Submission dataframe does seemingly not contain the correct idx_hour values\"\n",
    "\n",
    "    # Stack the dataframe with f'traffic_DLThpVol_test_5w-6w_{hour}_{beam_id}' as index\n",
    "    # where it cycles through the values 671-840 for hour and then the beam_ids, which are colnames of input_df\n",
    "    # return input_df.unpivot(index='idx_hour')\n",
    "    return input_df.unpivot(index='idx_hour', variable_name='beam_id').with_columns(\n",
    "        pl.concat_str([pl.lit('traffic_DLThpVol_test'), pl.lit(weeks), pl.col('idx_hour') - range[0], pl.col('beam_id')], separator='_').alias('ID')\n",
    "    ).select(['ID', 'value']).rename({'value': 'Target'})\n",
    "\n",
    "\n",
    "def create_submission_csv(input_df: pl.DataFrame, output_filename='traffic_forecast.csv', archiving_dir='submission-csvs-archive') -> pl.DataFrame:\n",
    "    \"\"\"\n",
    "    Create a submission CSV file from data in input format that's been extended to cover weeks 5-6 and 10-11.\n",
    "    \"\"\"\n",
    "\n",
    "    # Create half submission dataframes\n",
    "    half_submission_5w_6w = create_half_submission_df(input_df, '5w-6w')\n",
    "    half_submission_10w_11w = create_half_submission_df(input_df, '10w-11w')\n",
    "\n",
    "    # Concatenate the two half submission dataframes\n",
    "    submission_df = pl.concat([half_submission_5w_6w, half_submission_10w_11w], how='vertical')\n",
    "\n",
    "    # Save the submission dataframe to a CSV file for submission, and to wandb\n",
    "    submission_df.write_csv(output_filename)\n",
    "    wandb.save(output_filename)\n",
    "\n",
    "    # Save the submission dataframe to a CSV file for archiving\n",
    "    if archiving_dir:\n",
    "        archiving_dir = Path(archiving_dir)\n",
    "        archiving_dir.mkdir(parents=True, exist_ok=True)\n",
    "        submission_df.write_csv(archiving_dir / f'{wandb.run.name}_{output_filename}')\n",
    "\n",
    "    return submission_df"
   ]
  },
  {
   "cell_type": "code",
   "execution_count": 26,
   "metadata": {},
   "outputs": [
    {
     "name": "stdout",
     "output_type": "stream",
     "text": [
      "shape: (168, 2_881)\n",
      "┌──────────┬──────────┬──────────┬──────────┬───┬──────────┬──────────┬──────────┬──────────┐\n",
      "│ idx_hour ┆ 0_0_0    ┆ 0_0_1    ┆ 0_0_2    ┆ … ┆ 29_2_28  ┆ 29_2_29  ┆ 29_2_30  ┆ 29_2_31  │\n",
      "│ ---      ┆ ---      ┆ ---      ┆ ---      ┆   ┆ ---      ┆ ---      ┆ ---      ┆ ---      │\n",
      "│ i64      ┆ f32      ┆ f32      ┆ f32      ┆   ┆ f32      ┆ f32      ┆ f32      ┆ f32      │\n",
      "╞══════════╪══════════╪══════════╪══════════╪═══╪══════════╪══════════╪══════════╪══════════╡\n",
      "│ 840      ┆ 0.466081 ┆ 0.105483 ┆ 0.149764 ┆ … ┆ 0.069541 ┆ 0.089541 ┆ 0.102618 ┆ 0.077246 │\n",
      "│ 841      ┆ 0.349067 ┆ 0.114122 ┆ 0.365288 ┆ … ┆ 0.069849 ┆ 0.087333 ┆ 0.095188 ┆ 0.074722 │\n",
      "│ 842      ┆ 0.321606 ┆ 0.142163 ┆ 0.956922 ┆ … ┆ 0.068924 ┆ 0.085145 ┆ 0.095514 ┆ 0.085771 │\n",
      "│ 843      ┆ 0.256772 ┆ 0.15254  ┆ 0.144487 ┆ … ┆ 0.069559 ┆ 0.085092 ┆ 0.09751  ┆ 0.07592  │\n",
      "│ 844      ┆ 0.201087 ┆ 0.151786 ┆ 0.16632  ┆ … ┆ 0.07105  ┆ 0.084931 ┆ 0.096068 ┆ 0.078594 │\n",
      "│ …        ┆ …        ┆ …        ┆ …        ┆ … ┆ …        ┆ …        ┆ …        ┆ …        │\n",
      "│ 1003     ┆ 0.785802 ┆ 0.19292  ┆ 0.919532 ┆ … ┆ 0.078082 ┆ 0.102592 ┆ 0.157153 ┆ 0.083148 │\n",
      "│ 1004     ┆ 0.905722 ┆ 0.19546  ┆ 0.287623 ┆ … ┆ 0.07749  ┆ 0.104698 ┆ 0.172554 ┆ 0.086122 │\n",
      "│ 1005     ┆ 0.817579 ┆ 0.169659 ┆ 0.364458 ┆ … ┆ 0.07892  ┆ 0.109229 ┆ 0.150083 ┆ 0.088547 │\n",
      "│ 1006     ┆ 0.685358 ┆ 0.158854 ┆ 0.357996 ┆ … ┆ 0.079766 ┆ 0.113014 ┆ 0.169646 ┆ 0.092821 │\n",
      "│ 1007     ┆ 0.489298 ┆ 0.156989 ┆ 0.317734 ┆ … ┆ 0.078231 ┆ 0.107003 ┆ 0.174074 ┆ 0.083157 │\n",
      "└──────────┴──────────┴──────────┴──────────┴───┴──────────┴──────────┴──────────┴──────────┘\n",
      "shape: (168, 2_881)\n",
      "┌──────────┬───────┬───────┬───────┬───┬─────────┬─────────┬─────────┬─────────┐\n",
      "│ idx_hour ┆ 0_0_0 ┆ 0_0_1 ┆ 0_0_2 ┆ … ┆ 29_2_28 ┆ 29_2_29 ┆ 29_2_30 ┆ 29_2_31 │\n",
      "│ ---      ┆ ---   ┆ ---   ┆ ---   ┆   ┆ ---     ┆ ---     ┆ ---     ┆ ---     │\n",
      "│ i64      ┆ i64   ┆ i64   ┆ i64   ┆   ┆ i64     ┆ i64     ┆ i64     ┆ i64     │\n",
      "╞══════════╪═══════╪═══════╪═══════╪═══╪═════════╪═════════╪═════════╪═════════╡\n",
      "│ 1680     ┆ 0     ┆ 0     ┆ 0     ┆ … ┆ 0       ┆ 0       ┆ 0       ┆ 0       │\n",
      "│ 1681     ┆ 0     ┆ 0     ┆ 0     ┆ … ┆ 0       ┆ 0       ┆ 0       ┆ 0       │\n",
      "│ 1682     ┆ 0     ┆ 0     ┆ 0     ┆ … ┆ 0       ┆ 0       ┆ 0       ┆ 0       │\n",
      "│ 1683     ┆ 0     ┆ 0     ┆ 0     ┆ … ┆ 0       ┆ 0       ┆ 0       ┆ 0       │\n",
      "│ 1684     ┆ 0     ┆ 0     ┆ 0     ┆ … ┆ 0       ┆ 0       ┆ 0       ┆ 0       │\n",
      "│ …        ┆ …     ┆ …     ┆ …     ┆ … ┆ …       ┆ …       ┆ …       ┆ …       │\n",
      "│ 1843     ┆ 0     ┆ 0     ┆ 0     ┆ … ┆ 0       ┆ 0       ┆ 0       ┆ 0       │\n",
      "│ 1844     ┆ 0     ┆ 0     ┆ 0     ┆ … ┆ 0       ┆ 0       ┆ 0       ┆ 0       │\n",
      "│ 1845     ┆ 0     ┆ 0     ┆ 0     ┆ … ┆ 0       ┆ 0       ┆ 0       ┆ 0       │\n",
      "│ 1846     ┆ 0     ┆ 0     ┆ 0     ┆ … ┆ 0       ┆ 0       ┆ 0       ┆ 0       │\n",
      "│ 1847     ┆ 0     ┆ 0     ┆ 0     ┆ … ┆ 0       ┆ 0       ┆ 0       ┆ 0       │\n",
      "└──────────┴───────┴───────┴───────┴───┴─────────┴─────────┴─────────┴─────────┘\n"
     ]
    }
   ],
   "source": [
    "if DEBUG:\n",
    "    predictions_wide = predictions_wide.with_columns(idx_hour=pl.Series(range(840, 1008)))\n",
    "    # idxs from for 11th week\n",
    "    dummy_w11 = pl.DataFrame({'idx_hour': list(range(1680, 1848))} | {beam_id: [0] * 168 for beam_id in template_df.columns})\n",
    "    ys_final = pl.concat([predictions_wide, dummy_w11], how='vertical_relaxed')"
   ]
  },
  {
   "cell_type": "code",
   "execution_count": 27,
   "metadata": {},
   "outputs": [],
   "source": [
    "if inference_config['create_submission_csv']:\n",
    "    submission_df = create_submission_csv(ys_final)"
   ]
  },
  {
   "cell_type": "code",
   "execution_count": null,
   "metadata": {},
   "outputs": [],
   "source": []
  }
 ],
 "metadata": {
  "kernelspec": {
   "display_name": "venv",
   "language": "python",
   "name": "python3"
  },
  "language_info": {
   "codemirror_mode": {
    "name": "ipython",
    "version": 3
   },
   "file_extension": ".py",
   "mimetype": "text/x-python",
   "name": "python",
   "nbconvert_exporter": "python",
   "pygments_lexer": "ipython3",
   "version": "3.12.3"
  }
 },
 "nbformat": 4,
 "nbformat_minor": 2
}
