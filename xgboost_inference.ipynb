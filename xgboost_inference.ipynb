{
 "cells": [
  {
   "cell_type": "code",
   "execution_count": null,
   "metadata": {},
   "outputs": [],
   "source": [
    "from pathlib import Path\n",
    "import os\n",
    "os.environ[\"WANDB_NOTEBOOK_NAME\"] = \"xgboost_inference.ipynb\"  # Manually set the notebook name\n",
    "\n",
    "import polars as pl\n",
    "import xgboost as xgb\n",
    "\n",
    "\n",
    "import wandb\n",
    "from tqdm.notebook import tqdm"
   ]
  },
  {
   "cell_type": "code",
   "execution_count": null,
   "metadata": {},
   "outputs": [],
   "source": [
    "DEBUG = True"
   ]
  },
  {
   "cell_type": "code",
   "execution_count": null,
   "metadata": {},
   "outputs": [],
   "source": [
    "# Read the CSV files\n",
    "data_dir = Path('input-data')\n",
    "thp_vol = pl.read_csv(data_dir / 'traffic_DLThpVol.csv')  # This is the target variable\n",
    "prb = pl.read_csv(data_dir / 'traffic_DLPRB.csv')\n",
    "thp_time = pl.read_csv(data_dir / 'traffic_DLThpTime.csv')\n",
    "mr_number = pl.read_csv(data_dir / 'traffic_MR_number.csv')\n",
    "\n",
    "target_dataframes = {\n",
    "    'thp_vol': thp_vol,\n",
    "    'prb': prb,\n",
    "    'thp_time': thp_time,\n",
    "    'mr_number': mr_number\n",
    "}\n",
    "\n",
    "# Rename first col to 'hour'\n",
    "for k, v in target_dataframes.items():\n",
    "    target_dataframes[k] = v.rename({'': \"idx_hour\"})"
   ]
  },
  {
   "cell_type": "markdown",
   "metadata": {},
   "source": [
    "## Multi-Step Inference"
   ]
  },
  {
   "cell_type": "code",
   "execution_count": null,
   "metadata": {},
   "outputs": [],
   "source": [
    "def predict_one_step(target_dataframes: dict[pl.DataFrame], model: xgb.Booster, config: wandb.Config) -> dict[pl.DataFrame]:\n",
    "    \"\"\"\n",
    "    Predict one step into the future using a trained model.\n",
    "    Takes DataFrames of len n, returns DataFrames of len n + 1.\n",
    "    \"\"\"\n",
    "    template_df = next(iter(target_dataframes.values()))\n",
    "    predict_hour = template_df['idx_hour'][-1] + 1\n",
    "\n",
    "    null_row = pl.DataFrame({col: [None] if not col == 'idx_hour' else predict_hour for col in template_df.columns})\n",
    "    target_dataframes = {k: pl.concat([v, null_row], how='vertical_relaxed') for k, v in target_dataframes.items()}\n",
    "\n",
    "    target_names = list(target_dataframes.keys())\n",
    "    feature_dfs = create_all_feature_dfs(target_dataframes, config)\n",
    "    feature_dfs = {k: v.tail(1) for k, v in feature_dfs.items()}  # maybe turn in to lazyframe for efficiency?\n",
    "    X_predict = convert_to_long_format(feature_dfs)\n",
    "    idx_hour, beam_id = X_predict['idx_hour'], X_predict['beam_id']\n",
    "    X_predict = X_predict.drop(dropped_cols)\n",
    "\n",
    "    # We predict only the idx immediately folling the last idx in the input, ie a single row\n",
    "    y_predicted_long = model.predict(X_predict)\n",
    "    y_predicted_long = pl.DataFrame(y_predicted_long, schema=target_names).with_columns([idx_hour, beam_id])\n",
    "    y_predicted_wide = convert_to_wide_format(y_predicted_long, output_df_names=target_names)\n",
    "\n",
    "    return {target_name: pl.concat([target_dataframes[target_name].head(-1), y_predicted_wide[target_name]], how='vertical_relaxed') for target_name in target_names}"
   ]
  },
  {
   "cell_type": "code",
   "execution_count": null,
   "metadata": {},
   "outputs": [
    {
     "data": {
      "text/plain": [
       "(38352, 54)"
      ]
     },
     "metadata": {},
     "output_type": "display_data"
    }
   ],
   "source": [
    "model.predict(X_test).shape\n",
    "X_test.shape"
   ]
  },
  {
   "cell_type": "code",
   "execution_count": null,
   "metadata": {},
   "outputs": [
    {
     "data": {
      "text/html": [
       "<div><style>\n",
       ".dataframe > thead > tr,\n",
       ".dataframe > tbody > tr {\n",
       "  text-align: right;\n",
       "  white-space: pre-wrap;\n",
       "}\n",
       "</style>\n",
       "<small>shape: (120, 800)</small><table border=\"1\" class=\"dataframe\"><thead><tr><th>idx_hour</th><th>0_0_0</th><th>0_0_1</th><th>0_0_2</th><th>0_0_3</th><th>0_0_4</th><th>0_0_5</th><th>0_0_6</th><th>0_0_7</th><th>0_0_8</th><th>0_0_9</th><th>0_0_10</th><th>0_0_11</th><th>0_0_12</th><th>0_0_13</th><th>0_0_14</th><th>0_0_15</th><th>0_0_16</th><th>0_0_17</th><th>0_0_18</th><th>0_0_19</th><th>0_0_20</th><th>0_0_21</th><th>0_0_22</th><th>0_0_23</th><th>0_0_24</th><th>0_0_25</th><th>0_0_26</th><th>0_0_27</th><th>0_0_28</th><th>0_0_29</th><th>0_0_30</th><th>0_0_31</th><th>0_1_0</th><th>0_1_1</th><th>0_1_2</th><th>0_1_3</th><th>&hellip;</th><th>7_2_26</th><th>7_2_27</th><th>7_2_28</th><th>7_2_29</th><th>7_2_30</th><th>7_2_31</th><th>8_0_0</th><th>8_0_1</th><th>8_0_2</th><th>8_0_3</th><th>8_0_4</th><th>8_0_5</th><th>8_0_6</th><th>8_0_7</th><th>8_0_8</th><th>8_0_9</th><th>8_0_10</th><th>8_0_11</th><th>8_0_12</th><th>8_0_13</th><th>8_0_14</th><th>8_0_15</th><th>8_0_16</th><th>8_0_17</th><th>8_0_18</th><th>8_0_19</th><th>8_0_20</th><th>8_0_21</th><th>8_0_22</th><th>8_0_23</th><th>8_0_24</th><th>8_0_25</th><th>8_0_26</th><th>8_0_27</th><th>8_0_28</th><th>8_0_29</th><th>8_0_30</th></tr><tr><td>i64</td><td>f64</td><td>f64</td><td>f64</td><td>f64</td><td>f64</td><td>f64</td><td>f64</td><td>f64</td><td>f64</td><td>f64</td><td>f64</td><td>f64</td><td>f64</td><td>f64</td><td>f64</td><td>f64</td><td>f64</td><td>f64</td><td>f64</td><td>f64</td><td>f64</td><td>f64</td><td>f64</td><td>f64</td><td>f64</td><td>f64</td><td>f64</td><td>f64</td><td>f64</td><td>f64</td><td>f64</td><td>f64</td><td>f64</td><td>f64</td><td>f64</td><td>f64</td><td>&hellip;</td><td>f64</td><td>f64</td><td>f64</td><td>f64</td><td>f64</td><td>f64</td><td>f64</td><td>f64</td><td>f64</td><td>f64</td><td>f64</td><td>f64</td><td>f64</td><td>f64</td><td>f64</td><td>f64</td><td>f64</td><td>f64</td><td>f64</td><td>f64</td><td>f64</td><td>f64</td><td>f64</td><td>f64</td><td>f64</td><td>f64</td><td>f64</td><td>f64</td><td>f64</td><td>f64</td><td>f64</td><td>f64</td><td>f64</td><td>f64</td><td>f64</td><td>f64</td><td>f64</td></tr></thead><tbody><tr><td>280</td><td>1.394905</td><td>0.429558</td><td>0.094461</td><td>0.0</td><td>1.226118</td><td>0.374851</td><td>0.555201</td><td>0.066917</td><td>2.082938</td><td>2.359717</td><td>0.183934</td><td>0.185242</td><td>0.0</td><td>0.711513</td><td>0.882289</td><td>0.447663</td><td>0.033392</td><td>0.423404</td><td>2.290486</td><td>0.061054</td><td>0.791223</td><td>2.932756</td><td>5.758433</td><td>0.154</td><td>0.149582</td><td>0.376519</td><td>0.0</td><td>0.05051</td><td>0.023011</td><td>0.041854</td><td>1.381302</td><td>0.051797</td><td>0.058078</td><td>0.0</td><td>0.0</td><td>0.314952</td><td>&hellip;</td><td>0.354536</td><td>0.0</td><td>0.266968</td><td>0.78298</td><td>0.202991</td><td>0.149535</td><td>0.0</td><td>0.116287</td><td>0.079129</td><td>0.544606</td><td>1.011335</td><td>0.508489</td><td>0.104174</td><td>0.218241</td><td>0.040294</td><td>0.0</td><td>0.0</td><td>0.140568</td><td>1.183508</td><td>0.967467</td><td>0.190622</td><td>0.0</td><td>0.217498</td><td>0.123826</td><td>0.271984</td><td>0.54442</td><td>4.646362</td><td>6.901463</td><td>0.502357</td><td>0.138504</td><td>0.0</td><td>0.0</td><td>0.119672</td><td>0.222028</td><td>0.0</td><td>0.279824</td><td>0.601916</td></tr><tr><td>281</td><td>1.361382</td><td>0.164671</td><td>0.0</td><td>0.157446</td><td>1.818427</td><td>0.890517</td><td>0.207697</td><td>0.0</td><td>0.414001</td><td>1.562626</td><td>0.513849</td><td>0.164002</td><td>1.50566</td><td>0.268562</td><td>0.544356</td><td>0.157376</td><td>0.344504</td><td>0.618929</td><td>3.570099</td><td>0.375449</td><td>0.77161</td><td>1.762884</td><td>1.803496</td><td>0.163807</td><td>0.007883</td><td>0.0</td><td>0.064631</td><td>0.02056</td><td>0.113126</td><td>0.0</td><td>0.096561</td><td>0.0</td><td>0.0</td><td>0.262083</td><td>0.017426</td><td>0.092695</td><td>&hellip;</td><td>0.205197</td><td>0.097805</td><td>0.106249</td><td>0.899108</td><td>0.0</td><td>0.231301</td><td>0.204437</td><td>0.0</td><td>0.214736</td><td>0.296146</td><td>0.604106</td><td>0.003663</td><td>0.635056</td><td>0.203999</td><td>0.0</td><td>0.287216</td><td>0.220086</td><td>0.0</td><td>0.746307</td><td>0.327765</td><td>0.0</td><td>0.370205</td><td>0.0</td><td>0.0</td><td>0.055574</td><td>0.591691</td><td>6.484226</td><td>7.718435</td><td>0.858236</td><td>0.0</td><td>0.0</td><td>0.107582</td><td>0.021942</td><td>0.187172</td><td>0.122306</td><td>0.955285</td><td>0.905826</td></tr><tr><td>282</td><td>0.690832</td><td>0.0</td><td>0.0</td><td>0.060399</td><td>4.306769</td><td>0.930586</td><td>0.0</td><td>0.0</td><td>0.804336</td><td>0.341009</td><td>0.030314</td><td>0.0</td><td>1.035338</td><td>0.574537</td><td>0.176991</td><td>0.153407</td><td>0.0</td><td>0.519305</td><td>0.757881</td><td>0.201867</td><td>0.108562</td><td>0.0</td><td>0.455723</td><td>0.811248</td><td>0.139837</td><td>0.114758</td><td>0.249496</td><td>0.0</td><td>0.297342</td><td>0.167366</td><td>0.154341</td><td>0.0</td><td>0.0</td><td>0.286578</td><td>0.0</td><td>0.0</td><td>&hellip;</td><td>0.019013</td><td>5.218378</td><td>1.22582</td><td>0.551091</td><td>0.209292</td><td>0.002189</td><td>0.012969</td><td>0.0</td><td>0.030771</td><td>0.285711</td><td>0.456578</td><td>0.463025</td><td>0.0</td><td>0.0</td><td>0.0</td><td>0.173658</td><td>0.0</td><td>0.0</td><td>0.475697</td><td>1.644528</td><td>0.426923</td><td>0.085647</td><td>0.035213</td><td>0.181422</td><td>0.740102</td><td>2.088093</td><td>7.475278</td><td>5.392865</td><td>1.588921</td><td>0.213785</td><td>0.381893</td><td>0.241738</td><td>0.059294</td><td>0.066321</td><td>0.0</td><td>1.270753</td><td>0.0</td></tr><tr><td>283</td><td>0.241227</td><td>0.0</td><td>0.0</td><td>0.133241</td><td>5.183051</td><td>0.795806</td><td>0.09242</td><td>0.094404</td><td>1.618754</td><td>0.383314</td><td>0.145809</td><td>0.435745</td><td>1.53758</td><td>0.992989</td><td>0.243869</td><td>0.185276</td><td>0.131322</td><td>0.555589</td><td>1.302331</td><td>0.563051</td><td>0.238022</td><td>0.25776</td><td>0.425951</td><td>0.0</td><td>0.007544</td><td>0.0</td><td>0.290367</td><td>0.0</td><td>0.241948</td><td>0.331998</td><td>0.0</td><td>0.0</td><td>0.067894</td><td>0.137073</td><td>0.193574</td><td>0.0</td><td>&hellip;</td><td>0.054799</td><td>0.336743</td><td>0.457812</td><td>0.36802</td><td>0.505496</td><td>0.105446</td><td>0.215994</td><td>0.0</td><td>0.107215</td><td>0.0</td><td>0.445634</td><td>0.216285</td><td>0.036876</td><td>0.0</td><td>0.0</td><td>0.0</td><td>0.0</td><td>0.054128</td><td>0.340284</td><td>1.491914</td><td>0.56239</td><td>0.106991</td><td>0.0</td><td>0.0</td><td>0.220424</td><td>1.927696</td><td>3.698893</td><td>5.228314</td><td>2.10877</td><td>0.162849</td><td>0.843928</td><td>0.074823</td><td>0.0</td><td>0.0</td><td>0.049861</td><td>0.482616</td><td>0.0</td></tr><tr><td>284</td><td>0.116194</td><td>0.0</td><td>0.0</td><td>0.0</td><td>5.620047</td><td>1.554181</td><td>0.0</td><td>0.018737</td><td>2.086414</td><td>0.0</td><td>0.20496</td><td>0.06057</td><td>2.114513</td><td>0.799929</td><td>0.046056</td><td>0.271809</td><td>0.087906</td><td>1.025342</td><td>3.105536</td><td>0.143985</td><td>0.082518</td><td>0.333745</td><td>0.237563</td><td>0.133263</td><td>0.033766</td><td>0.0</td><td>0.055464</td><td>0.236226</td><td>0.0</td><td>0.0</td><td>0.0</td><td>0.0</td><td>0.153475</td><td>0.603833</td><td>0.0</td><td>0.376693</td><td>&hellip;</td><td>0.029933</td><td>0.0</td><td>0.105368</td><td>0.050666</td><td>0.18248</td><td>0.0</td><td>0.038179</td><td>0.013657</td><td>0.0</td><td>0.136815</td><td>0.405815</td><td>0.080497</td><td>0.288377</td><td>0.189874</td><td>0.0</td><td>0.216828</td><td>0.0</td><td>0.090629</td><td>0.609325</td><td>0.794011</td><td>0.60714</td><td>0.066821</td><td>0.18579</td><td>0.163424</td><td>0.0</td><td>2.436909</td><td>3.36954</td><td>5.008002</td><td>1.325702</td><td>0.322979</td><td>0.038541</td><td>0.185916</td><td>0.188993</td><td>0.005235</td><td>0.0</td><td>1.104151</td><td>0.165653</td></tr><tr><td>&hellip;</td><td>&hellip;</td><td>&hellip;</td><td>&hellip;</td><td>&hellip;</td><td>&hellip;</td><td>&hellip;</td><td>&hellip;</td><td>&hellip;</td><td>&hellip;</td><td>&hellip;</td><td>&hellip;</td><td>&hellip;</td><td>&hellip;</td><td>&hellip;</td><td>&hellip;</td><td>&hellip;</td><td>&hellip;</td><td>&hellip;</td><td>&hellip;</td><td>&hellip;</td><td>&hellip;</td><td>&hellip;</td><td>&hellip;</td><td>&hellip;</td><td>&hellip;</td><td>&hellip;</td><td>&hellip;</td><td>&hellip;</td><td>&hellip;</td><td>&hellip;</td><td>&hellip;</td><td>&hellip;</td><td>&hellip;</td><td>&hellip;</td><td>&hellip;</td><td>&hellip;</td><td>&hellip;</td><td>&hellip;</td><td>&hellip;</td><td>&hellip;</td><td>&hellip;</td><td>&hellip;</td><td>&hellip;</td><td>&hellip;</td><td>&hellip;</td><td>&hellip;</td><td>&hellip;</td><td>&hellip;</td><td>&hellip;</td><td>&hellip;</td><td>&hellip;</td><td>&hellip;</td><td>&hellip;</td><td>&hellip;</td><td>&hellip;</td><td>&hellip;</td><td>&hellip;</td><td>&hellip;</td><td>&hellip;</td><td>&hellip;</td><td>&hellip;</td><td>&hellip;</td><td>&hellip;</td><td>&hellip;</td><td>&hellip;</td><td>&hellip;</td><td>&hellip;</td><td>&hellip;</td><td>&hellip;</td><td>&hellip;</td><td>&hellip;</td><td>&hellip;</td><td>&hellip;</td><td>&hellip;</td></tr><tr><td>395</td><td>0.866853</td><td>0.060494</td><td>23.840542</td><td>0.0</td><td>2.71631</td><td>0.696229</td><td>0.169646</td><td>0.0</td><td>0.197882</td><td>1.606409</td><td>0.824158</td><td>0.206217</td><td>0.811744</td><td>0.439725</td><td>1.190046</td><td>1.169239</td><td>0.010567</td><td>12.296133</td><td>28.877837</td><td>1.066428</td><td>0.797706</td><td>1.408293</td><td>10.95912</td><td>1.4947</td><td>0.041537</td><td>0.295054</td><td>76.899842</td><td>0.0</td><td>0.635374</td><td>0.308932</td><td>0.154891</td><td>0.238477</td><td>0.057884</td><td>0.693554</td><td>0.0</td><td>0.91502</td><td>&hellip;</td><td>0.36705</td><td>0.253666</td><td>0.404308</td><td>2.746635</td><td>0.243393</td><td>0.0</td><td>0.093298</td><td>0.0</td><td>0.0</td><td>0.470833</td><td>0.612456</td><td>0.118999</td><td>0.207755</td><td>0.054382</td><td>0.0</td><td>0.127565</td><td>0.010687</td><td>0.0</td><td>0.338718</td><td>1.223425</td><td>1.100356</td><td>0.513492</td><td>0.0</td><td>0.050423</td><td>1.013315</td><td>4.617613</td><td>1.913166</td><td>10.275319</td><td>3.561647</td><td>0.362016</td><td>0.0</td><td>0.0</td><td>0.0</td><td>0.308471</td><td>0.089815</td><td>3.03349</td><td>0.310813</td></tr><tr><td>396</td><td>0.180718</td><td>0.0</td><td>55.870284</td><td>0.0</td><td>0.280475</td><td>0.265168</td><td>1.026338</td><td>0.120535</td><td>1.432047</td><td>0.0</td><td>0.90414</td><td>0.75382</td><td>0.0</td><td>0.0</td><td>0.70288</td><td>0.482404</td><td>0.0</td><td>6.603545</td><td>8.085353</td><td>1.632242</td><td>0.430794</td><td>0.829319</td><td>3.620469</td><td>0.734741</td><td>0.0</td><td>0.0</td><td>9.873692</td><td>0.0</td><td>0.680461</td><td>0.528039</td><td>0.0</td><td>0.226355</td><td>0.0</td><td>0.07923</td><td>0.0</td><td>1.003442</td><td>&hellip;</td><td>0.01573</td><td>0.686935</td><td>1.33025</td><td>0.820575</td><td>0.13542</td><td>0.0</td><td>0.0</td><td>0.0</td><td>0.053656</td><td>0.167889</td><td>0.436016</td><td>0.682557</td><td>0.291408</td><td>0.380079</td><td>0.0</td><td>0.211704</td><td>0.0</td><td>0.0</td><td>0.630729</td><td>0.719716</td><td>0.676325</td><td>0.05256</td><td>0.0</td><td>0.042565</td><td>0.914567</td><td>3.111639</td><td>2.827034</td><td>7.198893</td><td>1.928745</td><td>0.0</td><td>0.180342</td><td>0.0</td><td>0.165236</td><td>0.078116</td><td>0.305266</td><td>0.924199</td><td>0.980539</td></tr><tr><td>397</td><td>0.624104</td><td>0.101212</td><td>0.0</td><td>0.0</td><td>0.432237</td><td>0.285216</td><td>0.417385</td><td>0.0</td><td>0.793596</td><td>1.069535</td><td>0.177304</td><td>0.177004</td><td>0.192179</td><td>1.031682</td><td>0.437941</td><td>1.726503</td><td>0.10391</td><td>1.009184</td><td>2.438767</td><td>0.15185</td><td>0.777208</td><td>1.432838</td><td>3.528387</td><td>0.824026</td><td>0.0</td><td>0.164852</td><td>5.43519</td><td>0.0</td><td>0.0</td><td>0.195098</td><td>0.148888</td><td>0.0</td><td>0.195597</td><td>0.052875</td><td>0.134794</td><td>0.454587</td><td>&hellip;</td><td>0.192635</td><td>1.243714</td><td>0.15779</td><td>0.022784</td><td>0.0</td><td>0.0</td><td>0.154473</td><td>0.136831</td><td>0.0</td><td>0.367299</td><td>0.288833</td><td>0.047654</td><td>0.0</td><td>0.044122</td><td>0.206223</td><td>0.01134</td><td>0.023025</td><td>0.0</td><td>0.994231</td><td>1.405295</td><td>0.399594</td><td>0.050588</td><td>0.128999</td><td>0.0</td><td>1.249393</td><td>2.512841</td><td>2.848478</td><td>7.933981</td><td>2.136853</td><td>0.204602</td><td>0.236151</td><td>0.076319</td><td>0.0</td><td>0.577113</td><td>0.462353</td><td>0.945524</td><td>0.249167</td></tr><tr><td>398</td><td>0.279431</td><td>0.0</td><td>0.234371</td><td>0.0</td><td>0.099509</td><td>0.960125</td><td>0.0</td><td>0.014794</td><td>0.462177</td><td>1.654164</td><td>0.213959</td><td>0.180923</td><td>0.346395</td><td>4.818276</td><td>0.944466</td><td>0.819463</td><td>0.014055</td><td>1.459292</td><td>5.024005</td><td>0.1152</td><td>0.632807</td><td>0.76857</td><td>0.984666</td><td>0.970977</td><td>0.0</td><td>0.058807</td><td>0.38958</td><td>0.09802</td><td>0.0</td><td>0.280848</td><td>0.209541</td><td>0.0</td><td>0.0</td><td>0.0</td><td>0.0</td><td>0.414549</td><td>&hellip;</td><td>0.0</td><td>0.261838</td><td>0.17454</td><td>0.073404</td><td>0.0</td><td>0.0</td><td>0.0</td><td>0.077856</td><td>0.0</td><td>0.125863</td><td>0.059378</td><td>0.864292</td><td>0.153123</td><td>0.089032</td><td>0.204714</td><td>0.0</td><td>0.041575</td><td>0.199477</td><td>0.128244</td><td>1.020702</td><td>0.499593</td><td>0.100492</td><td>0.20931</td><td>0.127876</td><td>0.111976</td><td>1.873898</td><td>0.835592</td><td>6.956599</td><td>0.600975</td><td>0.135257</td><td>0.0</td><td>0.045188</td><td>0.049552</td><td>0.062312</td><td>0.016458</td><td>0.425627</td><td>0.851423</td></tr><tr><td>399</td><td>0.423216</td><td>0.096952</td><td>0.0</td><td>0.080912</td><td>0.326296</td><td>0.0</td><td>0.12406</td><td>0.096386</td><td>1.117871</td><td>1.205607</td><td>0.212986</td><td>0.0</td><td>0.585459</td><td>1.933617</td><td>1.269501</td><td>0.559622</td><td>0.107714</td><td>1.042602</td><td>5.44947</td><td>0.314388</td><td>0.0</td><td>0.616449</td><td>0.796853</td><td>1.108213</td><td>0.017554</td><td>0.161621</td><td>0.0</td><td>0.0</td><td>0.087075</td><td>0.178272</td><td>0.0</td><td>0.0</td><td>0.055621</td><td>0.138237</td><td>0.452213</td><td>0.258883</td><td>&hellip;</td><td>0.448979</td><td>0.376689</td><td>0.129059</td><td>0.355229</td><td>0.045102</td><td>0.0</td><td>0.0</td><td>0.0</td><td>0.050582</td><td>0.042599</td><td>0.394194</td><td>3.199615</td><td>1.231384</td><td>0.175372</td><td>0.224746</td><td>0.0</td><td>0.0</td><td>0.0</td><td>0.272897</td><td>0.822952</td><td>0.574984</td><td>0.088533</td><td>0.1806</td><td>0.0</td><td>0.628068</td><td>2.819004</td><td>1.012273</td><td>6.795228</td><td>1.552637</td><td>0.020124</td><td>0.0</td><td>0.0</td><td>0.061305</td><td>0.116182</td><td>0.705867</td><td>1.489329</td><td>0.681226</td></tr></tbody></table></div>"
      ],
      "text/plain": [
       "shape: (120, 800)\n",
       "┌──────────┬──────────┬──────────┬───────────┬───┬──────────┬──────────┬──────────┬──────────┐\n",
       "│ idx_hour ┆ 0_0_0    ┆ 0_0_1    ┆ 0_0_2     ┆ … ┆ 8_0_27   ┆ 8_0_28   ┆ 8_0_29   ┆ 8_0_30   │\n",
       "│ ---      ┆ ---      ┆ ---      ┆ ---       ┆   ┆ ---      ┆ ---      ┆ ---      ┆ ---      │\n",
       "│ i64      ┆ f64      ┆ f64      ┆ f64       ┆   ┆ f64      ┆ f64      ┆ f64      ┆ f64      │\n",
       "╞══════════╪══════════╪══════════╪═══════════╪═══╪══════════╪══════════╪══════════╪══════════╡\n",
       "│ 280      ┆ 1.394905 ┆ 0.429558 ┆ 0.094461  ┆ … ┆ 0.222028 ┆ 0.0      ┆ 0.279824 ┆ 0.601916 │\n",
       "│ 281      ┆ 1.361382 ┆ 0.164671 ┆ 0.0       ┆ … ┆ 0.187172 ┆ 0.122306 ┆ 0.955285 ┆ 0.905826 │\n",
       "│ 282      ┆ 0.690832 ┆ 0.0      ┆ 0.0       ┆ … ┆ 0.066321 ┆ 0.0      ┆ 1.270753 ┆ 0.0      │\n",
       "│ 283      ┆ 0.241227 ┆ 0.0      ┆ 0.0       ┆ … ┆ 0.0      ┆ 0.049861 ┆ 0.482616 ┆ 0.0      │\n",
       "│ 284      ┆ 0.116194 ┆ 0.0      ┆ 0.0       ┆ … ┆ 0.005235 ┆ 0.0      ┆ 1.104151 ┆ 0.165653 │\n",
       "│ …        ┆ …        ┆ …        ┆ …         ┆ … ┆ …        ┆ …        ┆ …        ┆ …        │\n",
       "│ 395      ┆ 0.866853 ┆ 0.060494 ┆ 23.840542 ┆ … ┆ 0.308471 ┆ 0.089815 ┆ 3.03349  ┆ 0.310813 │\n",
       "│ 396      ┆ 0.180718 ┆ 0.0      ┆ 55.870284 ┆ … ┆ 0.078116 ┆ 0.305266 ┆ 0.924199 ┆ 0.980539 │\n",
       "│ 397      ┆ 0.624104 ┆ 0.101212 ┆ 0.0       ┆ … ┆ 0.577113 ┆ 0.462353 ┆ 0.945524 ┆ 0.249167 │\n",
       "│ 398      ┆ 0.279431 ┆ 0.0      ┆ 0.234371  ┆ … ┆ 0.062312 ┆ 0.016458 ┆ 0.425627 ┆ 0.851423 │\n",
       "│ 399      ┆ 0.423216 ┆ 0.096952 ┆ 0.0       ┆ … ┆ 0.116182 ┆ 0.705867 ┆ 1.489329 ┆ 0.681226 │\n",
       "└──────────┴──────────┴──────────┴───────────┴───┴──────────┴──────────┴──────────┴──────────┘"
      ]
     },
     "metadata": {},
     "output_type": "display_data"
    }
   ],
   "source": [
    "test_dataframes['thp_vol']"
   ]
  },
  {
   "cell_type": "code",
   "execution_count": null,
   "metadata": {},
   "outputs": [
    {
     "name": "stderr",
     "output_type": "stream",
     "text": [
      "/tmp/ipykernel_2432706/3820107680.py:19: DeprecationWarning:\n",
      "\n",
      "The argument `columns` for `DataFrame.pivot` is deprecated. It has been renamed to `on`.\n",
      "\n"
     ]
    }
   ],
   "source": [
    "y = predict_one_step(test_dataframes, model, wandb.config)"
   ]
  },
  {
   "cell_type": "code",
   "execution_count": null,
   "metadata": {},
   "outputs": [
    {
     "data": {
      "text/html": [
       "<div><style>\n",
       ".dataframe > thead > tr,\n",
       ".dataframe > tbody > tr {\n",
       "  text-align: right;\n",
       "  white-space: pre-wrap;\n",
       "}\n",
       "</style>\n",
       "<small>shape: (121, 800)</small><table border=\"1\" class=\"dataframe\"><thead><tr><th>idx_hour</th><th>0_0_0</th><th>0_0_1</th><th>0_0_2</th><th>0_0_3</th><th>0_0_4</th><th>0_0_5</th><th>0_0_6</th><th>0_0_7</th><th>0_0_8</th><th>0_0_9</th><th>0_0_10</th><th>0_0_11</th><th>0_0_12</th><th>0_0_13</th><th>0_0_14</th><th>0_0_15</th><th>0_0_16</th><th>0_0_17</th><th>0_0_18</th><th>0_0_19</th><th>0_0_20</th><th>0_0_21</th><th>0_0_22</th><th>0_0_23</th><th>0_0_24</th><th>0_0_25</th><th>0_0_26</th><th>0_0_27</th><th>0_0_28</th><th>0_0_29</th><th>0_0_30</th><th>0_0_31</th><th>0_1_0</th><th>0_1_1</th><th>0_1_2</th><th>0_1_3</th><th>&hellip;</th><th>7_2_26</th><th>7_2_27</th><th>7_2_28</th><th>7_2_29</th><th>7_2_30</th><th>7_2_31</th><th>8_0_0</th><th>8_0_1</th><th>8_0_2</th><th>8_0_3</th><th>8_0_4</th><th>8_0_5</th><th>8_0_6</th><th>8_0_7</th><th>8_0_8</th><th>8_0_9</th><th>8_0_10</th><th>8_0_11</th><th>8_0_12</th><th>8_0_13</th><th>8_0_14</th><th>8_0_15</th><th>8_0_16</th><th>8_0_17</th><th>8_0_18</th><th>8_0_19</th><th>8_0_20</th><th>8_0_21</th><th>8_0_22</th><th>8_0_23</th><th>8_0_24</th><th>8_0_25</th><th>8_0_26</th><th>8_0_27</th><th>8_0_28</th><th>8_0_29</th><th>8_0_30</th></tr><tr><td>i64</td><td>f64</td><td>f64</td><td>f64</td><td>f64</td><td>f64</td><td>f64</td><td>f64</td><td>f64</td><td>f64</td><td>f64</td><td>f64</td><td>f64</td><td>f64</td><td>f64</td><td>f64</td><td>f64</td><td>f64</td><td>f64</td><td>f64</td><td>f64</td><td>f64</td><td>f64</td><td>f64</td><td>f64</td><td>f64</td><td>f64</td><td>f64</td><td>f64</td><td>f64</td><td>f64</td><td>f64</td><td>f64</td><td>f64</td><td>f64</td><td>f64</td><td>f64</td><td>&hellip;</td><td>f64</td><td>f64</td><td>f64</td><td>f64</td><td>f64</td><td>f64</td><td>f64</td><td>f64</td><td>f64</td><td>f64</td><td>f64</td><td>f64</td><td>f64</td><td>f64</td><td>f64</td><td>f64</td><td>f64</td><td>f64</td><td>f64</td><td>f64</td><td>f64</td><td>f64</td><td>f64</td><td>f64</td><td>f64</td><td>f64</td><td>f64</td><td>f64</td><td>f64</td><td>f64</td><td>f64</td><td>f64</td><td>f64</td><td>f64</td><td>f64</td><td>f64</td><td>f64</td></tr></thead><tbody><tr><td>280</td><td>1.394905</td><td>0.429558</td><td>0.094461</td><td>0.0</td><td>1.226118</td><td>0.374851</td><td>0.555201</td><td>0.066917</td><td>2.082938</td><td>2.359717</td><td>0.183934</td><td>0.185242</td><td>0.0</td><td>0.711513</td><td>0.882289</td><td>0.447663</td><td>0.033392</td><td>0.423404</td><td>2.290486</td><td>0.061054</td><td>0.791223</td><td>2.932756</td><td>5.758433</td><td>0.154</td><td>0.149582</td><td>0.376519</td><td>0.0</td><td>0.05051</td><td>0.023011</td><td>0.041854</td><td>1.381302</td><td>0.051797</td><td>0.058078</td><td>0.0</td><td>0.0</td><td>0.314952</td><td>&hellip;</td><td>0.354536</td><td>0.0</td><td>0.266968</td><td>0.78298</td><td>0.202991</td><td>0.149535</td><td>0.0</td><td>0.116287</td><td>0.079129</td><td>0.544606</td><td>1.011335</td><td>0.508489</td><td>0.104174</td><td>0.218241</td><td>0.040294</td><td>0.0</td><td>0.0</td><td>0.140568</td><td>1.183508</td><td>0.967467</td><td>0.190622</td><td>0.0</td><td>0.217498</td><td>0.123826</td><td>0.271984</td><td>0.54442</td><td>4.646362</td><td>6.901463</td><td>0.502357</td><td>0.138504</td><td>0.0</td><td>0.0</td><td>0.119672</td><td>0.222028</td><td>0.0</td><td>0.279824</td><td>0.601916</td></tr><tr><td>281</td><td>1.361382</td><td>0.164671</td><td>0.0</td><td>0.157446</td><td>1.818427</td><td>0.890517</td><td>0.207697</td><td>0.0</td><td>0.414001</td><td>1.562626</td><td>0.513849</td><td>0.164002</td><td>1.50566</td><td>0.268562</td><td>0.544356</td><td>0.157376</td><td>0.344504</td><td>0.618929</td><td>3.570099</td><td>0.375449</td><td>0.77161</td><td>1.762884</td><td>1.803496</td><td>0.163807</td><td>0.007883</td><td>0.0</td><td>0.064631</td><td>0.02056</td><td>0.113126</td><td>0.0</td><td>0.096561</td><td>0.0</td><td>0.0</td><td>0.262083</td><td>0.017426</td><td>0.092695</td><td>&hellip;</td><td>0.205197</td><td>0.097805</td><td>0.106249</td><td>0.899108</td><td>0.0</td><td>0.231301</td><td>0.204437</td><td>0.0</td><td>0.214736</td><td>0.296146</td><td>0.604106</td><td>0.003663</td><td>0.635056</td><td>0.203999</td><td>0.0</td><td>0.287216</td><td>0.220086</td><td>0.0</td><td>0.746307</td><td>0.327765</td><td>0.0</td><td>0.370205</td><td>0.0</td><td>0.0</td><td>0.055574</td><td>0.591691</td><td>6.484226</td><td>7.718435</td><td>0.858236</td><td>0.0</td><td>0.0</td><td>0.107582</td><td>0.021942</td><td>0.187172</td><td>0.122306</td><td>0.955285</td><td>0.905826</td></tr><tr><td>282</td><td>0.690832</td><td>0.0</td><td>0.0</td><td>0.060399</td><td>4.306769</td><td>0.930586</td><td>0.0</td><td>0.0</td><td>0.804336</td><td>0.341009</td><td>0.030314</td><td>0.0</td><td>1.035338</td><td>0.574537</td><td>0.176991</td><td>0.153407</td><td>0.0</td><td>0.519305</td><td>0.757881</td><td>0.201867</td><td>0.108562</td><td>0.0</td><td>0.455723</td><td>0.811248</td><td>0.139837</td><td>0.114758</td><td>0.249496</td><td>0.0</td><td>0.297342</td><td>0.167366</td><td>0.154341</td><td>0.0</td><td>0.0</td><td>0.286578</td><td>0.0</td><td>0.0</td><td>&hellip;</td><td>0.019013</td><td>5.218378</td><td>1.22582</td><td>0.551091</td><td>0.209292</td><td>0.002189</td><td>0.012969</td><td>0.0</td><td>0.030771</td><td>0.285711</td><td>0.456578</td><td>0.463025</td><td>0.0</td><td>0.0</td><td>0.0</td><td>0.173658</td><td>0.0</td><td>0.0</td><td>0.475697</td><td>1.644528</td><td>0.426923</td><td>0.085647</td><td>0.035213</td><td>0.181422</td><td>0.740102</td><td>2.088093</td><td>7.475278</td><td>5.392865</td><td>1.588921</td><td>0.213785</td><td>0.381893</td><td>0.241738</td><td>0.059294</td><td>0.066321</td><td>0.0</td><td>1.270753</td><td>0.0</td></tr><tr><td>283</td><td>0.241227</td><td>0.0</td><td>0.0</td><td>0.133241</td><td>5.183051</td><td>0.795806</td><td>0.09242</td><td>0.094404</td><td>1.618754</td><td>0.383314</td><td>0.145809</td><td>0.435745</td><td>1.53758</td><td>0.992989</td><td>0.243869</td><td>0.185276</td><td>0.131322</td><td>0.555589</td><td>1.302331</td><td>0.563051</td><td>0.238022</td><td>0.25776</td><td>0.425951</td><td>0.0</td><td>0.007544</td><td>0.0</td><td>0.290367</td><td>0.0</td><td>0.241948</td><td>0.331998</td><td>0.0</td><td>0.0</td><td>0.067894</td><td>0.137073</td><td>0.193574</td><td>0.0</td><td>&hellip;</td><td>0.054799</td><td>0.336743</td><td>0.457812</td><td>0.36802</td><td>0.505496</td><td>0.105446</td><td>0.215994</td><td>0.0</td><td>0.107215</td><td>0.0</td><td>0.445634</td><td>0.216285</td><td>0.036876</td><td>0.0</td><td>0.0</td><td>0.0</td><td>0.0</td><td>0.054128</td><td>0.340284</td><td>1.491914</td><td>0.56239</td><td>0.106991</td><td>0.0</td><td>0.0</td><td>0.220424</td><td>1.927696</td><td>3.698893</td><td>5.228314</td><td>2.10877</td><td>0.162849</td><td>0.843928</td><td>0.074823</td><td>0.0</td><td>0.0</td><td>0.049861</td><td>0.482616</td><td>0.0</td></tr><tr><td>284</td><td>0.116194</td><td>0.0</td><td>0.0</td><td>0.0</td><td>5.620047</td><td>1.554181</td><td>0.0</td><td>0.018737</td><td>2.086414</td><td>0.0</td><td>0.20496</td><td>0.06057</td><td>2.114513</td><td>0.799929</td><td>0.046056</td><td>0.271809</td><td>0.087906</td><td>1.025342</td><td>3.105536</td><td>0.143985</td><td>0.082518</td><td>0.333745</td><td>0.237563</td><td>0.133263</td><td>0.033766</td><td>0.0</td><td>0.055464</td><td>0.236226</td><td>0.0</td><td>0.0</td><td>0.0</td><td>0.0</td><td>0.153475</td><td>0.603833</td><td>0.0</td><td>0.376693</td><td>&hellip;</td><td>0.029933</td><td>0.0</td><td>0.105368</td><td>0.050666</td><td>0.18248</td><td>0.0</td><td>0.038179</td><td>0.013657</td><td>0.0</td><td>0.136815</td><td>0.405815</td><td>0.080497</td><td>0.288377</td><td>0.189874</td><td>0.0</td><td>0.216828</td><td>0.0</td><td>0.090629</td><td>0.609325</td><td>0.794011</td><td>0.60714</td><td>0.066821</td><td>0.18579</td><td>0.163424</td><td>0.0</td><td>2.436909</td><td>3.36954</td><td>5.008002</td><td>1.325702</td><td>0.322979</td><td>0.038541</td><td>0.185916</td><td>0.188993</td><td>0.005235</td><td>0.0</td><td>1.104151</td><td>0.165653</td></tr><tr><td>&hellip;</td><td>&hellip;</td><td>&hellip;</td><td>&hellip;</td><td>&hellip;</td><td>&hellip;</td><td>&hellip;</td><td>&hellip;</td><td>&hellip;</td><td>&hellip;</td><td>&hellip;</td><td>&hellip;</td><td>&hellip;</td><td>&hellip;</td><td>&hellip;</td><td>&hellip;</td><td>&hellip;</td><td>&hellip;</td><td>&hellip;</td><td>&hellip;</td><td>&hellip;</td><td>&hellip;</td><td>&hellip;</td><td>&hellip;</td><td>&hellip;</td><td>&hellip;</td><td>&hellip;</td><td>&hellip;</td><td>&hellip;</td><td>&hellip;</td><td>&hellip;</td><td>&hellip;</td><td>&hellip;</td><td>&hellip;</td><td>&hellip;</td><td>&hellip;</td><td>&hellip;</td><td>&hellip;</td><td>&hellip;</td><td>&hellip;</td><td>&hellip;</td><td>&hellip;</td><td>&hellip;</td><td>&hellip;</td><td>&hellip;</td><td>&hellip;</td><td>&hellip;</td><td>&hellip;</td><td>&hellip;</td><td>&hellip;</td><td>&hellip;</td><td>&hellip;</td><td>&hellip;</td><td>&hellip;</td><td>&hellip;</td><td>&hellip;</td><td>&hellip;</td><td>&hellip;</td><td>&hellip;</td><td>&hellip;</td><td>&hellip;</td><td>&hellip;</td><td>&hellip;</td><td>&hellip;</td><td>&hellip;</td><td>&hellip;</td><td>&hellip;</td><td>&hellip;</td><td>&hellip;</td><td>&hellip;</td><td>&hellip;</td><td>&hellip;</td><td>&hellip;</td><td>&hellip;</td><td>&hellip;</td></tr><tr><td>396</td><td>0.180718</td><td>0.0</td><td>55.870284</td><td>0.0</td><td>0.280475</td><td>0.265168</td><td>1.026338</td><td>0.120535</td><td>1.432047</td><td>0.0</td><td>0.90414</td><td>0.75382</td><td>0.0</td><td>0.0</td><td>0.70288</td><td>0.482404</td><td>0.0</td><td>6.603545</td><td>8.085353</td><td>1.632242</td><td>0.430794</td><td>0.829319</td><td>3.620469</td><td>0.734741</td><td>0.0</td><td>0.0</td><td>9.873692</td><td>0.0</td><td>0.680461</td><td>0.528039</td><td>0.0</td><td>0.226355</td><td>0.0</td><td>0.07923</td><td>0.0</td><td>1.003442</td><td>&hellip;</td><td>0.01573</td><td>0.686935</td><td>1.33025</td><td>0.820575</td><td>0.13542</td><td>0.0</td><td>0.0</td><td>0.0</td><td>0.053656</td><td>0.167889</td><td>0.436016</td><td>0.682557</td><td>0.291408</td><td>0.380079</td><td>0.0</td><td>0.211704</td><td>0.0</td><td>0.0</td><td>0.630729</td><td>0.719716</td><td>0.676325</td><td>0.05256</td><td>0.0</td><td>0.042565</td><td>0.914567</td><td>3.111639</td><td>2.827034</td><td>7.198893</td><td>1.928745</td><td>0.0</td><td>0.180342</td><td>0.0</td><td>0.165236</td><td>0.078116</td><td>0.305266</td><td>0.924199</td><td>0.980539</td></tr><tr><td>397</td><td>0.624104</td><td>0.101212</td><td>0.0</td><td>0.0</td><td>0.432237</td><td>0.285216</td><td>0.417385</td><td>0.0</td><td>0.793596</td><td>1.069535</td><td>0.177304</td><td>0.177004</td><td>0.192179</td><td>1.031682</td><td>0.437941</td><td>1.726503</td><td>0.10391</td><td>1.009184</td><td>2.438767</td><td>0.15185</td><td>0.777208</td><td>1.432838</td><td>3.528387</td><td>0.824026</td><td>0.0</td><td>0.164852</td><td>5.43519</td><td>0.0</td><td>0.0</td><td>0.195098</td><td>0.148888</td><td>0.0</td><td>0.195597</td><td>0.052875</td><td>0.134794</td><td>0.454587</td><td>&hellip;</td><td>0.192635</td><td>1.243714</td><td>0.15779</td><td>0.022784</td><td>0.0</td><td>0.0</td><td>0.154473</td><td>0.136831</td><td>0.0</td><td>0.367299</td><td>0.288833</td><td>0.047654</td><td>0.0</td><td>0.044122</td><td>0.206223</td><td>0.01134</td><td>0.023025</td><td>0.0</td><td>0.994231</td><td>1.405295</td><td>0.399594</td><td>0.050588</td><td>0.128999</td><td>0.0</td><td>1.249393</td><td>2.512841</td><td>2.848478</td><td>7.933981</td><td>2.136853</td><td>0.204602</td><td>0.236151</td><td>0.076319</td><td>0.0</td><td>0.577113</td><td>0.462353</td><td>0.945524</td><td>0.249167</td></tr><tr><td>398</td><td>0.279431</td><td>0.0</td><td>0.234371</td><td>0.0</td><td>0.099509</td><td>0.960125</td><td>0.0</td><td>0.014794</td><td>0.462177</td><td>1.654164</td><td>0.213959</td><td>0.180923</td><td>0.346395</td><td>4.818276</td><td>0.944466</td><td>0.819463</td><td>0.014055</td><td>1.459292</td><td>5.024005</td><td>0.1152</td><td>0.632807</td><td>0.76857</td><td>0.984666</td><td>0.970977</td><td>0.0</td><td>0.058807</td><td>0.38958</td><td>0.09802</td><td>0.0</td><td>0.280848</td><td>0.209541</td><td>0.0</td><td>0.0</td><td>0.0</td><td>0.0</td><td>0.414549</td><td>&hellip;</td><td>0.0</td><td>0.261838</td><td>0.17454</td><td>0.073404</td><td>0.0</td><td>0.0</td><td>0.0</td><td>0.077856</td><td>0.0</td><td>0.125863</td><td>0.059378</td><td>0.864292</td><td>0.153123</td><td>0.089032</td><td>0.204714</td><td>0.0</td><td>0.041575</td><td>0.199477</td><td>0.128244</td><td>1.020702</td><td>0.499593</td><td>0.100492</td><td>0.20931</td><td>0.127876</td><td>0.111976</td><td>1.873898</td><td>0.835592</td><td>6.956599</td><td>0.600975</td><td>0.135257</td><td>0.0</td><td>0.045188</td><td>0.049552</td><td>0.062312</td><td>0.016458</td><td>0.425627</td><td>0.851423</td></tr><tr><td>399</td><td>0.423216</td><td>0.096952</td><td>0.0</td><td>0.080912</td><td>0.326296</td><td>0.0</td><td>0.12406</td><td>0.096386</td><td>1.117871</td><td>1.205607</td><td>0.212986</td><td>0.0</td><td>0.585459</td><td>1.933617</td><td>1.269501</td><td>0.559622</td><td>0.107714</td><td>1.042602</td><td>5.44947</td><td>0.314388</td><td>0.0</td><td>0.616449</td><td>0.796853</td><td>1.108213</td><td>0.017554</td><td>0.161621</td><td>0.0</td><td>0.0</td><td>0.087075</td><td>0.178272</td><td>0.0</td><td>0.0</td><td>0.055621</td><td>0.138237</td><td>0.452213</td><td>0.258883</td><td>&hellip;</td><td>0.448979</td><td>0.376689</td><td>0.129059</td><td>0.355229</td><td>0.045102</td><td>0.0</td><td>0.0</td><td>0.0</td><td>0.050582</td><td>0.042599</td><td>0.394194</td><td>3.199615</td><td>1.231384</td><td>0.175372</td><td>0.224746</td><td>0.0</td><td>0.0</td><td>0.0</td><td>0.272897</td><td>0.822952</td><td>0.574984</td><td>0.088533</td><td>0.1806</td><td>0.0</td><td>0.628068</td><td>2.819004</td><td>1.012273</td><td>6.795228</td><td>1.552637</td><td>0.020124</td><td>0.0</td><td>0.0</td><td>0.061305</td><td>0.116182</td><td>0.705867</td><td>1.489329</td><td>0.681226</td></tr><tr><td>400</td><td>0.47074</td><td>0.22226</td><td>0.347276</td><td>0.078788</td><td>0.374089</td><td>0.457401</td><td>0.187557</td><td>0.067332</td><td>0.945045</td><td>1.19748</td><td>0.449955</td><td>0.175476</td><td>0.49856</td><td>1.146323</td><td>1.009513</td><td>0.643982</td><td>0.089325</td><td>1.697312</td><td>6.439814</td><td>0.582764</td><td>0.506951</td><td>0.968456</td><td>1.617708</td><td>0.663849</td><td>0.071559</td><td>0.130968</td><td>1.787754</td><td>0.073424</td><td>0.112482</td><td>0.247455</td><td>0.106881</td><td>0.070292</td><td>0.066053</td><td>0.162407</td><td>0.166222</td><td>0.256945</td><td>&hellip;</td><td>0.135119</td><td>0.444328</td><td>0.38976</td><td>0.480686</td><td>0.0696</td><td>0.06795</td><td>0.066053</td><td>0.068909</td><td>0.067671</td><td>0.1412</td><td>0.414768</td><td>2.07727</td><td>0.634065</td><td>0.111546</td><td>0.07308</td><td>0.072554</td><td>0.069546</td><td>0.070076</td><td>0.517394</td><td>1.191108</td><td>0.672983</td><td>0.142102</td><td>0.085403</td><td>0.077894</td><td>0.666351</td><td>2.592865</td><td>1.839306</td><td>5.519963</td><td>1.440268</td><td>0.252715</td><td>0.086017</td><td>0.098931</td><td>0.078817</td><td>0.249649</td><td>0.390952</td><td>0.862833</td><td>0.621561</td></tr></tbody></table></div>"
      ],
      "text/plain": [
       "shape: (121, 800)\n",
       "┌──────────┬──────────┬──────────┬───────────┬───┬──────────┬──────────┬──────────┬──────────┐\n",
       "│ idx_hour ┆ 0_0_0    ┆ 0_0_1    ┆ 0_0_2     ┆ … ┆ 8_0_27   ┆ 8_0_28   ┆ 8_0_29   ┆ 8_0_30   │\n",
       "│ ---      ┆ ---      ┆ ---      ┆ ---       ┆   ┆ ---      ┆ ---      ┆ ---      ┆ ---      │\n",
       "│ i64      ┆ f64      ┆ f64      ┆ f64       ┆   ┆ f64      ┆ f64      ┆ f64      ┆ f64      │\n",
       "╞══════════╪══════════╪══════════╪═══════════╪═══╪══════════╪══════════╪══════════╪══════════╡\n",
       "│ 280      ┆ 1.394905 ┆ 0.429558 ┆ 0.094461  ┆ … ┆ 0.222028 ┆ 0.0      ┆ 0.279824 ┆ 0.601916 │\n",
       "│ 281      ┆ 1.361382 ┆ 0.164671 ┆ 0.0       ┆ … ┆ 0.187172 ┆ 0.122306 ┆ 0.955285 ┆ 0.905826 │\n",
       "│ 282      ┆ 0.690832 ┆ 0.0      ┆ 0.0       ┆ … ┆ 0.066321 ┆ 0.0      ┆ 1.270753 ┆ 0.0      │\n",
       "│ 283      ┆ 0.241227 ┆ 0.0      ┆ 0.0       ┆ … ┆ 0.0      ┆ 0.049861 ┆ 0.482616 ┆ 0.0      │\n",
       "│ 284      ┆ 0.116194 ┆ 0.0      ┆ 0.0       ┆ … ┆ 0.005235 ┆ 0.0      ┆ 1.104151 ┆ 0.165653 │\n",
       "│ …        ┆ …        ┆ …        ┆ …         ┆ … ┆ …        ┆ …        ┆ …        ┆ …        │\n",
       "│ 396      ┆ 0.180718 ┆ 0.0      ┆ 55.870284 ┆ … ┆ 0.078116 ┆ 0.305266 ┆ 0.924199 ┆ 0.980539 │\n",
       "│ 397      ┆ 0.624104 ┆ 0.101212 ┆ 0.0       ┆ … ┆ 0.577113 ┆ 0.462353 ┆ 0.945524 ┆ 0.249167 │\n",
       "│ 398      ┆ 0.279431 ┆ 0.0      ┆ 0.234371  ┆ … ┆ 0.062312 ┆ 0.016458 ┆ 0.425627 ┆ 0.851423 │\n",
       "│ 399      ┆ 0.423216 ┆ 0.096952 ┆ 0.0       ┆ … ┆ 0.116182 ┆ 0.705867 ┆ 1.489329 ┆ 0.681226 │\n",
       "│ 400      ┆ 0.47074  ┆ 0.22226  ┆ 0.347276  ┆ … ┆ 0.249649 ┆ 0.390952 ┆ 0.862833 ┆ 0.621561 │\n",
       "└──────────┴──────────┴──────────┴───────────┴───┴──────────┴──────────┴──────────┴──────────┘"
      ]
     },
     "metadata": {},
     "output_type": "display_data"
    }
   ],
   "source": [
    "y['thp_vol']"
   ]
  },
  {
   "cell_type": "code",
   "execution_count": null,
   "metadata": {},
   "outputs": [],
   "source": [
    "long_train_df = create_long_train_df(target_dataframes, wandb.config)\n",
    "long_test_df = create_long_train_df(test_dataframes, wandb.config)\n",
    "\n",
    "dropped_cols = ['idx_hour', 'beam_id']\n",
    "target_cols = list(target_dataframes.keys())\n",
    "\n",
    "X_train, y_train = long_train_df.drop(dropped_cols + target_cols), long_train_df.select(target_cols)\n",
    "X_test, y_test = long_test_df.drop(dropped_cols + target_cols), long_test_df.select(target_cols)\n",
    "\n",
    "wandb.log({'train shape': X_train.shape, 'test shape': X_test.shape, 'train_feats': X_train.columns,})"
   ]
  },
  {
   "cell_type": "code",
   "execution_count": null,
   "metadata": {},
   "outputs": [],
   "source": [
    "def predict_multi_step(target_dataframes: dict[pl.DataFrame], model: xgb.Booster, config: wandb.Config, num_steps: int, max_lag=None) -> dict[pl.DataFrame]:\n",
    "    \"\"\"\n",
    "    Predict multiple steps into the future using a trained model.\n",
    "    Takes DataFrames of len n, returns DataFrames of len n + num_steps.\n",
    "    \"\"\"\n",
    "    if max_lag:\n",
    "        target_dataframes = {k: v.tail(max_lag + 5) for k, v in target_dataframes.items()}\n",
    "\n",
    "    for _ in tqdm(range(num_steps)):\n",
    "        target_dataframes = predict_one_step(target_dataframes, model, config)\n",
    "\n",
    "    return target_dataframes"
   ]
  },
  {
   "cell_type": "code",
   "execution_count": null,
   "metadata": {},
   "outputs": [
    {
     "data": {
      "application/vnd.jupyter.widget-view+json": {
       "model_id": "5fbcbd78b09543d08602950335628303",
       "version_major": 2,
       "version_minor": 0
      },
      "text/plain": [
       "  0%|          | 0/120 [00:00<?, ?it/s]"
      ]
     },
     "metadata": {},
     "output_type": "display_data"
    },
    {
     "name": "stderr",
     "output_type": "stream",
     "text": [
      "/tmp/ipykernel_2432706/3820107680.py:19: DeprecationWarning:\n",
      "\n",
      "The argument `columns` for `DataFrame.pivot` is deprecated. It has been renamed to `on`.\n",
      "\n"
     ]
    },
    {
     "ename": "AttributeError",
     "evalue": "'dict' object has no attribute 'mean_horizontal'",
     "output_type": "error",
     "traceback": [
      "\u001b[0;31m---------------------------------------------------------------------------\u001b[0m\n",
      "\u001b[0;31mAttributeError\u001b[0m                            Traceback (most recent call last)\n",
      "Cell \u001b[0;32mIn[93], line 1\u001b[0m\n",
      "\u001b[0;32m----> 1\u001b[0m y \u001b[38;5;241m=\u001b[39m \u001b[43mpredict_multi_step\u001b[49m\u001b[43m(\u001b[49m\u001b[43m{\u001b[49m\u001b[43mk\u001b[49m\u001b[43m:\u001b[49m\u001b[43m \u001b[49m\u001b[43mv\u001b[49m\u001b[38;5;241;43m.\u001b[39;49m\u001b[43mtail\u001b[49m\u001b[43m(\u001b[49m\u001b[38;5;241;43m80\u001b[39;49m\u001b[43m)\u001b[49m\u001b[43m \u001b[49m\u001b[38;5;28;43;01mfor\u001b[39;49;00m\u001b[43m \u001b[49m\u001b[43mk\u001b[49m\u001b[43m,\u001b[49m\u001b[43m \u001b[49m\u001b[43mv\u001b[49m\u001b[43m \u001b[49m\u001b[38;5;129;43;01min\u001b[39;49;00m\u001b[43m \u001b[49m\u001b[43mtrain_dataframes\u001b[49m\u001b[38;5;241;43m.\u001b[39;49m\u001b[43mitems\u001b[49m\u001b[43m(\u001b[49m\u001b[43m)\u001b[49m\u001b[43m}\u001b[49m\u001b[43m,\u001b[49m\u001b[43m \u001b[49m\u001b[43mmodel\u001b[49m\u001b[43m,\u001b[49m\u001b[43m \u001b[49m\u001b[43mwandb\u001b[49m\u001b[38;5;241;43m.\u001b[39;49m\u001b[43mconfig\u001b[49m\u001b[43m,\u001b[49m\u001b[43m \u001b[49m\u001b[43mnum_steps\u001b[49m\u001b[38;5;241;43m=\u001b[39;49m\u001b[38;5;28;43mlen\u001b[39;49m\u001b[43m(\u001b[49m\u001b[43mtest_dataframes\u001b[49m\u001b[43m[\u001b[49m\u001b[38;5;124;43m'\u001b[39;49m\u001b[38;5;124;43mthp_vol\u001b[39;49m\u001b[38;5;124;43m'\u001b[39;49m\u001b[43m]\u001b[49m\u001b[43m)\u001b[49m\u001b[43m)\u001b[49m\u001b[38;5;241;43m.\u001b[39;49m\u001b[43mmean_horizontal\u001b[49m()\n",
      "\n",
      "\u001b[0;31mAttributeError\u001b[0m: 'dict' object has no attribute 'mean_horizontal'"
     ]
    }
   ],
   "source": [
    "y = predict_multi_step({k: v.tail(80) for k, v in train_dataframes.items()}, model, wandb.config, num_steps=len(test_dataframes['thp_vol'])).mean_horizontal()"
   ]
  },
  {
   "cell_type": "code",
   "execution_count": null,
   "metadata": {},
   "outputs": [],
   "source": [
    "def mean_absolute_error(Y_true: pl.DataFrame, Y_pred: pl.DataFrame) -> float:\n",
    "    \"\"\"\n",
    "    Compute the mean absolute error between two DataFrames.\n",
    "    \"\"\"\n",
    "    assert (Y_true['idx_hour'] == Y_pred['idx_hour']).all(), \"DataFrames must be aligned\"\n",
    "\n",
    "    return (Y_true.drop('idx_hour') - Y_pred.drop('idx_hour')).select(pl.all().abs().mean()).mean_horizontal()[0]"
   ]
  },
  {
   "cell_type": "code",
   "execution_count": null,
   "metadata": {},
   "outputs": [
    {
     "data": {
      "text/plain": [
       "0.24911949991279875"
      ]
     },
     "metadata": {},
     "output_type": "display_data"
    }
   ],
   "source": [
    "mean_absolute_error(test_dataframes['thp_vol'], y['thp_vol'].tail(len(test_dataframes['thp_vol'])))"
   ]
  },
  {
   "cell_type": "markdown",
   "metadata": {},
   "source": [
    "## Create Submission CSV\n",
    "\n",
    "* Hours in 5 weeks: 840\n",
    "* Hours in 6 weeks: 1008\n",
    "* We need period 841-1008 (841-1009 with Python list indexing)\n",
    "\n",
    "* Hours in 10 weeks: 1680\n",
    "* Hours in 11 weeks: 1848"
   ]
  },
  {
   "cell_type": "code",
   "execution_count": null,
   "metadata": {},
   "outputs": [],
   "source": [
    "def create_half_submission_df(input_df: pl.DataFrame, weeks: str) -> pl.DataFrame:\n",
    "    \"\"\"\n",
    "    Create a submission CSV file from a Polars DataFrame.\n",
    "    \"\"\"\n",
    "    if weeks == '5w-6w':\n",
    "        range = [841, 1008]\n",
    "    elif weeks == '10w-11w':\n",
    "        range = [1681, 1848]\n",
    "\n",
    "    # Choose rows with first column 'idx_hour' having the values 671-840.\n",
    "    input_df = input_df.filter(pl.col('idx_hour').is_in(range)).with_row_index()\n",
    "\n",
    "    # Check that shape of dataframe is (168, 2881)\n",
    "    assert input_df.shape == (168, 2881), f\"Expected shape (168, 2881), got {input_df.shape}\"\n",
    "\n",
    "    # Check that there is no null value in the dataframe\n",
    "    assert input_df.is_null().any().any() == False, \"Submission dataframe contains null values\"\n",
    "\n",
    "    # Stack the dataframe with f'traffic_DLThpVol_test_5w-6w_{hour}_{beam_id}' as index\n",
    "    # where it cycles through the values 671-840 for hour and then the beam_ids, which are colnames of input_df\n",
    "    return input_df.unpivot(index='idx_hour').with_columns(\n",
    "        (pl.struct(pl.all()).map_elements(lambda row: f'traffic_DLThpVol_test_5w-6w_{row['row_index']}_{row[\"variable\"]}', return_dtype=pl.String)).alias('ID')\n",
    "    ).select(['ID', 'value']).rename({'value': 'Target'})\n",
    "\n",
    "\n",
    "def create_submission_csv(input_df: pl.DataFrame, output_filename='traffic_forecast.csv', archiving_dir='submission-csvs-archive') -> pl.DataFrame:\n",
    "    \"\"\"\n",
    "    Create a submission CSV file from data in input format that's been extended to cover weeks 5-6 and 10-11.\n",
    "    \"\"\"\n",
    "\n",
    "    # Create half submission dataframes\n",
    "    half_submission_5w_6w = create_half_submission_df(input_df, '5w-6w')\n",
    "    half_submission_10w_11w = create_half_submission_df(input_df, '10w-11w')\n",
    "\n",
    "    # Concatenate the two half submission dataframes\n",
    "    submission_df = pl.concat([half_submission_5w_6w, half_submission_10w_11w], how='vertical')\n",
    "\n",
    "    # Save the submission dataframe to a CSV file for submission\n",
    "    submission_df.write_csv(output_filename)\n",
    "    \n",
    "    # Save the submission dataframe to a CSV file for archiving\n",
    "    if archiving_dir:\n",
    "        archiving_dir = Path(archiving_dir)\n",
    "        archiving_dir.mkdir(parents=True, exist_ok=True)\n",
    "        submission_df.write_csv(archiving_dir / f'{wandb.run.name}_{output_filename}')\n",
    "\n",
    "    return submission_df"
   ]
  }
 ],
 "metadata": {
  "language_info": {
   "name": "python"
  }
 },
 "nbformat": 4,
 "nbformat_minor": 2
}
